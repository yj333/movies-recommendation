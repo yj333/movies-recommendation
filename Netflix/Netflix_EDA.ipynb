{
 "metadata": {
  "language_info": {
   "codemirror_mode": {
    "name": "ipython",
    "version": 3
   },
   "file_extension": ".py",
   "mimetype": "text/x-python",
   "name": "python",
   "nbconvert_exporter": "python",
   "pygments_lexer": "ipython3",
   "version": "3.6.4-final"
  },
  "orig_nbformat": 2,
  "kernelspec": {
   "name": "python3",
   "display_name": "Python 3"
  }
 },
 "nbformat": 4,
 "nbformat_minor": 2,
 "cells": [
  {
   "cell_type": "code",
   "execution_count": 1,
   "metadata": {},
   "outputs": [],
   "source": [
    "import pandas as pd\n",
    "import numpy as np\n",
    "import seaborn as sns\n",
    "from matplotlib import pyplot as plt\n",
    "import plotly.express as px\n",
    "import plotly.graph_objects as go"
   ]
  },
  {
   "cell_type": "code",
   "execution_count": 2,
   "metadata": {},
   "outputs": [
    {
     "output_type": "execute_result",
     "data": {
      "text/plain": "show_id         7787\ntype            7787\ntitle           7787\ndirector        5398\ncast            7069\ncountry         7280\ndate_added      7777\nrelease_year    7787\nrating          7780\nduration        7787\nlisted_in       7787\ndescription     7787\ndtype: int64"
     },
     "metadata": {},
     "execution_count": 2
    }
   ],
   "source": [
    "netflix = pd.read_csv('netflix_titles.csv.zip')\n",
    "netflix.count()"
   ]
  },
  {
   "cell_type": "code",
   "execution_count": 3,
   "metadata": {},
   "outputs": [
    {
     "output_type": "execute_result",
     "data": {
      "text/plain": "show_id            0\ntype               0\ntitle              0\ndirector        2389\ncast             718\ncountry          507\ndate_added        10\nrelease_year       0\nrating             7\nduration           0\nlisted_in          0\ndescription        0\ndtype: int64"
     },
     "metadata": {},
     "execution_count": 3
    }
   ],
   "source": [
    "netflix.isnull().sum()"
   ]
  },
  {
   "cell_type": "code",
   "execution_count": 4,
   "metadata": {},
   "outputs": [],
   "source": [
    "netflix_show = netflix[netflix.type=='TV Show'].fillna('Unknown')\n",
    "netflix_movie = netflix[netflix.type=='Movie'].fillna('Unknown')"
   ]
  },
  {
   "cell_type": "code",
   "execution_count": 5,
   "metadata": {
    "tags": []
   },
   "outputs": [
    {
     "output_type": "execute_result",
     "data": {
      "text/plain": "<matplotlib.axes._subplots.AxesSubplot at 0x1483465c0>"
     },
     "metadata": {},
     "execution_count": 5
    },
    {
     "output_type": "display_data",
     "data": {
      "text/plain": "<Figure size 864x576 with 2 Axes>",
      "image/svg+xml": "<?xml version=\"1.0\" encoding=\"utf-8\" standalone=\"no\"?>\n<!DOCTYPE svg PUBLIC \"-//W3C//DTD SVG 1.1//EN\"\n  \"http://www.w3.org/Graphics/SVG/1.1/DTD/svg11.dtd\">\n<!-- Created with matplotlib (https://matplotlib.org/) -->\n<svg height=\"483.13625pt\" version=\"1.1\" viewBox=\"0 0 707.346188 483.13625\" width=\"707.346188pt\" xmlns=\"http://www.w3.org/2000/svg\" xmlns:xlink=\"http://www.w3.org/1999/xlink\">\n <defs>\n  <style type=\"text/css\">\n*{stroke-linecap:butt;stroke-linejoin:round;}\n  </style>\n </defs>\n <g id=\"figure_1\">\n  <g id=\"patch_1\">\n   <path d=\"M 0 483.13625 \nL 707.346188 483.13625 \nL 707.346188 0 \nL 0 0 \nz\n\" style=\"fill:none;\"/>\n  </g>\n  <g id=\"axes_1\">\n   <g id=\"patch_2\">\n    <path d=\"M 83.154688 445.58 \nL 618.834688 445.58 \nL 618.834688 10.7 \nL 83.154688 10.7 \nz\n\" style=\"fill:#ffffff;\"/>\n   </g>\n   <g id=\"QuadMesh_1\">\n    <path clip-path=\"url(#pd5b74d49a4)\" d=\"M 83.154688 10.7 \nL 121.417545 10.7 \nL 121.417545 46.94 \nL 83.154688 46.94 \nL 83.154688 10.7 \n\" style=\"fill:#ffffd9;stroke:#ffffff;stroke-width:0.4;\"/>\n    <path clip-path=\"url(#pd5b74d49a4)\" d=\"M 121.417545 10.7 \nL 159.680402 10.7 \nL 159.680402 46.94 \nL 121.417545 46.94 \nL 121.417545 10.7 \n\" style=\"fill:#ffffd9;stroke:#ffffff;stroke-width:0.4;\"/>\n    <path clip-path=\"url(#pd5b74d49a4)\" d=\"M 159.680402 10.7 \nL 197.943259 10.7 \nL 197.943259 46.94 \nL 159.680402 46.94 \nL 159.680402 10.7 \n\" style=\"fill:#ffffd9;stroke:#ffffff;stroke-width:0.4;\"/>\n    <path clip-path=\"url(#pd5b74d49a4)\" d=\"M 197.943259 10.7 \nL 236.206116 10.7 \nL 236.206116 46.94 \nL 197.943259 46.94 \nL 197.943259 10.7 \n\" style=\"fill:#ffffd9;stroke:#ffffff;stroke-width:0.4;\"/>\n    <path clip-path=\"url(#pd5b74d49a4)\" d=\"M 236.206116 10.7 \nL 274.468973 10.7 \nL 274.468973 46.94 \nL 236.206116 46.94 \nL 236.206116 10.7 \n\" style=\"fill:#ffffd9;stroke:#ffffff;stroke-width:0.4;\"/>\n    <path clip-path=\"url(#pd5b74d49a4)\" d=\"M 274.468973 10.7 \nL 312.73183 10.7 \nL 312.73183 46.94 \nL 274.468973 46.94 \nL 274.468973 10.7 \n\" style=\"fill:#feffd8;stroke:#ffffff;stroke-width:0.4;\"/>\n    <path clip-path=\"url(#pd5b74d49a4)\" d=\"M 312.73183 10.7 \nL 350.994688 10.7 \nL 350.994688 46.94 \nL 312.73183 46.94 \nL 312.73183 10.7 \n\" style=\"fill:#fcfed3;stroke:#ffffff;stroke-width:0.4;\"/>\n    <path clip-path=\"url(#pd5b74d49a4)\" d=\"M 350.994688 10.7 \nL 389.257545 10.7 \nL 389.257545 46.94 \nL 350.994688 46.94 \nL 350.994688 10.7 \n\" style=\"fill:#f3fabf;stroke:#ffffff;stroke-width:0.4;\"/>\n    <path clip-path=\"url(#pd5b74d49a4)\" d=\"M 389.257545 10.7 \nL 427.520402 10.7 \nL 427.520402 46.94 \nL 389.257545 46.94 \nL 389.257545 10.7 \n\" style=\"fill:#8cd2ba;stroke:#ffffff;stroke-width:0.4;\"/>\n    <path clip-path=\"url(#pd5b74d49a4)\" d=\"M 427.520402 10.7 \nL 465.783259 10.7 \nL 465.783259 46.94 \nL 427.520402 46.94 \nL 427.520402 10.7 \n\" style=\"fill:#61c2bf;stroke:#ffffff;stroke-width:0.4;\"/>\n    <path clip-path=\"url(#pd5b74d49a4)\" d=\"M 465.783259 10.7 \nL 504.046116 10.7 \nL 504.046116 46.94 \nL 465.783259 46.94 \nL 465.783259 10.7 \n\" style=\"fill:#2073b2;stroke:#ffffff;stroke-width:0.4;\"/>\n    <path clip-path=\"url(#pd5b74d49a4)\" d=\"M 504.046116 10.7 \nL 542.308973 10.7 \nL 542.308973 46.94 \nL 504.046116 46.94 \nL 504.046116 10.7 \n\" style=\"fill:#24489d;stroke:#ffffff;stroke-width:0.4;\"/>\n    <path clip-path=\"url(#pd5b74d49a4)\" d=\"M 542.308973 10.7 \nL 580.57183 10.7 \nL 580.57183 46.94 \nL 542.308973 46.94 \nL 542.308973 10.7 \n\" style=\"fill:#1e8abd;stroke:#ffffff;stroke-width:0.4;\"/>\n    <path clip-path=\"url(#pd5b74d49a4)\" d=\"M 580.57183 10.7 \nL 618.834688 10.7 \nL 618.834688 46.94 \nL 580.57183 46.94 \nL 580.57183 10.7 \n\" style=\"fill:#ffffd9;stroke:#ffffff;stroke-width:0.4;\"/>\n    <path clip-path=\"url(#pd5b74d49a4)\" d=\"M 83.154688 46.94 \nL 121.417545 46.94 \nL 121.417545 83.18 \nL 83.154688 83.18 \nL 83.154688 46.94 \n\" style=\"fill:#ffffd9;stroke:#ffffff;stroke-width:0.4;\"/>\n    <path clip-path=\"url(#pd5b74d49a4)\" d=\"M 121.417545 46.94 \nL 159.680402 46.94 \nL 159.680402 83.18 \nL 121.417545 83.18 \nL 121.417545 46.94 \n\" style=\"fill:#ffffd9;stroke:#ffffff;stroke-width:0.4;\"/>\n    <path clip-path=\"url(#pd5b74d49a4)\" d=\"M 159.680402 46.94 \nL 197.943259 46.94 \nL 197.943259 83.18 \nL 159.680402 83.18 \nL 159.680402 46.94 \n\" style=\"fill:#ffffd9;stroke:#ffffff;stroke-width:0.4;\"/>\n    <path clip-path=\"url(#pd5b74d49a4)\" d=\"M 197.943259 46.94 \nL 236.206116 46.94 \nL 236.206116 83.18 \nL 197.943259 83.18 \nL 197.943259 46.94 \n\" style=\"fill:#ffffd9;stroke:#ffffff;stroke-width:0.4;\"/>\n    <path clip-path=\"url(#pd5b74d49a4)\" d=\"M 236.206116 46.94 \nL 274.468973 46.94 \nL 274.468973 83.18 \nL 236.206116 83.18 \nL 236.206116 46.94 \n\" style=\"fill:#ffffd9;stroke:#ffffff;stroke-width:0.4;\"/>\n    <path clip-path=\"url(#pd5b74d49a4)\" d=\"M 274.468973 46.94 \nL 312.73183 46.94 \nL 312.73183 83.18 \nL 274.468973 83.18 \nL 274.468973 46.94 \n\" style=\"fill:#feffd8;stroke:#ffffff;stroke-width:0.4;\"/>\n    <path clip-path=\"url(#pd5b74d49a4)\" d=\"M 312.73183 46.94 \nL 350.994688 46.94 \nL 350.994688 83.18 \nL 312.73183 83.18 \nL 312.73183 46.94 \n\" style=\"fill:#fdfed4;stroke:#ffffff;stroke-width:0.4;\"/>\n    <path clip-path=\"url(#pd5b74d49a4)\" d=\"M 350.994688 46.94 \nL 389.257545 46.94 \nL 389.257545 83.18 \nL 350.994688 83.18 \nL 350.994688 46.94 \n\" style=\"fill:#fdfed5;stroke:#ffffff;stroke-width:0.4;\"/>\n    <path clip-path=\"url(#pd5b74d49a4)\" d=\"M 389.257545 46.94 \nL 427.520402 46.94 \nL 427.520402 83.18 \nL 389.257545 83.18 \nL 389.257545 46.94 \n\" style=\"fill:#e0f3b2;stroke:#ffffff;stroke-width:0.4;\"/>\n    <path clip-path=\"url(#pd5b74d49a4)\" d=\"M 427.520402 46.94 \nL 465.783259 46.94 \nL 465.783259 83.18 \nL 427.520402 83.18 \nL 427.520402 46.94 \n\" style=\"fill:#9ed9b8;stroke:#ffffff;stroke-width:0.4;\"/>\n    <path clip-path=\"url(#pd5b74d49a4)\" d=\"M 465.783259 46.94 \nL 504.046116 46.94 \nL 504.046116 83.18 \nL 465.783259 83.18 \nL 465.783259 46.94 \n\" style=\"fill:#289cc1;stroke:#ffffff;stroke-width:0.4;\"/>\n    <path clip-path=\"url(#pd5b74d49a4)\" d=\"M 504.046116 46.94 \nL 542.308973 46.94 \nL 542.308973 83.18 \nL 504.046116 83.18 \nL 504.046116 46.94 \n\" style=\"fill:#081d58;stroke:#ffffff;stroke-width:0.4;\"/>\n    <path clip-path=\"url(#pd5b74d49a4)\" d=\"M 542.308973 46.94 \nL 580.57183 46.94 \nL 580.57183 83.18 \nL 542.308973 83.18 \nL 542.308973 46.94 \n\" style=\"fill:#2a9ec1;stroke:#ffffff;stroke-width:0.4;\"/>\n    <path clip-path=\"url(#pd5b74d49a4)\" d=\"M 580.57183 46.94 \nL 618.834688 46.94 \nL 618.834688 83.18 \nL 580.57183 83.18 \nL 580.57183 46.94 \n\" style=\"fill:#ffffd9;stroke:#ffffff;stroke-width:0.4;\"/>\n    <path clip-path=\"url(#pd5b74d49a4)\" d=\"M 83.154688 83.18 \nL 121.417545 83.18 \nL 121.417545 119.42 \nL 83.154688 119.42 \nL 83.154688 83.18 \n\" style=\"fill:#ffffd9;stroke:#ffffff;stroke-width:0.4;\"/>\n    <path clip-path=\"url(#pd5b74d49a4)\" d=\"M 121.417545 83.18 \nL 159.680402 83.18 \nL 159.680402 119.42 \nL 121.417545 119.42 \nL 121.417545 83.18 \n\" style=\"fill:#ffffd9;stroke:#ffffff;stroke-width:0.4;\"/>\n    <path clip-path=\"url(#pd5b74d49a4)\" d=\"M 159.680402 83.18 \nL 197.943259 83.18 \nL 197.943259 119.42 \nL 159.680402 119.42 \nL 159.680402 83.18 \n\" style=\"fill:#ffffd9;stroke:#ffffff;stroke-width:0.4;\"/>\n    <path clip-path=\"url(#pd5b74d49a4)\" d=\"M 197.943259 83.18 \nL 236.206116 83.18 \nL 236.206116 119.42 \nL 197.943259 119.42 \nL 197.943259 83.18 \n\" style=\"fill:#f9fdcc;stroke:#ffffff;stroke-width:0.4;\"/>\n    <path clip-path=\"url(#pd5b74d49a4)\" d=\"M 236.206116 83.18 \nL 274.468973 83.18 \nL 274.468973 119.42 \nL 236.206116 119.42 \nL 236.206116 83.18 \n\" style=\"fill:#ffffd9;stroke:#ffffff;stroke-width:0.4;\"/>\n    <path clip-path=\"url(#pd5b74d49a4)\" d=\"M 274.468973 83.18 \nL 312.73183 83.18 \nL 312.73183 119.42 \nL 274.468973 119.42 \nL 274.468973 83.18 \n\" style=\"fill:#feffd6;stroke:#ffffff;stroke-width:0.4;\"/>\n    <path clip-path=\"url(#pd5b74d49a4)\" d=\"M 312.73183 83.18 \nL 350.994688 83.18 \nL 350.994688 119.42 \nL 312.73183 119.42 \nL 312.73183 83.18 \n\" style=\"fill:#fdfed5;stroke:#ffffff;stroke-width:0.4;\"/>\n    <path clip-path=\"url(#pd5b74d49a4)\" d=\"M 350.994688 83.18 \nL 389.257545 83.18 \nL 389.257545 119.42 \nL 350.994688 119.42 \nL 350.994688 83.18 \n\" style=\"fill:#f7fcc7;stroke:#ffffff;stroke-width:0.4;\"/>\n    <path clip-path=\"url(#pd5b74d49a4)\" d=\"M 389.257545 83.18 \nL 427.520402 83.18 \nL 427.520402 119.42 \nL 389.257545 119.42 \nL 389.257545 83.18 \n\" style=\"fill:#daf0b3;stroke:#ffffff;stroke-width:0.4;\"/>\n    <path clip-path=\"url(#pd5b74d49a4)\" d=\"M 427.520402 83.18 \nL 465.783259 83.18 \nL 465.783259 119.42 \nL 427.520402 119.42 \nL 427.520402 83.18 \n\" style=\"fill:#4ab9c3;stroke:#ffffff;stroke-width:0.4;\"/>\n    <path clip-path=\"url(#pd5b74d49a4)\" d=\"M 465.783259 83.18 \nL 504.046116 83.18 \nL 504.046116 119.42 \nL 465.783259 119.42 \nL 465.783259 83.18 \n\" style=\"fill:#2070b0;stroke:#ffffff;stroke-width:0.4;\"/>\n    <path clip-path=\"url(#pd5b74d49a4)\" d=\"M 504.046116 83.18 \nL 542.308973 83.18 \nL 542.308973 119.42 \nL 504.046116 119.42 \nL 504.046116 83.18 \n\" style=\"fill:#225da8;stroke:#ffffff;stroke-width:0.4;\"/>\n    <path clip-path=\"url(#pd5b74d49a4)\" d=\"M 542.308973 83.18 \nL 580.57183 83.18 \nL 580.57183 119.42 \nL 542.308973 119.42 \nL 542.308973 83.18 \n\" style=\"fill:#1d8dbe;stroke:#ffffff;stroke-width:0.4;\"/>\n    <path clip-path=\"url(#pd5b74d49a4)\" d=\"M 580.57183 83.18 \nL 618.834688 83.18 \nL 618.834688 119.42 \nL 580.57183 119.42 \nL 580.57183 83.18 \n\" style=\"fill:#ffffd9;stroke:#ffffff;stroke-width:0.4;\"/>\n    <path clip-path=\"url(#pd5b74d49a4)\" d=\"M 83.154688 119.42 \nL 121.417545 119.42 \nL 121.417545 155.66 \nL 83.154688 155.66 \nL 83.154688 119.42 \n\" style=\"fill:#ffffd9;stroke:#ffffff;stroke-width:0.4;\"/>\n    <path clip-path=\"url(#pd5b74d49a4)\" d=\"M 121.417545 119.42 \nL 159.680402 119.42 \nL 159.680402 155.66 \nL 121.417545 155.66 \nL 121.417545 119.42 \n\" style=\"fill:#ffffd9;stroke:#ffffff;stroke-width:0.4;\"/>\n    <path clip-path=\"url(#pd5b74d49a4)\" d=\"M 159.680402 119.42 \nL 197.943259 119.42 \nL 197.943259 155.66 \nL 159.680402 155.66 \nL 159.680402 119.42 \n\" style=\"fill:#ffffd9;stroke:#ffffff;stroke-width:0.4;\"/>\n    <path clip-path=\"url(#pd5b74d49a4)\" d=\"M 197.943259 119.42 \nL 236.206116 119.42 \nL 236.206116 155.66 \nL 197.943259 155.66 \nL 197.943259 119.42 \n\" style=\"fill:#ffffd9;stroke:#ffffff;stroke-width:0.4;\"/>\n    <path clip-path=\"url(#pd5b74d49a4)\" d=\"M 236.206116 119.42 \nL 274.468973 119.42 \nL 274.468973 155.66 \nL 236.206116 155.66 \nL 236.206116 119.42 \n\" style=\"fill:#ffffd9;stroke:#ffffff;stroke-width:0.4;\"/>\n    <path clip-path=\"url(#pd5b74d49a4)\" d=\"M 274.468973 119.42 \nL 312.73183 119.42 \nL 312.73183 155.66 \nL 274.468973 155.66 \nL 274.468973 119.42 \n\" style=\"fill:#feffd8;stroke:#ffffff;stroke-width:0.4;\"/>\n    <path clip-path=\"url(#pd5b74d49a4)\" d=\"M 312.73183 119.42 \nL 350.994688 119.42 \nL 350.994688 155.66 \nL 312.73183 155.66 \nL 312.73183 119.42 \n\" style=\"fill:#ffffd9;stroke:#ffffff;stroke-width:0.4;\"/>\n    <path clip-path=\"url(#pd5b74d49a4)\" d=\"M 350.994688 119.42 \nL 389.257545 119.42 \nL 389.257545 155.66 \nL 350.994688 155.66 \nL 350.994688 119.42 \n\" style=\"fill:#fcfed1;stroke:#ffffff;stroke-width:0.4;\"/>\n    <path clip-path=\"url(#pd5b74d49a4)\" d=\"M 389.257545 119.42 \nL 427.520402 119.42 \nL 427.520402 155.66 \nL 389.257545 155.66 \nL 389.257545 119.42 \n\" style=\"fill:#ddf2b2;stroke:#ffffff;stroke-width:0.4;\"/>\n    <path clip-path=\"url(#pd5b74d49a4)\" d=\"M 427.520402 119.42 \nL 465.783259 119.42 \nL 465.783259 155.66 \nL 427.520402 155.66 \nL 427.520402 119.42 \n\" style=\"fill:#5fc1c0;stroke:#ffffff;stroke-width:0.4;\"/>\n    <path clip-path=\"url(#pd5b74d49a4)\" d=\"M 465.783259 119.42 \nL 504.046116 119.42 \nL 504.046116 155.66 \nL 465.783259 155.66 \nL 465.783259 119.42 \n\" style=\"fill:#52bcc2;stroke:#ffffff;stroke-width:0.4;\"/>\n    <path clip-path=\"url(#pd5b74d49a4)\" d=\"M 504.046116 119.42 \nL 542.308973 119.42 \nL 542.308973 155.66 \nL 504.046116 155.66 \nL 504.046116 119.42 \n\" style=\"fill:#40b5c4;stroke:#ffffff;stroke-width:0.4;\"/>\n    <path clip-path=\"url(#pd5b74d49a4)\" d=\"M 542.308973 119.42 \nL 580.57183 119.42 \nL 580.57183 155.66 \nL 542.308973 155.66 \nL 542.308973 119.42 \n\" style=\"fill:#1e85ba;stroke:#ffffff;stroke-width:0.4;\"/>\n    <path clip-path=\"url(#pd5b74d49a4)\" d=\"M 580.57183 119.42 \nL 618.834688 119.42 \nL 618.834688 155.66 \nL 580.57183 155.66 \nL 580.57183 119.42 \n\" style=\"fill:#ffffd9;stroke:#ffffff;stroke-width:0.4;\"/>\n    <path clip-path=\"url(#pd5b74d49a4)\" d=\"M 83.154688 155.66 \nL 121.417545 155.66 \nL 121.417545 191.9 \nL 83.154688 191.9 \nL 83.154688 155.66 \n\" style=\"fill:#ffffd9;stroke:#ffffff;stroke-width:0.4;\"/>\n    <path clip-path=\"url(#pd5b74d49a4)\" d=\"M 121.417545 155.66 \nL 159.680402 155.66 \nL 159.680402 191.9 \nL 121.417545 191.9 \nL 121.417545 155.66 \n\" style=\"fill:#ffffd9;stroke:#ffffff;stroke-width:0.4;\"/>\n    <path clip-path=\"url(#pd5b74d49a4)\" d=\"M 159.680402 155.66 \nL 197.943259 155.66 \nL 197.943259 191.9 \nL 159.680402 191.9 \nL 159.680402 155.66 \n\" style=\"fill:#ffffd9;stroke:#ffffff;stroke-width:0.4;\"/>\n    <path clip-path=\"url(#pd5b74d49a4)\" d=\"M 197.943259 155.66 \nL 236.206116 155.66 \nL 236.206116 191.9 \nL 197.943259 191.9 \nL 197.943259 155.66 \n\" style=\"fill:#ffffd9;stroke:#ffffff;stroke-width:0.4;\"/>\n    <path clip-path=\"url(#pd5b74d49a4)\" d=\"M 236.206116 155.66 \nL 274.468973 155.66 \nL 274.468973 191.9 \nL 236.206116 191.9 \nL 236.206116 155.66 \n\" style=\"fill:#ffffd9;stroke:#ffffff;stroke-width:0.4;\"/>\n    <path clip-path=\"url(#pd5b74d49a4)\" d=\"M 274.468973 155.66 \nL 312.73183 155.66 \nL 312.73183 191.9 \nL 274.468973 191.9 \nL 274.468973 155.66 \n\" style=\"fill:#ffffd9;stroke:#ffffff;stroke-width:0.4;\"/>\n    <path clip-path=\"url(#pd5b74d49a4)\" d=\"M 312.73183 155.66 \nL 350.994688 155.66 \nL 350.994688 191.9 \nL 312.73183 191.9 \nL 312.73183 155.66 \n\" style=\"fill:#ffffd9;stroke:#ffffff;stroke-width:0.4;\"/>\n    <path clip-path=\"url(#pd5b74d49a4)\" d=\"M 350.994688 155.66 \nL 389.257545 155.66 \nL 389.257545 191.9 \nL 350.994688 191.9 \nL 350.994688 155.66 \n\" style=\"fill:#feffd8;stroke:#ffffff;stroke-width:0.4;\"/>\n    <path clip-path=\"url(#pd5b74d49a4)\" d=\"M 389.257545 155.66 \nL 427.520402 155.66 \nL 427.520402 191.9 \nL 389.257545 191.9 \nL 389.257545 155.66 \n\" style=\"fill:#e6f5b2;stroke:#ffffff;stroke-width:0.4;\"/>\n    <path clip-path=\"url(#pd5b74d49a4)\" d=\"M 427.520402 155.66 \nL 465.783259 155.66 \nL 465.783259 191.9 \nL 427.520402 191.9 \nL 427.520402 155.66 \n\" style=\"fill:#67c4be;stroke:#ffffff;stroke-width:0.4;\"/>\n    <path clip-path=\"url(#pd5b74d49a4)\" d=\"M 465.783259 155.66 \nL 504.046116 155.66 \nL 504.046116 191.9 \nL 465.783259 191.9 \nL 465.783259 155.66 \n\" style=\"fill:#1d91c0;stroke:#ffffff;stroke-width:0.4;\"/>\n    <path clip-path=\"url(#pd5b74d49a4)\" d=\"M 504.046116 155.66 \nL 542.308973 155.66 \nL 542.308973 191.9 \nL 504.046116 191.9 \nL 504.046116 155.66 \n\" style=\"fill:#37acc3;stroke:#ffffff;stroke-width:0.4;\"/>\n    <path clip-path=\"url(#pd5b74d49a4)\" d=\"M 542.308973 155.66 \nL 580.57183 155.66 \nL 580.57183 191.9 \nL 542.308973 191.9 \nL 542.308973 155.66 \n\" style=\"fill:#39adc3;stroke:#ffffff;stroke-width:0.4;\"/>\n    <path clip-path=\"url(#pd5b74d49a4)\" d=\"M 580.57183 155.66 \nL 618.834688 155.66 \nL 618.834688 191.9 \nL 580.57183 191.9 \nL 580.57183 155.66 \n\" style=\"fill:#ffffd9;stroke:#ffffff;stroke-width:0.4;\"/>\n    <path clip-path=\"url(#pd5b74d49a4)\" d=\"M 83.154688 191.9 \nL 121.417545 191.9 \nL 121.417545 228.14 \nL 83.154688 228.14 \nL 83.154688 191.9 \n\" style=\"fill:#ffffd9;stroke:#ffffff;stroke-width:0.4;\"/>\n    <path clip-path=\"url(#pd5b74d49a4)\" d=\"M 121.417545 191.9 \nL 159.680402 191.9 \nL 159.680402 228.14 \nL 121.417545 228.14 \nL 121.417545 191.9 \n\" style=\"fill:#ffffd9;stroke:#ffffff;stroke-width:0.4;\"/>\n    <path clip-path=\"url(#pd5b74d49a4)\" d=\"M 159.680402 191.9 \nL 197.943259 191.9 \nL 197.943259 228.14 \nL 159.680402 228.14 \nL 159.680402 191.9 \n\" style=\"fill:#ffffd9;stroke:#ffffff;stroke-width:0.4;\"/>\n    <path clip-path=\"url(#pd5b74d49a4)\" d=\"M 197.943259 191.9 \nL 236.206116 191.9 \nL 236.206116 228.14 \nL 197.943259 228.14 \nL 197.943259 191.9 \n\" style=\"fill:#ffffd9;stroke:#ffffff;stroke-width:0.4;\"/>\n    <path clip-path=\"url(#pd5b74d49a4)\" d=\"M 236.206116 191.9 \nL 274.468973 191.9 \nL 274.468973 228.14 \nL 236.206116 228.14 \nL 236.206116 191.9 \n\" style=\"fill:#ffffd9;stroke:#ffffff;stroke-width:0.4;\"/>\n    <path clip-path=\"url(#pd5b74d49a4)\" d=\"M 274.468973 191.9 \nL 312.73183 191.9 \nL 312.73183 228.14 \nL 274.468973 228.14 \nL 274.468973 191.9 \n\" style=\"fill:#ffffd9;stroke:#ffffff;stroke-width:0.4;\"/>\n    <path clip-path=\"url(#pd5b74d49a4)\" d=\"M 312.73183 191.9 \nL 350.994688 191.9 \nL 350.994688 228.14 \nL 312.73183 228.14 \nL 312.73183 191.9 \n\" style=\"fill:#ffffd9;stroke:#ffffff;stroke-width:0.4;\"/>\n    <path clip-path=\"url(#pd5b74d49a4)\" d=\"M 350.994688 191.9 \nL 389.257545 191.9 \nL 389.257545 228.14 \nL 350.994688 228.14 \nL 350.994688 191.9 \n\" style=\"fill:#fbfdd0;stroke:#ffffff;stroke-width:0.4;\"/>\n    <path clip-path=\"url(#pd5b74d49a4)\" d=\"M 389.257545 191.9 \nL 427.520402 191.9 \nL 427.520402 228.14 \nL 389.257545 228.14 \nL 389.257545 191.9 \n\" style=\"fill:#f0f9b7;stroke:#ffffff;stroke-width:0.4;\"/>\n    <path clip-path=\"url(#pd5b74d49a4)\" d=\"M 427.520402 191.9 \nL 465.783259 191.9 \nL 465.783259 228.14 \nL 427.520402 228.14 \nL 427.520402 191.9 \n\" style=\"fill:#aedfb6;stroke:#ffffff;stroke-width:0.4;\"/>\n    <path clip-path=\"url(#pd5b74d49a4)\" d=\"M 465.783259 191.9 \nL 504.046116 191.9 \nL 504.046116 228.14 \nL 465.783259 228.14 \nL 465.783259 191.9 \n\" style=\"fill:#2b9fc2;stroke:#ffffff;stroke-width:0.4;\"/>\n    <path clip-path=\"url(#pd5b74d49a4)\" d=\"M 504.046116 191.9 \nL 542.308973 191.9 \nL 542.308973 228.14 \nL 504.046116 228.14 \nL 504.046116 191.9 \n\" style=\"fill:#1d91c0;stroke:#ffffff;stroke-width:0.4;\"/>\n    <path clip-path=\"url(#pd5b74d49a4)\" d=\"M 542.308973 191.9 \nL 580.57183 191.9 \nL 580.57183 228.14 \nL 542.308973 228.14 \nL 542.308973 191.9 \n\" style=\"fill:#2ca1c2;stroke:#ffffff;stroke-width:0.4;\"/>\n    <path clip-path=\"url(#pd5b74d49a4)\" d=\"M 580.57183 191.9 \nL 618.834688 191.9 \nL 618.834688 228.14 \nL 580.57183 228.14 \nL 580.57183 191.9 \n\" style=\"fill:#ffffd9;stroke:#ffffff;stroke-width:0.4;\"/>\n    <path clip-path=\"url(#pd5b74d49a4)\" d=\"M 83.154688 228.14 \nL 121.417545 228.14 \nL 121.417545 264.38 \nL 83.154688 264.38 \nL 83.154688 228.14 \n\" style=\"fill:#ffffd9;stroke:#ffffff;stroke-width:0.4;\"/>\n    <path clip-path=\"url(#pd5b74d49a4)\" d=\"M 121.417545 228.14 \nL 159.680402 228.14 \nL 159.680402 264.38 \nL 121.417545 264.38 \nL 121.417545 228.14 \n\" style=\"fill:#ffffd9;stroke:#ffffff;stroke-width:0.4;\"/>\n    <path clip-path=\"url(#pd5b74d49a4)\" d=\"M 159.680402 228.14 \nL 197.943259 228.14 \nL 197.943259 264.38 \nL 159.680402 264.38 \nL 159.680402 228.14 \n\" style=\"fill:#ffffd9;stroke:#ffffff;stroke-width:0.4;\"/>\n    <path clip-path=\"url(#pd5b74d49a4)\" d=\"M 197.943259 228.14 \nL 236.206116 228.14 \nL 236.206116 264.38 \nL 197.943259 264.38 \nL 197.943259 228.14 \n\" style=\"fill:#ffffd9;stroke:#ffffff;stroke-width:0.4;\"/>\n    <path clip-path=\"url(#pd5b74d49a4)\" d=\"M 236.206116 228.14 \nL 274.468973 228.14 \nL 274.468973 264.38 \nL 236.206116 264.38 \nL 236.206116 228.14 \n\" style=\"fill:#ffffd9;stroke:#ffffff;stroke-width:0.4;\"/>\n    <path clip-path=\"url(#pd5b74d49a4)\" d=\"M 274.468973 228.14 \nL 312.73183 228.14 \nL 312.73183 264.38 \nL 274.468973 264.38 \nL 274.468973 228.14 \n\" style=\"fill:#ffffd9;stroke:#ffffff;stroke-width:0.4;\"/>\n    <path clip-path=\"url(#pd5b74d49a4)\" d=\"M 312.73183 228.14 \nL 350.994688 228.14 \nL 350.994688 264.38 \nL 312.73183 264.38 \nL 312.73183 228.14 \n\" style=\"fill:#ffffd9;stroke:#ffffff;stroke-width:0.4;\"/>\n    <path clip-path=\"url(#pd5b74d49a4)\" d=\"M 350.994688 228.14 \nL 389.257545 228.14 \nL 389.257545 264.38 \nL 350.994688 264.38 \nL 350.994688 228.14 \n\" style=\"fill:#fcfed1;stroke:#ffffff;stroke-width:0.4;\"/>\n    <path clip-path=\"url(#pd5b74d49a4)\" d=\"M 389.257545 228.14 \nL 427.520402 228.14 \nL 427.520402 264.38 \nL 389.257545 264.38 \nL 389.257545 228.14 \n\" style=\"fill:#f5fbc4;stroke:#ffffff;stroke-width:0.4;\"/>\n    <path clip-path=\"url(#pd5b74d49a4)\" d=\"M 427.520402 228.14 \nL 465.783259 228.14 \nL 465.783259 264.38 \nL 427.520402 264.38 \nL 427.520402 228.14 \n\" style=\"fill:#8ed3ba;stroke:#ffffff;stroke-width:0.4;\"/>\n    <path clip-path=\"url(#pd5b74d49a4)\" d=\"M 465.783259 228.14 \nL 504.046116 228.14 \nL 504.046116 264.38 \nL 465.783259 264.38 \nL 465.783259 228.14 \n\" style=\"fill:#b2e1b6;stroke:#ffffff;stroke-width:0.4;\"/>\n    <path clip-path=\"url(#pd5b74d49a4)\" d=\"M 504.046116 228.14 \nL 542.308973 228.14 \nL 542.308973 264.38 \nL 504.046116 264.38 \nL 504.046116 228.14 \n\" style=\"fill:#1e8abd;stroke:#ffffff;stroke-width:0.4;\"/>\n    <path clip-path=\"url(#pd5b74d49a4)\" d=\"M 542.308973 228.14 \nL 580.57183 228.14 \nL 580.57183 264.38 \nL 542.308973 264.38 \nL 542.308973 228.14 \n\" style=\"fill:#2094c0;stroke:#ffffff;stroke-width:0.4;\"/>\n    <path clip-path=\"url(#pd5b74d49a4)\" d=\"M 580.57183 228.14 \nL 618.834688 228.14 \nL 618.834688 264.38 \nL 580.57183 264.38 \nL 580.57183 228.14 \n\" style=\"fill:#ffffd9;stroke:#ffffff;stroke-width:0.4;\"/>\n    <path clip-path=\"url(#pd5b74d49a4)\" d=\"M 83.154688 264.38 \nL 121.417545 264.38 \nL 121.417545 300.62 \nL 83.154688 300.62 \nL 83.154688 264.38 \n\" style=\"fill:#ffffd9;stroke:#ffffff;stroke-width:0.4;\"/>\n    <path clip-path=\"url(#pd5b74d49a4)\" d=\"M 121.417545 264.38 \nL 159.680402 264.38 \nL 159.680402 300.62 \nL 121.417545 300.62 \nL 121.417545 264.38 \n\" style=\"fill:#ffffd9;stroke:#ffffff;stroke-width:0.4;\"/>\n    <path clip-path=\"url(#pd5b74d49a4)\" d=\"M 159.680402 264.38 \nL 197.943259 264.38 \nL 197.943259 300.62 \nL 159.680402 300.62 \nL 159.680402 264.38 \n\" style=\"fill:#ffffd9;stroke:#ffffff;stroke-width:0.4;\"/>\n    <path clip-path=\"url(#pd5b74d49a4)\" d=\"M 197.943259 264.38 \nL 236.206116 264.38 \nL 236.206116 300.62 \nL 197.943259 300.62 \nL 197.943259 264.38 \n\" style=\"fill:#ffffd9;stroke:#ffffff;stroke-width:0.4;\"/>\n    <path clip-path=\"url(#pd5b74d49a4)\" d=\"M 236.206116 264.38 \nL 274.468973 264.38 \nL 274.468973 300.62 \nL 236.206116 300.62 \nL 236.206116 264.38 \n\" style=\"fill:#ffffd9;stroke:#ffffff;stroke-width:0.4;\"/>\n    <path clip-path=\"url(#pd5b74d49a4)\" d=\"M 274.468973 264.38 \nL 312.73183 264.38 \nL 312.73183 300.62 \nL 274.468973 300.62 \nL 274.468973 264.38 \n\" style=\"fill:#ffffd9;stroke:#ffffff;stroke-width:0.4;\"/>\n    <path clip-path=\"url(#pd5b74d49a4)\" d=\"M 312.73183 264.38 \nL 350.994688 264.38 \nL 350.994688 300.62 \nL 312.73183 300.62 \nL 312.73183 264.38 \n\" style=\"fill:#ffffd9;stroke:#ffffff;stroke-width:0.4;\"/>\n    <path clip-path=\"url(#pd5b74d49a4)\" d=\"M 350.994688 264.38 \nL 389.257545 264.38 \nL 389.257545 300.62 \nL 350.994688 300.62 \nL 350.994688 264.38 \n\" style=\"fill:#fcfed1;stroke:#ffffff;stroke-width:0.4;\"/>\n    <path clip-path=\"url(#pd5b74d49a4)\" d=\"M 389.257545 264.38 \nL 427.520402 264.38 \nL 427.520402 300.62 \nL 389.257545 300.62 \nL 389.257545 264.38 \n\" style=\"fill:#f8fcca;stroke:#ffffff;stroke-width:0.4;\"/>\n    <path clip-path=\"url(#pd5b74d49a4)\" d=\"M 427.520402 264.38 \nL 465.783259 264.38 \nL 465.783259 300.62 \nL 427.520402 300.62 \nL 427.520402 264.38 \n\" style=\"fill:#9ed9b8;stroke:#ffffff;stroke-width:0.4;\"/>\n    <path clip-path=\"url(#pd5b74d49a4)\" d=\"M 465.783259 264.38 \nL 504.046116 264.38 \nL 504.046116 300.62 \nL 465.783259 300.62 \nL 465.783259 264.38 \n\" style=\"fill:#80cebb;stroke:#ffffff;stroke-width:0.4;\"/>\n    <path clip-path=\"url(#pd5b74d49a4)\" d=\"M 504.046116 264.38 \nL 542.308973 264.38 \nL 542.308973 300.62 \nL 504.046116 300.62 \nL 504.046116 264.38 \n\" style=\"fill:#299dc1;stroke:#ffffff;stroke-width:0.4;\"/>\n    <path clip-path=\"url(#pd5b74d49a4)\" d=\"M 542.308973 264.38 \nL 580.57183 264.38 \nL 580.57183 300.62 \nL 542.308973 300.62 \nL 542.308973 264.38 \n\" style=\"fill:#1d8dbe;stroke:#ffffff;stroke-width:0.4;\"/>\n    <path clip-path=\"url(#pd5b74d49a4)\" d=\"M 580.57183 264.38 \nL 618.834688 264.38 \nL 618.834688 300.62 \nL 580.57183 300.62 \nL 580.57183 264.38 \n\" style=\"fill:#ffffd9;stroke:#ffffff;stroke-width:0.4;\"/>\n    <path clip-path=\"url(#pd5b74d49a4)\" d=\"M 83.154688 300.62 \nL 121.417545 300.62 \nL 121.417545 336.86 \nL 83.154688 336.86 \nL 83.154688 300.62 \n\" style=\"fill:#ffffd9;stroke:#ffffff;stroke-width:0.4;\"/>\n    <path clip-path=\"url(#pd5b74d49a4)\" d=\"M 121.417545 300.62 \nL 159.680402 300.62 \nL 159.680402 336.86 \nL 121.417545 336.86 \nL 121.417545 300.62 \n\" style=\"fill:#ffffd9;stroke:#ffffff;stroke-width:0.4;\"/>\n    <path clip-path=\"url(#pd5b74d49a4)\" d=\"M 159.680402 300.62 \nL 197.943259 300.62 \nL 197.943259 336.86 \nL 159.680402 336.86 \nL 159.680402 300.62 \n\" style=\"fill:#ffffd9;stroke:#ffffff;stroke-width:0.4;\"/>\n    <path clip-path=\"url(#pd5b74d49a4)\" d=\"M 197.943259 300.62 \nL 236.206116 300.62 \nL 236.206116 336.86 \nL 197.943259 336.86 \nL 197.943259 300.62 \n\" style=\"fill:#ffffd9;stroke:#ffffff;stroke-width:0.4;\"/>\n    <path clip-path=\"url(#pd5b74d49a4)\" d=\"M 236.206116 300.62 \nL 274.468973 300.62 \nL 274.468973 336.86 \nL 236.206116 336.86 \nL 236.206116 300.62 \n\" style=\"fill:#ffffd9;stroke:#ffffff;stroke-width:0.4;\"/>\n    <path clip-path=\"url(#pd5b74d49a4)\" d=\"M 274.468973 300.62 \nL 312.73183 300.62 \nL 312.73183 336.86 \nL 274.468973 336.86 \nL 274.468973 300.62 \n\" style=\"fill:#ffffd9;stroke:#ffffff;stroke-width:0.4;\"/>\n    <path clip-path=\"url(#pd5b74d49a4)\" d=\"M 312.73183 300.62 \nL 350.994688 300.62 \nL 350.994688 336.86 \nL 312.73183 336.86 \nL 312.73183 300.62 \n\" style=\"fill:#feffd8;stroke:#ffffff;stroke-width:0.4;\"/>\n    <path clip-path=\"url(#pd5b74d49a4)\" d=\"M 350.994688 300.62 \nL 389.257545 300.62 \nL 389.257545 336.86 \nL 350.994688 336.86 \nL 350.994688 300.62 \n\" style=\"fill:#fdfed4;stroke:#ffffff;stroke-width:0.4;\"/>\n    <path clip-path=\"url(#pd5b74d49a4)\" d=\"M 389.257545 300.62 \nL 427.520402 300.62 \nL 427.520402 336.86 \nL 389.257545 336.86 \nL 389.257545 300.62 \n\" style=\"fill:#f4fbc0;stroke:#ffffff;stroke-width:0.4;\"/>\n    <path clip-path=\"url(#pd5b74d49a4)\" d=\"M 427.520402 300.62 \nL 465.783259 300.62 \nL 465.783259 336.86 \nL 427.520402 336.86 \nL 427.520402 300.62 \n\" style=\"fill:#8ed3ba;stroke:#ffffff;stroke-width:0.4;\"/>\n    <path clip-path=\"url(#pd5b74d49a4)\" d=\"M 465.783259 300.62 \nL 504.046116 300.62 \nL 504.046116 336.86 \nL 465.783259 336.86 \nL 465.783259 300.62 \n\" style=\"fill:#61c2bf;stroke:#ffffff;stroke-width:0.4;\"/>\n    <path clip-path=\"url(#pd5b74d49a4)\" d=\"M 504.046116 300.62 \nL 542.308973 300.62 \nL 542.308973 336.86 \nL 504.046116 336.86 \nL 504.046116 300.62 \n\" style=\"fill:#1d90c0;stroke:#ffffff;stroke-width:0.4;\"/>\n    <path clip-path=\"url(#pd5b74d49a4)\" d=\"M 542.308973 300.62 \nL 580.57183 300.62 \nL 580.57183 336.86 \nL 542.308973 336.86 \nL 542.308973 300.62 \n\" style=\"fill:#2076b3;stroke:#ffffff;stroke-width:0.4;\"/>\n    <path clip-path=\"url(#pd5b74d49a4)\" d=\"M 580.57183 300.62 \nL 618.834688 300.62 \nL 618.834688 336.86 \nL 580.57183 336.86 \nL 580.57183 300.62 \n\" style=\"fill:#ffffd9;stroke:#ffffff;stroke-width:0.4;\"/>\n    <path clip-path=\"url(#pd5b74d49a4)\" d=\"M 83.154688 336.86 \nL 121.417545 336.86 \nL 121.417545 373.1 \nL 83.154688 373.1 \nL 83.154688 336.86 \n\" style=\"fill:#ffffd9;stroke:#ffffff;stroke-width:0.4;\"/>\n    <path clip-path=\"url(#pd5b74d49a4)\" d=\"M 121.417545 336.86 \nL 159.680402 336.86 \nL 159.680402 373.1 \nL 121.417545 373.1 \nL 121.417545 336.86 \n\" style=\"fill:#ffffd9;stroke:#ffffff;stroke-width:0.4;\"/>\n    <path clip-path=\"url(#pd5b74d49a4)\" d=\"M 159.680402 336.86 \nL 197.943259 336.86 \nL 197.943259 373.1 \nL 159.680402 373.1 \nL 159.680402 336.86 \n\" style=\"fill:#ffffd9;stroke:#ffffff;stroke-width:0.4;\"/>\n    <path clip-path=\"url(#pd5b74d49a4)\" d=\"M 197.943259 336.86 \nL 236.206116 336.86 \nL 236.206116 373.1 \nL 197.943259 373.1 \nL 197.943259 336.86 \n\" style=\"fill:#ffffd9;stroke:#ffffff;stroke-width:0.4;\"/>\n    <path clip-path=\"url(#pd5b74d49a4)\" d=\"M 236.206116 336.86 \nL 274.468973 336.86 \nL 274.468973 373.1 \nL 236.206116 373.1 \nL 236.206116 336.86 \n\" style=\"fill:#ffffd9;stroke:#ffffff;stroke-width:0.4;\"/>\n    <path clip-path=\"url(#pd5b74d49a4)\" d=\"M 274.468973 336.86 \nL 312.73183 336.86 \nL 312.73183 373.1 \nL 274.468973 373.1 \nL 274.468973 336.86 \n\" style=\"fill:#ffffd9;stroke:#ffffff;stroke-width:0.4;\"/>\n    <path clip-path=\"url(#pd5b74d49a4)\" d=\"M 312.73183 336.86 \nL 350.994688 336.86 \nL 350.994688 373.1 \nL 312.73183 373.1 \nL 312.73183 336.86 \n\" style=\"fill:#ffffd9;stroke:#ffffff;stroke-width:0.4;\"/>\n    <path clip-path=\"url(#pd5b74d49a4)\" d=\"M 350.994688 336.86 \nL 389.257545 336.86 \nL 389.257545 373.1 \nL 350.994688 373.1 \nL 350.994688 336.86 \n\" style=\"fill:#fdfed4;stroke:#ffffff;stroke-width:0.4;\"/>\n    <path clip-path=\"url(#pd5b74d49a4)\" d=\"M 389.257545 336.86 \nL 427.520402 336.86 \nL 427.520402 373.1 \nL 389.257545 373.1 \nL 389.257545 336.86 \n\" style=\"fill:#f6fbc5;stroke:#ffffff;stroke-width:0.4;\"/>\n    <path clip-path=\"url(#pd5b74d49a4)\" d=\"M 427.520402 336.86 \nL 465.783259 336.86 \nL 465.783259 373.1 \nL 427.520402 373.1 \nL 427.520402 336.86 \n\" style=\"fill:#3db2c4;stroke:#ffffff;stroke-width:0.4;\"/>\n    <path clip-path=\"url(#pd5b74d49a4)\" d=\"M 465.783259 336.86 \nL 504.046116 336.86 \nL 504.046116 373.1 \nL 465.783259 373.1 \nL 465.783259 336.86 \n\" style=\"fill:#1e8abd;stroke:#ffffff;stroke-width:0.4;\"/>\n    <path clip-path=\"url(#pd5b74d49a4)\" d=\"M 504.046116 336.86 \nL 542.308973 336.86 \nL 542.308973 373.1 \nL 504.046116 373.1 \nL 504.046116 336.86 \n\" style=\"fill:#1e83ba;stroke:#ffffff;stroke-width:0.4;\"/>\n    <path clip-path=\"url(#pd5b74d49a4)\" d=\"M 542.308973 336.86 \nL 580.57183 336.86 \nL 580.57183 373.1 \nL 542.308973 373.1 \nL 542.308973 336.86 \n\" style=\"fill:#2fa4c2;stroke:#ffffff;stroke-width:0.4;\"/>\n    <path clip-path=\"url(#pd5b74d49a4)\" d=\"M 580.57183 336.86 \nL 618.834688 336.86 \nL 618.834688 373.1 \nL 580.57183 373.1 \nL 580.57183 336.86 \n\" style=\"fill:#ffffd9;stroke:#ffffff;stroke-width:0.4;\"/>\n    <path clip-path=\"url(#pd5b74d49a4)\" d=\"M 83.154688 373.1 \nL 121.417545 373.1 \nL 121.417545 409.34 \nL 83.154688 409.34 \nL 83.154688 373.1 \n\" style=\"fill:#ffffd9;stroke:#ffffff;stroke-width:0.4;\"/>\n    <path clip-path=\"url(#pd5b74d49a4)\" d=\"M 121.417545 373.1 \nL 159.680402 373.1 \nL 159.680402 409.34 \nL 121.417545 409.34 \nL 121.417545 373.1 \n\" style=\"fill:#ffffd9;stroke:#ffffff;stroke-width:0.4;\"/>\n    <path clip-path=\"url(#pd5b74d49a4)\" d=\"M 159.680402 373.1 \nL 197.943259 373.1 \nL 197.943259 409.34 \nL 159.680402 409.34 \nL 159.680402 373.1 \n\" style=\"fill:#ffffd9;stroke:#ffffff;stroke-width:0.4;\"/>\n    <path clip-path=\"url(#pd5b74d49a4)\" d=\"M 197.943259 373.1 \nL 236.206116 373.1 \nL 236.206116 409.34 \nL 197.943259 409.34 \nL 197.943259 373.1 \n\" style=\"fill:#ffffd9;stroke:#ffffff;stroke-width:0.4;\"/>\n    <path clip-path=\"url(#pd5b74d49a4)\" d=\"M 236.206116 373.1 \nL 274.468973 373.1 \nL 274.468973 409.34 \nL 236.206116 409.34 \nL 236.206116 373.1 \n\" style=\"fill:#ffffd9;stroke:#ffffff;stroke-width:0.4;\"/>\n    <path clip-path=\"url(#pd5b74d49a4)\" d=\"M 274.468973 373.1 \nL 312.73183 373.1 \nL 312.73183 409.34 \nL 274.468973 409.34 \nL 274.468973 373.1 \n\" style=\"fill:#ffffd9;stroke:#ffffff;stroke-width:0.4;\"/>\n    <path clip-path=\"url(#pd5b74d49a4)\" d=\"M 312.73183 373.1 \nL 350.994688 373.1 \nL 350.994688 409.34 \nL 312.73183 409.34 \nL 312.73183 373.1 \n\" style=\"fill:#feffd8;stroke:#ffffff;stroke-width:0.4;\"/>\n    <path clip-path=\"url(#pd5b74d49a4)\" d=\"M 350.994688 373.1 \nL 389.257545 373.1 \nL 389.257545 409.34 \nL 350.994688 409.34 \nL 350.994688 373.1 \n\" style=\"fill:#fdfed5;stroke:#ffffff;stroke-width:0.4;\"/>\n    <path clip-path=\"url(#pd5b74d49a4)\" d=\"M 389.257545 373.1 \nL 427.520402 373.1 \nL 427.520402 409.34 \nL 389.257545 409.34 \nL 389.257545 373.1 \n\" style=\"fill:#f7fcc6;stroke:#ffffff;stroke-width:0.4;\"/>\n    <path clip-path=\"url(#pd5b74d49a4)\" d=\"M 427.520402 373.1 \nL 465.783259 373.1 \nL 465.783259 409.34 \nL 427.520402 409.34 \nL 427.520402 373.1 \n\" style=\"fill:#a5dcb7;stroke:#ffffff;stroke-width:0.4;\"/>\n    <path clip-path=\"url(#pd5b74d49a4)\" d=\"M 465.783259 373.1 \nL 504.046116 373.1 \nL 504.046116 409.34 \nL 465.783259 409.34 \nL 465.783259 373.1 \n\" style=\"fill:#9ed9b8;stroke:#ffffff;stroke-width:0.4;\"/>\n    <path clip-path=\"url(#pd5b74d49a4)\" d=\"M 504.046116 373.1 \nL 542.308973 373.1 \nL 542.308973 409.34 \nL 504.046116 409.34 \nL 504.046116 373.1 \n\" style=\"fill:#299dc1;stroke:#ffffff;stroke-width:0.4;\"/>\n    <path clip-path=\"url(#pd5b74d49a4)\" d=\"M 542.308973 373.1 \nL 580.57183 373.1 \nL 580.57183 409.34 \nL 542.308973 409.34 \nL 542.308973 373.1 \n\" style=\"fill:#63c3bf;stroke:#ffffff;stroke-width:0.4;\"/>\n    <path clip-path=\"url(#pd5b74d49a4)\" d=\"M 580.57183 373.1 \nL 618.834688 373.1 \nL 618.834688 409.34 \nL 580.57183 409.34 \nL 580.57183 373.1 \n\" style=\"fill:#ffffd9;stroke:#ffffff;stroke-width:0.4;\"/>\n    <path clip-path=\"url(#pd5b74d49a4)\" d=\"M 83.154688 409.34 \nL 121.417545 409.34 \nL 121.417545 445.58 \nL 83.154688 445.58 \nL 83.154688 409.34 \n\" style=\"fill:#ffffd9;stroke:#ffffff;stroke-width:0.4;\"/>\n    <path clip-path=\"url(#pd5b74d49a4)\" d=\"M 121.417545 409.34 \nL 159.680402 409.34 \nL 159.680402 445.58 \nL 121.417545 445.58 \nL 121.417545 409.34 \n\" style=\"fill:#ffffd9;stroke:#ffffff;stroke-width:0.4;\"/>\n    <path clip-path=\"url(#pd5b74d49a4)\" d=\"M 159.680402 409.34 \nL 197.943259 409.34 \nL 197.943259 445.58 \nL 159.680402 445.58 \nL 159.680402 409.34 \n\" style=\"fill:#ffffd9;stroke:#ffffff;stroke-width:0.4;\"/>\n    <path clip-path=\"url(#pd5b74d49a4)\" d=\"M 197.943259 409.34 \nL 236.206116 409.34 \nL 236.206116 445.58 \nL 197.943259 445.58 \nL 197.943259 409.34 \n\" style=\"fill:#ffffd9;stroke:#ffffff;stroke-width:0.4;\"/>\n    <path clip-path=\"url(#pd5b74d49a4)\" d=\"M 236.206116 409.34 \nL 274.468973 409.34 \nL 274.468973 445.58 \nL 236.206116 445.58 \nL 236.206116 409.34 \n\" style=\"fill:#ffffd9;stroke:#ffffff;stroke-width:0.4;\"/>\n    <path clip-path=\"url(#pd5b74d49a4)\" d=\"M 274.468973 409.34 \nL 312.73183 409.34 \nL 312.73183 445.58 \nL 274.468973 445.58 \nL 274.468973 409.34 \n\" style=\"fill:#ffffd9;stroke:#ffffff;stroke-width:0.4;\"/>\n    <path clip-path=\"url(#pd5b74d49a4)\" d=\"M 312.73183 409.34 \nL 350.994688 409.34 \nL 350.994688 445.58 \nL 312.73183 445.58 \nL 312.73183 409.34 \n\" style=\"fill:#feffd8;stroke:#ffffff;stroke-width:0.4;\"/>\n    <path clip-path=\"url(#pd5b74d49a4)\" d=\"M 350.994688 409.34 \nL 389.257545 409.34 \nL 389.257545 445.58 \nL 350.994688 445.58 \nL 350.994688 409.34 \n\" style=\"fill:#ffffd9;stroke:#ffffff;stroke-width:0.4;\"/>\n    <path clip-path=\"url(#pd5b74d49a4)\" d=\"M 389.257545 409.34 \nL 427.520402 409.34 \nL 427.520402 445.58 \nL 389.257545 445.58 \nL 389.257545 409.34 \n\" style=\"fill:#e2f4b2;stroke:#ffffff;stroke-width:0.4;\"/>\n    <path clip-path=\"url(#pd5b74d49a4)\" d=\"M 427.520402 409.34 \nL 465.783259 409.34 \nL 465.783259 445.58 \nL 427.520402 445.58 \nL 427.520402 409.34 \n\" style=\"fill:#c0e6b5;stroke:#ffffff;stroke-width:0.4;\"/>\n    <path clip-path=\"url(#pd5b74d49a4)\" d=\"M 465.783259 409.34 \nL 504.046116 409.34 \nL 504.046116 445.58 \nL 465.783259 445.58 \nL 465.783259 409.34 \n\" style=\"fill:#4cbac2;stroke:#ffffff;stroke-width:0.4;\"/>\n    <path clip-path=\"url(#pd5b74d49a4)\" d=\"M 504.046116 409.34 \nL 542.308973 409.34 \nL 542.308973 445.58 \nL 504.046116 445.58 \nL 504.046116 409.34 \n\" style=\"fill:#259ac1;stroke:#ffffff;stroke-width:0.4;\"/>\n    <path clip-path=\"url(#pd5b74d49a4)\" d=\"M 542.308973 409.34 \nL 580.57183 409.34 \nL 580.57183 445.58 \nL 542.308973 445.58 \nL 542.308973 409.34 \n\" style=\"fill:#24409a;stroke:#ffffff;stroke-width:0.4;\"/>\n    <path clip-path=\"url(#pd5b74d49a4)\" d=\"M 580.57183 409.34 \nL 618.834688 409.34 \nL 618.834688 445.58 \nL 580.57183 445.58 \nL 580.57183 409.34 \n\" style=\"fill:#63c3bf;stroke:#ffffff;stroke-width:0.4;\"/>\n   </g>\n   <g id=\"matplotlib.axis_1\">\n    <g id=\"xtick_1\">\n     <g id=\"line2d_1\">\n      <defs>\n       <path d=\"M 0 0 \nL 0 3.5 \n\" id=\"m827fb06991\" style=\"stroke:#000000;stroke-width:0.8;\"/>\n      </defs>\n      <g>\n       <use style=\"stroke:#000000;stroke-width:0.8;\" x=\"102.286116\" xlink:href=\"#m827fb06991\" y=\"445.58\"/>\n      </g>\n     </g>\n     <g id=\"text_1\">\n      <!-- 2008 -->\n      <defs>\n       <path d=\"M 19.1875 8.296875 \nL 53.609375 8.296875 \nL 53.609375 0 \nL 7.328125 0 \nL 7.328125 8.296875 \nQ 12.9375 14.109375 22.625 23.890625 \nQ 32.328125 33.6875 34.8125 36.53125 \nQ 39.546875 41.84375 41.421875 45.53125 \nQ 43.3125 49.21875 43.3125 52.78125 \nQ 43.3125 58.59375 39.234375 62.25 \nQ 35.15625 65.921875 28.609375 65.921875 \nQ 23.96875 65.921875 18.8125 64.3125 \nQ 13.671875 62.703125 7.8125 59.421875 \nL 7.8125 69.390625 \nQ 13.765625 71.78125 18.9375 73 \nQ 24.125 74.21875 28.421875 74.21875 \nQ 39.75 74.21875 46.484375 68.546875 \nQ 53.21875 62.890625 53.21875 53.421875 \nQ 53.21875 48.921875 51.53125 44.890625 \nQ 49.859375 40.875 45.40625 35.40625 \nQ 44.1875 33.984375 37.640625 27.21875 \nQ 31.109375 20.453125 19.1875 8.296875 \nz\n\" id=\"DejaVuSans-50\"/>\n       <path d=\"M 31.78125 66.40625 \nQ 24.171875 66.40625 20.328125 58.90625 \nQ 16.5 51.421875 16.5 36.375 \nQ 16.5 21.390625 20.328125 13.890625 \nQ 24.171875 6.390625 31.78125 6.390625 \nQ 39.453125 6.390625 43.28125 13.890625 \nQ 47.125 21.390625 47.125 36.375 \nQ 47.125 51.421875 43.28125 58.90625 \nQ 39.453125 66.40625 31.78125 66.40625 \nz\nM 31.78125 74.21875 \nQ 44.046875 74.21875 50.515625 64.515625 \nQ 56.984375 54.828125 56.984375 36.375 \nQ 56.984375 17.96875 50.515625 8.265625 \nQ 44.046875 -1.421875 31.78125 -1.421875 \nQ 19.53125 -1.421875 13.0625 8.265625 \nQ 6.59375 17.96875 6.59375 36.375 \nQ 6.59375 54.828125 13.0625 64.515625 \nQ 19.53125 74.21875 31.78125 74.21875 \nz\n\" id=\"DejaVuSans-48\"/>\n       <path d=\"M 31.78125 34.625 \nQ 24.75 34.625 20.71875 30.859375 \nQ 16.703125 27.09375 16.703125 20.515625 \nQ 16.703125 13.921875 20.71875 10.15625 \nQ 24.75 6.390625 31.78125 6.390625 \nQ 38.8125 6.390625 42.859375 10.171875 \nQ 46.921875 13.96875 46.921875 20.515625 \nQ 46.921875 27.09375 42.890625 30.859375 \nQ 38.875 34.625 31.78125 34.625 \nz\nM 21.921875 38.8125 \nQ 15.578125 40.375 12.03125 44.71875 \nQ 8.5 49.078125 8.5 55.328125 \nQ 8.5 64.0625 14.71875 69.140625 \nQ 20.953125 74.21875 31.78125 74.21875 \nQ 42.671875 74.21875 48.875 69.140625 \nQ 55.078125 64.0625 55.078125 55.328125 \nQ 55.078125 49.078125 51.53125 44.71875 \nQ 48 40.375 41.703125 38.8125 \nQ 48.828125 37.15625 52.796875 32.3125 \nQ 56.78125 27.484375 56.78125 20.515625 \nQ 56.78125 9.90625 50.3125 4.234375 \nQ 43.84375 -1.421875 31.78125 -1.421875 \nQ 19.734375 -1.421875 13.25 4.234375 \nQ 6.78125 9.90625 6.78125 20.515625 \nQ 6.78125 27.484375 10.78125 32.3125 \nQ 14.796875 37.15625 21.921875 38.8125 \nz\nM 18.3125 54.390625 \nQ 18.3125 48.734375 21.84375 45.5625 \nQ 25.390625 42.390625 31.78125 42.390625 \nQ 38.140625 42.390625 41.71875 45.5625 \nQ 45.3125 48.734375 45.3125 54.390625 \nQ 45.3125 60.0625 41.71875 63.234375 \nQ 38.140625 66.40625 31.78125 66.40625 \nQ 25.390625 66.40625 21.84375 63.234375 \nQ 18.3125 60.0625 18.3125 54.390625 \nz\n\" id=\"DejaVuSans-56\"/>\n      </defs>\n      <g transform=\"translate(89.561116 460.178437)scale(0.1 -0.1)\">\n       <use xlink:href=\"#DejaVuSans-50\"/>\n       <use x=\"63.623047\" xlink:href=\"#DejaVuSans-48\"/>\n       <use x=\"127.246094\" xlink:href=\"#DejaVuSans-48\"/>\n       <use x=\"190.869141\" xlink:href=\"#DejaVuSans-56\"/>\n      </g>\n     </g>\n    </g>\n    <g id=\"xtick_2\">\n     <g id=\"line2d_2\">\n      <g>\n       <use style=\"stroke:#000000;stroke-width:0.8;\" x=\"140.548973\" xlink:href=\"#m827fb06991\" y=\"445.58\"/>\n      </g>\n     </g>\n     <g id=\"text_2\">\n      <!-- 2009 -->\n      <defs>\n       <path d=\"M 10.984375 1.515625 \nL 10.984375 10.5 \nQ 14.703125 8.734375 18.5 7.8125 \nQ 22.3125 6.890625 25.984375 6.890625 \nQ 35.75 6.890625 40.890625 13.453125 \nQ 46.046875 20.015625 46.78125 33.40625 \nQ 43.953125 29.203125 39.59375 26.953125 \nQ 35.25 24.703125 29.984375 24.703125 \nQ 19.046875 24.703125 12.671875 31.3125 \nQ 6.296875 37.9375 6.296875 49.421875 \nQ 6.296875 60.640625 12.9375 67.421875 \nQ 19.578125 74.21875 30.609375 74.21875 \nQ 43.265625 74.21875 49.921875 64.515625 \nQ 56.59375 54.828125 56.59375 36.375 \nQ 56.59375 19.140625 48.40625 8.859375 \nQ 40.234375 -1.421875 26.421875 -1.421875 \nQ 22.703125 -1.421875 18.890625 -0.6875 \nQ 15.09375 0.046875 10.984375 1.515625 \nz\nM 30.609375 32.421875 \nQ 37.25 32.421875 41.125 36.953125 \nQ 45.015625 41.5 45.015625 49.421875 \nQ 45.015625 57.28125 41.125 61.84375 \nQ 37.25 66.40625 30.609375 66.40625 \nQ 23.96875 66.40625 20.09375 61.84375 \nQ 16.21875 57.28125 16.21875 49.421875 \nQ 16.21875 41.5 20.09375 36.953125 \nQ 23.96875 32.421875 30.609375 32.421875 \nz\n\" id=\"DejaVuSans-57\"/>\n      </defs>\n      <g transform=\"translate(127.823973 460.178437)scale(0.1 -0.1)\">\n       <use xlink:href=\"#DejaVuSans-50\"/>\n       <use x=\"63.623047\" xlink:href=\"#DejaVuSans-48\"/>\n       <use x=\"127.246094\" xlink:href=\"#DejaVuSans-48\"/>\n       <use x=\"190.869141\" xlink:href=\"#DejaVuSans-57\"/>\n      </g>\n     </g>\n    </g>\n    <g id=\"xtick_3\">\n     <g id=\"line2d_3\">\n      <g>\n       <use style=\"stroke:#000000;stroke-width:0.8;\" x=\"178.81183\" xlink:href=\"#m827fb06991\" y=\"445.58\"/>\n      </g>\n     </g>\n     <g id=\"text_3\">\n      <!-- 2010 -->\n      <defs>\n       <path d=\"M 12.40625 8.296875 \nL 28.515625 8.296875 \nL 28.515625 63.921875 \nL 10.984375 60.40625 \nL 10.984375 69.390625 \nL 28.421875 72.90625 \nL 38.28125 72.90625 \nL 38.28125 8.296875 \nL 54.390625 8.296875 \nL 54.390625 0 \nL 12.40625 0 \nz\n\" id=\"DejaVuSans-49\"/>\n      </defs>\n      <g transform=\"translate(166.08683 460.178437)scale(0.1 -0.1)\">\n       <use xlink:href=\"#DejaVuSans-50\"/>\n       <use x=\"63.623047\" xlink:href=\"#DejaVuSans-48\"/>\n       <use x=\"127.246094\" xlink:href=\"#DejaVuSans-49\"/>\n       <use x=\"190.869141\" xlink:href=\"#DejaVuSans-48\"/>\n      </g>\n     </g>\n    </g>\n    <g id=\"xtick_4\">\n     <g id=\"line2d_4\">\n      <g>\n       <use style=\"stroke:#000000;stroke-width:0.8;\" x=\"217.074688\" xlink:href=\"#m827fb06991\" y=\"445.58\"/>\n      </g>\n     </g>\n     <g id=\"text_4\">\n      <!-- 2011 -->\n      <g transform=\"translate(204.349688 460.178437)scale(0.1 -0.1)\">\n       <use xlink:href=\"#DejaVuSans-50\"/>\n       <use x=\"63.623047\" xlink:href=\"#DejaVuSans-48\"/>\n       <use x=\"127.246094\" xlink:href=\"#DejaVuSans-49\"/>\n       <use x=\"190.869141\" xlink:href=\"#DejaVuSans-49\"/>\n      </g>\n     </g>\n    </g>\n    <g id=\"xtick_5\">\n     <g id=\"line2d_5\">\n      <g>\n       <use style=\"stroke:#000000;stroke-width:0.8;\" x=\"255.337545\" xlink:href=\"#m827fb06991\" y=\"445.58\"/>\n      </g>\n     </g>\n     <g id=\"text_5\">\n      <!-- 2012 -->\n      <g transform=\"translate(242.612545 460.178437)scale(0.1 -0.1)\">\n       <use xlink:href=\"#DejaVuSans-50\"/>\n       <use x=\"63.623047\" xlink:href=\"#DejaVuSans-48\"/>\n       <use x=\"127.246094\" xlink:href=\"#DejaVuSans-49\"/>\n       <use x=\"190.869141\" xlink:href=\"#DejaVuSans-50\"/>\n      </g>\n     </g>\n    </g>\n    <g id=\"xtick_6\">\n     <g id=\"line2d_6\">\n      <g>\n       <use style=\"stroke:#000000;stroke-width:0.8;\" x=\"293.600402\" xlink:href=\"#m827fb06991\" y=\"445.58\"/>\n      </g>\n     </g>\n     <g id=\"text_6\">\n      <!-- 2013 -->\n      <defs>\n       <path d=\"M 40.578125 39.3125 \nQ 47.65625 37.796875 51.625 33 \nQ 55.609375 28.21875 55.609375 21.1875 \nQ 55.609375 10.40625 48.1875 4.484375 \nQ 40.765625 -1.421875 27.09375 -1.421875 \nQ 22.515625 -1.421875 17.65625 -0.515625 \nQ 12.796875 0.390625 7.625 2.203125 \nL 7.625 11.71875 \nQ 11.71875 9.328125 16.59375 8.109375 \nQ 21.484375 6.890625 26.8125 6.890625 \nQ 36.078125 6.890625 40.9375 10.546875 \nQ 45.796875 14.203125 45.796875 21.1875 \nQ 45.796875 27.640625 41.28125 31.265625 \nQ 36.765625 34.90625 28.71875 34.90625 \nL 20.21875 34.90625 \nL 20.21875 43.015625 \nL 29.109375 43.015625 \nQ 36.375 43.015625 40.234375 45.921875 \nQ 44.09375 48.828125 44.09375 54.296875 \nQ 44.09375 59.90625 40.109375 62.90625 \nQ 36.140625 65.921875 28.71875 65.921875 \nQ 24.65625 65.921875 20.015625 65.03125 \nQ 15.375 64.15625 9.8125 62.3125 \nL 9.8125 71.09375 \nQ 15.4375 72.65625 20.34375 73.4375 \nQ 25.25 74.21875 29.59375 74.21875 \nQ 40.828125 74.21875 47.359375 69.109375 \nQ 53.90625 64.015625 53.90625 55.328125 \nQ 53.90625 49.265625 50.4375 45.09375 \nQ 46.96875 40.921875 40.578125 39.3125 \nz\n\" id=\"DejaVuSans-51\"/>\n      </defs>\n      <g transform=\"translate(280.875402 460.178437)scale(0.1 -0.1)\">\n       <use xlink:href=\"#DejaVuSans-50\"/>\n       <use x=\"63.623047\" xlink:href=\"#DejaVuSans-48\"/>\n       <use x=\"127.246094\" xlink:href=\"#DejaVuSans-49\"/>\n       <use x=\"190.869141\" xlink:href=\"#DejaVuSans-51\"/>\n      </g>\n     </g>\n    </g>\n    <g id=\"xtick_7\">\n     <g id=\"line2d_7\">\n      <g>\n       <use style=\"stroke:#000000;stroke-width:0.8;\" x=\"331.863259\" xlink:href=\"#m827fb06991\" y=\"445.58\"/>\n      </g>\n     </g>\n     <g id=\"text_7\">\n      <!-- 2014 -->\n      <defs>\n       <path d=\"M 37.796875 64.3125 \nL 12.890625 25.390625 \nL 37.796875 25.390625 \nz\nM 35.203125 72.90625 \nL 47.609375 72.90625 \nL 47.609375 25.390625 \nL 58.015625 25.390625 \nL 58.015625 17.1875 \nL 47.609375 17.1875 \nL 47.609375 0 \nL 37.796875 0 \nL 37.796875 17.1875 \nL 4.890625 17.1875 \nL 4.890625 26.703125 \nz\n\" id=\"DejaVuSans-52\"/>\n      </defs>\n      <g transform=\"translate(319.138259 460.178437)scale(0.1 -0.1)\">\n       <use xlink:href=\"#DejaVuSans-50\"/>\n       <use x=\"63.623047\" xlink:href=\"#DejaVuSans-48\"/>\n       <use x=\"127.246094\" xlink:href=\"#DejaVuSans-49\"/>\n       <use x=\"190.869141\" xlink:href=\"#DejaVuSans-52\"/>\n      </g>\n     </g>\n    </g>\n    <g id=\"xtick_8\">\n     <g id=\"line2d_8\">\n      <g>\n       <use style=\"stroke:#000000;stroke-width:0.8;\" x=\"370.126116\" xlink:href=\"#m827fb06991\" y=\"445.58\"/>\n      </g>\n     </g>\n     <g id=\"text_8\">\n      <!-- 2015 -->\n      <defs>\n       <path d=\"M 10.796875 72.90625 \nL 49.515625 72.90625 \nL 49.515625 64.59375 \nL 19.828125 64.59375 \nL 19.828125 46.734375 \nQ 21.96875 47.46875 24.109375 47.828125 \nQ 26.265625 48.1875 28.421875 48.1875 \nQ 40.625 48.1875 47.75 41.5 \nQ 54.890625 34.8125 54.890625 23.390625 \nQ 54.890625 11.625 47.5625 5.09375 \nQ 40.234375 -1.421875 26.90625 -1.421875 \nQ 22.3125 -1.421875 17.546875 -0.640625 \nQ 12.796875 0.140625 7.71875 1.703125 \nL 7.71875 11.625 \nQ 12.109375 9.234375 16.796875 8.0625 \nQ 21.484375 6.890625 26.703125 6.890625 \nQ 35.15625 6.890625 40.078125 11.328125 \nQ 45.015625 15.765625 45.015625 23.390625 \nQ 45.015625 31 40.078125 35.4375 \nQ 35.15625 39.890625 26.703125 39.890625 \nQ 22.75 39.890625 18.8125 39.015625 \nQ 14.890625 38.140625 10.796875 36.28125 \nz\n\" id=\"DejaVuSans-53\"/>\n      </defs>\n      <g transform=\"translate(357.401116 460.178437)scale(0.1 -0.1)\">\n       <use xlink:href=\"#DejaVuSans-50\"/>\n       <use x=\"63.623047\" xlink:href=\"#DejaVuSans-48\"/>\n       <use x=\"127.246094\" xlink:href=\"#DejaVuSans-49\"/>\n       <use x=\"190.869141\" xlink:href=\"#DejaVuSans-53\"/>\n      </g>\n     </g>\n    </g>\n    <g id=\"xtick_9\">\n     <g id=\"line2d_9\">\n      <g>\n       <use style=\"stroke:#000000;stroke-width:0.8;\" x=\"408.388973\" xlink:href=\"#m827fb06991\" y=\"445.58\"/>\n      </g>\n     </g>\n     <g id=\"text_9\">\n      <!-- 2016 -->\n      <defs>\n       <path d=\"M 33.015625 40.375 \nQ 26.375 40.375 22.484375 35.828125 \nQ 18.609375 31.296875 18.609375 23.390625 \nQ 18.609375 15.53125 22.484375 10.953125 \nQ 26.375 6.390625 33.015625 6.390625 \nQ 39.65625 6.390625 43.53125 10.953125 \nQ 47.40625 15.53125 47.40625 23.390625 \nQ 47.40625 31.296875 43.53125 35.828125 \nQ 39.65625 40.375 33.015625 40.375 \nz\nM 52.59375 71.296875 \nL 52.59375 62.3125 \nQ 48.875 64.0625 45.09375 64.984375 \nQ 41.3125 65.921875 37.59375 65.921875 \nQ 27.828125 65.921875 22.671875 59.328125 \nQ 17.53125 52.734375 16.796875 39.40625 \nQ 19.671875 43.65625 24.015625 45.921875 \nQ 28.375 48.1875 33.59375 48.1875 \nQ 44.578125 48.1875 50.953125 41.515625 \nQ 57.328125 34.859375 57.328125 23.390625 \nQ 57.328125 12.15625 50.6875 5.359375 \nQ 44.046875 -1.421875 33.015625 -1.421875 \nQ 20.359375 -1.421875 13.671875 8.265625 \nQ 6.984375 17.96875 6.984375 36.375 \nQ 6.984375 53.65625 15.1875 63.9375 \nQ 23.390625 74.21875 37.203125 74.21875 \nQ 40.921875 74.21875 44.703125 73.484375 \nQ 48.484375 72.75 52.59375 71.296875 \nz\n\" id=\"DejaVuSans-54\"/>\n      </defs>\n      <g transform=\"translate(395.663973 460.178437)scale(0.1 -0.1)\">\n       <use xlink:href=\"#DejaVuSans-50\"/>\n       <use x=\"63.623047\" xlink:href=\"#DejaVuSans-48\"/>\n       <use x=\"127.246094\" xlink:href=\"#DejaVuSans-49\"/>\n       <use x=\"190.869141\" xlink:href=\"#DejaVuSans-54\"/>\n      </g>\n     </g>\n    </g>\n    <g id=\"xtick_10\">\n     <g id=\"line2d_10\">\n      <g>\n       <use style=\"stroke:#000000;stroke-width:0.8;\" x=\"446.65183\" xlink:href=\"#m827fb06991\" y=\"445.58\"/>\n      </g>\n     </g>\n     <g id=\"text_10\">\n      <!-- 2017 -->\n      <defs>\n       <path d=\"M 8.203125 72.90625 \nL 55.078125 72.90625 \nL 55.078125 68.703125 \nL 28.609375 0 \nL 18.3125 0 \nL 43.21875 64.59375 \nL 8.203125 64.59375 \nz\n\" id=\"DejaVuSans-55\"/>\n      </defs>\n      <g transform=\"translate(433.92683 460.178437)scale(0.1 -0.1)\">\n       <use xlink:href=\"#DejaVuSans-50\"/>\n       <use x=\"63.623047\" xlink:href=\"#DejaVuSans-48\"/>\n       <use x=\"127.246094\" xlink:href=\"#DejaVuSans-49\"/>\n       <use x=\"190.869141\" xlink:href=\"#DejaVuSans-55\"/>\n      </g>\n     </g>\n    </g>\n    <g id=\"xtick_11\">\n     <g id=\"line2d_11\">\n      <g>\n       <use style=\"stroke:#000000;stroke-width:0.8;\" x=\"484.914688\" xlink:href=\"#m827fb06991\" y=\"445.58\"/>\n      </g>\n     </g>\n     <g id=\"text_11\">\n      <!-- 2018 -->\n      <g transform=\"translate(472.189687 460.178437)scale(0.1 -0.1)\">\n       <use xlink:href=\"#DejaVuSans-50\"/>\n       <use x=\"63.623047\" xlink:href=\"#DejaVuSans-48\"/>\n       <use x=\"127.246094\" xlink:href=\"#DejaVuSans-49\"/>\n       <use x=\"190.869141\" xlink:href=\"#DejaVuSans-56\"/>\n      </g>\n     </g>\n    </g>\n    <g id=\"xtick_12\">\n     <g id=\"line2d_12\">\n      <g>\n       <use style=\"stroke:#000000;stroke-width:0.8;\" x=\"523.177545\" xlink:href=\"#m827fb06991\" y=\"445.58\"/>\n      </g>\n     </g>\n     <g id=\"text_12\">\n      <!-- 2019 -->\n      <g transform=\"translate(510.452545 460.178437)scale(0.1 -0.1)\">\n       <use xlink:href=\"#DejaVuSans-50\"/>\n       <use x=\"63.623047\" xlink:href=\"#DejaVuSans-48\"/>\n       <use x=\"127.246094\" xlink:href=\"#DejaVuSans-49\"/>\n       <use x=\"190.869141\" xlink:href=\"#DejaVuSans-57\"/>\n      </g>\n     </g>\n    </g>\n    <g id=\"xtick_13\">\n     <g id=\"line2d_13\">\n      <g>\n       <use style=\"stroke:#000000;stroke-width:0.8;\" x=\"561.440402\" xlink:href=\"#m827fb06991\" y=\"445.58\"/>\n      </g>\n     </g>\n     <g id=\"text_13\">\n      <!-- 2020 -->\n      <g transform=\"translate(548.715402 460.178437)scale(0.1 -0.1)\">\n       <use xlink:href=\"#DejaVuSans-50\"/>\n       <use x=\"63.623047\" xlink:href=\"#DejaVuSans-48\"/>\n       <use x=\"127.246094\" xlink:href=\"#DejaVuSans-50\"/>\n       <use x=\"190.869141\" xlink:href=\"#DejaVuSans-48\"/>\n      </g>\n     </g>\n    </g>\n    <g id=\"xtick_14\">\n     <g id=\"line2d_14\">\n      <g>\n       <use style=\"stroke:#000000;stroke-width:0.8;\" x=\"599.703259\" xlink:href=\"#m827fb06991\" y=\"445.58\"/>\n      </g>\n     </g>\n     <g id=\"text_14\">\n      <!-- 2021 -->\n      <g transform=\"translate(586.978259 460.178437)scale(0.1 -0.1)\">\n       <use xlink:href=\"#DejaVuSans-50\"/>\n       <use x=\"63.623047\" xlink:href=\"#DejaVuSans-48\"/>\n       <use x=\"127.246094\" xlink:href=\"#DejaVuSans-50\"/>\n       <use x=\"190.869141\" xlink:href=\"#DejaVuSans-49\"/>\n      </g>\n     </g>\n    </g>\n    <g id=\"text_15\">\n     <!-- year -->\n     <defs>\n      <path d=\"M 32.171875 -5.078125 \nQ 28.375 -14.84375 24.75 -17.8125 \nQ 21.140625 -20.796875 15.09375 -20.796875 \nL 7.90625 -20.796875 \nL 7.90625 -13.28125 \nL 13.1875 -13.28125 \nQ 16.890625 -13.28125 18.9375 -11.515625 \nQ 21 -9.765625 23.484375 -3.21875 \nL 25.09375 0.875 \nL 2.984375 54.6875 \nL 12.5 54.6875 \nL 29.59375 11.921875 \nL 46.6875 54.6875 \nL 56.203125 54.6875 \nz\n\" id=\"DejaVuSans-121\"/>\n      <path d=\"M 56.203125 29.59375 \nL 56.203125 25.203125 \nL 14.890625 25.203125 \nQ 15.484375 15.921875 20.484375 11.0625 \nQ 25.484375 6.203125 34.421875 6.203125 \nQ 39.59375 6.203125 44.453125 7.46875 \nQ 49.3125 8.734375 54.109375 11.28125 \nL 54.109375 2.78125 \nQ 49.265625 0.734375 44.1875 -0.34375 \nQ 39.109375 -1.421875 33.890625 -1.421875 \nQ 20.796875 -1.421875 13.15625 6.1875 \nQ 5.515625 13.8125 5.515625 26.8125 \nQ 5.515625 40.234375 12.765625 48.109375 \nQ 20.015625 56 32.328125 56 \nQ 43.359375 56 49.78125 48.890625 \nQ 56.203125 41.796875 56.203125 29.59375 \nz\nM 47.21875 32.234375 \nQ 47.125 39.59375 43.09375 43.984375 \nQ 39.0625 48.390625 32.421875 48.390625 \nQ 24.90625 48.390625 20.390625 44.140625 \nQ 15.875 39.890625 15.1875 32.171875 \nz\n\" id=\"DejaVuSans-101\"/>\n      <path d=\"M 34.28125 27.484375 \nQ 23.390625 27.484375 19.1875 25 \nQ 14.984375 22.515625 14.984375 16.5 \nQ 14.984375 11.71875 18.140625 8.90625 \nQ 21.296875 6.109375 26.703125 6.109375 \nQ 34.1875 6.109375 38.703125 11.40625 \nQ 43.21875 16.703125 43.21875 25.484375 \nL 43.21875 27.484375 \nz\nM 52.203125 31.203125 \nL 52.203125 0 \nL 43.21875 0 \nL 43.21875 8.296875 \nQ 40.140625 3.328125 35.546875 0.953125 \nQ 30.953125 -1.421875 24.3125 -1.421875 \nQ 15.921875 -1.421875 10.953125 3.296875 \nQ 6 8.015625 6 15.921875 \nQ 6 25.140625 12.171875 29.828125 \nQ 18.359375 34.515625 30.609375 34.515625 \nL 43.21875 34.515625 \nL 43.21875 35.40625 \nQ 43.21875 41.609375 39.140625 45 \nQ 35.0625 48.390625 27.6875 48.390625 \nQ 23 48.390625 18.546875 47.265625 \nQ 14.109375 46.140625 10.015625 43.890625 \nL 10.015625 52.203125 \nQ 14.9375 54.109375 19.578125 55.046875 \nQ 24.21875 56 28.609375 56 \nQ 40.484375 56 46.34375 49.84375 \nQ 52.203125 43.703125 52.203125 31.203125 \nz\n\" id=\"DejaVuSans-97\"/>\n      <path d=\"M 41.109375 46.296875 \nQ 39.59375 47.171875 37.8125 47.578125 \nQ 36.03125 48 33.890625 48 \nQ 26.265625 48 22.1875 43.046875 \nQ 18.109375 38.09375 18.109375 28.8125 \nL 18.109375 0 \nL 9.078125 0 \nL 9.078125 54.6875 \nL 18.109375 54.6875 \nL 18.109375 46.1875 \nQ 20.953125 51.171875 25.484375 53.578125 \nQ 30.03125 56 36.53125 56 \nQ 37.453125 56 38.578125 55.875 \nQ 39.703125 55.765625 41.0625 55.515625 \nz\n\" id=\"DejaVuSans-114\"/>\n     </defs>\n     <g transform=\"translate(339.839219 473.856562)scale(0.1 -0.1)\">\n      <use xlink:href=\"#DejaVuSans-121\"/>\n      <use x=\"59.179688\" xlink:href=\"#DejaVuSans-101\"/>\n      <use x=\"120.703125\" xlink:href=\"#DejaVuSans-97\"/>\n      <use x=\"181.982422\" xlink:href=\"#DejaVuSans-114\"/>\n     </g>\n    </g>\n   </g>\n   <g id=\"matplotlib.axis_2\">\n    <g id=\"ytick_1\">\n     <g id=\"line2d_15\">\n      <defs>\n       <path d=\"M 0 0 \nL -3.5 0 \n\" id=\"me15ad3100e\" style=\"stroke:#000000;stroke-width:0.8;\"/>\n      </defs>\n      <g>\n       <use style=\"stroke:#000000;stroke-width:0.8;\" x=\"83.154688\" xlink:href=\"#me15ad3100e\" y=\"28.82\"/>\n      </g>\n     </g>\n     <g id=\"text_16\">\n      <!-- December -->\n      <defs>\n       <path d=\"M 19.671875 64.796875 \nL 19.671875 8.109375 \nL 31.59375 8.109375 \nQ 46.6875 8.109375 53.6875 14.9375 \nQ 60.6875 21.78125 60.6875 36.53125 \nQ 60.6875 51.171875 53.6875 57.984375 \nQ 46.6875 64.796875 31.59375 64.796875 \nz\nM 9.8125 72.90625 \nL 30.078125 72.90625 \nQ 51.265625 72.90625 61.171875 64.09375 \nQ 71.09375 55.28125 71.09375 36.53125 \nQ 71.09375 17.671875 61.125 8.828125 \nQ 51.171875 0 30.078125 0 \nL 9.8125 0 \nz\n\" id=\"DejaVuSans-68\"/>\n       <path d=\"M 48.78125 52.59375 \nL 48.78125 44.1875 \nQ 44.96875 46.296875 41.140625 47.34375 \nQ 37.3125 48.390625 33.40625 48.390625 \nQ 24.65625 48.390625 19.8125 42.84375 \nQ 14.984375 37.3125 14.984375 27.296875 \nQ 14.984375 17.28125 19.8125 11.734375 \nQ 24.65625 6.203125 33.40625 6.203125 \nQ 37.3125 6.203125 41.140625 7.25 \nQ 44.96875 8.296875 48.78125 10.40625 \nL 48.78125 2.09375 \nQ 45.015625 0.34375 40.984375 -0.53125 \nQ 36.96875 -1.421875 32.421875 -1.421875 \nQ 20.0625 -1.421875 12.78125 6.34375 \nQ 5.515625 14.109375 5.515625 27.296875 \nQ 5.515625 40.671875 12.859375 48.328125 \nQ 20.21875 56 33.015625 56 \nQ 37.15625 56 41.109375 55.140625 \nQ 45.0625 54.296875 48.78125 52.59375 \nz\n\" id=\"DejaVuSans-99\"/>\n       <path d=\"M 52 44.1875 \nQ 55.375 50.25 60.0625 53.125 \nQ 64.75 56 71.09375 56 \nQ 79.640625 56 84.28125 50.015625 \nQ 88.921875 44.046875 88.921875 33.015625 \nL 88.921875 0 \nL 79.890625 0 \nL 79.890625 32.71875 \nQ 79.890625 40.578125 77.09375 44.375 \nQ 74.3125 48.1875 68.609375 48.1875 \nQ 61.625 48.1875 57.5625 43.546875 \nQ 53.515625 38.921875 53.515625 30.90625 \nL 53.515625 0 \nL 44.484375 0 \nL 44.484375 32.71875 \nQ 44.484375 40.625 41.703125 44.40625 \nQ 38.921875 48.1875 33.109375 48.1875 \nQ 26.21875 48.1875 22.15625 43.53125 \nQ 18.109375 38.875 18.109375 30.90625 \nL 18.109375 0 \nL 9.078125 0 \nL 9.078125 54.6875 \nL 18.109375 54.6875 \nL 18.109375 46.1875 \nQ 21.1875 51.21875 25.484375 53.609375 \nQ 29.78125 56 35.6875 56 \nQ 41.65625 56 45.828125 52.96875 \nQ 50 49.953125 52 44.1875 \nz\n\" id=\"DejaVuSans-109\"/>\n       <path d=\"M 48.6875 27.296875 \nQ 48.6875 37.203125 44.609375 42.84375 \nQ 40.53125 48.484375 33.40625 48.484375 \nQ 26.265625 48.484375 22.1875 42.84375 \nQ 18.109375 37.203125 18.109375 27.296875 \nQ 18.109375 17.390625 22.1875 11.75 \nQ 26.265625 6.109375 33.40625 6.109375 \nQ 40.53125 6.109375 44.609375 11.75 \nQ 48.6875 17.390625 48.6875 27.296875 \nz\nM 18.109375 46.390625 \nQ 20.953125 51.265625 25.265625 53.625 \nQ 29.59375 56 35.59375 56 \nQ 45.5625 56 51.78125 48.09375 \nQ 58.015625 40.1875 58.015625 27.296875 \nQ 58.015625 14.40625 51.78125 6.484375 \nQ 45.5625 -1.421875 35.59375 -1.421875 \nQ 29.59375 -1.421875 25.265625 0.953125 \nQ 20.953125 3.328125 18.109375 8.203125 \nL 18.109375 0 \nL 9.078125 0 \nL 9.078125 75.984375 \nL 18.109375 75.984375 \nz\n\" id=\"DejaVuSans-98\"/>\n      </defs>\n      <g transform=\"translate(24.296875 32.619219)scale(0.1 -0.1)\">\n       <use xlink:href=\"#DejaVuSans-68\"/>\n       <use x=\"77.001953\" xlink:href=\"#DejaVuSans-101\"/>\n       <use x=\"138.525391\" xlink:href=\"#DejaVuSans-99\"/>\n       <use x=\"193.505859\" xlink:href=\"#DejaVuSans-101\"/>\n       <use x=\"255.029297\" xlink:href=\"#DejaVuSans-109\"/>\n       <use x=\"352.441406\" xlink:href=\"#DejaVuSans-98\"/>\n       <use x=\"415.917969\" xlink:href=\"#DejaVuSans-101\"/>\n       <use x=\"477.441406\" xlink:href=\"#DejaVuSans-114\"/>\n      </g>\n     </g>\n    </g>\n    <g id=\"ytick_2\">\n     <g id=\"line2d_16\">\n      <g>\n       <use style=\"stroke:#000000;stroke-width:0.8;\" x=\"83.154688\" xlink:href=\"#me15ad3100e\" y=\"65.06\"/>\n      </g>\n     </g>\n     <g id=\"text_17\">\n      <!-- November -->\n      <defs>\n       <path d=\"M 9.8125 72.90625 \nL 23.09375 72.90625 \nL 55.421875 11.921875 \nL 55.421875 72.90625 \nL 64.984375 72.90625 \nL 64.984375 0 \nL 51.703125 0 \nL 19.390625 60.984375 \nL 19.390625 0 \nL 9.8125 0 \nz\n\" id=\"DejaVuSans-78\"/>\n       <path d=\"M 30.609375 48.390625 \nQ 23.390625 48.390625 19.1875 42.75 \nQ 14.984375 37.109375 14.984375 27.296875 \nQ 14.984375 17.484375 19.15625 11.84375 \nQ 23.34375 6.203125 30.609375 6.203125 \nQ 37.796875 6.203125 41.984375 11.859375 \nQ 46.1875 17.53125 46.1875 27.296875 \nQ 46.1875 37.015625 41.984375 42.703125 \nQ 37.796875 48.390625 30.609375 48.390625 \nz\nM 30.609375 56 \nQ 42.328125 56 49.015625 48.375 \nQ 55.71875 40.765625 55.71875 27.296875 \nQ 55.71875 13.875 49.015625 6.21875 \nQ 42.328125 -1.421875 30.609375 -1.421875 \nQ 18.84375 -1.421875 12.171875 6.21875 \nQ 5.515625 13.875 5.515625 27.296875 \nQ 5.515625 40.765625 12.171875 48.375 \nQ 18.84375 56 30.609375 56 \nz\n\" id=\"DejaVuSans-111\"/>\n       <path d=\"M 2.984375 54.6875 \nL 12.5 54.6875 \nL 29.59375 8.796875 \nL 46.6875 54.6875 \nL 56.203125 54.6875 \nL 35.6875 0 \nL 23.484375 0 \nz\n\" id=\"DejaVuSans-118\"/>\n      </defs>\n      <g transform=\"translate(24.129688 68.859219)scale(0.1 -0.1)\">\n       <use xlink:href=\"#DejaVuSans-78\"/>\n       <use x=\"74.804688\" xlink:href=\"#DejaVuSans-111\"/>\n       <use x=\"135.986328\" xlink:href=\"#DejaVuSans-118\"/>\n       <use x=\"195.166016\" xlink:href=\"#DejaVuSans-101\"/>\n       <use x=\"256.689453\" xlink:href=\"#DejaVuSans-109\"/>\n       <use x=\"354.101562\" xlink:href=\"#DejaVuSans-98\"/>\n       <use x=\"417.578125\" xlink:href=\"#DejaVuSans-101\"/>\n       <use x=\"479.101562\" xlink:href=\"#DejaVuSans-114\"/>\n      </g>\n     </g>\n    </g>\n    <g id=\"ytick_3\">\n     <g id=\"line2d_17\">\n      <g>\n       <use style=\"stroke:#000000;stroke-width:0.8;\" x=\"83.154688\" xlink:href=\"#me15ad3100e\" y=\"101.3\"/>\n      </g>\n     </g>\n     <g id=\"text_18\">\n      <!-- October -->\n      <defs>\n       <path d=\"M 39.40625 66.21875 \nQ 28.65625 66.21875 22.328125 58.203125 \nQ 16.015625 50.203125 16.015625 36.375 \nQ 16.015625 22.609375 22.328125 14.59375 \nQ 28.65625 6.59375 39.40625 6.59375 \nQ 50.140625 6.59375 56.421875 14.59375 \nQ 62.703125 22.609375 62.703125 36.375 \nQ 62.703125 50.203125 56.421875 58.203125 \nQ 50.140625 66.21875 39.40625 66.21875 \nz\nM 39.40625 74.21875 \nQ 54.734375 74.21875 63.90625 63.9375 \nQ 73.09375 53.65625 73.09375 36.375 \nQ 73.09375 19.140625 63.90625 8.859375 \nQ 54.734375 -1.421875 39.40625 -1.421875 \nQ 24.03125 -1.421875 14.8125 8.828125 \nQ 5.609375 19.09375 5.609375 36.375 \nQ 5.609375 53.65625 14.8125 63.9375 \nQ 24.03125 74.21875 39.40625 74.21875 \nz\n\" id=\"DejaVuSans-79\"/>\n       <path d=\"M 18.3125 70.21875 \nL 18.3125 54.6875 \nL 36.8125 54.6875 \nL 36.8125 47.703125 \nL 18.3125 47.703125 \nL 18.3125 18.015625 \nQ 18.3125 11.328125 20.140625 9.421875 \nQ 21.96875 7.515625 27.59375 7.515625 \nL 36.8125 7.515625 \nL 36.8125 0 \nL 27.59375 0 \nQ 17.1875 0 13.234375 3.875 \nQ 9.28125 7.765625 9.28125 18.015625 \nL 9.28125 47.703125 \nL 2.6875 47.703125 \nL 2.6875 54.6875 \nL 9.28125 54.6875 \nL 9.28125 70.21875 \nz\n\" id=\"DejaVuSans-116\"/>\n      </defs>\n      <g transform=\"translate(36.132813 105.099219)scale(0.1 -0.1)\">\n       <use xlink:href=\"#DejaVuSans-79\"/>\n       <use x=\"78.710938\" xlink:href=\"#DejaVuSans-99\"/>\n       <use x=\"133.691406\" xlink:href=\"#DejaVuSans-116\"/>\n       <use x=\"172.900391\" xlink:href=\"#DejaVuSans-111\"/>\n       <use x=\"234.082031\" xlink:href=\"#DejaVuSans-98\"/>\n       <use x=\"297.558594\" xlink:href=\"#DejaVuSans-101\"/>\n       <use x=\"359.082031\" xlink:href=\"#DejaVuSans-114\"/>\n      </g>\n     </g>\n    </g>\n    <g id=\"ytick_4\">\n     <g id=\"line2d_18\">\n      <g>\n       <use style=\"stroke:#000000;stroke-width:0.8;\" x=\"83.154688\" xlink:href=\"#me15ad3100e\" y=\"137.54\"/>\n      </g>\n     </g>\n     <g id=\"text_19\">\n      <!-- September -->\n      <defs>\n       <path d=\"M 53.515625 70.515625 \nL 53.515625 60.890625 \nQ 47.90625 63.578125 42.921875 64.890625 \nQ 37.9375 66.21875 33.296875 66.21875 \nQ 25.25 66.21875 20.875 63.09375 \nQ 16.5 59.96875 16.5 54.203125 \nQ 16.5 49.359375 19.40625 46.890625 \nQ 22.3125 44.4375 30.421875 42.921875 \nL 36.375 41.703125 \nQ 47.40625 39.59375 52.65625 34.296875 \nQ 57.90625 29 57.90625 20.125 \nQ 57.90625 9.515625 50.796875 4.046875 \nQ 43.703125 -1.421875 29.984375 -1.421875 \nQ 24.8125 -1.421875 18.96875 -0.25 \nQ 13.140625 0.921875 6.890625 3.21875 \nL 6.890625 13.375 \nQ 12.890625 10.015625 18.65625 8.296875 \nQ 24.421875 6.59375 29.984375 6.59375 \nQ 38.421875 6.59375 43.015625 9.90625 \nQ 47.609375 13.234375 47.609375 19.390625 \nQ 47.609375 24.75 44.3125 27.78125 \nQ 41.015625 30.8125 33.5 32.328125 \nL 27.484375 33.5 \nQ 16.453125 35.6875 11.515625 40.375 \nQ 6.59375 45.0625 6.59375 53.421875 \nQ 6.59375 63.09375 13.40625 68.65625 \nQ 20.21875 74.21875 32.171875 74.21875 \nQ 37.3125 74.21875 42.625 73.28125 \nQ 47.953125 72.359375 53.515625 70.515625 \nz\n\" id=\"DejaVuSans-83\"/>\n       <path d=\"M 18.109375 8.203125 \nL 18.109375 -20.796875 \nL 9.078125 -20.796875 \nL 9.078125 54.6875 \nL 18.109375 54.6875 \nL 18.109375 46.390625 \nQ 20.953125 51.265625 25.265625 53.625 \nQ 29.59375 56 35.59375 56 \nQ 45.5625 56 51.78125 48.09375 \nQ 58.015625 40.1875 58.015625 27.296875 \nQ 58.015625 14.40625 51.78125 6.484375 \nQ 45.5625 -1.421875 35.59375 -1.421875 \nQ 29.59375 -1.421875 25.265625 0.953125 \nQ 20.953125 3.328125 18.109375 8.203125 \nz\nM 48.6875 27.296875 \nQ 48.6875 37.203125 44.609375 42.84375 \nQ 40.53125 48.484375 33.40625 48.484375 \nQ 26.265625 48.484375 22.1875 42.84375 \nQ 18.109375 37.203125 18.109375 27.296875 \nQ 18.109375 17.390625 22.1875 11.75 \nQ 26.265625 6.109375 33.40625 6.109375 \nQ 40.53125 6.109375 44.609375 11.75 \nQ 48.6875 17.390625 48.6875 27.296875 \nz\n\" id=\"DejaVuSans-112\"/>\n      </defs>\n      <g transform=\"translate(20.878125 141.339219)scale(0.1 -0.1)\">\n       <use xlink:href=\"#DejaVuSans-83\"/>\n       <use x=\"63.476562\" xlink:href=\"#DejaVuSans-101\"/>\n       <use x=\"125\" xlink:href=\"#DejaVuSans-112\"/>\n       <use x=\"188.476562\" xlink:href=\"#DejaVuSans-116\"/>\n       <use x=\"227.685547\" xlink:href=\"#DejaVuSans-101\"/>\n       <use x=\"289.208984\" xlink:href=\"#DejaVuSans-109\"/>\n       <use x=\"386.621094\" xlink:href=\"#DejaVuSans-98\"/>\n       <use x=\"450.097656\" xlink:href=\"#DejaVuSans-101\"/>\n       <use x=\"511.621094\" xlink:href=\"#DejaVuSans-114\"/>\n      </g>\n     </g>\n    </g>\n    <g id=\"ytick_5\">\n     <g id=\"line2d_19\">\n      <g>\n       <use style=\"stroke:#000000;stroke-width:0.8;\" x=\"83.154688\" xlink:href=\"#me15ad3100e\" y=\"173.78\"/>\n      </g>\n     </g>\n     <g id=\"text_20\">\n      <!-- August -->\n      <defs>\n       <path d=\"M 34.1875 63.1875 \nL 20.796875 26.90625 \nL 47.609375 26.90625 \nz\nM 28.609375 72.90625 \nL 39.796875 72.90625 \nL 67.578125 0 \nL 57.328125 0 \nL 50.6875 18.703125 \nL 17.828125 18.703125 \nL 11.1875 0 \nL 0.78125 0 \nz\n\" id=\"DejaVuSans-65\"/>\n       <path d=\"M 8.5 21.578125 \nL 8.5 54.6875 \nL 17.484375 54.6875 \nL 17.484375 21.921875 \nQ 17.484375 14.15625 20.5 10.265625 \nQ 23.53125 6.390625 29.59375 6.390625 \nQ 36.859375 6.390625 41.078125 11.03125 \nQ 45.3125 15.671875 45.3125 23.6875 \nL 45.3125 54.6875 \nL 54.296875 54.6875 \nL 54.296875 0 \nL 45.3125 0 \nL 45.3125 8.40625 \nQ 42.046875 3.421875 37.71875 1 \nQ 33.40625 -1.421875 27.6875 -1.421875 \nQ 18.265625 -1.421875 13.375 4.4375 \nQ 8.5 10.296875 8.5 21.578125 \nz\nM 31.109375 56 \nz\n\" id=\"DejaVuSans-117\"/>\n       <path d=\"M 45.40625 27.984375 \nQ 45.40625 37.75 41.375 43.109375 \nQ 37.359375 48.484375 30.078125 48.484375 \nQ 22.859375 48.484375 18.828125 43.109375 \nQ 14.796875 37.75 14.796875 27.984375 \nQ 14.796875 18.265625 18.828125 12.890625 \nQ 22.859375 7.515625 30.078125 7.515625 \nQ 37.359375 7.515625 41.375 12.890625 \nQ 45.40625 18.265625 45.40625 27.984375 \nz\nM 54.390625 6.78125 \nQ 54.390625 -7.171875 48.1875 -13.984375 \nQ 42 -20.796875 29.203125 -20.796875 \nQ 24.46875 -20.796875 20.265625 -20.09375 \nQ 16.0625 -19.390625 12.109375 -17.921875 \nL 12.109375 -9.1875 \nQ 16.0625 -11.328125 19.921875 -12.34375 \nQ 23.78125 -13.375 27.78125 -13.375 \nQ 36.625 -13.375 41.015625 -8.765625 \nQ 45.40625 -4.15625 45.40625 5.171875 \nL 45.40625 9.625 \nQ 42.625 4.78125 38.28125 2.390625 \nQ 33.9375 0 27.875 0 \nQ 17.828125 0 11.671875 7.65625 \nQ 5.515625 15.328125 5.515625 27.984375 \nQ 5.515625 40.671875 11.671875 48.328125 \nQ 17.828125 56 27.875 56 \nQ 33.9375 56 38.28125 53.609375 \nQ 42.625 51.21875 45.40625 46.390625 \nL 45.40625 54.6875 \nL 54.390625 54.6875 \nz\n\" id=\"DejaVuSans-103\"/>\n       <path d=\"M 44.28125 53.078125 \nL 44.28125 44.578125 \nQ 40.484375 46.53125 36.375 47.5 \nQ 32.28125 48.484375 27.875 48.484375 \nQ 21.1875 48.484375 17.84375 46.4375 \nQ 14.5 44.390625 14.5 40.28125 \nQ 14.5 37.15625 16.890625 35.375 \nQ 19.28125 33.59375 26.515625 31.984375 \nL 29.59375 31.296875 \nQ 39.15625 29.25 43.1875 25.515625 \nQ 47.21875 21.78125 47.21875 15.09375 \nQ 47.21875 7.46875 41.1875 3.015625 \nQ 35.15625 -1.421875 24.609375 -1.421875 \nQ 20.21875 -1.421875 15.453125 -0.5625 \nQ 10.6875 0.296875 5.421875 2 \nL 5.421875 11.28125 \nQ 10.40625 8.6875 15.234375 7.390625 \nQ 20.0625 6.109375 24.8125 6.109375 \nQ 31.15625 6.109375 34.5625 8.28125 \nQ 37.984375 10.453125 37.984375 14.40625 \nQ 37.984375 18.0625 35.515625 20.015625 \nQ 33.0625 21.96875 24.703125 23.78125 \nL 21.578125 24.515625 \nQ 13.234375 26.265625 9.515625 29.90625 \nQ 5.8125 33.546875 5.8125 39.890625 \nQ 5.8125 47.609375 11.28125 51.796875 \nQ 16.75 56 26.8125 56 \nQ 31.78125 56 36.171875 55.265625 \nQ 40.578125 54.546875 44.28125 53.078125 \nz\n\" id=\"DejaVuSans-115\"/>\n      </defs>\n      <g transform=\"translate(41.160938 177.579219)scale(0.1 -0.1)\">\n       <use xlink:href=\"#DejaVuSans-65\"/>\n       <use x=\"68.408203\" xlink:href=\"#DejaVuSans-117\"/>\n       <use x=\"131.787109\" xlink:href=\"#DejaVuSans-103\"/>\n       <use x=\"195.263672\" xlink:href=\"#DejaVuSans-117\"/>\n       <use x=\"258.642578\" xlink:href=\"#DejaVuSans-115\"/>\n       <use x=\"310.742188\" xlink:href=\"#DejaVuSans-116\"/>\n      </g>\n     </g>\n    </g>\n    <g id=\"ytick_6\">\n     <g id=\"line2d_20\">\n      <g>\n       <use style=\"stroke:#000000;stroke-width:0.8;\" x=\"83.154688\" xlink:href=\"#me15ad3100e\" y=\"210.02\"/>\n      </g>\n     </g>\n     <g id=\"text_21\">\n      <!-- July -->\n      <defs>\n       <path d=\"M 9.8125 72.90625 \nL 19.671875 72.90625 \nL 19.671875 5.078125 \nQ 19.671875 -8.109375 14.671875 -14.0625 \nQ 9.671875 -20.015625 -1.421875 -20.015625 \nL -5.171875 -20.015625 \nL -5.171875 -11.71875 \nL -2.09375 -11.71875 \nQ 4.4375 -11.71875 7.125 -8.046875 \nQ 9.8125 -4.390625 9.8125 5.078125 \nz\n\" id=\"DejaVuSans-74\"/>\n       <path d=\"M 9.421875 75.984375 \nL 18.40625 75.984375 \nL 18.40625 0 \nL 9.421875 0 \nz\n\" id=\"DejaVuSans-108\"/>\n      </defs>\n      <g transform=\"translate(58.170313 213.819219)scale(0.1 -0.1)\">\n       <use xlink:href=\"#DejaVuSans-74\"/>\n       <use x=\"29.492188\" xlink:href=\"#DejaVuSans-117\"/>\n       <use x=\"92.871094\" xlink:href=\"#DejaVuSans-108\"/>\n       <use x=\"120.654297\" xlink:href=\"#DejaVuSans-121\"/>\n      </g>\n     </g>\n    </g>\n    <g id=\"ytick_7\">\n     <g id=\"line2d_21\">\n      <g>\n       <use style=\"stroke:#000000;stroke-width:0.8;\" x=\"83.154688\" xlink:href=\"#me15ad3100e\" y=\"246.26\"/>\n      </g>\n     </g>\n     <g id=\"text_22\">\n      <!-- June -->\n      <defs>\n       <path d=\"M 54.890625 33.015625 \nL 54.890625 0 \nL 45.90625 0 \nL 45.90625 32.71875 \nQ 45.90625 40.484375 42.875 44.328125 \nQ 39.84375 48.1875 33.796875 48.1875 \nQ 26.515625 48.1875 22.3125 43.546875 \nQ 18.109375 38.921875 18.109375 30.90625 \nL 18.109375 0 \nL 9.078125 0 \nL 9.078125 54.6875 \nL 18.109375 54.6875 \nL 18.109375 46.1875 \nQ 21.34375 51.125 25.703125 53.5625 \nQ 30.078125 56 35.796875 56 \nQ 45.21875 56 50.046875 50.171875 \nQ 54.890625 44.34375 54.890625 33.015625 \nz\n\" id=\"DejaVuSans-110\"/>\n      </defs>\n      <g transform=\"translate(54.376563 250.059219)scale(0.1 -0.1)\">\n       <use xlink:href=\"#DejaVuSans-74\"/>\n       <use x=\"29.492188\" xlink:href=\"#DejaVuSans-117\"/>\n       <use x=\"92.871094\" xlink:href=\"#DejaVuSans-110\"/>\n       <use x=\"156.25\" xlink:href=\"#DejaVuSans-101\"/>\n      </g>\n     </g>\n    </g>\n    <g id=\"ytick_8\">\n     <g id=\"line2d_22\">\n      <g>\n       <use style=\"stroke:#000000;stroke-width:0.8;\" x=\"83.154688\" xlink:href=\"#me15ad3100e\" y=\"282.5\"/>\n      </g>\n     </g>\n     <g id=\"text_23\">\n      <!-- May -->\n      <defs>\n       <path d=\"M 9.8125 72.90625 \nL 24.515625 72.90625 \nL 43.109375 23.296875 \nL 61.8125 72.90625 \nL 76.515625 72.90625 \nL 76.515625 0 \nL 66.890625 0 \nL 66.890625 64.015625 \nL 48.09375 14.015625 \nL 38.1875 14.015625 \nL 19.390625 64.015625 \nL 19.390625 0 \nL 9.8125 0 \nz\n\" id=\"DejaVuSans-77\"/>\n      </defs>\n      <g transform=\"translate(55.479688 286.299219)scale(0.1 -0.1)\">\n       <use xlink:href=\"#DejaVuSans-77\"/>\n       <use x=\"86.279297\" xlink:href=\"#DejaVuSans-97\"/>\n       <use x=\"147.558594\" xlink:href=\"#DejaVuSans-121\"/>\n      </g>\n     </g>\n    </g>\n    <g id=\"ytick_9\">\n     <g id=\"line2d_23\">\n      <g>\n       <use style=\"stroke:#000000;stroke-width:0.8;\" x=\"83.154688\" xlink:href=\"#me15ad3100e\" y=\"318.74\"/>\n      </g>\n     </g>\n     <g id=\"text_24\">\n      <!-- April -->\n      <defs>\n       <path d=\"M 9.421875 54.6875 \nL 18.40625 54.6875 \nL 18.40625 0 \nL 9.421875 0 \nz\nM 9.421875 75.984375 \nL 18.40625 75.984375 \nL 18.40625 64.59375 \nL 9.421875 64.59375 \nz\n\" id=\"DejaVuSans-105\"/>\n      </defs>\n      <g transform=\"translate(53.298438 322.539219)scale(0.1 -0.1)\">\n       <use xlink:href=\"#DejaVuSans-65\"/>\n       <use x=\"68.408203\" xlink:href=\"#DejaVuSans-112\"/>\n       <use x=\"131.884766\" xlink:href=\"#DejaVuSans-114\"/>\n       <use x=\"172.998047\" xlink:href=\"#DejaVuSans-105\"/>\n       <use x=\"200.78125\" xlink:href=\"#DejaVuSans-108\"/>\n      </g>\n     </g>\n    </g>\n    <g id=\"ytick_10\">\n     <g id=\"line2d_24\">\n      <g>\n       <use style=\"stroke:#000000;stroke-width:0.8;\" x=\"83.154688\" xlink:href=\"#me15ad3100e\" y=\"354.98\"/>\n      </g>\n     </g>\n     <g id=\"text_25\">\n      <!-- March -->\n      <defs>\n       <path d=\"M 54.890625 33.015625 \nL 54.890625 0 \nL 45.90625 0 \nL 45.90625 32.71875 \nQ 45.90625 40.484375 42.875 44.328125 \nQ 39.84375 48.1875 33.796875 48.1875 \nQ 26.515625 48.1875 22.3125 43.546875 \nQ 18.109375 38.921875 18.109375 30.90625 \nL 18.109375 0 \nL 9.078125 0 \nL 9.078125 75.984375 \nL 18.109375 75.984375 \nL 18.109375 46.1875 \nQ 21.34375 51.125 25.703125 53.5625 \nQ 30.078125 56 35.796875 56 \nQ 45.21875 56 50.046875 50.171875 \nQ 54.890625 44.34375 54.890625 33.015625 \nz\n\" id=\"DejaVuSans-104\"/>\n      </defs>\n      <g transform=\"translate(45.454688 358.779219)scale(0.1 -0.1)\">\n       <use xlink:href=\"#DejaVuSans-77\"/>\n       <use x=\"86.279297\" xlink:href=\"#DejaVuSans-97\"/>\n       <use x=\"147.558594\" xlink:href=\"#DejaVuSans-114\"/>\n       <use x=\"188.640625\" xlink:href=\"#DejaVuSans-99\"/>\n       <use x=\"243.621094\" xlink:href=\"#DejaVuSans-104\"/>\n      </g>\n     </g>\n    </g>\n    <g id=\"ytick_11\">\n     <g id=\"line2d_25\">\n      <g>\n       <use style=\"stroke:#000000;stroke-width:0.8;\" x=\"83.154688\" xlink:href=\"#me15ad3100e\" y=\"391.22\"/>\n      </g>\n     </g>\n     <g id=\"text_26\">\n      <!-- February -->\n      <defs>\n       <path d=\"M 9.8125 72.90625 \nL 51.703125 72.90625 \nL 51.703125 64.59375 \nL 19.671875 64.59375 \nL 19.671875 43.109375 \nL 48.578125 43.109375 \nL 48.578125 34.8125 \nL 19.671875 34.8125 \nL 19.671875 0 \nL 9.8125 0 \nz\n\" id=\"DejaVuSans-70\"/>\n      </defs>\n      <g transform=\"translate(31.303125 395.019219)scale(0.1 -0.1)\">\n       <use xlink:href=\"#DejaVuSans-70\"/>\n       <use x=\"57.441406\" xlink:href=\"#DejaVuSans-101\"/>\n       <use x=\"118.964844\" xlink:href=\"#DejaVuSans-98\"/>\n       <use x=\"182.441406\" xlink:href=\"#DejaVuSans-114\"/>\n       <use x=\"223.554688\" xlink:href=\"#DejaVuSans-117\"/>\n       <use x=\"286.933594\" xlink:href=\"#DejaVuSans-97\"/>\n       <use x=\"348.212891\" xlink:href=\"#DejaVuSans-114\"/>\n       <use x=\"389.326172\" xlink:href=\"#DejaVuSans-121\"/>\n      </g>\n     </g>\n    </g>\n    <g id=\"ytick_12\">\n     <g id=\"line2d_26\">\n      <g>\n       <use style=\"stroke:#000000;stroke-width:0.8;\" x=\"83.154688\" xlink:href=\"#me15ad3100e\" y=\"427.46\"/>\n      </g>\n     </g>\n     <g id=\"text_27\">\n      <!-- January -->\n      <g transform=\"translate(38.24375 431.259219)scale(0.1 -0.1)\">\n       <use xlink:href=\"#DejaVuSans-74\"/>\n       <use x=\"29.492188\" xlink:href=\"#DejaVuSans-97\"/>\n       <use x=\"90.771484\" xlink:href=\"#DejaVuSans-110\"/>\n       <use x=\"154.150391\" xlink:href=\"#DejaVuSans-117\"/>\n       <use x=\"217.529297\" xlink:href=\"#DejaVuSans-97\"/>\n       <use x=\"278.808594\" xlink:href=\"#DejaVuSans-114\"/>\n       <use x=\"319.921875\" xlink:href=\"#DejaVuSans-121\"/>\n      </g>\n     </g>\n    </g>\n    <g id=\"text_28\">\n     <!-- month -->\n     <g transform=\"translate(14.798438 244.367344)rotate(-90)scale(0.1 -0.1)\">\n      <use xlink:href=\"#DejaVuSans-109\"/>\n      <use x=\"97.412109\" xlink:href=\"#DejaVuSans-111\"/>\n      <use x=\"158.59375\" xlink:href=\"#DejaVuSans-110\"/>\n      <use x=\"221.972656\" xlink:href=\"#DejaVuSans-116\"/>\n      <use x=\"261.181641\" xlink:href=\"#DejaVuSans-104\"/>\n     </g>\n    </g>\n   </g>\n  </g>\n  <g id=\"axes_2\">\n   <g id=\"patch_3\">\n    <path clip-path=\"url(#p62bed6c9a5)\" d=\"M 652.314688 445.58 \nL 652.314688 443.88125 \nL 652.314688 12.39875 \nL 652.314688 10.7 \nL 674.058688 10.7 \nL 674.058688 12.39875 \nL 674.058688 443.88125 \nL 674.058688 445.58 \nz\n\" style=\"fill:#ffffff;stroke:#ffffff;stroke-linejoin:miter;stroke-width:0.01;\"/>\n   </g>\n   <image height=\"434\" id=\"imagef647951240\" transform=\"scale(1 -1)translate(0 -434)\" width=\"22\" x=\"652\" xlink:href=\"data:image/png;base64,\niVBORw0KGgoAAAANSUhEUgAAABYAAAGyCAYAAADgTjR3AAAABHNCSVQICAgIfAhkiAAAAldJREFUeJztncFtw0AQA0+B+u8vxTjKQ6eVG5jHAMMCiAXJ5Z0Uxz6u6/daAM5rIbzrXOsPIf5BWNda53UxUnATL8g8UOPitiGMG2ieTwpb3CiNhTkubg98GgvjRtUmaR4TN6UUtompBTFesXzm6SYGi94WN2FXdKPfEMYt8x6c0JEHTsyEjY0bRawzj5KCXJADIkZo0c0rbkOcFBsdTQPsaBJKYYxbRX+joueJq80BZ145flDcBuSlkDlBfBcWX9zavIEvbsKiN05sa7cP1RVC8yBiX9ywVNQVA2xioRQfXW36NObixvAWtxd1xUA4MXjFKsc3QPMgYp/GxW2g7AqGOPMG4OMYQpt5X1BODMXNd6P3mYf9Jd0nRXH7ItZdsSBin3m+iYvbIPMGPil8cTNK4YsbROxbEOOnbnwLghH7pPDFDSPOvA1fVwjN833erYm/iPvP2BvgxFDTC6Wo3XBinxTk5tVuMHFdMci8gXFi7pSuhG408YB878YQ+zbPFzejebUbTQyWkG7zoC/yIieGmv5cus07dI9jVNywVPhyTJpHbZ6uNg9dVwjjVtFvCBcE7AqbeZ3SL7FQCt3EPo2pN4Wd0g98C2I88zJviHVSHL0I2fBNbHyL1dE0xJm34XsGybyB737s09honm9Beu+2kXkvsfBZOvOG2CeFL26+xzHsNW/mbQjNExZ992OaOPMGQo2pX64U/uq48eOVkHlL+Humuomxzcu8DZ95vnYzSlHcaGLwipV5NLFPCrIruhTCxD4pfEeTUQrdxNTR1JPpoIkHdcXgH4NR5O3sMrBNAAAAAElFTkSuQmCC\" y=\"-11\"/>\n   <g id=\"matplotlib.axis_3\"/>\n   <g id=\"matplotlib.axis_4\">\n    <g id=\"ytick_13\">\n     <g id=\"line2d_27\">\n      <defs>\n       <path d=\"M 0 0 \nL 3.5 0 \n\" id=\"mf5170dbb3e\" style=\"stroke:#000000;stroke-width:0.8;\"/>\n      </defs>\n      <g>\n       <use style=\"stroke:#000000;stroke-width:0.8;\" x=\"674.058688\" xlink:href=\"#mf5170dbb3e\" y=\"445.58\"/>\n      </g>\n     </g>\n     <g id=\"text_29\">\n      <!-- 0 -->\n      <g transform=\"translate(681.058688 449.379219)scale(0.1 -0.1)\">\n       <use xlink:href=\"#DejaVuSans-48\"/>\n      </g>\n     </g>\n    </g>\n    <g id=\"ytick_14\">\n     <g id=\"line2d_28\">\n      <g>\n       <use style=\"stroke:#000000;stroke-width:0.8;\" x=\"674.058688\" xlink:href=\"#mf5170dbb3e\" y=\"365.638824\"/>\n      </g>\n     </g>\n     <g id=\"text_30\">\n      <!-- 50 -->\n      <g transform=\"translate(681.058688 369.438042)scale(0.1 -0.1)\">\n       <use xlink:href=\"#DejaVuSans-53\"/>\n       <use x=\"63.623047\" xlink:href=\"#DejaVuSans-48\"/>\n      </g>\n     </g>\n    </g>\n    <g id=\"ytick_15\">\n     <g id=\"line2d_29\">\n      <g>\n       <use style=\"stroke:#000000;stroke-width:0.8;\" x=\"674.058688\" xlink:href=\"#mf5170dbb3e\" y=\"285.697647\"/>\n      </g>\n     </g>\n     <g id=\"text_31\">\n      <!-- 100 -->\n      <g transform=\"translate(681.058688 289.496866)scale(0.1 -0.1)\">\n       <use xlink:href=\"#DejaVuSans-49\"/>\n       <use x=\"63.623047\" xlink:href=\"#DejaVuSans-48\"/>\n       <use x=\"127.246094\" xlink:href=\"#DejaVuSans-48\"/>\n      </g>\n     </g>\n    </g>\n    <g id=\"ytick_16\">\n     <g id=\"line2d_30\">\n      <g>\n       <use style=\"stroke:#000000;stroke-width:0.8;\" x=\"674.058688\" xlink:href=\"#mf5170dbb3e\" y=\"205.756471\"/>\n      </g>\n     </g>\n     <g id=\"text_32\">\n      <!-- 150 -->\n      <g transform=\"translate(681.058688 209.555689)scale(0.1 -0.1)\">\n       <use xlink:href=\"#DejaVuSans-49\"/>\n       <use x=\"63.623047\" xlink:href=\"#DejaVuSans-53\"/>\n       <use x=\"127.246094\" xlink:href=\"#DejaVuSans-48\"/>\n      </g>\n     </g>\n    </g>\n    <g id=\"ytick_17\">\n     <g id=\"line2d_31\">\n      <g>\n       <use style=\"stroke:#000000;stroke-width:0.8;\" x=\"674.058688\" xlink:href=\"#mf5170dbb3e\" y=\"125.815294\"/>\n      </g>\n     </g>\n     <g id=\"text_33\">\n      <!-- 200 -->\n      <g transform=\"translate(681.058688 129.614513)scale(0.1 -0.1)\">\n       <use xlink:href=\"#DejaVuSans-50\"/>\n       <use x=\"63.623047\" xlink:href=\"#DejaVuSans-48\"/>\n       <use x=\"127.246094\" xlink:href=\"#DejaVuSans-48\"/>\n      </g>\n     </g>\n    </g>\n    <g id=\"ytick_18\">\n     <g id=\"line2d_32\">\n      <g>\n       <use style=\"stroke:#000000;stroke-width:0.8;\" x=\"674.058688\" xlink:href=\"#mf5170dbb3e\" y=\"45.874118\"/>\n      </g>\n     </g>\n     <g id=\"text_34\">\n      <!-- 250 -->\n      <g transform=\"translate(681.058688 49.673336)scale(0.1 -0.1)\">\n       <use xlink:href=\"#DejaVuSans-50\"/>\n       <use x=\"63.623047\" xlink:href=\"#DejaVuSans-53\"/>\n       <use x=\"127.246094\" xlink:href=\"#DejaVuSans-48\"/>\n      </g>\n     </g>\n    </g>\n   </g>\n   <g id=\"patch_4\">\n    <path d=\"M 652.314688 445.58 \nL 652.314688 443.88125 \nL 652.314688 12.39875 \nL 652.314688 10.7 \nL 674.058688 10.7 \nL 674.058688 12.39875 \nL 674.058688 443.88125 \nL 674.058688 445.58 \nz\n\" style=\"fill:none;\"/>\n   </g>\n  </g>\n </g>\n <defs>\n  <clipPath id=\"pd5b74d49a4\">\n   <rect height=\"434.88\" width=\"535.68\" x=\"83.154688\" y=\"10.7\"/>\n  </clipPath>\n  <clipPath id=\"p62bed6c9a5\">\n   <rect height=\"434.88\" width=\"21.744\" x=\"652.314688\" y=\"10.7\"/>\n  </clipPath>\n </defs>\n</svg>\n",
      "image/png": "[encoded data removed]"
     },
     "metadata": {}
    }
   ],
   "source": [
    "# number of contents added by month and year added\n",
    "netflix_date = netflix[['date_added']].dropna()\n",
    "netflix_date['year'] = netflix_date['date_added'].apply(lambda x: x.split(', ')[-1])\n",
    "netflix_date['month'] = netflix_date['date_added'].apply(lambda x: x.lstrip(' ').split(' ')[0]) # lstrip() This method is used to delete all the leading characters mentioned in its argument\n",
    "month_order = ['January', 'February', 'March', 'April', 'May', 'June', 'July', 'August', 'September', 'October', 'November', 'December']\n",
    "month_order = ['January', 'February', 'March', 'April', 'May', 'June', 'July', 'August', 'September', 'October', 'November', 'December'][::-1]\n",
    "count_by_year_month = netflix_date.groupby(['year','month']).size().unstack().fillna(0)[month_order].T\n",
    "\n",
    "# print(count_by_year_month)\n",
    "plt.figure(figsize=(12,8))\n",
    "sns.heatmap(data=count_by_year_month,cmap=\"YlGnBu\", linecolor='white', linewidths=0.4)\n"
   ]
  },
  {
   "cell_type": "code",
   "execution_count": 6,
   "metadata": {
    "tags": []
   },
   "outputs": [
    {
     "output_type": "stream",
     "name": "stderr",
     "text": "/anaconda3/lib/python3.6/site-packages/plotly/graph_objs/_deprecations.py:385: DeprecationWarning:\n\nplotly.graph_objs.Line is deprecated.\nPlease replace it with one of the following more specific types\n  - plotly.graph_objs.scatter.Line\n  - plotly.graph_objs.layout.shape.Line\n  - etc.\n\n\n"
    },
    {
     "output_type": "display_data",
     "data": {
      "application/vnd.plotly.v1+json": {
       "config": {
        "plotlyServerURL": "https://plot.ly"
       },
       "data": [
        {
         "name": "movie",
         "type": "scatter",
         "x": [
          "2008",
          "2009",
          "2010",
          "2011",
          "2012",
          "2013",
          "2014",
          "2015",
          "2016",
          "2017",
          "2018",
          "2019",
          "2020",
          "2021"
         ],
         "y": [
          1,
          2,
          1,
          13,
          3,
          6,
          19,
          58,
          258,
          864,
          1255,
          1497,
          1312,
          88
         ]
        },
        {
         "name": "show",
         "type": "scatter",
         "x": [
          "2008",
          "2013",
          "2014",
          "2015",
          "2016",
          "2017",
          "2018",
          "2019",
          "2020",
          "2021"
         ],
         "y": [
          1,
          5,
          6,
          30,
          185,
          361,
          430,
          656,
          697,
          29
         ]
        }
       ],
       "layout": {
        "barmode": "stack",
        "height": 400,
        "template": {
         "data": {
          "bar": [
           {
            "error_x": {
             "color": "#2a3f5f"
            },
            "error_y": {
             "color": "#2a3f5f"
            },
            "marker": {
             "line": {
              "color": "#E5ECF6",
              "width": 0.5
             }
            },
            "type": "bar"
           }
          ],
          "barpolar": [
           {
            "marker": {
             "line": {
              "color": "#E5ECF6",
              "width": 0.5
             }
            },
            "type": "barpolar"
           }
          ],
          "carpet": [
           {
            "aaxis": {
             "endlinecolor": "#2a3f5f",
             "gridcolor": "white",
             "linecolor": "white",
             "minorgridcolor": "white",
             "startlinecolor": "#2a3f5f"
            },
            "baxis": {
             "endlinecolor": "#2a3f5f",
             "gridcolor": "white",
             "linecolor": "white",
             "minorgridcolor": "white",
             "startlinecolor": "#2a3f5f"
            },
            "type": "carpet"
           }
          ],
          "choropleth": [
           {
            "colorbar": {
             "outlinewidth": 0,
             "ticks": ""
            },
            "type": "choropleth"
           }
          ],
          "contour": [
           {
            "colorbar": {
             "outlinewidth": 0,
             "ticks": ""
            },
            "colorscale": [
             [
              0,
              "#0d0887"
             ],
             [
              0.1111111111111111,
              "#46039f"
             ],
             [
              0.2222222222222222,
              "#7201a8"
             ],
             [
              0.3333333333333333,
              "#9c179e"
             ],
             [
              0.4444444444444444,
              "#bd3786"
             ],
             [
              0.5555555555555556,
              "#d8576b"
             ],
             [
              0.6666666666666666,
              "#ed7953"
             ],
             [
              0.7777777777777778,
              "#fb9f3a"
             ],
             [
              0.8888888888888888,
              "#fdca26"
             ],
             [
              1,
              "#f0f921"
             ]
            ],
            "type": "contour"
           }
          ],
          "contourcarpet": [
           {
            "colorbar": {
             "outlinewidth": 0,
             "ticks": ""
            },
            "type": "contourcarpet"
           }
          ],
          "heatmap": [
           {
            "colorbar": {
             "outlinewidth": 0,
             "ticks": ""
            },
            "colorscale": [
             [
              0,
              "#0d0887"
             ],
             [
              0.1111111111111111,
              "#46039f"
             ],
             [
              0.2222222222222222,
              "#7201a8"
             ],
             [
              0.3333333333333333,
              "#9c179e"
             ],
             [
              0.4444444444444444,
              "#bd3786"
             ],
             [
              0.5555555555555556,
              "#d8576b"
             ],
             [
              0.6666666666666666,
              "#ed7953"
             ],
             [
              0.7777777777777778,
              "#fb9f3a"
             ],
             [
              0.8888888888888888,
              "#fdca26"
             ],
             [
              1,
              "#f0f921"
             ]
            ],
            "type": "heatmap"
           }
          ],
          "heatmapgl": [
           {
            "colorbar": {
             "outlinewidth": 0,
             "ticks": ""
            },
            "colorscale": [
             [
              0,
              "#0d0887"
             ],
             [
              0.1111111111111111,
              "#46039f"
             ],
             [
              0.2222222222222222,
              "#7201a8"
             ],
             [
              0.3333333333333333,
              "#9c179e"
             ],
             [
              0.4444444444444444,
              "#bd3786"
             ],
             [
              0.5555555555555556,
              "#d8576b"
             ],
             [
              0.6666666666666666,
              "#ed7953"
             ],
             [
              0.7777777777777778,
              "#fb9f3a"
             ],
             [
              0.8888888888888888,
              "#fdca26"
             ],
             [
              1,
              "#f0f921"
             ]
            ],
            "type": "heatmapgl"
           }
          ],
          "histogram": [
           {
            "marker": {
             "colorbar": {
              "outlinewidth": 0,
              "ticks": ""
             }
            },
            "type": "histogram"
           }
          ],
          "histogram2d": [
           {
            "colorbar": {
             "outlinewidth": 0,
             "ticks": ""
            },
            "colorscale": [
             [
              0,
              "#0d0887"
             ],
             [
              0.1111111111111111,
              "#46039f"
             ],
             [
              0.2222222222222222,
              "#7201a8"
             ],
             [
              0.3333333333333333,
              "#9c179e"
             ],
             [
              0.4444444444444444,
              "#bd3786"
             ],
             [
              0.5555555555555556,
              "#d8576b"
             ],
             [
              0.6666666666666666,
              "#ed7953"
             ],
             [
              0.7777777777777778,
              "#fb9f3a"
             ],
             [
              0.8888888888888888,
              "#fdca26"
             ],
             [
              1,
              "#f0f921"
             ]
            ],
            "type": "histogram2d"
           }
          ],
          "histogram2dcontour": [
           {
            "colorbar": {
             "outlinewidth": 0,
             "ticks": ""
            },
            "colorscale": [
             [
              0,
              "#0d0887"
             ],
             [
              0.1111111111111111,
              "#46039f"
             ],
             [
              0.2222222222222222,
              "#7201a8"
             ],
             [
              0.3333333333333333,
              "#9c179e"
             ],
             [
              0.4444444444444444,
              "#bd3786"
             ],
             [
              0.5555555555555556,
              "#d8576b"
             ],
             [
              0.6666666666666666,
              "#ed7953"
             ],
             [
              0.7777777777777778,
              "#fb9f3a"
             ],
             [
              0.8888888888888888,
              "#fdca26"
             ],
             [
              1,
              "#f0f921"
             ]
            ],
            "type": "histogram2dcontour"
           }
          ],
          "mesh3d": [
           {
            "colorbar": {
             "outlinewidth": 0,
             "ticks": ""
            },
            "type": "mesh3d"
           }
          ],
          "parcoords": [
           {
            "line": {
             "colorbar": {
              "outlinewidth": 0,
              "ticks": ""
             }
            },
            "type": "parcoords"
           }
          ],
          "pie": [
           {
            "automargin": true,
            "type": "pie"
           }
          ],
          "scatter": [
           {
            "marker": {
             "colorbar": {
              "outlinewidth": 0,
              "ticks": ""
             }
            },
            "type": "scatter"
           }
          ],
          "scatter3d": [
           {
            "line": {
             "colorbar": {
              "outlinewidth": 0,
              "ticks": ""
             }
            },
            "marker": {
             "colorbar": {
              "outlinewidth": 0,
              "ticks": ""
             }
            },
            "type": "scatter3d"
           }
          ],
          "scattercarpet": [
           {
            "marker": {
             "colorbar": {
              "outlinewidth": 0,
              "ticks": ""
             }
            },
            "type": "scattercarpet"
           }
          ],
          "scattergeo": [
           {
            "marker": {
             "colorbar": {
              "outlinewidth": 0,
              "ticks": ""
             }
            },
            "type": "scattergeo"
           }
          ],
          "scattergl": [
           {
            "marker": {
             "colorbar": {
              "outlinewidth": 0,
              "ticks": ""
             }
            },
            "type": "scattergl"
           }
          ],
          "scattermapbox": [
           {
            "marker": {
             "colorbar": {
              "outlinewidth": 0,
              "ticks": ""
             }
            },
            "type": "scattermapbox"
           }
          ],
          "scatterpolar": [
           {
            "marker": {
             "colorbar": {
              "outlinewidth": 0,
              "ticks": ""
             }
            },
            "type": "scatterpolar"
           }
          ],
          "scatterpolargl": [
           {
            "marker": {
             "colorbar": {
              "outlinewidth": 0,
              "ticks": ""
             }
            },
            "type": "scatterpolargl"
           }
          ],
          "scatterternary": [
           {
            "marker": {
             "colorbar": {
              "outlinewidth": 0,
              "ticks": ""
             }
            },
            "type": "scatterternary"
           }
          ],
          "surface": [
           {
            "colorbar": {
             "outlinewidth": 0,
             "ticks": ""
            },
            "colorscale": [
             [
              0,
              "#0d0887"
             ],
             [
              0.1111111111111111,
              "#46039f"
             ],
             [
              0.2222222222222222,
              "#7201a8"
             ],
             [
              0.3333333333333333,
              "#9c179e"
             ],
             [
              0.4444444444444444,
              "#bd3786"
             ],
             [
              0.5555555555555556,
              "#d8576b"
             ],
             [
              0.6666666666666666,
              "#ed7953"
             ],
             [
              0.7777777777777778,
              "#fb9f3a"
             ],
             [
              0.8888888888888888,
              "#fdca26"
             ],
             [
              1,
              "#f0f921"
             ]
            ],
            "type": "surface"
           }
          ],
          "table": [
           {
            "cells": {
             "fill": {
              "color": "#EBF0F8"
             },
             "line": {
              "color": "white"
             }
            },
            "header": {
             "fill": {
              "color": "#C8D4E3"
             },
             "line": {
              "color": "white"
             }
            },
            "type": "table"
           }
          ]
         },
         "layout": {
          "annotationdefaults": {
           "arrowcolor": "#2a3f5f",
           "arrowhead": 0,
           "arrowwidth": 1
          },
          "coloraxis": {
           "colorbar": {
            "outlinewidth": 0,
            "ticks": ""
           }
          },
          "colorscale": {
           "diverging": [
            [
             0,
             "#8e0152"
            ],
            [
             0.1,
             "#c51b7d"
            ],
            [
             0.2,
             "#de77ae"
            ],
            [
             0.3,
             "#f1b6da"
            ],
            [
             0.4,
             "#fde0ef"
            ],
            [
             0.5,
             "#f7f7f7"
            ],
            [
             0.6,
             "#e6f5d0"
            ],
            [
             0.7,
             "#b8e186"
            ],
            [
             0.8,
             "#7fbc41"
            ],
            [
             0.9,
             "#4d9221"
            ],
            [
             1,
             "#276419"
            ]
           ],
           "sequential": [
            [
             0,
             "#0d0887"
            ],
            [
             0.1111111111111111,
             "#46039f"
            ],
            [
             0.2222222222222222,
             "#7201a8"
            ],
            [
             0.3333333333333333,
             "#9c179e"
            ],
            [
             0.4444444444444444,
             "#bd3786"
            ],
            [
             0.5555555555555556,
             "#d8576b"
            ],
            [
             0.6666666666666666,
             "#ed7953"
            ],
            [
             0.7777777777777778,
             "#fb9f3a"
            ],
            [
             0.8888888888888888,
             "#fdca26"
            ],
            [
             1,
             "#f0f921"
            ]
           ],
           "sequentialminus": [
            [
             0,
             "#0d0887"
            ],
            [
             0.1111111111111111,
             "#46039f"
            ],
            [
             0.2222222222222222,
             "#7201a8"
            ],
            [
             0.3333333333333333,
             "#9c179e"
            ],
            [
             0.4444444444444444,
             "#bd3786"
            ],
            [
             0.5555555555555556,
             "#d8576b"
            ],
            [
             0.6666666666666666,
             "#ed7953"
            ],
            [
             0.7777777777777778,
             "#fb9f3a"
            ],
            [
             0.8888888888888888,
             "#fdca26"
            ],
            [
             1,
             "#f0f921"
            ]
           ]
          },
          "colorway": [
           "#636efa",
           "#EF553B",
           "#00cc96",
           "#ab63fa",
           "#FFA15A",
           "#19d3f3",
           "#FF6692",
           "#B6E880",
           "#FF97FF",
           "#FECB52"
          ],
          "font": {
           "color": "#2a3f5f"
          },
          "geo": {
           "bgcolor": "white",
           "lakecolor": "white",
           "landcolor": "#E5ECF6",
           "showlakes": true,
           "showland": true,
           "subunitcolor": "white"
          },
          "hoverlabel": {
           "align": "left"
          },
          "hovermode": "closest",
          "mapbox": {
           "style": "light"
          },
          "paper_bgcolor": "white",
          "plot_bgcolor": "#E5ECF6",
          "polar": {
           "angularaxis": {
            "gridcolor": "white",
            "linecolor": "white",
            "ticks": ""
           },
           "bgcolor": "#E5ECF6",
           "radialaxis": {
            "gridcolor": "white",
            "linecolor": "white",
            "ticks": ""
           }
          },
          "scene": {
           "xaxis": {
            "backgroundcolor": "#E5ECF6",
            "gridcolor": "white",
            "gridwidth": 2,
            "linecolor": "white",
            "showbackground": true,
            "ticks": "",
            "zerolinecolor": "white"
           },
           "yaxis": {
            "backgroundcolor": "#E5ECF6",
            "gridcolor": "white",
            "gridwidth": 2,
            "linecolor": "white",
            "showbackground": true,
            "ticks": "",
            "zerolinecolor": "white"
           },
           "zaxis": {
            "backgroundcolor": "#E5ECF6",
            "gridcolor": "white",
            "gridwidth": 2,
            "linecolor": "white",
            "showbackground": true,
            "ticks": "",
            "zerolinecolor": "white"
           }
          },
          "shapedefaults": {
           "line": {
            "color": "#2a3f5f"
           }
          },
          "ternary": {
           "aaxis": {
            "gridcolor": "white",
            "linecolor": "white",
            "ticks": ""
           },
           "baxis": {
            "gridcolor": "white",
            "linecolor": "white",
            "ticks": ""
           },
           "bgcolor": "#E5ECF6",
           "caxis": {
            "gridcolor": "white",
            "linecolor": "white",
            "ticks": ""
           }
          },
          "title": {
           "x": 0.05
          },
          "xaxis": {
           "automargin": true,
           "gridcolor": "white",
           "linecolor": "white",
           "ticks": "",
           "title": {
            "standoff": 15
           },
           "zerolinecolor": "white",
           "zerolinewidth": 2
          },
          "yaxis": {
           "automargin": true,
           "gridcolor": "white",
           "linecolor": "white",
           "ticks": "",
           "title": {
            "standoff": 15
           },
           "zerolinecolor": "white",
           "zerolinewidth": 2
          }
         }
        },
        "width": 1200
       }
      }
     },
     "metadata": {}
    }
   ],
   "source": [
    "# number of movies and shows added over years\n",
    "netflix_movie['year'] = netflix_movie['date_added'].apply(lambda x: np.nan if x == 'Unknown' else x.split(', ')[-1])\n",
    "netflix_show['year'] = netflix_show['date_added'].apply(lambda x: np.nan if x == 'Unknown' else x.split(', ')[-1])\n",
    "df_year_movie = netflix_movie.groupby('year')['show_id'].size().reset_index()\n",
    "df_year_show = netflix_show.groupby('year')['show_id'].size().reset_index()\n",
    "fig = go.Figure()\n",
    "fig.add_trace(go.Line(x=df_year_movie.year, y=df_year_movie['show_id'],name='movie'))\n",
    "fig.add_trace(go.Line(x=df_year_show.year, y=df_year_show['show_id'],name='show'))\n",
    "fig.update_layout(barmode='stack',width=1200,height=400)\n",
    "fig.show()"
   ]
  },
  {
   "cell_type": "code",
   "execution_count": 7,
   "metadata": {},
   "outputs": [
    {
     "output_type": "execute_result",
     "data": {
      "text/plain": "TV-MA       2863\nTV-14       1931\nTV-PG        806\nR            665\nPG-13        386\nTV-Y         280\nTV-Y7        271\nPG           247\nTV-G         194\nNR            84\nG             39\nTV-Y7-FV       6\nUR             5\nNC-17          3\nName: rating, dtype: int64"
     },
     "metadata": {},
     "execution_count": 7
    }
   ],
   "source": [
    "netflix.rating.value_counts()"
   ]
  },
  {
   "cell_type": "code",
   "execution_count": 8,
   "metadata": {},
   "outputs": [
    {
     "output_type": "execute_result",
     "data": {
      "text/plain": "<matplotlib.axes._subplots.AxesSubplot at 0x10f23da20>"
     },
     "metadata": {},
     "execution_count": 8
    },
    {
     "output_type": "display_data",
     "data": {
      "text/plain": "<Figure size 864x576 with 1 Axes>",
      "image/svg+xml": "<?xml version=\"1.0\" encoding=\"utf-8\" standalone=\"no\"?>\n<!DOCTYPE svg PUBLIC \"-//W3C//DTD SVG 1.1//EN\"\n  \"http://www.w3.org/Graphics/SVG/1.1/DTD/svg11.dtd\">\n<!-- Created with matplotlib (https://matplotlib.org/) -->\n<svg height=\"483.13625pt\" version=\"1.1\" viewBox=\"0 0 733.628125 483.13625\" width=\"733.628125pt\" xmlns=\"http://www.w3.org/2000/svg\" xmlns:xlink=\"http://www.w3.org/1999/xlink\">\n <defs>\n  <style type=\"text/css\">\n*{stroke-linecap:butt;stroke-linejoin:round;}\n  </style>\n </defs>\n <g id=\"figure_1\">\n  <g id=\"patch_1\">\n   <path d=\"M 0 483.13625 \nL 733.628125 483.13625 \nL 733.628125 0 \nL 0 0 \nz\n\" style=\"fill:none;\"/>\n  </g>\n  <g id=\"axes_1\">\n   <g id=\"patch_2\">\n    <path d=\"M 53.328125 445.58 \nL 722.928125 445.58 \nL 722.928125 10.7 \nL 53.328125 10.7 \nz\n\" style=\"fill:#ffffff;\"/>\n   </g>\n   <g id=\"patch_3\">\n    <path clip-path=\"url(#p823a5b9e71)\" d=\"M 58.110982 445.58 \nL 77.242411 445.58 \nL 77.242411 217.056144 \nL 58.110982 217.056144 \nz\n\" style=\"fill:#327ba5;\"/>\n   </g>\n   <g id=\"patch_4\">\n    <path clip-path=\"url(#p823a5b9e71)\" d=\"M 105.939554 445.58 \nL 125.070982 445.58 \nL 125.070982 297.645598 \nL 105.939554 297.645598 \nz\n\" style=\"fill:#327ba5;\"/>\n   </g>\n   <g id=\"patch_5\">\n    <path clip-path=\"url(#p823a5b9e71)\" d=\"M 153.768125 445.58 \nL 172.899554 445.58 \nL 172.899554 378.010569 \nL 153.768125 378.010569 \nz\n\" style=\"fill:#327ba5;\"/>\n   </g>\n   <g id=\"patch_6\">\n    <path clip-path=\"url(#p823a5b9e71)\" d=\"M 201.596696 445.58 \nL 220.728125 445.58 \nL 220.728125 445.131034 \nL 201.596696 445.131034 \nz\n\" style=\"fill:#327ba5;\"/>\n   </g>\n   <g id=\"patch_7\">\n    <path clip-path=\"url(#p823a5b9e71)\" d=\"z\n\" style=\"fill:#327ba5;\"/>\n   </g>\n   <g id=\"patch_8\">\n    <path clip-path=\"url(#p823a5b9e71)\" d=\"M 297.253839 445.58 \nL 316.385268 445.58 \nL 316.385268 408.989245 \nL 297.253839 408.989245 \nz\n\" style=\"fill:#327ba5;\"/>\n   </g>\n   <g id=\"patch_9\">\n    <path clip-path=\"url(#p823a5b9e71)\" d=\"M 345.082411 445.58 \nL 364.213839 445.58 \nL 364.213839 406.070964 \nL 345.082411 406.070964 \nz\n\" style=\"fill:#327ba5;\"/>\n   </g>\n   <g id=\"patch_10\">\n    <path clip-path=\"url(#p823a5b9e71)\" d=\"z\n\" style=\"fill:#327ba5;\"/>\n   </g>\n   <g id=\"patch_11\">\n    <path clip-path=\"url(#p823a5b9e71)\" d=\"M 440.739554 445.58 \nL 459.870982 445.58 \nL 459.870982 426.947898 \nL 440.739554 426.947898 \nz\n\" style=\"fill:#327ba5;\"/>\n   </g>\n   <g id=\"patch_12\">\n    <path clip-path=\"url(#p823a5b9e71)\" d=\"M 488.568125 445.58 \nL 507.699554 445.58 \nL 507.699554 444.457584 \nL 488.568125 444.457584 \nz\n\" style=\"fill:#327ba5;\"/>\n   </g>\n   <g id=\"patch_13\">\n    <path clip-path=\"url(#p823a5b9e71)\" d=\"z\n\" style=\"fill:#327ba5;\"/>\n   </g>\n   <g id=\"patch_14\">\n    <path clip-path=\"url(#p823a5b9e71)\" d=\"M 584.225268 445.58 \nL 603.356696 445.58 \nL 603.356696 445.355517 \nL 584.225268 445.355517 \nz\n\" style=\"fill:#327ba5;\"/>\n   </g>\n   <g id=\"patch_15\">\n    <path clip-path=\"url(#p823a5b9e71)\" d=\"z\n\" style=\"fill:#327ba5;\"/>\n   </g>\n   <g id=\"patch_16\">\n    <path clip-path=\"url(#p823a5b9e71)\" d=\"z\n\" style=\"fill:#327ba5;\"/>\n   </g>\n   <g id=\"patch_17\">\n    <path clip-path=\"url(#p823a5b9e71)\" d=\"M 77.242411 445.58 \nL 96.373839 445.58 \nL 96.373839 31.408571 \nL 77.242411 31.408571 \nz\n\" style=\"fill:#9fceb8;\"/>\n   </g>\n   <g id=\"patch_18\">\n    <path clip-path=\"url(#p823a5b9e71)\" d=\"M 125.070982 445.58 \nL 144.202411 445.58 \nL 144.202411 160.037422 \nL 125.070982 160.037422 \nz\n\" style=\"fill:#9fceb8;\"/>\n   </g>\n   <g id=\"patch_19\">\n    <path clip-path=\"url(#p823a5b9e71)\" d=\"M 172.899554 445.58 \nL 192.030982 445.58 \nL 192.030982 332.216005 \nL 172.899554 332.216005 \nz\n\" style=\"fill:#9fceb8;\"/>\n   </g>\n   <g id=\"patch_20\">\n    <path clip-path=\"url(#p823a5b9e71)\" d=\"M 220.728125 445.58 \nL 239.859554 445.58 \nL 239.859554 296.747666 \nL 220.728125 296.747666 \nz\n\" style=\"fill:#9fceb8;\"/>\n   </g>\n   <g id=\"patch_21\">\n    <path clip-path=\"url(#p823a5b9e71)\" d=\"M 268.556696 445.58 \nL 287.688125 445.58 \nL 287.688125 358.929501 \nL 268.556696 358.929501 \nz\n\" style=\"fill:#9fceb8;\"/>\n   </g>\n   <g id=\"patch_22\">\n    <path clip-path=\"url(#p823a5b9e71)\" d=\"M 316.385268 445.58 \nL 335.516696 445.58 \nL 335.516696 419.31547 \nL 316.385268 419.31547 \nz\n\" style=\"fill:#9fceb8;\"/>\n   </g>\n   <g id=\"patch_23\">\n    <path clip-path=\"url(#p823a5b9e71)\" d=\"M 364.213839 445.58 \nL 383.345268 445.58 \nL 383.345268 424.2541 \nL 364.213839 424.2541 \nz\n\" style=\"fill:#9fceb8;\"/>\n   </g>\n   <g id=\"patch_24\">\n    <path clip-path=\"url(#p823a5b9e71)\" d=\"M 412.042411 445.58 \nL 431.173839 445.58 \nL 431.173839 390.13266 \nL 412.042411 390.13266 \nz\n\" style=\"fill:#9fceb8;\"/>\n   </g>\n   <g id=\"patch_25\">\n    <path clip-path=\"url(#p823a5b9e71)\" d=\"M 459.870982 445.58 \nL 479.002411 445.58 \nL 479.002411 420.662369 \nL 459.870982 420.662369 \nz\n\" style=\"fill:#9fceb8;\"/>\n   </g>\n   <g id=\"patch_26\">\n    <path clip-path=\"url(#p823a5b9e71)\" d=\"M 507.699554 445.58 \nL 526.830982 445.58 \nL 526.830982 427.84583 \nL 507.699554 427.84583 \nz\n\" style=\"fill:#9fceb8;\"/>\n   </g>\n   <g id=\"patch_27\">\n    <path clip-path=\"url(#p823a5b9e71)\" d=\"M 555.528125 445.58 \nL 574.659554 445.58 \nL 574.659554 436.825157 \nL 555.528125 436.825157 \nz\n\" style=\"fill:#9fceb8;\"/>\n   </g>\n   <g id=\"patch_28\">\n    <path clip-path=\"url(#p823a5b9e71)\" d=\"M 603.356696 445.58 \nL 622.488125 445.58 \nL 622.488125 444.457584 \nL 603.356696 444.457584 \nz\n\" style=\"fill:#9fceb8;\"/>\n   </g>\n   <g id=\"patch_29\">\n    <path clip-path=\"url(#p823a5b9e71)\" d=\"M 651.185268 445.58 \nL 670.316696 445.58 \nL 670.316696 444.457584 \nL 651.185268 444.457584 \nz\n\" style=\"fill:#9fceb8;\"/>\n   </g>\n   <g id=\"patch_30\">\n    <path clip-path=\"url(#p823a5b9e71)\" d=\"M 699.013839 445.58 \nL 718.145268 445.58 \nL 718.145268 444.906551 \nL 699.013839 444.906551 \nz\n\" style=\"fill:#9fceb8;\"/>\n   </g>\n   <g id=\"matplotlib.axis_1\">\n    <g id=\"xtick_1\">\n     <g id=\"line2d_1\">\n      <defs>\n       <path d=\"M 0 0 \nL 0 3.5 \n\" id=\"mbccac3870f\" style=\"stroke:#000000;stroke-width:0.8;\"/>\n      </defs>\n      <g>\n       <use style=\"stroke:#000000;stroke-width:0.8;\" x=\"77.242411\" xlink:href=\"#mbccac3870f\" y=\"445.58\"/>\n      </g>\n     </g>\n     <g id=\"text_1\">\n      <!-- TV-MA -->\n      <defs>\n       <path d=\"M -0.296875 72.90625 \nL 61.375 72.90625 \nL 61.375 64.59375 \nL 35.5 64.59375 \nL 35.5 0 \nL 25.59375 0 \nL 25.59375 64.59375 \nL -0.296875 64.59375 \nz\n\" id=\"DejaVuSans-84\"/>\n       <path d=\"M 28.609375 0 \nL 0.78125 72.90625 \nL 11.078125 72.90625 \nL 34.1875 11.53125 \nL 57.328125 72.90625 \nL 67.578125 72.90625 \nL 39.796875 0 \nz\n\" id=\"DejaVuSans-86\"/>\n       <path d=\"M 4.890625 31.390625 \nL 31.203125 31.390625 \nL 31.203125 23.390625 \nL 4.890625 23.390625 \nz\n\" id=\"DejaVuSans-45\"/>\n       <path d=\"M 9.8125 72.90625 \nL 24.515625 72.90625 \nL 43.109375 23.296875 \nL 61.8125 72.90625 \nL 76.515625 72.90625 \nL 76.515625 0 \nL 66.890625 0 \nL 66.890625 64.015625 \nL 48.09375 14.015625 \nL 38.1875 14.015625 \nL 19.390625 64.015625 \nL 19.390625 0 \nL 9.8125 0 \nz\n\" id=\"DejaVuSans-77\"/>\n       <path d=\"M 34.1875 63.1875 \nL 20.796875 26.90625 \nL 47.609375 26.90625 \nz\nM 28.609375 72.90625 \nL 39.796875 72.90625 \nL 67.578125 0 \nL 57.328125 0 \nL 50.6875 18.703125 \nL 17.828125 18.703125 \nL 11.1875 0 \nL 0.78125 0 \nz\n\" id=\"DejaVuSans-65\"/>\n      </defs>\n      <g transform=\"translate(61.233817 460.178437)scale(0.1 -0.1)\">\n       <use xlink:href=\"#DejaVuSans-84\"/>\n       <use x=\"61.083984\" xlink:href=\"#DejaVuSans-86\"/>\n       <use x=\"129.414062\" xlink:href=\"#DejaVuSans-45\"/>\n       <use x=\"165.498047\" xlink:href=\"#DejaVuSans-77\"/>\n       <use x=\"251.777344\" xlink:href=\"#DejaVuSans-65\"/>\n      </g>\n     </g>\n    </g>\n    <g id=\"xtick_2\">\n     <g id=\"line2d_2\">\n      <g>\n       <use style=\"stroke:#000000;stroke-width:0.8;\" x=\"125.070982\" xlink:href=\"#mbccac3870f\" y=\"445.58\"/>\n      </g>\n     </g>\n     <g id=\"text_2\">\n      <!-- TV-14 -->\n      <defs>\n       <path d=\"M 12.40625 8.296875 \nL 28.515625 8.296875 \nL 28.515625 63.921875 \nL 10.984375 60.40625 \nL 10.984375 69.390625 \nL 28.421875 72.90625 \nL 38.28125 72.90625 \nL 38.28125 8.296875 \nL 54.390625 8.296875 \nL 54.390625 0 \nL 12.40625 0 \nz\n\" id=\"DejaVuSans-49\"/>\n       <path d=\"M 37.796875 64.3125 \nL 12.890625 25.390625 \nL 37.796875 25.390625 \nz\nM 35.203125 72.90625 \nL 47.609375 72.90625 \nL 47.609375 25.390625 \nL 58.015625 25.390625 \nL 58.015625 17.1875 \nL 47.609375 17.1875 \nL 47.609375 0 \nL 37.796875 0 \nL 37.796875 17.1875 \nL 4.890625 17.1875 \nL 4.890625 26.703125 \nz\n\" id=\"DejaVuSans-52\"/>\n      </defs>\n      <g transform=\"translate(110.434263 460.178437)scale(0.1 -0.1)\">\n       <use xlink:href=\"#DejaVuSans-84\"/>\n       <use x=\"61.083984\" xlink:href=\"#DejaVuSans-86\"/>\n       <use x=\"129.414062\" xlink:href=\"#DejaVuSans-45\"/>\n       <use x=\"165.498047\" xlink:href=\"#DejaVuSans-49\"/>\n       <use x=\"229.121094\" xlink:href=\"#DejaVuSans-52\"/>\n      </g>\n     </g>\n    </g>\n    <g id=\"xtick_3\">\n     <g id=\"line2d_3\">\n      <g>\n       <use style=\"stroke:#000000;stroke-width:0.8;\" x=\"172.899554\" xlink:href=\"#mbccac3870f\" y=\"445.58\"/>\n      </g>\n     </g>\n     <g id=\"text_3\">\n      <!-- TV-PG -->\n      <defs>\n       <path d=\"M 19.671875 64.796875 \nL 19.671875 37.40625 \nL 32.078125 37.40625 \nQ 38.96875 37.40625 42.71875 40.96875 \nQ 46.484375 44.53125 46.484375 51.125 \nQ 46.484375 57.671875 42.71875 61.234375 \nQ 38.96875 64.796875 32.078125 64.796875 \nz\nM 9.8125 72.90625 \nL 32.078125 72.90625 \nQ 44.34375 72.90625 50.609375 67.359375 \nQ 56.890625 61.8125 56.890625 51.125 \nQ 56.890625 40.328125 50.609375 34.8125 \nQ 44.34375 29.296875 32.078125 29.296875 \nL 19.671875 29.296875 \nL 19.671875 0 \nL 9.8125 0 \nz\n\" id=\"DejaVuSans-80\"/>\n       <path d=\"M 59.515625 10.40625 \nL 59.515625 29.984375 \nL 43.40625 29.984375 \nL 43.40625 38.09375 \nL 69.28125 38.09375 \nL 69.28125 6.78125 \nQ 63.578125 2.734375 56.6875 0.65625 \nQ 49.8125 -1.421875 42 -1.421875 \nQ 24.90625 -1.421875 15.25 8.5625 \nQ 5.609375 18.5625 5.609375 36.375 \nQ 5.609375 54.25 15.25 64.234375 \nQ 24.90625 74.21875 42 74.21875 \nQ 49.125 74.21875 55.546875 72.453125 \nQ 61.96875 70.703125 67.390625 67.28125 \nL 67.390625 56.78125 \nQ 61.921875 61.421875 55.765625 63.765625 \nQ 49.609375 66.109375 42.828125 66.109375 \nQ 29.4375 66.109375 22.71875 58.640625 \nQ 16.015625 51.171875 16.015625 36.375 \nQ 16.015625 21.625 22.71875 14.15625 \nQ 29.4375 6.6875 42.828125 6.6875 \nQ 48.046875 6.6875 52.140625 7.59375 \nQ 56.25 8.5 59.515625 10.40625 \nz\n\" id=\"DejaVuSans-71\"/>\n      </defs>\n      <g transform=\"translate(157.736272 460.178437)scale(0.1 -0.1)\">\n       <use xlink:href=\"#DejaVuSans-84\"/>\n       <use x=\"61.083984\" xlink:href=\"#DejaVuSans-86\"/>\n       <use x=\"129.414062\" xlink:href=\"#DejaVuSans-45\"/>\n       <use x=\"165.498047\" xlink:href=\"#DejaVuSans-80\"/>\n       <use x=\"225.800781\" xlink:href=\"#DejaVuSans-71\"/>\n      </g>\n     </g>\n    </g>\n    <g id=\"xtick_4\">\n     <g id=\"line2d_4\">\n      <g>\n       <use style=\"stroke:#000000;stroke-width:0.8;\" x=\"220.728125\" xlink:href=\"#mbccac3870f\" y=\"445.58\"/>\n      </g>\n     </g>\n     <g id=\"text_4\">\n      <!-- R -->\n      <defs>\n       <path d=\"M 44.390625 34.1875 \nQ 47.5625 33.109375 50.5625 29.59375 \nQ 53.5625 26.078125 56.59375 19.921875 \nL 66.609375 0 \nL 56 0 \nL 46.6875 18.703125 \nQ 43.0625 26.03125 39.671875 28.421875 \nQ 36.28125 30.8125 30.421875 30.8125 \nL 19.671875 30.8125 \nL 19.671875 0 \nL 9.8125 0 \nL 9.8125 72.90625 \nL 32.078125 72.90625 \nQ 44.578125 72.90625 50.734375 67.671875 \nQ 56.890625 62.453125 56.890625 51.90625 \nQ 56.890625 45.015625 53.6875 40.46875 \nQ 50.484375 35.9375 44.390625 34.1875 \nz\nM 19.671875 64.796875 \nL 19.671875 38.921875 \nL 32.078125 38.921875 \nQ 39.203125 38.921875 42.84375 42.21875 \nQ 46.484375 45.515625 46.484375 51.90625 \nQ 46.484375 58.296875 42.84375 61.546875 \nQ 39.203125 64.796875 32.078125 64.796875 \nz\n\" id=\"DejaVuSans-82\"/>\n      </defs>\n      <g transform=\"translate(217.253906 460.178437)scale(0.1 -0.1)\">\n       <use xlink:href=\"#DejaVuSans-82\"/>\n      </g>\n     </g>\n    </g>\n    <g id=\"xtick_5\">\n     <g id=\"line2d_5\">\n      <g>\n       <use style=\"stroke:#000000;stroke-width:0.8;\" x=\"268.556696\" xlink:href=\"#mbccac3870f\" y=\"445.58\"/>\n      </g>\n     </g>\n     <g id=\"text_5\">\n      <!-- PG-13 -->\n      <defs>\n       <path d=\"M 40.578125 39.3125 \nQ 47.65625 37.796875 51.625 33 \nQ 55.609375 28.21875 55.609375 21.1875 \nQ 55.609375 10.40625 48.1875 4.484375 \nQ 40.765625 -1.421875 27.09375 -1.421875 \nQ 22.515625 -1.421875 17.65625 -0.515625 \nQ 12.796875 0.390625 7.625 2.203125 \nL 7.625 11.71875 \nQ 11.71875 9.328125 16.59375 8.109375 \nQ 21.484375 6.890625 26.8125 6.890625 \nQ 36.078125 6.890625 40.9375 10.546875 \nQ 45.796875 14.203125 45.796875 21.1875 \nQ 45.796875 27.640625 41.28125 31.265625 \nQ 36.765625 34.90625 28.71875 34.90625 \nL 20.21875 34.90625 \nL 20.21875 43.015625 \nL 29.109375 43.015625 \nQ 36.375 43.015625 40.234375 45.921875 \nQ 44.09375 48.828125 44.09375 54.296875 \nQ 44.09375 59.90625 40.109375 62.90625 \nQ 36.140625 65.921875 28.71875 65.921875 \nQ 24.65625 65.921875 20.015625 65.03125 \nQ 15.375 64.15625 9.8125 62.3125 \nL 9.8125 71.09375 \nQ 15.4375 72.65625 20.34375 73.4375 \nQ 25.25 74.21875 29.59375 74.21875 \nQ 40.828125 74.21875 47.359375 69.109375 \nQ 53.90625 64.015625 53.90625 55.328125 \nQ 53.90625 49.265625 50.4375 45.09375 \nQ 46.96875 40.921875 40.578125 39.3125 \nz\n\" id=\"DejaVuSans-51\"/>\n      </defs>\n      <g transform=\"translate(253.501228 460.178437)scale(0.1 -0.1)\">\n       <use xlink:href=\"#DejaVuSans-80\"/>\n       <use x=\"60.302734\" xlink:href=\"#DejaVuSans-71\"/>\n       <use x=\"137.792969\" xlink:href=\"#DejaVuSans-45\"/>\n       <use x=\"173.876953\" xlink:href=\"#DejaVuSans-49\"/>\n       <use x=\"237.5\" xlink:href=\"#DejaVuSans-51\"/>\n      </g>\n     </g>\n    </g>\n    <g id=\"xtick_6\">\n     <g id=\"line2d_6\">\n      <g>\n       <use style=\"stroke:#000000;stroke-width:0.8;\" x=\"316.385268\" xlink:href=\"#mbccac3870f\" y=\"445.58\"/>\n      </g>\n     </g>\n     <g id=\"text_6\">\n      <!-- TV-Y -->\n      <defs>\n       <path d=\"M -0.203125 72.90625 \nL 10.40625 72.90625 \nL 30.609375 42.921875 \nL 50.6875 72.90625 \nL 61.28125 72.90625 \nL 35.5 34.71875 \nL 35.5 0 \nL 25.59375 0 \nL 25.59375 34.71875 \nz\n\" id=\"DejaVuSans-89\"/>\n      </defs>\n      <g transform=\"translate(305.065737 460.178437)scale(0.1 -0.1)\">\n       <use xlink:href=\"#DejaVuSans-84\"/>\n       <use x=\"61.083984\" xlink:href=\"#DejaVuSans-86\"/>\n       <use x=\"129.414062\" xlink:href=\"#DejaVuSans-45\"/>\n       <use x=\"165.326172\" xlink:href=\"#DejaVuSans-89\"/>\n      </g>\n     </g>\n    </g>\n    <g id=\"xtick_7\">\n     <g id=\"line2d_7\">\n      <g>\n       <use style=\"stroke:#000000;stroke-width:0.8;\" x=\"364.213839\" xlink:href=\"#mbccac3870f\" y=\"445.58\"/>\n      </g>\n     </g>\n     <g id=\"text_7\">\n      <!-- TV-Y7 -->\n      <defs>\n       <path d=\"M 8.203125 72.90625 \nL 55.078125 72.90625 \nL 55.078125 68.703125 \nL 28.609375 0 \nL 18.3125 0 \nL 43.21875 64.59375 \nL 8.203125 64.59375 \nz\n\" id=\"DejaVuSans-55\"/>\n      </defs>\n      <g transform=\"translate(349.713058 460.178437)scale(0.1 -0.1)\">\n       <use xlink:href=\"#DejaVuSans-84\"/>\n       <use x=\"61.083984\" xlink:href=\"#DejaVuSans-86\"/>\n       <use x=\"129.414062\" xlink:href=\"#DejaVuSans-45\"/>\n       <use x=\"165.326172\" xlink:href=\"#DejaVuSans-89\"/>\n       <use x=\"226.410156\" xlink:href=\"#DejaVuSans-55\"/>\n      </g>\n     </g>\n    </g>\n    <g id=\"xtick_8\">\n     <g id=\"line2d_8\">\n      <g>\n       <use style=\"stroke:#000000;stroke-width:0.8;\" x=\"412.042411\" xlink:href=\"#mbccac3870f\" y=\"445.58\"/>\n      </g>\n     </g>\n     <g id=\"text_8\">\n      <!-- PG -->\n      <g transform=\"translate(405.153348 460.178437)scale(0.1 -0.1)\">\n       <use xlink:href=\"#DejaVuSans-80\"/>\n       <use x=\"60.302734\" xlink:href=\"#DejaVuSans-71\"/>\n      </g>\n     </g>\n    </g>\n    <g id=\"xtick_9\">\n     <g id=\"line2d_9\">\n      <g>\n       <use style=\"stroke:#000000;stroke-width:0.8;\" x=\"459.870982\" xlink:href=\"#mbccac3870f\" y=\"445.58\"/>\n      </g>\n     </g>\n     <g id=\"text_9\">\n      <!-- TV-G -->\n      <g transform=\"translate(447.720201 460.178437)scale(0.1 -0.1)\">\n       <use xlink:href=\"#DejaVuSans-84\"/>\n       <use x=\"61.083984\" xlink:href=\"#DejaVuSans-86\"/>\n       <use x=\"129.414062\" xlink:href=\"#DejaVuSans-45\"/>\n       <use x=\"165.544922\" xlink:href=\"#DejaVuSans-71\"/>\n      </g>\n     </g>\n    </g>\n    <g id=\"xtick_10\">\n     <g id=\"line2d_10\">\n      <g>\n       <use style=\"stroke:#000000;stroke-width:0.8;\" x=\"507.699554\" xlink:href=\"#mbccac3870f\" y=\"445.58\"/>\n      </g>\n     </g>\n     <g id=\"text_10\">\n      <!-- NR -->\n      <defs>\n       <path d=\"M 9.8125 72.90625 \nL 23.09375 72.90625 \nL 55.421875 11.921875 \nL 55.421875 72.90625 \nL 64.984375 72.90625 \nL 64.984375 0 \nL 51.703125 0 \nL 19.390625 60.984375 \nL 19.390625 0 \nL 9.8125 0 \nz\n\" id=\"DejaVuSans-78\"/>\n      </defs>\n      <g transform=\"translate(500.48471 460.178437)scale(0.1 -0.1)\">\n       <use xlink:href=\"#DejaVuSans-78\"/>\n       <use x=\"74.804688\" xlink:href=\"#DejaVuSans-82\"/>\n      </g>\n     </g>\n    </g>\n    <g id=\"xtick_11\">\n     <g id=\"line2d_11\">\n      <g>\n       <use style=\"stroke:#000000;stroke-width:0.8;\" x=\"555.528125\" xlink:href=\"#mbccac3870f\" y=\"445.58\"/>\n      </g>\n     </g>\n     <g id=\"text_11\">\n      <!-- G -->\n      <g transform=\"translate(551.653906 460.178437)scale(0.1 -0.1)\">\n       <use xlink:href=\"#DejaVuSans-71\"/>\n      </g>\n     </g>\n    </g>\n    <g id=\"xtick_12\">\n     <g id=\"line2d_12\">\n      <g>\n       <use style=\"stroke:#000000;stroke-width:0.8;\" x=\"603.356696\" xlink:href=\"#mbccac3870f\" y=\"445.58\"/>\n      </g>\n     </g>\n     <g id=\"text_12\">\n      <!-- TV-Y7-FV -->\n      <defs>\n       <path d=\"M 9.8125 72.90625 \nL 51.703125 72.90625 \nL 51.703125 64.59375 \nL 19.671875 64.59375 \nL 19.671875 43.109375 \nL 48.578125 43.109375 \nL 48.578125 34.8125 \nL 19.671875 34.8125 \nL 19.671875 0 \nL 9.8125 0 \nz\n\" id=\"DejaVuSans-70\"/>\n      </defs>\n      <g transform=\"translate(580.755915 460.178437)scale(0.1 -0.1)\">\n       <use xlink:href=\"#DejaVuSans-84\"/>\n       <use x=\"61.083984\" xlink:href=\"#DejaVuSans-86\"/>\n       <use x=\"129.414062\" xlink:href=\"#DejaVuSans-45\"/>\n       <use x=\"165.326172\" xlink:href=\"#DejaVuSans-89\"/>\n       <use x=\"226.410156\" xlink:href=\"#DejaVuSans-55\"/>\n       <use x=\"290.033203\" xlink:href=\"#DejaVuSans-45\"/>\n       <use x=\"326.117188\" xlink:href=\"#DejaVuSans-70\"/>\n       <use x=\"383.636719\" xlink:href=\"#DejaVuSans-86\"/>\n      </g>\n     </g>\n    </g>\n    <g id=\"xtick_13\">\n     <g id=\"line2d_13\">\n      <g>\n       <use style=\"stroke:#000000;stroke-width:0.8;\" x=\"651.185268\" xlink:href=\"#mbccac3870f\" y=\"445.58\"/>\n      </g>\n     </g>\n     <g id=\"text_13\">\n      <!-- UR -->\n      <defs>\n       <path d=\"M 8.6875 72.90625 \nL 18.609375 72.90625 \nL 18.609375 28.609375 \nQ 18.609375 16.890625 22.84375 11.734375 \nQ 27.09375 6.59375 36.625 6.59375 \nQ 46.09375 6.59375 50.34375 11.734375 \nQ 54.59375 16.890625 54.59375 28.609375 \nL 54.59375 72.90625 \nL 64.5 72.90625 \nL 64.5 27.390625 \nQ 64.5 13.140625 57.4375 5.859375 \nQ 50.390625 -1.421875 36.625 -1.421875 \nQ 22.796875 -1.421875 15.734375 5.859375 \nQ 8.6875 13.140625 8.6875 27.390625 \nz\n\" id=\"DejaVuSans-85\"/>\n      </defs>\n      <g transform=\"translate(644.051674 460.178437)scale(0.1 -0.1)\">\n       <use xlink:href=\"#DejaVuSans-85\"/>\n       <use x=\"73.193359\" xlink:href=\"#DejaVuSans-82\"/>\n      </g>\n     </g>\n    </g>\n    <g id=\"xtick_14\">\n     <g id=\"line2d_14\">\n      <g>\n       <use style=\"stroke:#000000;stroke-width:0.8;\" x=\"699.013839\" xlink:href=\"#mbccac3870f\" y=\"445.58\"/>\n      </g>\n     </g>\n     <g id=\"text_14\">\n      <!-- NC-17 -->\n      <defs>\n       <path d=\"M 64.40625 67.28125 \nL 64.40625 56.890625 \nQ 59.421875 61.53125 53.78125 63.8125 \nQ 48.140625 66.109375 41.796875 66.109375 \nQ 29.296875 66.109375 22.65625 58.46875 \nQ 16.015625 50.828125 16.015625 36.375 \nQ 16.015625 21.96875 22.65625 14.328125 \nQ 29.296875 6.6875 41.796875 6.6875 \nQ 48.140625 6.6875 53.78125 8.984375 \nQ 59.421875 11.28125 64.40625 15.921875 \nL 64.40625 5.609375 \nQ 59.234375 2.09375 53.4375 0.328125 \nQ 47.65625 -1.421875 41.21875 -1.421875 \nQ 24.65625 -1.421875 15.125 8.703125 \nQ 5.609375 18.84375 5.609375 36.375 \nQ 5.609375 53.953125 15.125 64.078125 \nQ 24.65625 74.21875 41.21875 74.21875 \nQ 47.75 74.21875 53.53125 72.484375 \nQ 59.328125 70.75 64.40625 67.28125 \nz\n\" id=\"DejaVuSans-67\"/>\n      </defs>\n      <g transform=\"translate(683.615402 460.178437)scale(0.1 -0.1)\">\n       <use xlink:href=\"#DejaVuSans-78\"/>\n       <use x=\"74.804688\" xlink:href=\"#DejaVuSans-67\"/>\n       <use x=\"144.628906\" xlink:href=\"#DejaVuSans-45\"/>\n       <use x=\"180.712891\" xlink:href=\"#DejaVuSans-49\"/>\n       <use x=\"244.335938\" xlink:href=\"#DejaVuSans-55\"/>\n      </g>\n     </g>\n    </g>\n    <g id=\"text_15\">\n     <!-- rating -->\n     <defs>\n      <path d=\"M 41.109375 46.296875 \nQ 39.59375 47.171875 37.8125 47.578125 \nQ 36.03125 48 33.890625 48 \nQ 26.265625 48 22.1875 43.046875 \nQ 18.109375 38.09375 18.109375 28.8125 \nL 18.109375 0 \nL 9.078125 0 \nL 9.078125 54.6875 \nL 18.109375 54.6875 \nL 18.109375 46.1875 \nQ 20.953125 51.171875 25.484375 53.578125 \nQ 30.03125 56 36.53125 56 \nQ 37.453125 56 38.578125 55.875 \nQ 39.703125 55.765625 41.0625 55.515625 \nz\n\" id=\"DejaVuSans-114\"/>\n      <path d=\"M 34.28125 27.484375 \nQ 23.390625 27.484375 19.1875 25 \nQ 14.984375 22.515625 14.984375 16.5 \nQ 14.984375 11.71875 18.140625 8.90625 \nQ 21.296875 6.109375 26.703125 6.109375 \nQ 34.1875 6.109375 38.703125 11.40625 \nQ 43.21875 16.703125 43.21875 25.484375 \nL 43.21875 27.484375 \nz\nM 52.203125 31.203125 \nL 52.203125 0 \nL 43.21875 0 \nL 43.21875 8.296875 \nQ 40.140625 3.328125 35.546875 0.953125 \nQ 30.953125 -1.421875 24.3125 -1.421875 \nQ 15.921875 -1.421875 10.953125 3.296875 \nQ 6 8.015625 6 15.921875 \nQ 6 25.140625 12.171875 29.828125 \nQ 18.359375 34.515625 30.609375 34.515625 \nL 43.21875 34.515625 \nL 43.21875 35.40625 \nQ 43.21875 41.609375 39.140625 45 \nQ 35.0625 48.390625 27.6875 48.390625 \nQ 23 48.390625 18.546875 47.265625 \nQ 14.109375 46.140625 10.015625 43.890625 \nL 10.015625 52.203125 \nQ 14.9375 54.109375 19.578125 55.046875 \nQ 24.21875 56 28.609375 56 \nQ 40.484375 56 46.34375 49.84375 \nQ 52.203125 43.703125 52.203125 31.203125 \nz\n\" id=\"DejaVuSans-97\"/>\n      <path d=\"M 18.3125 70.21875 \nL 18.3125 54.6875 \nL 36.8125 54.6875 \nL 36.8125 47.703125 \nL 18.3125 47.703125 \nL 18.3125 18.015625 \nQ 18.3125 11.328125 20.140625 9.421875 \nQ 21.96875 7.515625 27.59375 7.515625 \nL 36.8125 7.515625 \nL 36.8125 0 \nL 27.59375 0 \nQ 17.1875 0 13.234375 3.875 \nQ 9.28125 7.765625 9.28125 18.015625 \nL 9.28125 47.703125 \nL 2.6875 47.703125 \nL 2.6875 54.6875 \nL 9.28125 54.6875 \nL 9.28125 70.21875 \nz\n\" id=\"DejaVuSans-116\"/>\n      <path d=\"M 9.421875 54.6875 \nL 18.40625 54.6875 \nL 18.40625 0 \nL 9.421875 0 \nz\nM 9.421875 75.984375 \nL 18.40625 75.984375 \nL 18.40625 64.59375 \nL 9.421875 64.59375 \nz\n\" id=\"DejaVuSans-105\"/>\n      <path d=\"M 54.890625 33.015625 \nL 54.890625 0 \nL 45.90625 0 \nL 45.90625 32.71875 \nQ 45.90625 40.484375 42.875 44.328125 \nQ 39.84375 48.1875 33.796875 48.1875 \nQ 26.515625 48.1875 22.3125 43.546875 \nQ 18.109375 38.921875 18.109375 30.90625 \nL 18.109375 0 \nL 9.078125 0 \nL 9.078125 54.6875 \nL 18.109375 54.6875 \nL 18.109375 46.1875 \nQ 21.34375 51.125 25.703125 53.5625 \nQ 30.078125 56 35.796875 56 \nQ 45.21875 56 50.046875 50.171875 \nQ 54.890625 44.34375 54.890625 33.015625 \nz\n\" id=\"DejaVuSans-110\"/>\n      <path d=\"M 45.40625 27.984375 \nQ 45.40625 37.75 41.375 43.109375 \nQ 37.359375 48.484375 30.078125 48.484375 \nQ 22.859375 48.484375 18.828125 43.109375 \nQ 14.796875 37.75 14.796875 27.984375 \nQ 14.796875 18.265625 18.828125 12.890625 \nQ 22.859375 7.515625 30.078125 7.515625 \nQ 37.359375 7.515625 41.375 12.890625 \nQ 45.40625 18.265625 45.40625 27.984375 \nz\nM 54.390625 6.78125 \nQ 54.390625 -7.171875 48.1875 -13.984375 \nQ 42 -20.796875 29.203125 -20.796875 \nQ 24.46875 -20.796875 20.265625 -20.09375 \nQ 16.0625 -19.390625 12.109375 -17.921875 \nL 12.109375 -9.1875 \nQ 16.0625 -11.328125 19.921875 -12.34375 \nQ 23.78125 -13.375 27.78125 -13.375 \nQ 36.625 -13.375 41.015625 -8.765625 \nQ 45.40625 -4.15625 45.40625 5.171875 \nL 45.40625 9.625 \nQ 42.625 4.78125 38.28125 2.390625 \nQ 33.9375 0 27.875 0 \nQ 17.828125 0 11.671875 7.65625 \nQ 5.515625 15.328125 5.515625 27.984375 \nQ 5.515625 40.671875 11.671875 48.328125 \nQ 17.828125 56 27.875 56 \nQ 33.9375 56 38.28125 53.609375 \nQ 42.625 51.21875 45.40625 46.390625 \nL 45.40625 54.6875 \nL 54.390625 54.6875 \nz\n\" id=\"DejaVuSans-103\"/>\n     </defs>\n     <g transform=\"translate(373.316406 473.856562)scale(0.1 -0.1)\">\n      <use xlink:href=\"#DejaVuSans-114\"/>\n      <use x=\"41.113281\" xlink:href=\"#DejaVuSans-97\"/>\n      <use x=\"102.392578\" xlink:href=\"#DejaVuSans-116\"/>\n      <use x=\"141.601562\" xlink:href=\"#DejaVuSans-105\"/>\n      <use x=\"169.384766\" xlink:href=\"#DejaVuSans-110\"/>\n      <use x=\"232.763672\" xlink:href=\"#DejaVuSans-103\"/>\n     </g>\n    </g>\n   </g>\n   <g id=\"matplotlib.axis_2\">\n    <g id=\"ytick_1\">\n     <g id=\"line2d_15\">\n      <defs>\n       <path d=\"M 0 0 \nL -3.5 0 \n\" id=\"mdd6d27e765\" style=\"stroke:#000000;stroke-width:0.8;\"/>\n      </defs>\n      <g>\n       <use style=\"stroke:#000000;stroke-width:0.8;\" x=\"53.328125\" xlink:href=\"#mdd6d27e765\" y=\"445.58\"/>\n      </g>\n     </g>\n     <g id=\"text_16\">\n      <!-- 0 -->\n      <defs>\n       <path d=\"M 31.78125 66.40625 \nQ 24.171875 66.40625 20.328125 58.90625 \nQ 16.5 51.421875 16.5 36.375 \nQ 16.5 21.390625 20.328125 13.890625 \nQ 24.171875 6.390625 31.78125 6.390625 \nQ 39.453125 6.390625 43.28125 13.890625 \nQ 47.125 21.390625 47.125 36.375 \nQ 47.125 51.421875 43.28125 58.90625 \nQ 39.453125 66.40625 31.78125 66.40625 \nz\nM 31.78125 74.21875 \nQ 44.046875 74.21875 50.515625 64.515625 \nQ 56.984375 54.828125 56.984375 36.375 \nQ 56.984375 17.96875 50.515625 8.265625 \nQ 44.046875 -1.421875 31.78125 -1.421875 \nQ 19.53125 -1.421875 13.0625 8.265625 \nQ 6.59375 17.96875 6.59375 36.375 \nQ 6.59375 54.828125 13.0625 64.515625 \nQ 19.53125 74.21875 31.78125 74.21875 \nz\n\" id=\"DejaVuSans-48\"/>\n      </defs>\n      <g transform=\"translate(39.965625 449.379219)scale(0.1 -0.1)\">\n       <use xlink:href=\"#DejaVuSans-48\"/>\n      </g>\n     </g>\n    </g>\n    <g id=\"ytick_2\">\n     <g id=\"line2d_16\">\n      <g>\n       <use style=\"stroke:#000000;stroke-width:0.8;\" x=\"53.328125\" xlink:href=\"#mdd6d27e765\" y=\"389.45921\"/>\n      </g>\n     </g>\n     <g id=\"text_17\">\n      <!-- 250 -->\n      <defs>\n       <path d=\"M 19.1875 8.296875 \nL 53.609375 8.296875 \nL 53.609375 0 \nL 7.328125 0 \nL 7.328125 8.296875 \nQ 12.9375 14.109375 22.625 23.890625 \nQ 32.328125 33.6875 34.8125 36.53125 \nQ 39.546875 41.84375 41.421875 45.53125 \nQ 43.3125 49.21875 43.3125 52.78125 \nQ 43.3125 58.59375 39.234375 62.25 \nQ 35.15625 65.921875 28.609375 65.921875 \nQ 23.96875 65.921875 18.8125 64.3125 \nQ 13.671875 62.703125 7.8125 59.421875 \nL 7.8125 69.390625 \nQ 13.765625 71.78125 18.9375 73 \nQ 24.125 74.21875 28.421875 74.21875 \nQ 39.75 74.21875 46.484375 68.546875 \nQ 53.21875 62.890625 53.21875 53.421875 \nQ 53.21875 48.921875 51.53125 44.890625 \nQ 49.859375 40.875 45.40625 35.40625 \nQ 44.1875 33.984375 37.640625 27.21875 \nQ 31.109375 20.453125 19.1875 8.296875 \nz\n\" id=\"DejaVuSans-50\"/>\n       <path d=\"M 10.796875 72.90625 \nL 49.515625 72.90625 \nL 49.515625 64.59375 \nL 19.828125 64.59375 \nL 19.828125 46.734375 \nQ 21.96875 47.46875 24.109375 47.828125 \nQ 26.265625 48.1875 28.421875 48.1875 \nQ 40.625 48.1875 47.75 41.5 \nQ 54.890625 34.8125 54.890625 23.390625 \nQ 54.890625 11.625 47.5625 5.09375 \nQ 40.234375 -1.421875 26.90625 -1.421875 \nQ 22.3125 -1.421875 17.546875 -0.640625 \nQ 12.796875 0.140625 7.71875 1.703125 \nL 7.71875 11.625 \nQ 12.109375 9.234375 16.796875 8.0625 \nQ 21.484375 6.890625 26.703125 6.890625 \nQ 35.15625 6.890625 40.078125 11.328125 \nQ 45.015625 15.765625 45.015625 23.390625 \nQ 45.015625 31 40.078125 35.4375 \nQ 35.15625 39.890625 26.703125 39.890625 \nQ 22.75 39.890625 18.8125 39.015625 \nQ 14.890625 38.140625 10.796875 36.28125 \nz\n\" id=\"DejaVuSans-53\"/>\n      </defs>\n      <g transform=\"translate(27.240625 393.258429)scale(0.1 -0.1)\">\n       <use xlink:href=\"#DejaVuSans-50\"/>\n       <use x=\"63.623047\" xlink:href=\"#DejaVuSans-53\"/>\n       <use x=\"127.246094\" xlink:href=\"#DejaVuSans-48\"/>\n      </g>\n     </g>\n    </g>\n    <g id=\"ytick_3\">\n     <g id=\"line2d_17\">\n      <g>\n       <use style=\"stroke:#000000;stroke-width:0.8;\" x=\"53.328125\" xlink:href=\"#mdd6d27e765\" y=\"333.33842\"/>\n      </g>\n     </g>\n     <g id=\"text_18\">\n      <!-- 500 -->\n      <g transform=\"translate(27.240625 337.137639)scale(0.1 -0.1)\">\n       <use xlink:href=\"#DejaVuSans-53\"/>\n       <use x=\"63.623047\" xlink:href=\"#DejaVuSans-48\"/>\n       <use x=\"127.246094\" xlink:href=\"#DejaVuSans-48\"/>\n      </g>\n     </g>\n    </g>\n    <g id=\"ytick_4\">\n     <g id=\"line2d_18\">\n      <g>\n       <use style=\"stroke:#000000;stroke-width:0.8;\" x=\"53.328125\" xlink:href=\"#mdd6d27e765\" y=\"277.217631\"/>\n      </g>\n     </g>\n     <g id=\"text_19\">\n      <!-- 750 -->\n      <g transform=\"translate(27.240625 281.016849)scale(0.1 -0.1)\">\n       <use xlink:href=\"#DejaVuSans-55\"/>\n       <use x=\"63.623047\" xlink:href=\"#DejaVuSans-53\"/>\n       <use x=\"127.246094\" xlink:href=\"#DejaVuSans-48\"/>\n      </g>\n     </g>\n    </g>\n    <g id=\"ytick_5\">\n     <g id=\"line2d_19\">\n      <g>\n       <use style=\"stroke:#000000;stroke-width:0.8;\" x=\"53.328125\" xlink:href=\"#mdd6d27e765\" y=\"221.096841\"/>\n      </g>\n     </g>\n     <g id=\"text_20\">\n      <!-- 1000 -->\n      <g transform=\"translate(20.878125 224.89606)scale(0.1 -0.1)\">\n       <use xlink:href=\"#DejaVuSans-49\"/>\n       <use x=\"63.623047\" xlink:href=\"#DejaVuSans-48\"/>\n       <use x=\"127.246094\" xlink:href=\"#DejaVuSans-48\"/>\n       <use x=\"190.869141\" xlink:href=\"#DejaVuSans-48\"/>\n      </g>\n     </g>\n    </g>\n    <g id=\"ytick_6\">\n     <g id=\"line2d_20\">\n      <g>\n       <use style=\"stroke:#000000;stroke-width:0.8;\" x=\"53.328125\" xlink:href=\"#mdd6d27e765\" y=\"164.976051\"/>\n      </g>\n     </g>\n     <g id=\"text_21\">\n      <!-- 1250 -->\n      <g transform=\"translate(20.878125 168.77527)scale(0.1 -0.1)\">\n       <use xlink:href=\"#DejaVuSans-49\"/>\n       <use x=\"63.623047\" xlink:href=\"#DejaVuSans-50\"/>\n       <use x=\"127.246094\" xlink:href=\"#DejaVuSans-53\"/>\n       <use x=\"190.869141\" xlink:href=\"#DejaVuSans-48\"/>\n      </g>\n     </g>\n    </g>\n    <g id=\"ytick_7\">\n     <g id=\"line2d_21\">\n      <g>\n       <use style=\"stroke:#000000;stroke-width:0.8;\" x=\"53.328125\" xlink:href=\"#mdd6d27e765\" y=\"108.855261\"/>\n      </g>\n     </g>\n     <g id=\"text_22\">\n      <!-- 1500 -->\n      <g transform=\"translate(20.878125 112.65448)scale(0.1 -0.1)\">\n       <use xlink:href=\"#DejaVuSans-49\"/>\n       <use x=\"63.623047\" xlink:href=\"#DejaVuSans-53\"/>\n       <use x=\"127.246094\" xlink:href=\"#DejaVuSans-48\"/>\n       <use x=\"190.869141\" xlink:href=\"#DejaVuSans-48\"/>\n      </g>\n     </g>\n    </g>\n    <g id=\"ytick_8\">\n     <g id=\"line2d_22\">\n      <g>\n       <use style=\"stroke:#000000;stroke-width:0.8;\" x=\"53.328125\" xlink:href=\"#mdd6d27e765\" y=\"52.734472\"/>\n      </g>\n     </g>\n     <g id=\"text_23\">\n      <!-- 1750 -->\n      <g transform=\"translate(20.878125 56.53369)scale(0.1 -0.1)\">\n       <use xlink:href=\"#DejaVuSans-49\"/>\n       <use x=\"63.623047\" xlink:href=\"#DejaVuSans-55\"/>\n       <use x=\"127.246094\" xlink:href=\"#DejaVuSans-53\"/>\n       <use x=\"190.869141\" xlink:href=\"#DejaVuSans-48\"/>\n      </g>\n     </g>\n    </g>\n    <g id=\"text_24\">\n     <!-- count -->\n     <defs>\n      <path d=\"M 48.78125 52.59375 \nL 48.78125 44.1875 \nQ 44.96875 46.296875 41.140625 47.34375 \nQ 37.3125 48.390625 33.40625 48.390625 \nQ 24.65625 48.390625 19.8125 42.84375 \nQ 14.984375 37.3125 14.984375 27.296875 \nQ 14.984375 17.28125 19.8125 11.734375 \nQ 24.65625 6.203125 33.40625 6.203125 \nQ 37.3125 6.203125 41.140625 7.25 \nQ 44.96875 8.296875 48.78125 10.40625 \nL 48.78125 2.09375 \nQ 45.015625 0.34375 40.984375 -0.53125 \nQ 36.96875 -1.421875 32.421875 -1.421875 \nQ 20.0625 -1.421875 12.78125 6.34375 \nQ 5.515625 14.109375 5.515625 27.296875 \nQ 5.515625 40.671875 12.859375 48.328125 \nQ 20.21875 56 33.015625 56 \nQ 37.15625 56 41.109375 55.140625 \nQ 45.0625 54.296875 48.78125 52.59375 \nz\n\" id=\"DejaVuSans-99\"/>\n      <path d=\"M 30.609375 48.390625 \nQ 23.390625 48.390625 19.1875 42.75 \nQ 14.984375 37.109375 14.984375 27.296875 \nQ 14.984375 17.484375 19.15625 11.84375 \nQ 23.34375 6.203125 30.609375 6.203125 \nQ 37.796875 6.203125 41.984375 11.859375 \nQ 46.1875 17.53125 46.1875 27.296875 \nQ 46.1875 37.015625 41.984375 42.703125 \nQ 37.796875 48.390625 30.609375 48.390625 \nz\nM 30.609375 56 \nQ 42.328125 56 49.015625 48.375 \nQ 55.71875 40.765625 55.71875 27.296875 \nQ 55.71875 13.875 49.015625 6.21875 \nQ 42.328125 -1.421875 30.609375 -1.421875 \nQ 18.84375 -1.421875 12.171875 6.21875 \nQ 5.515625 13.875 5.515625 27.296875 \nQ 5.515625 40.765625 12.171875 48.375 \nQ 18.84375 56 30.609375 56 \nz\n\" id=\"DejaVuSans-111\"/>\n      <path d=\"M 8.5 21.578125 \nL 8.5 54.6875 \nL 17.484375 54.6875 \nL 17.484375 21.921875 \nQ 17.484375 14.15625 20.5 10.265625 \nQ 23.53125 6.390625 29.59375 6.390625 \nQ 36.859375 6.390625 41.078125 11.03125 \nQ 45.3125 15.671875 45.3125 23.6875 \nL 45.3125 54.6875 \nL 54.296875 54.6875 \nL 54.296875 0 \nL 45.3125 0 \nL 45.3125 8.40625 \nQ 42.046875 3.421875 37.71875 1 \nQ 33.40625 -1.421875 27.6875 -1.421875 \nQ 18.265625 -1.421875 13.375 4.4375 \nQ 8.5 10.296875 8.5 21.578125 \nz\nM 31.109375 56 \nz\n\" id=\"DejaVuSans-117\"/>\n     </defs>\n     <g transform=\"translate(14.798438 242.24625)rotate(-90)scale(0.1 -0.1)\">\n      <use xlink:href=\"#DejaVuSans-99\"/>\n      <use x=\"54.980469\" xlink:href=\"#DejaVuSans-111\"/>\n      <use x=\"116.162109\" xlink:href=\"#DejaVuSans-117\"/>\n      <use x=\"179.541016\" xlink:href=\"#DejaVuSans-110\"/>\n      <use x=\"242.919922\" xlink:href=\"#DejaVuSans-116\"/>\n     </g>\n    </g>\n   </g>\n   <g id=\"patch_31\">\n    <path d=\"M 53.328125 445.58 \nL 53.328125 10.7 \n\" style=\"fill:none;stroke:#000000;stroke-linecap:square;stroke-linejoin:miter;stroke-width:0.8;\"/>\n   </g>\n   <g id=\"patch_32\">\n    <path d=\"M 722.928125 445.58 \nL 722.928125 10.7 \n\" style=\"fill:none;stroke:#000000;stroke-linecap:square;stroke-linejoin:miter;stroke-width:0.8;\"/>\n   </g>\n   <g id=\"patch_33\">\n    <path d=\"M 53.328125 445.58 \nL 722.928125 445.58 \n\" style=\"fill:none;stroke:#000000;stroke-linecap:square;stroke-linejoin:miter;stroke-width:0.8;\"/>\n   </g>\n   <g id=\"patch_34\">\n    <path d=\"M 53.328125 10.7 \nL 722.928125 10.7 \n\" style=\"fill:none;stroke:#000000;stroke-linecap:square;stroke-linejoin:miter;stroke-width:0.8;\"/>\n   </g>\n   <g id=\"legend_1\">\n    <g id=\"patch_35\">\n     <path d=\"M 60.328125 62.734375 \nL 135.4375 62.734375 \nQ 137.4375 62.734375 137.4375 60.734375 \nL 137.4375 17.7 \nQ 137.4375 15.7 135.4375 15.7 \nL 60.328125 15.7 \nQ 58.328125 15.7 58.328125 17.7 \nL 58.328125 60.734375 \nQ 58.328125 62.734375 60.328125 62.734375 \nz\n\" style=\"fill:#ffffff;opacity:0.8;stroke:#cccccc;stroke-linejoin:miter;\"/>\n    </g>\n    <g id=\"text_25\">\n     <!-- type -->\n     <defs>\n      <path d=\"M 32.171875 -5.078125 \nQ 28.375 -14.84375 24.75 -17.8125 \nQ 21.140625 -20.796875 15.09375 -20.796875 \nL 7.90625 -20.796875 \nL 7.90625 -13.28125 \nL 13.1875 -13.28125 \nQ 16.890625 -13.28125 18.9375 -11.515625 \nQ 21 -9.765625 23.484375 -3.21875 \nL 25.09375 0.875 \nL 2.984375 54.6875 \nL 12.5 54.6875 \nL 29.59375 11.921875 \nL 46.6875 54.6875 \nL 56.203125 54.6875 \nz\n\" id=\"DejaVuSans-121\"/>\n      <path d=\"M 18.109375 8.203125 \nL 18.109375 -20.796875 \nL 9.078125 -20.796875 \nL 9.078125 54.6875 \nL 18.109375 54.6875 \nL 18.109375 46.390625 \nQ 20.953125 51.265625 25.265625 53.625 \nQ 29.59375 56 35.59375 56 \nQ 45.5625 56 51.78125 48.09375 \nQ 58.015625 40.1875 58.015625 27.296875 \nQ 58.015625 14.40625 51.78125 6.484375 \nQ 45.5625 -1.421875 35.59375 -1.421875 \nQ 29.59375 -1.421875 25.265625 0.953125 \nQ 20.953125 3.328125 18.109375 8.203125 \nz\nM 48.6875 27.296875 \nQ 48.6875 37.203125 44.609375 42.84375 \nQ 40.53125 48.484375 33.40625 48.484375 \nQ 26.265625 48.484375 22.1875 42.84375 \nQ 18.109375 37.203125 18.109375 27.296875 \nQ 18.109375 17.390625 22.1875 11.75 \nQ 26.265625 6.109375 33.40625 6.109375 \nQ 40.53125 6.109375 44.609375 11.75 \nQ 48.6875 17.390625 48.6875 27.296875 \nz\n\" id=\"DejaVuSans-112\"/>\n      <path d=\"M 56.203125 29.59375 \nL 56.203125 25.203125 \nL 14.890625 25.203125 \nQ 15.484375 15.921875 20.484375 11.0625 \nQ 25.484375 6.203125 34.421875 6.203125 \nQ 39.59375 6.203125 44.453125 7.46875 \nQ 49.3125 8.734375 54.109375 11.28125 \nL 54.109375 2.78125 \nQ 49.265625 0.734375 44.1875 -0.34375 \nQ 39.109375 -1.421875 33.890625 -1.421875 \nQ 20.796875 -1.421875 13.15625 6.1875 \nQ 5.515625 13.8125 5.515625 26.8125 \nQ 5.515625 40.234375 12.765625 48.109375 \nQ 20.015625 56 32.328125 56 \nQ 43.359375 56 49.78125 48.890625 \nQ 56.203125 41.796875 56.203125 29.59375 \nz\nM 47.21875 32.234375 \nQ 47.125 39.59375 43.09375 43.984375 \nQ 39.0625 48.390625 32.421875 48.390625 \nQ 24.90625 48.390625 20.390625 44.140625 \nQ 15.875 39.890625 15.1875 32.171875 \nz\n\" id=\"DejaVuSans-101\"/>\n     </defs>\n     <g transform=\"translate(86.7125 27.298437)scale(0.1 -0.1)\">\n      <use xlink:href=\"#DejaVuSans-116\"/>\n      <use x=\"39.208984\" xlink:href=\"#DejaVuSans-121\"/>\n      <use x=\"98.388672\" xlink:href=\"#DejaVuSans-112\"/>\n      <use x=\"161.865234\" xlink:href=\"#DejaVuSans-101\"/>\n     </g>\n    </g>\n    <g id=\"patch_36\">\n     <path d=\"M 62.328125 41.976562 \nL 82.328125 41.976562 \nL 82.328125 34.976562 \nL 62.328125 34.976562 \nz\n\" style=\"fill:#327ba5;\"/>\n    </g>\n    <g id=\"text_26\">\n     <!-- TV Show -->\n     <defs>\n      <path id=\"DejaVuSans-32\"/>\n      <path d=\"M 53.515625 70.515625 \nL 53.515625 60.890625 \nQ 47.90625 63.578125 42.921875 64.890625 \nQ 37.9375 66.21875 33.296875 66.21875 \nQ 25.25 66.21875 20.875 63.09375 \nQ 16.5 59.96875 16.5 54.203125 \nQ 16.5 49.359375 19.40625 46.890625 \nQ 22.3125 44.4375 30.421875 42.921875 \nL 36.375 41.703125 \nQ 47.40625 39.59375 52.65625 34.296875 \nQ 57.90625 29 57.90625 20.125 \nQ 57.90625 9.515625 50.796875 4.046875 \nQ 43.703125 -1.421875 29.984375 -1.421875 \nQ 24.8125 -1.421875 18.96875 -0.25 \nQ 13.140625 0.921875 6.890625 3.21875 \nL 6.890625 13.375 \nQ 12.890625 10.015625 18.65625 8.296875 \nQ 24.421875 6.59375 29.984375 6.59375 \nQ 38.421875 6.59375 43.015625 9.90625 \nQ 47.609375 13.234375 47.609375 19.390625 \nQ 47.609375 24.75 44.3125 27.78125 \nQ 41.015625 30.8125 33.5 32.328125 \nL 27.484375 33.5 \nQ 16.453125 35.6875 11.515625 40.375 \nQ 6.59375 45.0625 6.59375 53.421875 \nQ 6.59375 63.09375 13.40625 68.65625 \nQ 20.21875 74.21875 32.171875 74.21875 \nQ 37.3125 74.21875 42.625 73.28125 \nQ 47.953125 72.359375 53.515625 70.515625 \nz\n\" id=\"DejaVuSans-83\"/>\n      <path d=\"M 54.890625 33.015625 \nL 54.890625 0 \nL 45.90625 0 \nL 45.90625 32.71875 \nQ 45.90625 40.484375 42.875 44.328125 \nQ 39.84375 48.1875 33.796875 48.1875 \nQ 26.515625 48.1875 22.3125 43.546875 \nQ 18.109375 38.921875 18.109375 30.90625 \nL 18.109375 0 \nL 9.078125 0 \nL 9.078125 75.984375 \nL 18.109375 75.984375 \nL 18.109375 46.1875 \nQ 21.34375 51.125 25.703125 53.5625 \nQ 30.078125 56 35.796875 56 \nQ 45.21875 56 50.046875 50.171875 \nQ 54.890625 44.34375 54.890625 33.015625 \nz\n\" id=\"DejaVuSans-104\"/>\n      <path d=\"M 4.203125 54.6875 \nL 13.1875 54.6875 \nL 24.421875 12.015625 \nL 35.59375 54.6875 \nL 46.1875 54.6875 \nL 57.421875 12.015625 \nL 68.609375 54.6875 \nL 77.59375 54.6875 \nL 63.28125 0 \nL 52.6875 0 \nL 40.921875 44.828125 \nL 29.109375 0 \nL 18.5 0 \nz\n\" id=\"DejaVuSans-119\"/>\n     </defs>\n     <g transform=\"translate(90.328125 41.976562)scale(0.1 -0.1)\">\n      <use xlink:href=\"#DejaVuSans-84\"/>\n      <use x=\"61.083984\" xlink:href=\"#DejaVuSans-86\"/>\n      <use x=\"129.492188\" xlink:href=\"#DejaVuSans-32\"/>\n      <use x=\"161.279297\" xlink:href=\"#DejaVuSans-83\"/>\n      <use x=\"224.755859\" xlink:href=\"#DejaVuSans-104\"/>\n      <use x=\"288.134766\" xlink:href=\"#DejaVuSans-111\"/>\n      <use x=\"349.316406\" xlink:href=\"#DejaVuSans-119\"/>\n     </g>\n    </g>\n    <g id=\"patch_37\">\n     <path d=\"M 62.328125 56.654687 \nL 82.328125 56.654687 \nL 82.328125 49.654687 \nL 62.328125 49.654687 \nz\n\" style=\"fill:#9fceb8;\"/>\n    </g>\n    <g id=\"text_27\">\n     <!-- Movie -->\n     <defs>\n      <path d=\"M 2.984375 54.6875 \nL 12.5 54.6875 \nL 29.59375 8.796875 \nL 46.6875 54.6875 \nL 56.203125 54.6875 \nL 35.6875 0 \nL 23.484375 0 \nz\n\" id=\"DejaVuSans-118\"/>\n     </defs>\n     <g transform=\"translate(90.328125 56.654687)scale(0.1 -0.1)\">\n      <use xlink:href=\"#DejaVuSans-77\"/>\n      <use x=\"86.279297\" xlink:href=\"#DejaVuSans-111\"/>\n      <use x=\"147.460938\" xlink:href=\"#DejaVuSans-118\"/>\n      <use x=\"206.640625\" xlink:href=\"#DejaVuSans-105\"/>\n      <use x=\"234.423828\" xlink:href=\"#DejaVuSans-101\"/>\n     </g>\n    </g>\n   </g>\n  </g>\n </g>\n <defs>\n  <clipPath id=\"p823a5b9e71\">\n   <rect height=\"434.88\" width=\"669.6\" x=\"53.328125\" y=\"10.7\"/>\n  </clipPath>\n </defs>\n</svg>\n",
      "image/png": "[encoded data removed]"
     },
     "metadata": {}
    }
   ],
   "source": [
    "# number of movies and shows by rating\n",
    "plt.figure(figsize=(12,8))\n",
    "sns.countplot(data=netflix, x='rating', hue='type', palette='YlGnBu_r', order=netflix.rating.value_counts().index[:15])"
   ]
  },
  {
   "cell_type": "code",
   "execution_count": 9,
   "metadata": {},
   "outputs": [
    {
     "output_type": "execute_result",
     "data": {
      "text/plain": "Text(0.5, 1.0, 'show duration')"
     },
     "metadata": {},
     "execution_count": 9
    },
    {
     "output_type": "display_data",
     "data": {
      "text/plain": "<Figure size 1152x720 with 2 Axes>",
      "image/svg+xml": "<?xml version=\"1.0\" encoding=\"utf-8\" standalone=\"no\"?>\n<!DOCTYPE svg PUBLIC \"-//W3C//DTD SVG 1.1//EN\"\n  \"http://www.w3.org/Graphics/SVG/1.1/DTD/svg11.dtd\">\n<!-- Created with matplotlib (https://matplotlib.org/) -->\n<svg height=\"603.474375pt\" version=\"1.1\" viewBox=\"0 0 956.828125 603.474375\" width=\"956.828125pt\" xmlns=\"http://www.w3.org/2000/svg\" xmlns:xlink=\"http://www.w3.org/1999/xlink\">\n <defs>\n  <style type=\"text/css\">\n*{stroke-linecap:butt;stroke-linejoin:round;}\n  </style>\n </defs>\n <g id=\"figure_1\">\n  <g id=\"patch_1\">\n   <path d=\"M 0 603.474375 \nL 956.828125 603.474375 \nL 956.828125 0 \nL 0 0 \nz\n\" style=\"fill:none;\"/>\n  </g>\n  <g id=\"axes_1\">\n   <g id=\"patch_2\">\n    <path d=\"M 53.328125 269.409034 \nL 946.128125 269.409034 \nL 946.128125 22.318125 \nL 53.328125 22.318125 \nz\n\" style=\"fill:#ffffff;\"/>\n   </g>\n   <g id=\"PolyCollection_1\">\n    <defs>\n     <path d=\"M 93.909943 -457.5952 \nL 93.909943 -457.626391 \nL 102.10829 -457.668262 \nL 110.306637 -457.769054 \nL 118.504985 -457.95958 \nL 126.703332 -458.265818 \nL 134.901679 -458.716648 \nL 143.100026 -459.417812 \nL 151.298373 -460.61838 \nL 159.49672 -462.364292 \nL 167.695067 -463.950575 \nL 175.893414 -464.386086 \nL 184.091761 -463.592906 \nL 192.290108 -462.530194 \nL 200.488456 -462.288262 \nL 208.686803 -463.339494 \nL 216.88515 -465.322158 \nL 225.083497 -467.541614 \nL 233.281844 -469.743276 \nL 241.480191 -472.067112 \nL 249.678538 -474.471161 \nL 257.876885 -476.615456 \nL 266.075232 -478.200424 \nL 274.27358 -479.478881 \nL 282.471927 -481.267717 \nL 290.670274 -484.500349 \nL 298.868621 -490.299218 \nL 307.066968 -499.994349 \nL 315.265315 -514.107202 \nL 323.463662 -530.974469 \nL 331.662009 -546.367661 \nL 339.860356 -555.475011 \nL 348.058704 -556.447159 \nL 356.257051 -551.41278 \nL 364.455398 -543.513162 \nL 372.653745 -534.29035 \nL 380.852092 -524.461253 \nL 389.050439 -515.273516 \nL 397.248786 -507.747505 \nL 405.447133 -501.736869 \nL 413.64548 -496.714434 \nL 421.843827 -492.498596 \nL 430.042175 -488.809315 \nL 438.240522 -485.088948 \nL 446.438869 -480.974745 \nL 454.637216 -476.713293 \nL 462.835563 -473.065713 \nL 471.03391 -470.564167 \nL 479.232257 -468.938825 \nL 487.430604 -467.604772 \nL 495.628951 -466.392452 \nL 503.827299 -465.373496 \nL 512.025646 -464.405318 \nL 520.223993 -463.315564 \nL 528.42234 -462.195206 \nL 536.620687 -461.197965 \nL 544.819034 -460.356899 \nL 553.017381 -459.691215 \nL 561.215728 -459.242969 \nL 569.414075 -458.988711 \nL 577.612423 -458.824758 \nL 585.81077 -458.652792 \nL 594.009117 -458.455281 \nL 602.207464 -458.290205 \nL 610.405811 -458.196426 \nL 618.604158 -458.132401 \nL 626.802505 -458.03874 \nL 635.000852 -457.912742 \nL 643.199199 -457.802011 \nL 651.397546 -457.753358 \nL 659.595894 -457.774339 \nL 667.794241 -457.829104 \nL 675.992588 -457.867145 \nL 684.190935 -457.858637 \nL 692.389282 -457.806456 \nL 700.587629 -457.735582 \nL 708.785976 -457.678227 \nL 716.984323 -457.657049 \nL 725.18267 -457.668048 \nL 733.381018 -457.681629 \nL 741.579365 -457.672423 \nL 749.777712 -457.646256 \nL 757.976059 -457.624182 \nL 766.174406 -457.614108 \nL 774.372753 -457.611333 \nL 782.5711 -457.610853 \nL 790.769447 -457.610799 \nL 798.967794 -457.610796 \nL 807.166142 -457.610795 \nL 815.364489 -457.610796 \nL 823.562836 -457.610798 \nL 831.761183 -457.610838 \nL 839.95953 -457.611216 \nL 848.157877 -457.613523 \nL 856.356224 -457.622386 \nL 864.554571 -457.643075 \nL 872.752918 -457.66971 \nL 880.951265 -457.68126 \nL 889.149613 -457.666024 \nL 897.34796 -457.639163 \nL 905.546307 -457.620344 \nL 905.546307 -457.601247 \nL 905.546307 -457.601247 \nL 897.34796 -457.582428 \nL 889.149613 -457.555567 \nL 880.951265 -457.540331 \nL 872.752918 -457.551881 \nL 864.554571 -457.578516 \nL 856.356224 -457.599205 \nL 848.157877 -457.608068 \nL 839.95953 -457.610375 \nL 831.761183 -457.610753 \nL 823.562836 -457.610793 \nL 815.364489 -457.610795 \nL 807.166142 -457.610795 \nL 798.967794 -457.610795 \nL 790.769447 -457.610791 \nL 782.5711 -457.610738 \nL 774.372753 -457.610258 \nL 766.174406 -457.607483 \nL 757.976059 -457.597409 \nL 749.777712 -457.575335 \nL 741.579365 -457.549168 \nL 733.381018 -457.539962 \nL 725.18267 -457.553543 \nL 716.984323 -457.564542 \nL 708.785976 -457.543364 \nL 700.587629 -457.486009 \nL 692.389282 -457.415135 \nL 684.190935 -457.362954 \nL 675.992588 -457.354446 \nL 667.794241 -457.392487 \nL 659.595894 -457.447251 \nL 651.397546 -457.468233 \nL 643.199199 -457.41958 \nL 635.000852 -457.308849 \nL 626.802505 -457.182851 \nL 618.604158 -457.08919 \nL 610.405811 -457.025165 \nL 602.207464 -456.931386 \nL 594.009117 -456.76631 \nL 585.81077 -456.568799 \nL 577.612423 -456.396833 \nL 569.414075 -456.232879 \nL 561.215728 -455.978622 \nL 553.017381 -455.530376 \nL 544.819034 -454.864692 \nL 536.620687 -454.023626 \nL 528.42234 -453.026385 \nL 520.223993 -451.906027 \nL 512.025646 -450.816272 \nL 503.827299 -449.848094 \nL 495.628951 -448.829139 \nL 487.430604 -447.616818 \nL 479.232257 -446.282766 \nL 471.03391 -444.657424 \nL 462.835563 -442.155878 \nL 454.637216 -438.508298 \nL 446.438869 -434.246845 \nL 438.240522 -430.132643 \nL 430.042175 -426.412276 \nL 421.843827 -422.722994 \nL 413.64548 -418.507157 \nL 405.447133 -413.484722 \nL 397.248786 -407.474086 \nL 389.050439 -399.948075 \nL 380.852092 -390.760338 \nL 372.653745 -380.931241 \nL 364.455398 -371.708429 \nL 356.257051 -363.808811 \nL 348.058704 -358.774432 \nL 339.860356 -359.74658 \nL 331.662009 -368.85393 \nL 323.463662 -384.247122 \nL 315.265315 -401.114389 \nL 307.066968 -415.227242 \nL 298.868621 -424.922373 \nL 290.670274 -430.721242 \nL 282.471927 -433.953874 \nL 274.27358 -435.742709 \nL 266.075232 -437.021166 \nL 257.876885 -438.606135 \nL 249.678538 -440.75043 \nL 241.480191 -443.154479 \nL 233.281844 -445.478315 \nL 225.083497 -447.679977 \nL 216.88515 -449.899433 \nL 208.686803 -451.882096 \nL 200.488456 -452.933329 \nL 192.290108 -452.691397 \nL 184.091761 -451.628685 \nL 175.893414 -450.835505 \nL 167.695067 -451.271016 \nL 159.49672 -452.857299 \nL 151.298373 -454.60321 \nL 143.100026 -455.803779 \nL 134.901679 -456.504943 \nL 126.703332 -456.955773 \nL 118.504985 -457.262011 \nL 110.306637 -457.452537 \nL 102.10829 -457.553329 \nL 93.909943 -457.5952 \nz\n\" id=\"me525e9b16e\" style=\"stroke:#3f3f3f;stroke-width:1.5;\"/>\n    </defs>\n    <g clip-path=\"url(#p70ecec739e)\">\n     <use style=\"fill:#3274a1;stroke:#3f3f3f;stroke-width:1.5;\" x=\"0\" xlink:href=\"#me525e9b16e\" y=\"603.474375\"/>\n    </g>\n   </g>\n   <g id=\"matplotlib.axis_1\">\n    <g id=\"xtick_1\">\n     <g id=\"line2d_1\">\n      <defs>\n       <path d=\"M 0 0 \nL 0 3.5 \n\" id=\"m18376d8249\" style=\"stroke:#000000;stroke-width:0.8;\"/>\n      </defs>\n      <g>\n       <use style=\"stroke:#000000;stroke-width:0.8;\" x=\"111.74137\" xlink:href=\"#m18376d8249\" y=\"269.409034\"/>\n      </g>\n     </g>\n     <g id=\"text_1\">\n      <!-- 0 -->\n      <defs>\n       <path d=\"M 31.78125 66.40625 \nQ 24.171875 66.40625 20.328125 58.90625 \nQ 16.5 51.421875 16.5 36.375 \nQ 16.5 21.390625 20.328125 13.890625 \nQ 24.171875 6.390625 31.78125 6.390625 \nQ 39.453125 6.390625 43.28125 13.890625 \nQ 47.125 21.390625 47.125 36.375 \nQ 47.125 51.421875 43.28125 58.90625 \nQ 39.453125 66.40625 31.78125 66.40625 \nz\nM 31.78125 74.21875 \nQ 44.046875 74.21875 50.515625 64.515625 \nQ 56.984375 54.828125 56.984375 36.375 \nQ 56.984375 17.96875 50.515625 8.265625 \nQ 44.046875 -1.421875 31.78125 -1.421875 \nQ 19.53125 -1.421875 13.0625 8.265625 \nQ 6.59375 17.96875 6.59375 36.375 \nQ 6.59375 54.828125 13.0625 64.515625 \nQ 19.53125 74.21875 31.78125 74.21875 \nz\n\" id=\"DejaVuSans-48\"/>\n      </defs>\n      <g transform=\"translate(108.56012 284.007472)scale(0.1 -0.1)\">\n       <use xlink:href=\"#DejaVuSans-48\"/>\n      </g>\n     </g>\n    </g>\n    <g id=\"xtick_2\">\n     <g id=\"line2d_2\">\n      <g>\n       <use style=\"stroke:#000000;stroke-width:0.8;\" x=\"234.911768\" xlink:href=\"#m18376d8249\" y=\"269.409034\"/>\n      </g>\n     </g>\n     <g id=\"text_2\">\n      <!-- 50 -->\n      <defs>\n       <path d=\"M 10.796875 72.90625 \nL 49.515625 72.90625 \nL 49.515625 64.59375 \nL 19.828125 64.59375 \nL 19.828125 46.734375 \nQ 21.96875 47.46875 24.109375 47.828125 \nQ 26.265625 48.1875 28.421875 48.1875 \nQ 40.625 48.1875 47.75 41.5 \nQ 54.890625 34.8125 54.890625 23.390625 \nQ 54.890625 11.625 47.5625 5.09375 \nQ 40.234375 -1.421875 26.90625 -1.421875 \nQ 22.3125 -1.421875 17.546875 -0.640625 \nQ 12.796875 0.140625 7.71875 1.703125 \nL 7.71875 11.625 \nQ 12.109375 9.234375 16.796875 8.0625 \nQ 21.484375 6.890625 26.703125 6.890625 \nQ 35.15625 6.890625 40.078125 11.328125 \nQ 45.015625 15.765625 45.015625 23.390625 \nQ 45.015625 31 40.078125 35.4375 \nQ 35.15625 39.890625 26.703125 39.890625 \nQ 22.75 39.890625 18.8125 39.015625 \nQ 14.890625 38.140625 10.796875 36.28125 \nz\n\" id=\"DejaVuSans-53\"/>\n      </defs>\n      <g transform=\"translate(228.549268 284.007472)scale(0.1 -0.1)\">\n       <use xlink:href=\"#DejaVuSans-53\"/>\n       <use x=\"63.623047\" xlink:href=\"#DejaVuSans-48\"/>\n      </g>\n     </g>\n    </g>\n    <g id=\"xtick_3\">\n     <g id=\"line2d_3\">\n      <g>\n       <use style=\"stroke:#000000;stroke-width:0.8;\" x=\"358.082167\" xlink:href=\"#m18376d8249\" y=\"269.409034\"/>\n      </g>\n     </g>\n     <g id=\"text_3\">\n      <!-- 100 -->\n      <defs>\n       <path d=\"M 12.40625 8.296875 \nL 28.515625 8.296875 \nL 28.515625 63.921875 \nL 10.984375 60.40625 \nL 10.984375 69.390625 \nL 28.421875 72.90625 \nL 38.28125 72.90625 \nL 38.28125 8.296875 \nL 54.390625 8.296875 \nL 54.390625 0 \nL 12.40625 0 \nz\n\" id=\"DejaVuSans-49\"/>\n      </defs>\n      <g transform=\"translate(348.538417 284.007472)scale(0.1 -0.1)\">\n       <use xlink:href=\"#DejaVuSans-49\"/>\n       <use x=\"63.623047\" xlink:href=\"#DejaVuSans-48\"/>\n       <use x=\"127.246094\" xlink:href=\"#DejaVuSans-48\"/>\n      </g>\n     </g>\n    </g>\n    <g id=\"xtick_4\">\n     <g id=\"line2d_4\">\n      <g>\n       <use style=\"stroke:#000000;stroke-width:0.8;\" x=\"481.252565\" xlink:href=\"#m18376d8249\" y=\"269.409034\"/>\n      </g>\n     </g>\n     <g id=\"text_4\">\n      <!-- 150 -->\n      <g transform=\"translate(471.708815 284.007472)scale(0.1 -0.1)\">\n       <use xlink:href=\"#DejaVuSans-49\"/>\n       <use x=\"63.623047\" xlink:href=\"#DejaVuSans-53\"/>\n       <use x=\"127.246094\" xlink:href=\"#DejaVuSans-48\"/>\n      </g>\n     </g>\n    </g>\n    <g id=\"xtick_5\">\n     <g id=\"line2d_5\">\n      <g>\n       <use style=\"stroke:#000000;stroke-width:0.8;\" x=\"604.422964\" xlink:href=\"#m18376d8249\" y=\"269.409034\"/>\n      </g>\n     </g>\n     <g id=\"text_5\">\n      <!-- 200 -->\n      <defs>\n       <path d=\"M 19.1875 8.296875 \nL 53.609375 8.296875 \nL 53.609375 0 \nL 7.328125 0 \nL 7.328125 8.296875 \nQ 12.9375 14.109375 22.625 23.890625 \nQ 32.328125 33.6875 34.8125 36.53125 \nQ 39.546875 41.84375 41.421875 45.53125 \nQ 43.3125 49.21875 43.3125 52.78125 \nQ 43.3125 58.59375 39.234375 62.25 \nQ 35.15625 65.921875 28.609375 65.921875 \nQ 23.96875 65.921875 18.8125 64.3125 \nQ 13.671875 62.703125 7.8125 59.421875 \nL 7.8125 69.390625 \nQ 13.765625 71.78125 18.9375 73 \nQ 24.125 74.21875 28.421875 74.21875 \nQ 39.75 74.21875 46.484375 68.546875 \nQ 53.21875 62.890625 53.21875 53.421875 \nQ 53.21875 48.921875 51.53125 44.890625 \nQ 49.859375 40.875 45.40625 35.40625 \nQ 44.1875 33.984375 37.640625 27.21875 \nQ 31.109375 20.453125 19.1875 8.296875 \nz\n\" id=\"DejaVuSans-50\"/>\n      </defs>\n      <g transform=\"translate(594.879214 284.007472)scale(0.1 -0.1)\">\n       <use xlink:href=\"#DejaVuSans-50\"/>\n       <use x=\"63.623047\" xlink:href=\"#DejaVuSans-48\"/>\n       <use x=\"127.246094\" xlink:href=\"#DejaVuSans-48\"/>\n      </g>\n     </g>\n    </g>\n    <g id=\"xtick_6\">\n     <g id=\"line2d_6\">\n      <g>\n       <use style=\"stroke:#000000;stroke-width:0.8;\" x=\"727.593362\" xlink:href=\"#m18376d8249\" y=\"269.409034\"/>\n      </g>\n     </g>\n     <g id=\"text_6\">\n      <!-- 250 -->\n      <g transform=\"translate(718.049612 284.007472)scale(0.1 -0.1)\">\n       <use xlink:href=\"#DejaVuSans-50\"/>\n       <use x=\"63.623047\" xlink:href=\"#DejaVuSans-53\"/>\n       <use x=\"127.246094\" xlink:href=\"#DejaVuSans-48\"/>\n      </g>\n     </g>\n    </g>\n    <g id=\"xtick_7\">\n     <g id=\"line2d_7\">\n      <g>\n       <use style=\"stroke:#000000;stroke-width:0.8;\" x=\"850.76376\" xlink:href=\"#m18376d8249\" y=\"269.409034\"/>\n      </g>\n     </g>\n     <g id=\"text_7\">\n      <!-- 300 -->\n      <defs>\n       <path d=\"M 40.578125 39.3125 \nQ 47.65625 37.796875 51.625 33 \nQ 55.609375 28.21875 55.609375 21.1875 \nQ 55.609375 10.40625 48.1875 4.484375 \nQ 40.765625 -1.421875 27.09375 -1.421875 \nQ 22.515625 -1.421875 17.65625 -0.515625 \nQ 12.796875 0.390625 7.625 2.203125 \nL 7.625 11.71875 \nQ 11.71875 9.328125 16.59375 8.109375 \nQ 21.484375 6.890625 26.8125 6.890625 \nQ 36.078125 6.890625 40.9375 10.546875 \nQ 45.796875 14.203125 45.796875 21.1875 \nQ 45.796875 27.640625 41.28125 31.265625 \nQ 36.765625 34.90625 28.71875 34.90625 \nL 20.21875 34.90625 \nL 20.21875 43.015625 \nL 29.109375 43.015625 \nQ 36.375 43.015625 40.234375 45.921875 \nQ 44.09375 48.828125 44.09375 54.296875 \nQ 44.09375 59.90625 40.109375 62.90625 \nQ 36.140625 65.921875 28.71875 65.921875 \nQ 24.65625 65.921875 20.015625 65.03125 \nQ 15.375 64.15625 9.8125 62.3125 \nL 9.8125 71.09375 \nQ 15.4375 72.65625 20.34375 73.4375 \nQ 25.25 74.21875 29.59375 74.21875 \nQ 40.828125 74.21875 47.359375 69.109375 \nQ 53.90625 64.015625 53.90625 55.328125 \nQ 53.90625 49.265625 50.4375 45.09375 \nQ 46.96875 40.921875 40.578125 39.3125 \nz\n\" id=\"DejaVuSans-51\"/>\n      </defs>\n      <g transform=\"translate(841.22001 284.007472)scale(0.1 -0.1)\">\n       <use xlink:href=\"#DejaVuSans-51\"/>\n       <use x=\"63.623047\" xlink:href=\"#DejaVuSans-48\"/>\n       <use x=\"127.246094\" xlink:href=\"#DejaVuSans-48\"/>\n      </g>\n     </g>\n    </g>\n    <g id=\"text_8\">\n     <!-- minutes -->\n     <defs>\n      <path d=\"M 52 44.1875 \nQ 55.375 50.25 60.0625 53.125 \nQ 64.75 56 71.09375 56 \nQ 79.640625 56 84.28125 50.015625 \nQ 88.921875 44.046875 88.921875 33.015625 \nL 88.921875 0 \nL 79.890625 0 \nL 79.890625 32.71875 \nQ 79.890625 40.578125 77.09375 44.375 \nQ 74.3125 48.1875 68.609375 48.1875 \nQ 61.625 48.1875 57.5625 43.546875 \nQ 53.515625 38.921875 53.515625 30.90625 \nL 53.515625 0 \nL 44.484375 0 \nL 44.484375 32.71875 \nQ 44.484375 40.625 41.703125 44.40625 \nQ 38.921875 48.1875 33.109375 48.1875 \nQ 26.21875 48.1875 22.15625 43.53125 \nQ 18.109375 38.875 18.109375 30.90625 \nL 18.109375 0 \nL 9.078125 0 \nL 9.078125 54.6875 \nL 18.109375 54.6875 \nL 18.109375 46.1875 \nQ 21.1875 51.21875 25.484375 53.609375 \nQ 29.78125 56 35.6875 56 \nQ 41.65625 56 45.828125 52.96875 \nQ 50 49.953125 52 44.1875 \nz\n\" id=\"DejaVuSans-109\"/>\n      <path d=\"M 9.421875 54.6875 \nL 18.40625 54.6875 \nL 18.40625 0 \nL 9.421875 0 \nz\nM 9.421875 75.984375 \nL 18.40625 75.984375 \nL 18.40625 64.59375 \nL 9.421875 64.59375 \nz\n\" id=\"DejaVuSans-105\"/>\n      <path d=\"M 54.890625 33.015625 \nL 54.890625 0 \nL 45.90625 0 \nL 45.90625 32.71875 \nQ 45.90625 40.484375 42.875 44.328125 \nQ 39.84375 48.1875 33.796875 48.1875 \nQ 26.515625 48.1875 22.3125 43.546875 \nQ 18.109375 38.921875 18.109375 30.90625 \nL 18.109375 0 \nL 9.078125 0 \nL 9.078125 54.6875 \nL 18.109375 54.6875 \nL 18.109375 46.1875 \nQ 21.34375 51.125 25.703125 53.5625 \nQ 30.078125 56 35.796875 56 \nQ 45.21875 56 50.046875 50.171875 \nQ 54.890625 44.34375 54.890625 33.015625 \nz\n\" id=\"DejaVuSans-110\"/>\n      <path d=\"M 8.5 21.578125 \nL 8.5 54.6875 \nL 17.484375 54.6875 \nL 17.484375 21.921875 \nQ 17.484375 14.15625 20.5 10.265625 \nQ 23.53125 6.390625 29.59375 6.390625 \nQ 36.859375 6.390625 41.078125 11.03125 \nQ 45.3125 15.671875 45.3125 23.6875 \nL 45.3125 54.6875 \nL 54.296875 54.6875 \nL 54.296875 0 \nL 45.3125 0 \nL 45.3125 8.40625 \nQ 42.046875 3.421875 37.71875 1 \nQ 33.40625 -1.421875 27.6875 -1.421875 \nQ 18.265625 -1.421875 13.375 4.4375 \nQ 8.5 10.296875 8.5 21.578125 \nz\nM 31.109375 56 \nz\n\" id=\"DejaVuSans-117\"/>\n      <path d=\"M 18.3125 70.21875 \nL 18.3125 54.6875 \nL 36.8125 54.6875 \nL 36.8125 47.703125 \nL 18.3125 47.703125 \nL 18.3125 18.015625 \nQ 18.3125 11.328125 20.140625 9.421875 \nQ 21.96875 7.515625 27.59375 7.515625 \nL 36.8125 7.515625 \nL 36.8125 0 \nL 27.59375 0 \nQ 17.1875 0 13.234375 3.875 \nQ 9.28125 7.765625 9.28125 18.015625 \nL 9.28125 47.703125 \nL 2.6875 47.703125 \nL 2.6875 54.6875 \nL 9.28125 54.6875 \nL 9.28125 70.21875 \nz\n\" id=\"DejaVuSans-116\"/>\n      <path d=\"M 56.203125 29.59375 \nL 56.203125 25.203125 \nL 14.890625 25.203125 \nQ 15.484375 15.921875 20.484375 11.0625 \nQ 25.484375 6.203125 34.421875 6.203125 \nQ 39.59375 6.203125 44.453125 7.46875 \nQ 49.3125 8.734375 54.109375 11.28125 \nL 54.109375 2.78125 \nQ 49.265625 0.734375 44.1875 -0.34375 \nQ 39.109375 -1.421875 33.890625 -1.421875 \nQ 20.796875 -1.421875 13.15625 6.1875 \nQ 5.515625 13.8125 5.515625 26.8125 \nQ 5.515625 40.234375 12.765625 48.109375 \nQ 20.015625 56 32.328125 56 \nQ 43.359375 56 49.78125 48.890625 \nQ 56.203125 41.796875 56.203125 29.59375 \nz\nM 47.21875 32.234375 \nQ 47.125 39.59375 43.09375 43.984375 \nQ 39.0625 48.390625 32.421875 48.390625 \nQ 24.90625 48.390625 20.390625 44.140625 \nQ 15.875 39.890625 15.1875 32.171875 \nz\n\" id=\"DejaVuSans-101\"/>\n      <path d=\"M 44.28125 53.078125 \nL 44.28125 44.578125 \nQ 40.484375 46.53125 36.375 47.5 \nQ 32.28125 48.484375 27.875 48.484375 \nQ 21.1875 48.484375 17.84375 46.4375 \nQ 14.5 44.390625 14.5 40.28125 \nQ 14.5 37.15625 16.890625 35.375 \nQ 19.28125 33.59375 26.515625 31.984375 \nL 29.59375 31.296875 \nQ 39.15625 29.25 43.1875 25.515625 \nQ 47.21875 21.78125 47.21875 15.09375 \nQ 47.21875 7.46875 41.1875 3.015625 \nQ 35.15625 -1.421875 24.609375 -1.421875 \nQ 20.21875 -1.421875 15.453125 -0.5625 \nQ 10.6875 0.296875 5.421875 2 \nL 5.421875 11.28125 \nQ 10.40625 8.6875 15.234375 7.390625 \nQ 20.0625 6.109375 24.8125 6.109375 \nQ 31.15625 6.109375 34.5625 8.28125 \nQ 37.984375 10.453125 37.984375 14.40625 \nQ 37.984375 18.0625 35.515625 20.015625 \nQ 33.0625 21.96875 24.703125 23.78125 \nL 21.578125 24.515625 \nQ 13.234375 26.265625 9.515625 29.90625 \nQ 5.8125 33.546875 5.8125 39.890625 \nQ 5.8125 47.609375 11.28125 51.796875 \nQ 16.75 56 26.8125 56 \nQ 31.78125 56 36.171875 55.265625 \nQ 40.578125 54.546875 44.28125 53.078125 \nz\n\" id=\"DejaVuSans-115\"/>\n     </defs>\n     <g transform=\"translate(479.489844 297.685597)scale(0.1 -0.1)\">\n      <use xlink:href=\"#DejaVuSans-109\"/>\n      <use x=\"97.412109\" xlink:href=\"#DejaVuSans-105\"/>\n      <use x=\"125.195312\" xlink:href=\"#DejaVuSans-110\"/>\n      <use x=\"188.574219\" xlink:href=\"#DejaVuSans-117\"/>\n      <use x=\"251.953125\" xlink:href=\"#DejaVuSans-116\"/>\n      <use x=\"291.162109\" xlink:href=\"#DejaVuSans-101\"/>\n      <use x=\"352.685547\" xlink:href=\"#DejaVuSans-115\"/>\n     </g>\n    </g>\n   </g>\n   <g id=\"matplotlib.axis_2\">\n    <g id=\"ytick_1\">\n     <g id=\"line2d_8\">\n      <defs>\n       <path d=\"M 0 0 \nL -3.5 0 \n\" id=\"m1274afd8bd\" style=\"stroke:#000000;stroke-width:0.8;\"/>\n      </defs>\n      <g>\n       <use style=\"stroke:#000000;stroke-width:0.8;\" x=\"53.328125\" xlink:href=\"#m1274afd8bd\" y=\"145.86358\"/>\n      </g>\n     </g>\n    </g>\n   </g>\n   <g id=\"line2d_9\">\n    <path clip-path=\"url(#p70ecec739e)\" d=\"M 220.131321 145.86358 \nL 496.033013 145.86358 \n\" style=\"fill:none;stroke:#3f3f3f;stroke-linecap:square;stroke-width:1.5;\"/>\n   </g>\n   <g id=\"line2d_10\">\n    <path clip-path=\"url(#p70ecec739e)\" d=\"M 323.594455 145.86358 \nL 392.569878 145.86358 \n\" style=\"fill:none;stroke:#3f3f3f;stroke-linecap:square;stroke-width:4.5;\"/>\n   </g>\n   <g id=\"patch_3\">\n    <path d=\"M 53.328125 269.409034 \nL 53.328125 22.318125 \n\" style=\"fill:none;stroke:#000000;stroke-linecap:square;stroke-linejoin:miter;stroke-width:0.8;\"/>\n   </g>\n   <g id=\"patch_4\">\n    <path d=\"M 946.128125 269.409034 \nL 946.128125 22.318125 \n\" style=\"fill:none;stroke:#000000;stroke-linecap:square;stroke-linejoin:miter;stroke-width:0.8;\"/>\n   </g>\n   <g id=\"patch_5\">\n    <path d=\"M 53.328125 269.409034 \nL 946.128125 269.409034 \n\" style=\"fill:none;stroke:#000000;stroke-linecap:square;stroke-linejoin:miter;stroke-width:0.8;\"/>\n   </g>\n   <g id=\"patch_6\">\n    <path d=\"M 53.328125 22.318125 \nL 946.128125 22.318125 \n\" style=\"fill:none;stroke:#000000;stroke-linecap:square;stroke-linejoin:miter;stroke-width:0.8;\"/>\n   </g>\n   <g id=\"PathCollection_1\">\n    <defs>\n     <path d=\"M 0 1.5 \nC 0.397805 1.5 0.77937 1.341951 1.06066 1.06066 \nC 1.341951 0.77937 1.5 0.397805 1.5 0 \nC 1.5 -0.397805 1.341951 -0.77937 1.06066 -1.06066 \nC 0.77937 -1.341951 0.397805 -1.5 0 -1.5 \nC -0.397805 -1.5 -0.77937 -1.341951 -1.06066 -1.06066 \nC -1.341951 -0.77937 -1.5 -0.397805 -1.5 0 \nC -1.5 0.397805 -1.341951 0.77937 -1.06066 1.06066 \nC -0.77937 1.341951 -0.397805 1.5 0 1.5 \nz\n\" id=\"m7d34e26a0d\" style=\"stroke:#3f3f3f;\"/>\n    </defs>\n    <g clip-path=\"url(#p70ecec739e)\">\n     <use style=\"fill:#ffffff;stroke:#3f3f3f;\" x=\"353.155351\" xlink:href=\"#m7d34e26a0d\" y=\"145.86358\"/>\n    </g>\n   </g>\n   <g id=\"text_9\">\n    <!-- movies duration -->\n    <defs>\n     <path d=\"M 30.609375 48.390625 \nQ 23.390625 48.390625 19.1875 42.75 \nQ 14.984375 37.109375 14.984375 27.296875 \nQ 14.984375 17.484375 19.15625 11.84375 \nQ 23.34375 6.203125 30.609375 6.203125 \nQ 37.796875 6.203125 41.984375 11.859375 \nQ 46.1875 17.53125 46.1875 27.296875 \nQ 46.1875 37.015625 41.984375 42.703125 \nQ 37.796875 48.390625 30.609375 48.390625 \nz\nM 30.609375 56 \nQ 42.328125 56 49.015625 48.375 \nQ 55.71875 40.765625 55.71875 27.296875 \nQ 55.71875 13.875 49.015625 6.21875 \nQ 42.328125 -1.421875 30.609375 -1.421875 \nQ 18.84375 -1.421875 12.171875 6.21875 \nQ 5.515625 13.875 5.515625 27.296875 \nQ 5.515625 40.765625 12.171875 48.375 \nQ 18.84375 56 30.609375 56 \nz\n\" id=\"DejaVuSans-111\"/>\n     <path d=\"M 2.984375 54.6875 \nL 12.5 54.6875 \nL 29.59375 8.796875 \nL 46.6875 54.6875 \nL 56.203125 54.6875 \nL 35.6875 0 \nL 23.484375 0 \nz\n\" id=\"DejaVuSans-118\"/>\n     <path id=\"DejaVuSans-32\"/>\n     <path d=\"M 45.40625 46.390625 \nL 45.40625 75.984375 \nL 54.390625 75.984375 \nL 54.390625 0 \nL 45.40625 0 \nL 45.40625 8.203125 \nQ 42.578125 3.328125 38.25 0.953125 \nQ 33.9375 -1.421875 27.875 -1.421875 \nQ 17.96875 -1.421875 11.734375 6.484375 \nQ 5.515625 14.40625 5.515625 27.296875 \nQ 5.515625 40.1875 11.734375 48.09375 \nQ 17.96875 56 27.875 56 \nQ 33.9375 56 38.25 53.625 \nQ 42.578125 51.265625 45.40625 46.390625 \nz\nM 14.796875 27.296875 \nQ 14.796875 17.390625 18.875 11.75 \nQ 22.953125 6.109375 30.078125 6.109375 \nQ 37.203125 6.109375 41.296875 11.75 \nQ 45.40625 17.390625 45.40625 27.296875 \nQ 45.40625 37.203125 41.296875 42.84375 \nQ 37.203125 48.484375 30.078125 48.484375 \nQ 22.953125 48.484375 18.875 42.84375 \nQ 14.796875 37.203125 14.796875 27.296875 \nz\n\" id=\"DejaVuSans-100\"/>\n     <path d=\"M 41.109375 46.296875 \nQ 39.59375 47.171875 37.8125 47.578125 \nQ 36.03125 48 33.890625 48 \nQ 26.265625 48 22.1875 43.046875 \nQ 18.109375 38.09375 18.109375 28.8125 \nL 18.109375 0 \nL 9.078125 0 \nL 9.078125 54.6875 \nL 18.109375 54.6875 \nL 18.109375 46.1875 \nQ 20.953125 51.171875 25.484375 53.578125 \nQ 30.03125 56 36.53125 56 \nQ 37.453125 56 38.578125 55.875 \nQ 39.703125 55.765625 41.0625 55.515625 \nz\n\" id=\"DejaVuSans-114\"/>\n     <path d=\"M 34.28125 27.484375 \nQ 23.390625 27.484375 19.1875 25 \nQ 14.984375 22.515625 14.984375 16.5 \nQ 14.984375 11.71875 18.140625 8.90625 \nQ 21.296875 6.109375 26.703125 6.109375 \nQ 34.1875 6.109375 38.703125 11.40625 \nQ 43.21875 16.703125 43.21875 25.484375 \nL 43.21875 27.484375 \nz\nM 52.203125 31.203125 \nL 52.203125 0 \nL 43.21875 0 \nL 43.21875 8.296875 \nQ 40.140625 3.328125 35.546875 0.953125 \nQ 30.953125 -1.421875 24.3125 -1.421875 \nQ 15.921875 -1.421875 10.953125 3.296875 \nQ 6 8.015625 6 15.921875 \nQ 6 25.140625 12.171875 29.828125 \nQ 18.359375 34.515625 30.609375 34.515625 \nL 43.21875 34.515625 \nL 43.21875 35.40625 \nQ 43.21875 41.609375 39.140625 45 \nQ 35.0625 48.390625 27.6875 48.390625 \nQ 23 48.390625 18.546875 47.265625 \nQ 14.109375 46.140625 10.015625 43.890625 \nL 10.015625 52.203125 \nQ 14.9375 54.109375 19.578125 55.046875 \nQ 24.21875 56 28.609375 56 \nQ 40.484375 56 46.34375 49.84375 \nQ 52.203125 43.703125 52.203125 31.203125 \nz\n\" id=\"DejaVuSans-97\"/>\n    </defs>\n    <g transform=\"translate(451.022187 16.318125)scale(0.12 -0.12)\">\n     <use xlink:href=\"#DejaVuSans-109\"/>\n     <use x=\"97.412109\" xlink:href=\"#DejaVuSans-111\"/>\n     <use x=\"158.59375\" xlink:href=\"#DejaVuSans-118\"/>\n     <use x=\"217.773438\" xlink:href=\"#DejaVuSans-105\"/>\n     <use x=\"245.556641\" xlink:href=\"#DejaVuSans-101\"/>\n     <use x=\"307.080078\" xlink:href=\"#DejaVuSans-115\"/>\n     <use x=\"359.179688\" xlink:href=\"#DejaVuSans-32\"/>\n     <use x=\"390.966797\" xlink:href=\"#DejaVuSans-100\"/>\n     <use x=\"454.443359\" xlink:href=\"#DejaVuSans-117\"/>\n     <use x=\"517.822266\" xlink:href=\"#DejaVuSans-114\"/>\n     <use x=\"558.935547\" xlink:href=\"#DejaVuSans-97\"/>\n     <use x=\"620.214844\" xlink:href=\"#DejaVuSans-116\"/>\n     <use x=\"659.423828\" xlink:href=\"#DejaVuSans-105\"/>\n     <use x=\"687.207031\" xlink:href=\"#DejaVuSans-111\"/>\n     <use x=\"748.388672\" xlink:href=\"#DejaVuSans-110\"/>\n    </g>\n   </g>\n  </g>\n  <g id=\"axes_2\">\n   <g id=\"patch_7\">\n    <path d=\"M 53.328125 565.918125 \nL 946.128125 565.918125 \nL 946.128125 318.827216 \nL 53.328125 318.827216 \nz\n\" style=\"fill:#ffffff;\"/>\n   </g>\n   <g id=\"patch_8\">\n    <path clip-path=\"url(#pab3e99b43d)\" d=\"M 59.280125 565.918125 \nL 106.896125 565.918125 \nL 106.896125 330.59345 \nL 59.280125 330.59345 \nz\n\" style=\"fill:#23306a;\"/>\n   </g>\n   <g id=\"patch_9\">\n    <path clip-path=\"url(#pab3e99b43d)\" d=\"M 118.800125 565.918125 \nL 166.416125 565.918125 \nL 166.416125 510.01388 \nL 118.800125 510.01388 \nz\n\" style=\"fill:#333e86;\"/>\n   </g>\n   <g id=\"patch_10\">\n    <path clip-path=\"url(#pab3e99b43d)\" d=\"M 178.320125 565.918125 \nL 225.936125 565.918125 \nL 225.936125 538.990426 \nL 178.320125 538.990426 \nz\n\" style=\"fill:#334f8f;\"/>\n   </g>\n   <g id=\"patch_11\">\n    <path clip-path=\"url(#pab3e99b43d)\" d=\"M 237.840125 565.918125 \nL 285.456125 565.918125 \nL 285.456125 553.186006 \nL 237.840125 553.186006 \nz\n\" style=\"fill:#336097;\"/>\n   </g>\n   <g id=\"patch_12\">\n    <path clip-path=\"url(#pab3e99b43d)\" d=\"M 297.360125 565.918125 \nL 344.976125 565.918125 \nL 344.976125 557.430046 \nL 297.360125 557.430046 \nz\n\" style=\"fill:#3274a2;\"/>\n   </g>\n   <g id=\"patch_13\">\n    <path clip-path=\"url(#pab3e99b43d)\" d=\"M 356.880125 565.918125 \nL 404.496125 565.918125 \nL 404.496125 561.527739 \nL 356.880125 561.527739 \nz\n\" style=\"fill:#3289ac;\"/>\n   </g>\n   <g id=\"patch_14\">\n    <path clip-path=\"url(#pab3e99b43d)\" d=\"M 416.400125 565.918125 \nL 464.016125 565.918125 \nL 464.016125 563.137547 \nL 416.400125 563.137547 \nz\n\" style=\"fill:#4299b0;\"/>\n   </g>\n   <g id=\"patch_15\">\n    <path clip-path=\"url(#pab3e99b43d)\" d=\"M 475.920125 565.918125 \nL 523.536125 565.918125 \nL 523.536125 563.283894 \nL 475.920125 563.283894 \nz\n\" style=\"fill:#52a9b4;\"/>\n   </g>\n   <g id=\"patch_16\">\n    <path clip-path=\"url(#pab3e99b43d)\" d=\"M 535.440125 565.918125 \nL 583.056125 565.918125 \nL 583.056125 564.747355 \nL 535.440125 564.747355 \nz\n\" style=\"fill:#6db6b4;\"/>\n   </g>\n   <g id=\"patch_17\">\n    <path clip-path=\"url(#pab3e99b43d)\" d=\"M 594.960125 565.918125 \nL 642.576125 565.918125 \nL 642.576125 565.040048 \nL 594.960125 565.040048 \nz\n\" style=\"fill:#8ac4b6;\"/>\n   </g>\n   <g id=\"patch_18\">\n    <path clip-path=\"url(#pab3e99b43d)\" d=\"M 654.480125 565.918125 \nL 702.096125 565.918125 \nL 702.096125 565.479086 \nL 654.480125 565.479086 \nz\n\" style=\"fill:#abd5ba;\"/>\n   </g>\n   <g id=\"patch_19\">\n    <path clip-path=\"url(#pab3e99b43d)\" d=\"M 714.000125 565.918125 \nL 761.616125 565.918125 \nL 761.616125 565.625433 \nL 714.000125 565.625433 \nz\n\" style=\"fill:#cae3bb;\"/>\n   </g>\n   <g id=\"patch_20\">\n    <path clip-path=\"url(#pab3e99b43d)\" d=\"M 773.520125 565.918125 \nL 821.136125 565.918125 \nL 821.136125 565.625433 \nL 773.520125 565.625433 \nz\n\" style=\"fill:#d9e9ba;\"/>\n   </g>\n   <g id=\"patch_21\">\n    <path clip-path=\"url(#pab3e99b43d)\" d=\"M 833.040125 565.918125 \nL 880.656125 565.918125 \nL 880.656125 565.625433 \nL 833.040125 565.625433 \nz\n\" style=\"fill:#e7efbb;\"/>\n   </g>\n   <g id=\"patch_22\">\n    <path clip-path=\"url(#pab3e99b43d)\" d=\"M 892.560125 565.918125 \nL 940.176125 565.918125 \nL 940.176125 565.771779 \nL 892.560125 565.771779 \nz\n\" style=\"fill:#f1f5cd;\"/>\n   </g>\n   <g id=\"matplotlib.axis_3\">\n    <g id=\"xtick_8\">\n     <g id=\"line2d_11\">\n      <g>\n       <use style=\"stroke:#000000;stroke-width:0.8;\" x=\"83.088125\" xlink:href=\"#m18376d8249\" y=\"565.918125\"/>\n      </g>\n     </g>\n     <g id=\"text_10\">\n      <!-- 1 Season -->\n      <defs>\n       <path d=\"M 53.515625 70.515625 \nL 53.515625 60.890625 \nQ 47.90625 63.578125 42.921875 64.890625 \nQ 37.9375 66.21875 33.296875 66.21875 \nQ 25.25 66.21875 20.875 63.09375 \nQ 16.5 59.96875 16.5 54.203125 \nQ 16.5 49.359375 19.40625 46.890625 \nQ 22.3125 44.4375 30.421875 42.921875 \nL 36.375 41.703125 \nQ 47.40625 39.59375 52.65625 34.296875 \nQ 57.90625 29 57.90625 20.125 \nQ 57.90625 9.515625 50.796875 4.046875 \nQ 43.703125 -1.421875 29.984375 -1.421875 \nQ 24.8125 -1.421875 18.96875 -0.25 \nQ 13.140625 0.921875 6.890625 3.21875 \nL 6.890625 13.375 \nQ 12.890625 10.015625 18.65625 8.296875 \nQ 24.421875 6.59375 29.984375 6.59375 \nQ 38.421875 6.59375 43.015625 9.90625 \nQ 47.609375 13.234375 47.609375 19.390625 \nQ 47.609375 24.75 44.3125 27.78125 \nQ 41.015625 30.8125 33.5 32.328125 \nL 27.484375 33.5 \nQ 16.453125 35.6875 11.515625 40.375 \nQ 6.59375 45.0625 6.59375 53.421875 \nQ 6.59375 63.09375 13.40625 68.65625 \nQ 20.21875 74.21875 32.171875 74.21875 \nQ 37.3125 74.21875 42.625 73.28125 \nQ 47.953125 72.359375 53.515625 70.515625 \nz\n\" id=\"DejaVuSans-83\"/>\n      </defs>\n      <g transform=\"translate(60.170156 580.516562)scale(0.1 -0.1)\">\n       <use xlink:href=\"#DejaVuSans-49\"/>\n       <use x=\"63.623047\" xlink:href=\"#DejaVuSans-32\"/>\n       <use x=\"95.410156\" xlink:href=\"#DejaVuSans-83\"/>\n       <use x=\"158.886719\" xlink:href=\"#DejaVuSans-101\"/>\n       <use x=\"220.410156\" xlink:href=\"#DejaVuSans-97\"/>\n       <use x=\"281.689453\" xlink:href=\"#DejaVuSans-115\"/>\n       <use x=\"333.789062\" xlink:href=\"#DejaVuSans-111\"/>\n       <use x=\"394.970703\" xlink:href=\"#DejaVuSans-110\"/>\n      </g>\n     </g>\n    </g>\n    <g id=\"xtick_9\">\n     <g id=\"line2d_12\">\n      <g>\n       <use style=\"stroke:#000000;stroke-width:0.8;\" x=\"142.608125\" xlink:href=\"#m18376d8249\" y=\"565.918125\"/>\n      </g>\n     </g>\n     <g id=\"text_11\">\n      <!-- 2 Seasons -->\n      <g transform=\"translate(117.085469 580.516562)scale(0.1 -0.1)\">\n       <use xlink:href=\"#DejaVuSans-50\"/>\n       <use x=\"63.623047\" xlink:href=\"#DejaVuSans-32\"/>\n       <use x=\"95.410156\" xlink:href=\"#DejaVuSans-83\"/>\n       <use x=\"158.886719\" xlink:href=\"#DejaVuSans-101\"/>\n       <use x=\"220.410156\" xlink:href=\"#DejaVuSans-97\"/>\n       <use x=\"281.689453\" xlink:href=\"#DejaVuSans-115\"/>\n       <use x=\"333.789062\" xlink:href=\"#DejaVuSans-111\"/>\n       <use x=\"394.970703\" xlink:href=\"#DejaVuSans-110\"/>\n       <use x=\"458.349609\" xlink:href=\"#DejaVuSans-115\"/>\n      </g>\n     </g>\n    </g>\n    <g id=\"xtick_10\">\n     <g id=\"line2d_13\">\n      <g>\n       <use style=\"stroke:#000000;stroke-width:0.8;\" x=\"202.128125\" xlink:href=\"#m18376d8249\" y=\"565.918125\"/>\n      </g>\n     </g>\n     <g id=\"text_12\">\n      <!-- 3 Seasons -->\n      <g transform=\"translate(176.605469 580.516562)scale(0.1 -0.1)\">\n       <use xlink:href=\"#DejaVuSans-51\"/>\n       <use x=\"63.623047\" xlink:href=\"#DejaVuSans-32\"/>\n       <use x=\"95.410156\" xlink:href=\"#DejaVuSans-83\"/>\n       <use x=\"158.886719\" xlink:href=\"#DejaVuSans-101\"/>\n       <use x=\"220.410156\" xlink:href=\"#DejaVuSans-97\"/>\n       <use x=\"281.689453\" xlink:href=\"#DejaVuSans-115\"/>\n       <use x=\"333.789062\" xlink:href=\"#DejaVuSans-111\"/>\n       <use x=\"394.970703\" xlink:href=\"#DejaVuSans-110\"/>\n       <use x=\"458.349609\" xlink:href=\"#DejaVuSans-115\"/>\n      </g>\n     </g>\n    </g>\n    <g id=\"xtick_11\">\n     <g id=\"line2d_14\">\n      <g>\n       <use style=\"stroke:#000000;stroke-width:0.8;\" x=\"261.648125\" xlink:href=\"#m18376d8249\" y=\"565.918125\"/>\n      </g>\n     </g>\n     <g id=\"text_13\">\n      <!-- 4 Seasons -->\n      <defs>\n       <path d=\"M 37.796875 64.3125 \nL 12.890625 25.390625 \nL 37.796875 25.390625 \nz\nM 35.203125 72.90625 \nL 47.609375 72.90625 \nL 47.609375 25.390625 \nL 58.015625 25.390625 \nL 58.015625 17.1875 \nL 47.609375 17.1875 \nL 47.609375 0 \nL 37.796875 0 \nL 37.796875 17.1875 \nL 4.890625 17.1875 \nL 4.890625 26.703125 \nz\n\" id=\"DejaVuSans-52\"/>\n      </defs>\n      <g transform=\"translate(236.125469 580.516562)scale(0.1 -0.1)\">\n       <use xlink:href=\"#DejaVuSans-52\"/>\n       <use x=\"63.623047\" xlink:href=\"#DejaVuSans-32\"/>\n       <use x=\"95.410156\" xlink:href=\"#DejaVuSans-83\"/>\n       <use x=\"158.886719\" xlink:href=\"#DejaVuSans-101\"/>\n       <use x=\"220.410156\" xlink:href=\"#DejaVuSans-97\"/>\n       <use x=\"281.689453\" xlink:href=\"#DejaVuSans-115\"/>\n       <use x=\"333.789062\" xlink:href=\"#DejaVuSans-111\"/>\n       <use x=\"394.970703\" xlink:href=\"#DejaVuSans-110\"/>\n       <use x=\"458.349609\" xlink:href=\"#DejaVuSans-115\"/>\n      </g>\n     </g>\n    </g>\n    <g id=\"xtick_12\">\n     <g id=\"line2d_15\">\n      <g>\n       <use style=\"stroke:#000000;stroke-width:0.8;\" x=\"321.168125\" xlink:href=\"#m18376d8249\" y=\"565.918125\"/>\n      </g>\n     </g>\n     <g id=\"text_14\">\n      <!-- 5 Seasons -->\n      <g transform=\"translate(295.645469 580.516562)scale(0.1 -0.1)\">\n       <use xlink:href=\"#DejaVuSans-53\"/>\n       <use x=\"63.623047\" xlink:href=\"#DejaVuSans-32\"/>\n       <use x=\"95.410156\" xlink:href=\"#DejaVuSans-83\"/>\n       <use x=\"158.886719\" xlink:href=\"#DejaVuSans-101\"/>\n       <use x=\"220.410156\" xlink:href=\"#DejaVuSans-97\"/>\n       <use x=\"281.689453\" xlink:href=\"#DejaVuSans-115\"/>\n       <use x=\"333.789062\" xlink:href=\"#DejaVuSans-111\"/>\n       <use x=\"394.970703\" xlink:href=\"#DejaVuSans-110\"/>\n       <use x=\"458.349609\" xlink:href=\"#DejaVuSans-115\"/>\n      </g>\n     </g>\n    </g>\n    <g id=\"xtick_13\">\n     <g id=\"line2d_16\">\n      <g>\n       <use style=\"stroke:#000000;stroke-width:0.8;\" x=\"380.688125\" xlink:href=\"#m18376d8249\" y=\"565.918125\"/>\n      </g>\n     </g>\n     <g id=\"text_15\">\n      <!-- 6 Seasons -->\n      <defs>\n       <path d=\"M 33.015625 40.375 \nQ 26.375 40.375 22.484375 35.828125 \nQ 18.609375 31.296875 18.609375 23.390625 \nQ 18.609375 15.53125 22.484375 10.953125 \nQ 26.375 6.390625 33.015625 6.390625 \nQ 39.65625 6.390625 43.53125 10.953125 \nQ 47.40625 15.53125 47.40625 23.390625 \nQ 47.40625 31.296875 43.53125 35.828125 \nQ 39.65625 40.375 33.015625 40.375 \nz\nM 52.59375 71.296875 \nL 52.59375 62.3125 \nQ 48.875 64.0625 45.09375 64.984375 \nQ 41.3125 65.921875 37.59375 65.921875 \nQ 27.828125 65.921875 22.671875 59.328125 \nQ 17.53125 52.734375 16.796875 39.40625 \nQ 19.671875 43.65625 24.015625 45.921875 \nQ 28.375 48.1875 33.59375 48.1875 \nQ 44.578125 48.1875 50.953125 41.515625 \nQ 57.328125 34.859375 57.328125 23.390625 \nQ 57.328125 12.15625 50.6875 5.359375 \nQ 44.046875 -1.421875 33.015625 -1.421875 \nQ 20.359375 -1.421875 13.671875 8.265625 \nQ 6.984375 17.96875 6.984375 36.375 \nQ 6.984375 53.65625 15.1875 63.9375 \nQ 23.390625 74.21875 37.203125 74.21875 \nQ 40.921875 74.21875 44.703125 73.484375 \nQ 48.484375 72.75 52.59375 71.296875 \nz\n\" id=\"DejaVuSans-54\"/>\n      </defs>\n      <g transform=\"translate(355.165469 580.516562)scale(0.1 -0.1)\">\n       <use xlink:href=\"#DejaVuSans-54\"/>\n       <use x=\"63.623047\" xlink:href=\"#DejaVuSans-32\"/>\n       <use x=\"95.410156\" xlink:href=\"#DejaVuSans-83\"/>\n       <use x=\"158.886719\" xlink:href=\"#DejaVuSans-101\"/>\n       <use x=\"220.410156\" xlink:href=\"#DejaVuSans-97\"/>\n       <use x=\"281.689453\" xlink:href=\"#DejaVuSans-115\"/>\n       <use x=\"333.789062\" xlink:href=\"#DejaVuSans-111\"/>\n       <use x=\"394.970703\" xlink:href=\"#DejaVuSans-110\"/>\n       <use x=\"458.349609\" xlink:href=\"#DejaVuSans-115\"/>\n      </g>\n     </g>\n    </g>\n    <g id=\"xtick_14\">\n     <g id=\"line2d_17\">\n      <g>\n       <use style=\"stroke:#000000;stroke-width:0.8;\" x=\"440.208125\" xlink:href=\"#m18376d8249\" y=\"565.918125\"/>\n      </g>\n     </g>\n     <g id=\"text_16\">\n      <!-- 7 Seasons -->\n      <defs>\n       <path d=\"M 8.203125 72.90625 \nL 55.078125 72.90625 \nL 55.078125 68.703125 \nL 28.609375 0 \nL 18.3125 0 \nL 43.21875 64.59375 \nL 8.203125 64.59375 \nz\n\" id=\"DejaVuSans-55\"/>\n      </defs>\n      <g transform=\"translate(414.685469 580.516562)scale(0.1 -0.1)\">\n       <use xlink:href=\"#DejaVuSans-55\"/>\n       <use x=\"63.623047\" xlink:href=\"#DejaVuSans-32\"/>\n       <use x=\"95.410156\" xlink:href=\"#DejaVuSans-83\"/>\n       <use x=\"158.886719\" xlink:href=\"#DejaVuSans-101\"/>\n       <use x=\"220.410156\" xlink:href=\"#DejaVuSans-97\"/>\n       <use x=\"281.689453\" xlink:href=\"#DejaVuSans-115\"/>\n       <use x=\"333.789062\" xlink:href=\"#DejaVuSans-111\"/>\n       <use x=\"394.970703\" xlink:href=\"#DejaVuSans-110\"/>\n       <use x=\"458.349609\" xlink:href=\"#DejaVuSans-115\"/>\n      </g>\n     </g>\n    </g>\n    <g id=\"xtick_15\">\n     <g id=\"line2d_18\">\n      <g>\n       <use style=\"stroke:#000000;stroke-width:0.8;\" x=\"499.728125\" xlink:href=\"#m18376d8249\" y=\"565.918125\"/>\n      </g>\n     </g>\n     <g id=\"text_17\">\n      <!-- 8 Seasons -->\n      <defs>\n       <path d=\"M 31.78125 34.625 \nQ 24.75 34.625 20.71875 30.859375 \nQ 16.703125 27.09375 16.703125 20.515625 \nQ 16.703125 13.921875 20.71875 10.15625 \nQ 24.75 6.390625 31.78125 6.390625 \nQ 38.8125 6.390625 42.859375 10.171875 \nQ 46.921875 13.96875 46.921875 20.515625 \nQ 46.921875 27.09375 42.890625 30.859375 \nQ 38.875 34.625 31.78125 34.625 \nz\nM 21.921875 38.8125 \nQ 15.578125 40.375 12.03125 44.71875 \nQ 8.5 49.078125 8.5 55.328125 \nQ 8.5 64.0625 14.71875 69.140625 \nQ 20.953125 74.21875 31.78125 74.21875 \nQ 42.671875 74.21875 48.875 69.140625 \nQ 55.078125 64.0625 55.078125 55.328125 \nQ 55.078125 49.078125 51.53125 44.71875 \nQ 48 40.375 41.703125 38.8125 \nQ 48.828125 37.15625 52.796875 32.3125 \nQ 56.78125 27.484375 56.78125 20.515625 \nQ 56.78125 9.90625 50.3125 4.234375 \nQ 43.84375 -1.421875 31.78125 -1.421875 \nQ 19.734375 -1.421875 13.25 4.234375 \nQ 6.78125 9.90625 6.78125 20.515625 \nQ 6.78125 27.484375 10.78125 32.3125 \nQ 14.796875 37.15625 21.921875 38.8125 \nz\nM 18.3125 54.390625 \nQ 18.3125 48.734375 21.84375 45.5625 \nQ 25.390625 42.390625 31.78125 42.390625 \nQ 38.140625 42.390625 41.71875 45.5625 \nQ 45.3125 48.734375 45.3125 54.390625 \nQ 45.3125 60.0625 41.71875 63.234375 \nQ 38.140625 66.40625 31.78125 66.40625 \nQ 25.390625 66.40625 21.84375 63.234375 \nQ 18.3125 60.0625 18.3125 54.390625 \nz\n\" id=\"DejaVuSans-56\"/>\n      </defs>\n      <g transform=\"translate(474.205469 580.516562)scale(0.1 -0.1)\">\n       <use xlink:href=\"#DejaVuSans-56\"/>\n       <use x=\"63.623047\" xlink:href=\"#DejaVuSans-32\"/>\n       <use x=\"95.410156\" xlink:href=\"#DejaVuSans-83\"/>\n       <use x=\"158.886719\" xlink:href=\"#DejaVuSans-101\"/>\n       <use x=\"220.410156\" xlink:href=\"#DejaVuSans-97\"/>\n       <use x=\"281.689453\" xlink:href=\"#DejaVuSans-115\"/>\n       <use x=\"333.789062\" xlink:href=\"#DejaVuSans-111\"/>\n       <use x=\"394.970703\" xlink:href=\"#DejaVuSans-110\"/>\n       <use x=\"458.349609\" xlink:href=\"#DejaVuSans-115\"/>\n      </g>\n     </g>\n    </g>\n    <g id=\"xtick_16\">\n     <g id=\"line2d_19\">\n      <g>\n       <use style=\"stroke:#000000;stroke-width:0.8;\" x=\"559.248125\" xlink:href=\"#m18376d8249\" y=\"565.918125\"/>\n      </g>\n     </g>\n     <g id=\"text_18\">\n      <!-- 9 Seasons -->\n      <defs>\n       <path d=\"M 10.984375 1.515625 \nL 10.984375 10.5 \nQ 14.703125 8.734375 18.5 7.8125 \nQ 22.3125 6.890625 25.984375 6.890625 \nQ 35.75 6.890625 40.890625 13.453125 \nQ 46.046875 20.015625 46.78125 33.40625 \nQ 43.953125 29.203125 39.59375 26.953125 \nQ 35.25 24.703125 29.984375 24.703125 \nQ 19.046875 24.703125 12.671875 31.3125 \nQ 6.296875 37.9375 6.296875 49.421875 \nQ 6.296875 60.640625 12.9375 67.421875 \nQ 19.578125 74.21875 30.609375 74.21875 \nQ 43.265625 74.21875 49.921875 64.515625 \nQ 56.59375 54.828125 56.59375 36.375 \nQ 56.59375 19.140625 48.40625 8.859375 \nQ 40.234375 -1.421875 26.421875 -1.421875 \nQ 22.703125 -1.421875 18.890625 -0.6875 \nQ 15.09375 0.046875 10.984375 1.515625 \nz\nM 30.609375 32.421875 \nQ 37.25 32.421875 41.125 36.953125 \nQ 45.015625 41.5 45.015625 49.421875 \nQ 45.015625 57.28125 41.125 61.84375 \nQ 37.25 66.40625 30.609375 66.40625 \nQ 23.96875 66.40625 20.09375 61.84375 \nQ 16.21875 57.28125 16.21875 49.421875 \nQ 16.21875 41.5 20.09375 36.953125 \nQ 23.96875 32.421875 30.609375 32.421875 \nz\n\" id=\"DejaVuSans-57\"/>\n      </defs>\n      <g transform=\"translate(533.725469 580.516562)scale(0.1 -0.1)\">\n       <use xlink:href=\"#DejaVuSans-57\"/>\n       <use x=\"63.623047\" xlink:href=\"#DejaVuSans-32\"/>\n       <use x=\"95.410156\" xlink:href=\"#DejaVuSans-83\"/>\n       <use x=\"158.886719\" xlink:href=\"#DejaVuSans-101\"/>\n       <use x=\"220.410156\" xlink:href=\"#DejaVuSans-97\"/>\n       <use x=\"281.689453\" xlink:href=\"#DejaVuSans-115\"/>\n       <use x=\"333.789062\" xlink:href=\"#DejaVuSans-111\"/>\n       <use x=\"394.970703\" xlink:href=\"#DejaVuSans-110\"/>\n       <use x=\"458.349609\" xlink:href=\"#DejaVuSans-115\"/>\n      </g>\n     </g>\n    </g>\n    <g id=\"xtick_17\">\n     <g id=\"line2d_20\">\n      <g>\n       <use style=\"stroke:#000000;stroke-width:0.8;\" x=\"618.768125\" xlink:href=\"#m18376d8249\" y=\"565.918125\"/>\n      </g>\n     </g>\n     <g id=\"text_19\">\n      <!-- 10 Seasons -->\n      <g transform=\"translate(590.064219 580.516562)scale(0.1 -0.1)\">\n       <use xlink:href=\"#DejaVuSans-49\"/>\n       <use x=\"63.623047\" xlink:href=\"#DejaVuSans-48\"/>\n       <use x=\"127.246094\" xlink:href=\"#DejaVuSans-32\"/>\n       <use x=\"159.033203\" xlink:href=\"#DejaVuSans-83\"/>\n       <use x=\"222.509766\" xlink:href=\"#DejaVuSans-101\"/>\n       <use x=\"284.033203\" xlink:href=\"#DejaVuSans-97\"/>\n       <use x=\"345.3125\" xlink:href=\"#DejaVuSans-115\"/>\n       <use x=\"397.412109\" xlink:href=\"#DejaVuSans-111\"/>\n       <use x=\"458.59375\" xlink:href=\"#DejaVuSans-110\"/>\n       <use x=\"521.972656\" xlink:href=\"#DejaVuSans-115\"/>\n      </g>\n     </g>\n    </g>\n    <g id=\"xtick_18\">\n     <g id=\"line2d_21\">\n      <g>\n       <use style=\"stroke:#000000;stroke-width:0.8;\" x=\"678.288125\" xlink:href=\"#m18376d8249\" y=\"565.918125\"/>\n      </g>\n     </g>\n     <g id=\"text_20\">\n      <!-- 11 Seasons -->\n      <g transform=\"translate(649.584219 580.516562)scale(0.1 -0.1)\">\n       <use xlink:href=\"#DejaVuSans-49\"/>\n       <use x=\"63.623047\" xlink:href=\"#DejaVuSans-49\"/>\n       <use x=\"127.246094\" xlink:href=\"#DejaVuSans-32\"/>\n       <use x=\"159.033203\" xlink:href=\"#DejaVuSans-83\"/>\n       <use x=\"222.509766\" xlink:href=\"#DejaVuSans-101\"/>\n       <use x=\"284.033203\" xlink:href=\"#DejaVuSans-97\"/>\n       <use x=\"345.3125\" xlink:href=\"#DejaVuSans-115\"/>\n       <use x=\"397.412109\" xlink:href=\"#DejaVuSans-111\"/>\n       <use x=\"458.59375\" xlink:href=\"#DejaVuSans-110\"/>\n       <use x=\"521.972656\" xlink:href=\"#DejaVuSans-115\"/>\n      </g>\n     </g>\n    </g>\n    <g id=\"xtick_19\">\n     <g id=\"line2d_22\">\n      <g>\n       <use style=\"stroke:#000000;stroke-width:0.8;\" x=\"737.808125\" xlink:href=\"#m18376d8249\" y=\"565.918125\"/>\n      </g>\n     </g>\n     <g id=\"text_21\">\n      <!-- 12 Seasons -->\n      <g transform=\"translate(709.104219 580.516562)scale(0.1 -0.1)\">\n       <use xlink:href=\"#DejaVuSans-49\"/>\n       <use x=\"63.623047\" xlink:href=\"#DejaVuSans-50\"/>\n       <use x=\"127.246094\" xlink:href=\"#DejaVuSans-32\"/>\n       <use x=\"159.033203\" xlink:href=\"#DejaVuSans-83\"/>\n       <use x=\"222.509766\" xlink:href=\"#DejaVuSans-101\"/>\n       <use x=\"284.033203\" xlink:href=\"#DejaVuSans-97\"/>\n       <use x=\"345.3125\" xlink:href=\"#DejaVuSans-115\"/>\n       <use x=\"397.412109\" xlink:href=\"#DejaVuSans-111\"/>\n       <use x=\"458.59375\" xlink:href=\"#DejaVuSans-110\"/>\n       <use x=\"521.972656\" xlink:href=\"#DejaVuSans-115\"/>\n      </g>\n     </g>\n    </g>\n    <g id=\"xtick_20\">\n     <g id=\"line2d_23\">\n      <g>\n       <use style=\"stroke:#000000;stroke-width:0.8;\" x=\"797.328125\" xlink:href=\"#m18376d8249\" y=\"565.918125\"/>\n      </g>\n     </g>\n     <g id=\"text_22\">\n      <!-- 15 Seasons -->\n      <g transform=\"translate(768.624219 580.516562)scale(0.1 -0.1)\">\n       <use xlink:href=\"#DejaVuSans-49\"/>\n       <use x=\"63.623047\" xlink:href=\"#DejaVuSans-53\"/>\n       <use x=\"127.246094\" xlink:href=\"#DejaVuSans-32\"/>\n       <use x=\"159.033203\" xlink:href=\"#DejaVuSans-83\"/>\n       <use x=\"222.509766\" xlink:href=\"#DejaVuSans-101\"/>\n       <use x=\"284.033203\" xlink:href=\"#DejaVuSans-97\"/>\n       <use x=\"345.3125\" xlink:href=\"#DejaVuSans-115\"/>\n       <use x=\"397.412109\" xlink:href=\"#DejaVuSans-111\"/>\n       <use x=\"458.59375\" xlink:href=\"#DejaVuSans-110\"/>\n       <use x=\"521.972656\" xlink:href=\"#DejaVuSans-115\"/>\n      </g>\n     </g>\n    </g>\n    <g id=\"xtick_21\">\n     <g id=\"line2d_24\">\n      <g>\n       <use style=\"stroke:#000000;stroke-width:0.8;\" x=\"856.848125\" xlink:href=\"#m18376d8249\" y=\"565.918125\"/>\n      </g>\n     </g>\n     <g id=\"text_23\">\n      <!-- 13 Seasons -->\n      <g transform=\"translate(828.144219 580.516562)scale(0.1 -0.1)\">\n       <use xlink:href=\"#DejaVuSans-49\"/>\n       <use x=\"63.623047\" xlink:href=\"#DejaVuSans-51\"/>\n       <use x=\"127.246094\" xlink:href=\"#DejaVuSans-32\"/>\n       <use x=\"159.033203\" xlink:href=\"#DejaVuSans-83\"/>\n       <use x=\"222.509766\" xlink:href=\"#DejaVuSans-101\"/>\n       <use x=\"284.033203\" xlink:href=\"#DejaVuSans-97\"/>\n       <use x=\"345.3125\" xlink:href=\"#DejaVuSans-115\"/>\n       <use x=\"397.412109\" xlink:href=\"#DejaVuSans-111\"/>\n       <use x=\"458.59375\" xlink:href=\"#DejaVuSans-110\"/>\n       <use x=\"521.972656\" xlink:href=\"#DejaVuSans-115\"/>\n      </g>\n     </g>\n    </g>\n    <g id=\"xtick_22\">\n     <g id=\"line2d_25\">\n      <g>\n       <use style=\"stroke:#000000;stroke-width:0.8;\" x=\"916.368125\" xlink:href=\"#m18376d8249\" y=\"565.918125\"/>\n      </g>\n     </g>\n     <g id=\"text_24\">\n      <!-- 16 Seasons -->\n      <g transform=\"translate(887.664219 580.516562)scale(0.1 -0.1)\">\n       <use xlink:href=\"#DejaVuSans-49\"/>\n       <use x=\"63.623047\" xlink:href=\"#DejaVuSans-54\"/>\n       <use x=\"127.246094\" xlink:href=\"#DejaVuSans-32\"/>\n       <use x=\"159.033203\" xlink:href=\"#DejaVuSans-83\"/>\n       <use x=\"222.509766\" xlink:href=\"#DejaVuSans-101\"/>\n       <use x=\"284.033203\" xlink:href=\"#DejaVuSans-97\"/>\n       <use x=\"345.3125\" xlink:href=\"#DejaVuSans-115\"/>\n       <use x=\"397.412109\" xlink:href=\"#DejaVuSans-111\"/>\n       <use x=\"458.59375\" xlink:href=\"#DejaVuSans-110\"/>\n       <use x=\"521.972656\" xlink:href=\"#DejaVuSans-115\"/>\n      </g>\n     </g>\n    </g>\n    <g id=\"text_25\">\n     <!-- duration -->\n     <g transform=\"translate(478.688281 594.194687)scale(0.1 -0.1)\">\n      <use xlink:href=\"#DejaVuSans-100\"/>\n      <use x=\"63.476562\" xlink:href=\"#DejaVuSans-117\"/>\n      <use x=\"126.855469\" xlink:href=\"#DejaVuSans-114\"/>\n      <use x=\"167.96875\" xlink:href=\"#DejaVuSans-97\"/>\n      <use x=\"229.248047\" xlink:href=\"#DejaVuSans-116\"/>\n      <use x=\"268.457031\" xlink:href=\"#DejaVuSans-105\"/>\n      <use x=\"296.240234\" xlink:href=\"#DejaVuSans-111\"/>\n      <use x=\"357.421875\" xlink:href=\"#DejaVuSans-110\"/>\n     </g>\n    </g>\n   </g>\n   <g id=\"matplotlib.axis_4\">\n    <g id=\"ytick_2\">\n     <g id=\"line2d_26\">\n      <g>\n       <use style=\"stroke:#000000;stroke-width:0.8;\" x=\"53.328125\" xlink:href=\"#m1274afd8bd\" y=\"565.918125\"/>\n      </g>\n     </g>\n     <g id=\"text_26\">\n      <!-- 0 -->\n      <g transform=\"translate(39.965625 569.717344)scale(0.1 -0.1)\">\n       <use xlink:href=\"#DejaVuSans-48\"/>\n      </g>\n     </g>\n    </g>\n    <g id=\"ytick_3\">\n     <g id=\"line2d_27\">\n      <g>\n       <use style=\"stroke:#000000;stroke-width:0.8;\" x=\"53.328125\" xlink:href=\"#m1274afd8bd\" y=\"536.648887\"/>\n      </g>\n     </g>\n     <g id=\"text_27\">\n      <!-- 200 -->\n      <g transform=\"translate(27.240625 540.448106)scale(0.1 -0.1)\">\n       <use xlink:href=\"#DejaVuSans-50\"/>\n       <use x=\"63.623047\" xlink:href=\"#DejaVuSans-48\"/>\n       <use x=\"127.246094\" xlink:href=\"#DejaVuSans-48\"/>\n      </g>\n     </g>\n    </g>\n    <g id=\"ytick_4\">\n     <g id=\"line2d_28\">\n      <g>\n       <use style=\"stroke:#000000;stroke-width:0.8;\" x=\"53.328125\" xlink:href=\"#m1274afd8bd\" y=\"507.379649\"/>\n      </g>\n     </g>\n     <g id=\"text_28\">\n      <!-- 400 -->\n      <g transform=\"translate(27.240625 511.178867)scale(0.1 -0.1)\">\n       <use xlink:href=\"#DejaVuSans-52\"/>\n       <use x=\"63.623047\" xlink:href=\"#DejaVuSans-48\"/>\n       <use x=\"127.246094\" xlink:href=\"#DejaVuSans-48\"/>\n      </g>\n     </g>\n    </g>\n    <g id=\"ytick_5\">\n     <g id=\"line2d_29\">\n      <g>\n       <use style=\"stroke:#000000;stroke-width:0.8;\" x=\"53.328125\" xlink:href=\"#m1274afd8bd\" y=\"478.11041\"/>\n      </g>\n     </g>\n     <g id=\"text_29\">\n      <!-- 600 -->\n      <g transform=\"translate(27.240625 481.909629)scale(0.1 -0.1)\">\n       <use xlink:href=\"#DejaVuSans-54\"/>\n       <use x=\"63.623047\" xlink:href=\"#DejaVuSans-48\"/>\n       <use x=\"127.246094\" xlink:href=\"#DejaVuSans-48\"/>\n      </g>\n     </g>\n    </g>\n    <g id=\"ytick_6\">\n     <g id=\"line2d_30\">\n      <g>\n       <use style=\"stroke:#000000;stroke-width:0.8;\" x=\"53.328125\" xlink:href=\"#m1274afd8bd\" y=\"448.841172\"/>\n      </g>\n     </g>\n     <g id=\"text_30\">\n      <!-- 800 -->\n      <g transform=\"translate(27.240625 452.640391)scale(0.1 -0.1)\">\n       <use xlink:href=\"#DejaVuSans-56\"/>\n       <use x=\"63.623047\" xlink:href=\"#DejaVuSans-48\"/>\n       <use x=\"127.246094\" xlink:href=\"#DejaVuSans-48\"/>\n      </g>\n     </g>\n    </g>\n    <g id=\"ytick_7\">\n     <g id=\"line2d_31\">\n      <g>\n       <use style=\"stroke:#000000;stroke-width:0.8;\" x=\"53.328125\" xlink:href=\"#m1274afd8bd\" y=\"419.571934\"/>\n      </g>\n     </g>\n     <g id=\"text_31\">\n      <!-- 1000 -->\n      <g transform=\"translate(20.878125 423.371153)scale(0.1 -0.1)\">\n       <use xlink:href=\"#DejaVuSans-49\"/>\n       <use x=\"63.623047\" xlink:href=\"#DejaVuSans-48\"/>\n       <use x=\"127.246094\" xlink:href=\"#DejaVuSans-48\"/>\n       <use x=\"190.869141\" xlink:href=\"#DejaVuSans-48\"/>\n      </g>\n     </g>\n    </g>\n    <g id=\"ytick_8\">\n     <g id=\"line2d_32\">\n      <g>\n       <use style=\"stroke:#000000;stroke-width:0.8;\" x=\"53.328125\" xlink:href=\"#m1274afd8bd\" y=\"390.302696\"/>\n      </g>\n     </g>\n     <g id=\"text_32\">\n      <!-- 1200 -->\n      <g transform=\"translate(20.878125 394.101914)scale(0.1 -0.1)\">\n       <use xlink:href=\"#DejaVuSans-49\"/>\n       <use x=\"63.623047\" xlink:href=\"#DejaVuSans-50\"/>\n       <use x=\"127.246094\" xlink:href=\"#DejaVuSans-48\"/>\n       <use x=\"190.869141\" xlink:href=\"#DejaVuSans-48\"/>\n      </g>\n     </g>\n    </g>\n    <g id=\"ytick_9\">\n     <g id=\"line2d_33\">\n      <g>\n       <use style=\"stroke:#000000;stroke-width:0.8;\" x=\"53.328125\" xlink:href=\"#m1274afd8bd\" y=\"361.033457\"/>\n      </g>\n     </g>\n     <g id=\"text_33\">\n      <!-- 1400 -->\n      <g transform=\"translate(20.878125 364.832676)scale(0.1 -0.1)\">\n       <use xlink:href=\"#DejaVuSans-49\"/>\n       <use x=\"63.623047\" xlink:href=\"#DejaVuSans-52\"/>\n       <use x=\"127.246094\" xlink:href=\"#DejaVuSans-48\"/>\n       <use x=\"190.869141\" xlink:href=\"#DejaVuSans-48\"/>\n      </g>\n     </g>\n    </g>\n    <g id=\"ytick_10\">\n     <g id=\"line2d_34\">\n      <g>\n       <use style=\"stroke:#000000;stroke-width:0.8;\" x=\"53.328125\" xlink:href=\"#m1274afd8bd\" y=\"331.764219\"/>\n      </g>\n     </g>\n     <g id=\"text_34\">\n      <!-- 1600 -->\n      <g transform=\"translate(20.878125 335.563438)scale(0.1 -0.1)\">\n       <use xlink:href=\"#DejaVuSans-49\"/>\n       <use x=\"63.623047\" xlink:href=\"#DejaVuSans-54\"/>\n       <use x=\"127.246094\" xlink:href=\"#DejaVuSans-48\"/>\n       <use x=\"190.869141\" xlink:href=\"#DejaVuSans-48\"/>\n      </g>\n     </g>\n    </g>\n    <g id=\"text_35\">\n     <!-- count -->\n     <defs>\n      <path d=\"M 48.78125 52.59375 \nL 48.78125 44.1875 \nQ 44.96875 46.296875 41.140625 47.34375 \nQ 37.3125 48.390625 33.40625 48.390625 \nQ 24.65625 48.390625 19.8125 42.84375 \nQ 14.984375 37.3125 14.984375 27.296875 \nQ 14.984375 17.28125 19.8125 11.734375 \nQ 24.65625 6.203125 33.40625 6.203125 \nQ 37.3125 6.203125 41.140625 7.25 \nQ 44.96875 8.296875 48.78125 10.40625 \nL 48.78125 2.09375 \nQ 45.015625 0.34375 40.984375 -0.53125 \nQ 36.96875 -1.421875 32.421875 -1.421875 \nQ 20.0625 -1.421875 12.78125 6.34375 \nQ 5.515625 14.109375 5.515625 27.296875 \nQ 5.515625 40.671875 12.859375 48.328125 \nQ 20.21875 56 33.015625 56 \nQ 37.15625 56 41.109375 55.140625 \nQ 45.0625 54.296875 48.78125 52.59375 \nz\n\" id=\"DejaVuSans-99\"/>\n     </defs>\n     <g transform=\"translate(14.798438 456.47892)rotate(-90)scale(0.1 -0.1)\">\n      <use xlink:href=\"#DejaVuSans-99\"/>\n      <use x=\"54.980469\" xlink:href=\"#DejaVuSans-111\"/>\n      <use x=\"116.162109\" xlink:href=\"#DejaVuSans-117\"/>\n      <use x=\"179.541016\" xlink:href=\"#DejaVuSans-110\"/>\n      <use x=\"242.919922\" xlink:href=\"#DejaVuSans-116\"/>\n     </g>\n    </g>\n   </g>\n   <g id=\"patch_23\">\n    <path d=\"M 53.328125 565.918125 \nL 53.328125 318.827216 \n\" style=\"fill:none;stroke:#000000;stroke-linecap:square;stroke-linejoin:miter;stroke-width:0.8;\"/>\n   </g>\n   <g id=\"patch_24\">\n    <path d=\"M 946.128125 565.918125 \nL 946.128125 318.827216 \n\" style=\"fill:none;stroke:#000000;stroke-linecap:square;stroke-linejoin:miter;stroke-width:0.8;\"/>\n   </g>\n   <g id=\"patch_25\">\n    <path d=\"M 53.328125 565.918125 \nL 946.128125 565.918125 \n\" style=\"fill:none;stroke:#000000;stroke-linecap:square;stroke-linejoin:miter;stroke-width:0.8;\"/>\n   </g>\n   <g id=\"patch_26\">\n    <path d=\"M 53.328125 318.827216 \nL 946.128125 318.827216 \n\" style=\"fill:none;stroke:#000000;stroke-linecap:square;stroke-linejoin:miter;stroke-width:0.8;\"/>\n   </g>\n   <g id=\"text_36\">\n    <!-- show duration -->\n    <defs>\n     <path d=\"M 54.890625 33.015625 \nL 54.890625 0 \nL 45.90625 0 \nL 45.90625 32.71875 \nQ 45.90625 40.484375 42.875 44.328125 \nQ 39.84375 48.1875 33.796875 48.1875 \nQ 26.515625 48.1875 22.3125 43.546875 \nQ 18.109375 38.921875 18.109375 30.90625 \nL 18.109375 0 \nL 9.078125 0 \nL 9.078125 75.984375 \nL 18.109375 75.984375 \nL 18.109375 46.1875 \nQ 21.34375 51.125 25.703125 53.5625 \nQ 30.078125 56 35.796875 56 \nQ 45.21875 56 50.046875 50.171875 \nQ 54.890625 44.34375 54.890625 33.015625 \nz\n\" id=\"DejaVuSans-104\"/>\n     <path d=\"M 4.203125 54.6875 \nL 13.1875 54.6875 \nL 24.421875 12.015625 \nL 35.59375 54.6875 \nL 46.1875 54.6875 \nL 57.421875 12.015625 \nL 68.609375 54.6875 \nL 77.59375 54.6875 \nL 63.28125 0 \nL 52.6875 0 \nL 40.921875 44.828125 \nL 29.109375 0 \nL 18.5 0 \nz\n\" id=\"DejaVuSans-119\"/>\n    </defs>\n    <g transform=\"translate(457.067187 312.827216)scale(0.12 -0.12)\">\n     <use xlink:href=\"#DejaVuSans-115\"/>\n     <use x=\"52.099609\" xlink:href=\"#DejaVuSans-104\"/>\n     <use x=\"115.478516\" xlink:href=\"#DejaVuSans-111\"/>\n     <use x=\"176.660156\" xlink:href=\"#DejaVuSans-119\"/>\n     <use x=\"258.447266\" xlink:href=\"#DejaVuSans-32\"/>\n     <use x=\"290.234375\" xlink:href=\"#DejaVuSans-100\"/>\n     <use x=\"353.710938\" xlink:href=\"#DejaVuSans-117\"/>\n     <use x=\"417.089844\" xlink:href=\"#DejaVuSans-114\"/>\n     <use x=\"458.203125\" xlink:href=\"#DejaVuSans-97\"/>\n     <use x=\"519.482422\" xlink:href=\"#DejaVuSans-116\"/>\n     <use x=\"558.691406\" xlink:href=\"#DejaVuSans-105\"/>\n     <use x=\"586.474609\" xlink:href=\"#DejaVuSans-111\"/>\n     <use x=\"647.65625\" xlink:href=\"#DejaVuSans-110\"/>\n    </g>\n   </g>\n  </g>\n </g>\n <defs>\n  <clipPath id=\"p70ecec739e\">\n   <rect height=\"247.090909\" width=\"892.8\" x=\"53.328125\" y=\"22.318125\"/>\n  </clipPath>\n  <clipPath id=\"pab3e99b43d\">\n   <rect height=\"247.090909\" width=\"892.8\" x=\"53.328125\" y=\"318.827216\"/>\n  </clipPath>\n </defs>\n</svg>\n",
      "image/png": "[encoded data removed]"
     },
     "metadata": {}
    }
   ],
   "source": [
    "# distribution of duration of movies and shows\n",
    "f, axes = plt.subplots(nrows=2, ncols=1, figsize=(16,10), sharex=False)\n",
    "netflix_movie['minutes'] = netflix_movie['duration'].apply(lambda x: int(x.split(' ')[0]))\n",
    "# sns.distplot(netflix_movie['minutes'])\n",
    "f1 = sns.violinplot(netflix_movie['minutes'], ax=axes[0])\n",
    "f1.set_title('movies duration')\n",
    "f2 = sns.countplot(x='duration',data=netflix_show, palette='YlGnBu_r', order=netflix_show.duration.value_counts().index)\n",
    "f2.set_title('show duration')"
   ]
  },
  {
   "cell_type": "code",
   "execution_count": 10,
   "metadata": {},
   "outputs": [
    {
     "output_type": "execute_result",
     "data": {
      "text/plain": "  show_id   type  title           director  \\\n1      s2  Movie   7:19  Jorge Michel Grau   \n2      s3  Movie  23:59       Gilbert Chan   \n3      s4  Movie      9        Shane Acker   \n4      s5  Movie     21     Robert Luketic   \n6      s7  Movie    122    Yasir Al Yasiri   \n\n                                                cast        country  \\\n1  Demián Bichir, Héctor Bonilla, Oscar Serrano, ...         Mexico   \n2  Tedd Chan, Stella Chung, Henley Hii, Lawrence ...      Singapore   \n3  Elijah Wood, John C. Reilly, Jennifer Connelly...  United States   \n4  Jim Sturgess, Kevin Spacey, Kate Bosworth, Aar...  United States   \n6  Amina Khalil, Ahmed Dawood, Tarek Lotfy, Ahmed...          Egypt   \n\n          date_added  release_year rating duration  \\\n1  December 23, 2016          2016  TV-MA   93 min   \n2  December 20, 2018          2011      R   78 min   \n3  November 16, 2017          2009  PG-13   80 min   \n4    January 1, 2020          2008  PG-13  123 min   \n6       June 1, 2020          2019  TV-MA   95 min   \n\n                                           listed_in  \\\n1                       Dramas, International Movies   \n2                Horror Movies, International Movies   \n3  Action & Adventure, Independent Movies, Sci-Fi...   \n4                                             Dramas   \n6                Horror Movies, International Movies   \n\n                                         description  year  minutes  \n1  After a devastating earthquake hits Mexico Cit...  2016       93  \n2  When an army recruit is found dead, his fellow...  2018       78  \n3  In a postapocalyptic world, rag-doll robots hi...  2017       80  \n4  A brilliant group of students become card-coun...  2020      123  \n6  After an awful accident, a couple admitted to ...  2020       95  ",
      "text/html": "<div>\n<style scoped>\n    .dataframe tbody tr th:only-of-type {\n        vertical-align: middle;\n    }\n\n    .dataframe tbody tr th {\n        vertical-align: top;\n    }\n\n    .dataframe thead th {\n        text-align: right;\n    }\n</style>\n<table border=\"1\" class=\"dataframe\">\n  <thead>\n    <tr style=\"text-align: right;\">\n      <th></th>\n      <th>show_id</th>\n      <th>type</th>\n      <th>title</th>\n      <th>director</th>\n      <th>cast</th>\n      <th>country</th>\n      <th>date_added</th>\n      <th>release_year</th>\n      <th>rating</th>\n      <th>duration</th>\n      <th>listed_in</th>\n      <th>description</th>\n      <th>year</th>\n      <th>minutes</th>\n    </tr>\n  </thead>\n  <tbody>\n    <tr>\n      <th>1</th>\n      <td>s2</td>\n      <td>Movie</td>\n      <td>7:19</td>\n      <td>Jorge Michel Grau</td>\n      <td>Demián Bichir, Héctor Bonilla, Oscar Serrano, ...</td>\n      <td>Mexico</td>\n      <td>December 23, 2016</td>\n      <td>2016</td>\n      <td>TV-MA</td>\n      <td>93 min</td>\n      <td>Dramas, International Movies</td>\n      <td>After a devastating earthquake hits Mexico Cit...</td>\n      <td>2016</td>\n      <td>93</td>\n    </tr>\n    <tr>\n      <th>2</th>\n      <td>s3</td>\n      <td>Movie</td>\n      <td>23:59</td>\n      <td>Gilbert Chan</td>\n      <td>Tedd Chan, Stella Chung, Henley Hii, Lawrence ...</td>\n      <td>Singapore</td>\n      <td>December 20, 2018</td>\n      <td>2011</td>\n      <td>R</td>\n      <td>78 min</td>\n      <td>Horror Movies, International Movies</td>\n      <td>When an army recruit is found dead, his fellow...</td>\n      <td>2018</td>\n      <td>78</td>\n    </tr>\n    <tr>\n      <th>3</th>\n      <td>s4</td>\n      <td>Movie</td>\n      <td>9</td>\n      <td>Shane Acker</td>\n      <td>Elijah Wood, John C. Reilly, Jennifer Connelly...</td>\n      <td>United States</td>\n      <td>November 16, 2017</td>\n      <td>2009</td>\n      <td>PG-13</td>\n      <td>80 min</td>\n      <td>Action &amp; Adventure, Independent Movies, Sci-Fi...</td>\n      <td>In a postapocalyptic world, rag-doll robots hi...</td>\n      <td>2017</td>\n      <td>80</td>\n    </tr>\n    <tr>\n      <th>4</th>\n      <td>s5</td>\n      <td>Movie</td>\n      <td>21</td>\n      <td>Robert Luketic</td>\n      <td>Jim Sturgess, Kevin Spacey, Kate Bosworth, Aar...</td>\n      <td>United States</td>\n      <td>January 1, 2020</td>\n      <td>2008</td>\n      <td>PG-13</td>\n      <td>123 min</td>\n      <td>Dramas</td>\n      <td>A brilliant group of students become card-coun...</td>\n      <td>2020</td>\n      <td>123</td>\n    </tr>\n    <tr>\n      <th>6</th>\n      <td>s7</td>\n      <td>Movie</td>\n      <td>122</td>\n      <td>Yasir Al Yasiri</td>\n      <td>Amina Khalil, Ahmed Dawood, Tarek Lotfy, Ahmed...</td>\n      <td>Egypt</td>\n      <td>June 1, 2020</td>\n      <td>2019</td>\n      <td>TV-MA</td>\n      <td>95 min</td>\n      <td>Horror Movies, International Movies</td>\n      <td>After an awful accident, a couple admitted to ...</td>\n      <td>2020</td>\n      <td>95</td>\n    </tr>\n  </tbody>\n</table>\n</div>"
     },
     "metadata": {},
     "execution_count": 10
    }
   ],
   "source": [
    "netflix_movie.head()"
   ]
  },
  {
   "cell_type": "code",
   "execution_count": 11,
   "metadata": {},
   "outputs": [],
   "source": [
    "def extract_genre(df):\n",
    "    genres = {}\n",
    "    for i in list(df['listed_in']):\n",
    "        genre_list = i.split(',')\n",
    "        if len(genre_list) == 1:\n",
    "            if genre_list[0].strip() in genres.keys():\n",
    "                genres[genre_list[0].strip()] += 1\n",
    "            else:\n",
    "                genres[genre_list[0].strip()] = 1\n",
    "        else:\n",
    "            for g in genre_list:\n",
    "                if g.strip() in genres.keys():\n",
    "                    genres[g.strip()] +=1\n",
    "                else:\n",
    "                    genres[g.strip()] = 1\n",
    "    genres_clean = {k:v for k,v in genres.items() if k!=''}\n",
    "    return genres_clean"
   ]
  },
  {
   "cell_type": "code",
   "execution_count": 12,
   "metadata": {
    "tags": []
   },
   "outputs": [
    {
     "output_type": "display_data",
     "data": {
      "application/vnd.plotly.v1+json": {
       "config": {
        "plotlyServerURL": "https://plot.ly"
       },
       "data": [
        {
         "domain": {
          "x": [
           0,
           0.45
          ],
          "y": [
           0,
           1
          ]
         },
         "labels": [
          "International Movies",
          "Dramas",
          "Comedies",
          "Documentaries",
          "Action & Adventure",
          "Independent Movies",
          "Children & Family Movies",
          "Romantic Movies",
          "Thrillers",
          "Stand-Up Comedy",
          "Music & Musicals",
          "Horror Movies",
          "Sci-Fi & Fantasy",
          "Sports Movies",
          "Classic Movies",
          "LGBTQ Movies",
          "Cult Movies",
          "Faith & Spirituality",
          "Anime Features",
          "Movies"
         ],
         "name": "Movies genres",
         "textinfo": "percent+label",
         "textposition": "outside",
         "type": "pie",
         "values": [
          2437,
          2106,
          1471,
          786,
          721,
          673,
          532,
          531,
          491,
          329,
          321,
          312,
          218,
          196,
          103,
          90,
          59,
          57,
          57,
          56
         ]
        },
        {
         "domain": {
          "x": [
           0.55,
           1
          ],
          "y": [
           0,
           1
          ]
         },
         "labels": [
          "International TV Shows",
          "TV Dramas",
          "TV Comedies",
          "Crime TV Shows",
          "Kids' TV",
          "Docuseries",
          "Romantic TV Shows",
          "British TV Shows",
          "Reality TV",
          "Korean TV Shows",
          "TV Action & Adventure",
          "Anime Series",
          "Spanish-Language TV Shows",
          "TV Mysteries",
          "Science & Nature TV",
          "TV Sci-Fi & Fantasy",
          "TV Horror",
          "Teen TV Shows",
          "Stand-Up Comedy & Talk Shows",
          "TV Thrillers",
          "Classic & Cult TV",
          "TV Shows"
         ],
         "name": "Shows genres",
         "textinfo": "percent+label",
         "textposition": "outside",
         "type": "pie",
         "values": [
          1199,
          704,
          525,
          427,
          414,
          353,
          333,
          232,
          222,
          150,
          150,
          148,
          147,
          90,
          85,
          76,
          69,
          60,
          52,
          50,
          27,
          12
         ]
        }
       ],
       "layout": {
        "annotations": [
         {
          "font": {
           "size": 16
          },
          "showarrow": false,
          "text": "Movies genres",
          "x": 0.225,
          "xanchor": "center",
          "xref": "paper",
          "y": 1,
          "yanchor": "bottom",
          "yref": "paper"
         },
         {
          "font": {
           "size": 16
          },
          "showarrow": false,
          "text": "Shows genres",
          "x": 0.775,
          "xanchor": "center",
          "xref": "paper",
          "y": 1,
          "yanchor": "bottom",
          "yref": "paper"
         }
        ],
        "height": 600,
        "showlegend": false,
        "template": {
         "data": {
          "bar": [
           {
            "error_x": {
             "color": "#2a3f5f"
            },
            "error_y": {
             "color": "#2a3f5f"
            },
            "marker": {
             "line": {
              "color": "#E5ECF6",
              "width": 0.5
             }
            },
            "type": "bar"
           }
          ],
          "barpolar": [
           {
            "marker": {
             "line": {
              "color": "#E5ECF6",
              "width": 0.5
             }
            },
            "type": "barpolar"
           }
          ],
          "carpet": [
           {
            "aaxis": {
             "endlinecolor": "#2a3f5f",
             "gridcolor": "white",
             "linecolor": "white",
             "minorgridcolor": "white",
             "startlinecolor": "#2a3f5f"
            },
            "baxis": {
             "endlinecolor": "#2a3f5f",
             "gridcolor": "white",
             "linecolor": "white",
             "minorgridcolor": "white",
             "startlinecolor": "#2a3f5f"
            },
            "type": "carpet"
           }
          ],
          "choropleth": [
           {
            "colorbar": {
             "outlinewidth": 0,
             "ticks": ""
            },
            "type": "choropleth"
           }
          ],
          "contour": [
           {
            "colorbar": {
             "outlinewidth": 0,
             "ticks": ""
            },
            "colorscale": [
             [
              0,
              "#0d0887"
             ],
             [
              0.1111111111111111,
              "#46039f"
             ],
             [
              0.2222222222222222,
              "#7201a8"
             ],
             [
              0.3333333333333333,
              "#9c179e"
             ],
             [
              0.4444444444444444,
              "#bd3786"
             ],
             [
              0.5555555555555556,
              "#d8576b"
             ],
             [
              0.6666666666666666,
              "#ed7953"
             ],
             [
              0.7777777777777778,
              "#fb9f3a"
             ],
             [
              0.8888888888888888,
              "#fdca26"
             ],
             [
              1,
              "#f0f921"
             ]
            ],
            "type": "contour"
           }
          ],
          "contourcarpet": [
           {
            "colorbar": {
             "outlinewidth": 0,
             "ticks": ""
            },
            "type": "contourcarpet"
           }
          ],
          "heatmap": [
           {
            "colorbar": {
             "outlinewidth": 0,
             "ticks": ""
            },
            "colorscale": [
             [
              0,
              "#0d0887"
             ],
             [
              0.1111111111111111,
              "#46039f"
             ],
             [
              0.2222222222222222,
              "#7201a8"
             ],
             [
              0.3333333333333333,
              "#9c179e"
             ],
             [
              0.4444444444444444,
              "#bd3786"
             ],
             [
              0.5555555555555556,
              "#d8576b"
             ],
             [
              0.6666666666666666,
              "#ed7953"
             ],
             [
              0.7777777777777778,
              "#fb9f3a"
             ],
             [
              0.8888888888888888,
              "#fdca26"
             ],
             [
              1,
              "#f0f921"
             ]
            ],
            "type": "heatmap"
           }
          ],
          "heatmapgl": [
           {
            "colorbar": {
             "outlinewidth": 0,
             "ticks": ""
            },
            "colorscale": [
             [
              0,
              "#0d0887"
             ],
             [
              0.1111111111111111,
              "#46039f"
             ],
             [
              0.2222222222222222,
              "#7201a8"
             ],
             [
              0.3333333333333333,
              "#9c179e"
             ],
             [
              0.4444444444444444,
              "#bd3786"
             ],
             [
              0.5555555555555556,
              "#d8576b"
             ],
             [
              0.6666666666666666,
              "#ed7953"
             ],
             [
              0.7777777777777778,
              "#fb9f3a"
             ],
             [
              0.8888888888888888,
              "#fdca26"
             ],
             [
              1,
              "#f0f921"
             ]
            ],
            "type": "heatmapgl"
           }
          ],
          "histogram": [
           {
            "marker": {
             "colorbar": {
              "outlinewidth": 0,
              "ticks": ""
             }
            },
            "type": "histogram"
           }
          ],
          "histogram2d": [
           {
            "colorbar": {
             "outlinewidth": 0,
             "ticks": ""
            },
            "colorscale": [
             [
              0,
              "#0d0887"
             ],
             [
              0.1111111111111111,
              "#46039f"
             ],
             [
              0.2222222222222222,
              "#7201a8"
             ],
             [
              0.3333333333333333,
              "#9c179e"
             ],
             [
              0.4444444444444444,
              "#bd3786"
             ],
             [
              0.5555555555555556,
              "#d8576b"
             ],
             [
              0.6666666666666666,
              "#ed7953"
             ],
             [
              0.7777777777777778,
              "#fb9f3a"
             ],
             [
              0.8888888888888888,
              "#fdca26"
             ],
             [
              1,
              "#f0f921"
             ]
            ],
            "type": "histogram2d"
           }
          ],
          "histogram2dcontour": [
           {
            "colorbar": {
             "outlinewidth": 0,
             "ticks": ""
            },
            "colorscale": [
             [
              0,
              "#0d0887"
             ],
             [
              0.1111111111111111,
              "#46039f"
             ],
             [
              0.2222222222222222,
              "#7201a8"
             ],
             [
              0.3333333333333333,
              "#9c179e"
             ],
             [
              0.4444444444444444,
              "#bd3786"
             ],
             [
              0.5555555555555556,
              "#d8576b"
             ],
             [
              0.6666666666666666,
              "#ed7953"
             ],
             [
              0.7777777777777778,
              "#fb9f3a"
             ],
             [
              0.8888888888888888,
              "#fdca26"
             ],
             [
              1,
              "#f0f921"
             ]
            ],
            "type": "histogram2dcontour"
           }
          ],
          "mesh3d": [
           {
            "colorbar": {
             "outlinewidth": 0,
             "ticks": ""
            },
            "type": "mesh3d"
           }
          ],
          "parcoords": [
           {
            "line": {
             "colorbar": {
              "outlinewidth": 0,
              "ticks": ""
             }
            },
            "type": "parcoords"
           }
          ],
          "pie": [
           {
            "automargin": true,
            "type": "pie"
           }
          ],
          "scatter": [
           {
            "marker": {
             "colorbar": {
              "outlinewidth": 0,
              "ticks": ""
             }
            },
            "type": "scatter"
           }
          ],
          "scatter3d": [
           {
            "line": {
             "colorbar": {
              "outlinewidth": 0,
              "ticks": ""
             }
            },
            "marker": {
             "colorbar": {
              "outlinewidth": 0,
              "ticks": ""
             }
            },
            "type": "scatter3d"
           }
          ],
          "scattercarpet": [
           {
            "marker": {
             "colorbar": {
              "outlinewidth": 0,
              "ticks": ""
             }
            },
            "type": "scattercarpet"
           }
          ],
          "scattergeo": [
           {
            "marker": {
             "colorbar": {
              "outlinewidth": 0,
              "ticks": ""
             }
            },
            "type": "scattergeo"
           }
          ],
          "scattergl": [
           {
            "marker": {
             "colorbar": {
              "outlinewidth": 0,
              "ticks": ""
             }
            },
            "type": "scattergl"
           }
          ],
          "scattermapbox": [
           {
            "marker": {
             "colorbar": {
              "outlinewidth": 0,
              "ticks": ""
             }
            },
            "type": "scattermapbox"
           }
          ],
          "scatterpolar": [
           {
            "marker": {
             "colorbar": {
              "outlinewidth": 0,
              "ticks": ""
             }
            },
            "type": "scatterpolar"
           }
          ],
          "scatterpolargl": [
           {
            "marker": {
             "colorbar": {
              "outlinewidth": 0,
              "ticks": ""
             }
            },
            "type": "scatterpolargl"
           }
          ],
          "scatterternary": [
           {
            "marker": {
             "colorbar": {
              "outlinewidth": 0,
              "ticks": ""
             }
            },
            "type": "scatterternary"
           }
          ],
          "surface": [
           {
            "colorbar": {
             "outlinewidth": 0,
             "ticks": ""
            },
            "colorscale": [
             [
              0,
              "#0d0887"
             ],
             [
              0.1111111111111111,
              "#46039f"
             ],
             [
              0.2222222222222222,
              "#7201a8"
             ],
             [
              0.3333333333333333,
              "#9c179e"
             ],
             [
              0.4444444444444444,
              "#bd3786"
             ],
             [
              0.5555555555555556,
              "#d8576b"
             ],
             [
              0.6666666666666666,
              "#ed7953"
             ],
             [
              0.7777777777777778,
              "#fb9f3a"
             ],
             [
              0.8888888888888888,
              "#fdca26"
             ],
             [
              1,
              "#f0f921"
             ]
            ],
            "type": "surface"
           }
          ],
          "table": [
           {
            "cells": {
             "fill": {
              "color": "#EBF0F8"
             },
             "line": {
              "color": "white"
             }
            },
            "header": {
             "fill": {
              "color": "#C8D4E3"
             },
             "line": {
              "color": "white"
             }
            },
            "type": "table"
           }
          ]
         },
         "layout": {
          "annotationdefaults": {
           "arrowcolor": "#2a3f5f",
           "arrowhead": 0,
           "arrowwidth": 1
          },
          "coloraxis": {
           "colorbar": {
            "outlinewidth": 0,
            "ticks": ""
           }
          },
          "colorscale": {
           "diverging": [
            [
             0,
             "#8e0152"
            ],
            [
             0.1,
             "#c51b7d"
            ],
            [
             0.2,
             "#de77ae"
            ],
            [
             0.3,
             "#f1b6da"
            ],
            [
             0.4,
             "#fde0ef"
            ],
            [
             0.5,
             "#f7f7f7"
            ],
            [
             0.6,
             "#e6f5d0"
            ],
            [
             0.7,
             "#b8e186"
            ],
            [
             0.8,
             "#7fbc41"
            ],
            [
             0.9,
             "#4d9221"
            ],
            [
             1,
             "#276419"
            ]
           ],
           "sequential": [
            [
             0,
             "#0d0887"
            ],
            [
             0.1111111111111111,
             "#46039f"
            ],
            [
             0.2222222222222222,
             "#7201a8"
            ],
            [
             0.3333333333333333,
             "#9c179e"
            ],
            [
             0.4444444444444444,
             "#bd3786"
            ],
            [
             0.5555555555555556,
             "#d8576b"
            ],
            [
             0.6666666666666666,
             "#ed7953"
            ],
            [
             0.7777777777777778,
             "#fb9f3a"
            ],
            [
             0.8888888888888888,
             "#fdca26"
            ],
            [
             1,
             "#f0f921"
            ]
           ],
           "sequentialminus": [
            [
             0,
             "#0d0887"
            ],
            [
             0.1111111111111111,
             "#46039f"
            ],
            [
             0.2222222222222222,
             "#7201a8"
            ],
            [
             0.3333333333333333,
             "#9c179e"
            ],
            [
             0.4444444444444444,
             "#bd3786"
            ],
            [
             0.5555555555555556,
             "#d8576b"
            ],
            [
             0.6666666666666666,
             "#ed7953"
            ],
            [
             0.7777777777777778,
             "#fb9f3a"
            ],
            [
             0.8888888888888888,
             "#fdca26"
            ],
            [
             1,
             "#f0f921"
            ]
           ]
          },
          "colorway": [
           "#636efa",
           "#EF553B",
           "#00cc96",
           "#ab63fa",
           "#FFA15A",
           "#19d3f3",
           "#FF6692",
           "#B6E880",
           "#FF97FF",
           "#FECB52"
          ],
          "font": {
           "color": "#2a3f5f"
          },
          "geo": {
           "bgcolor": "white",
           "lakecolor": "white",
           "landcolor": "#E5ECF6",
           "showlakes": true,
           "showland": true,
           "subunitcolor": "white"
          },
          "hoverlabel": {
           "align": "left"
          },
          "hovermode": "closest",
          "mapbox": {
           "style": "light"
          },
          "paper_bgcolor": "white",
          "plot_bgcolor": "#E5ECF6",
          "polar": {
           "angularaxis": {
            "gridcolor": "white",
            "linecolor": "white",
            "ticks": ""
           },
           "bgcolor": "#E5ECF6",
           "radialaxis": {
            "gridcolor": "white",
            "linecolor": "white",
            "ticks": ""
           }
          },
          "scene": {
           "xaxis": {
            "backgroundcolor": "#E5ECF6",
            "gridcolor": "white",
            "gridwidth": 2,
            "linecolor": "white",
            "showbackground": true,
            "ticks": "",
            "zerolinecolor": "white"
           },
           "yaxis": {
            "backgroundcolor": "#E5ECF6",
            "gridcolor": "white",
            "gridwidth": 2,
            "linecolor": "white",
            "showbackground": true,
            "ticks": "",
            "zerolinecolor": "white"
           },
           "zaxis": {
            "backgroundcolor": "#E5ECF6",
            "gridcolor": "white",
            "gridwidth": 2,
            "linecolor": "white",
            "showbackground": true,
            "ticks": "",
            "zerolinecolor": "white"
           }
          },
          "shapedefaults": {
           "line": {
            "color": "#2a3f5f"
           }
          },
          "ternary": {
           "aaxis": {
            "gridcolor": "white",
            "linecolor": "white",
            "ticks": ""
           },
           "baxis": {
            "gridcolor": "white",
            "linecolor": "white",
            "ticks": ""
           },
           "bgcolor": "#E5ECF6",
           "caxis": {
            "gridcolor": "white",
            "linecolor": "white",
            "ticks": ""
           }
          },
          "title": {
           "x": 0.05
          },
          "xaxis": {
           "automargin": true,
           "gridcolor": "white",
           "linecolor": "white",
           "ticks": "",
           "title": {
            "standoff": 15
           },
           "zerolinecolor": "white",
           "zerolinewidth": 2
          },
          "yaxis": {
           "automargin": true,
           "gridcolor": "white",
           "linecolor": "white",
           "ticks": "",
           "title": {
            "standoff": 15
           },
           "zerolinecolor": "white",
           "zerolinewidth": 2
          }
         }
        },
        "width": 1400
       }
      }
     },
     "metadata": {}
    }
   ],
   "source": [
    "genres_movie = extract_genre(netflix_movie)\n",
    "genres_show = extract_genre(netflix_show)\n",
    "df_genres_movie = pd.DataFrame.from_dict(genres_movie, orient='index',columns=['count']).reset_index().rename(columns={'index':'genre'}).sort_values('count',ascending=False)\n",
    "df_genres_show = pd.DataFrame.from_dict(genres_show, orient='index',columns=['count']).reset_index().rename(columns={'index':'genre'}).sort_values('count',ascending=False)\n",
    "\n",
    "from plotly.subplots import make_subplots\n",
    "fig = make_subplots(rows=1, cols=2, specs=[[{'type':'domain'}, {'type':'domain'}]],subplot_titles=['Movies genres', 'Shows genres'])\n",
    "# fig = px.pie(df_genres_movie, values='count', names='genre', hover_data=['count'])\n",
    "fig.add_trace(go.Pie(labels = df_genres_movie['genre'], values=df_genres_movie['count'], name='Movies genres'),1,1)\n",
    "fig.add_trace(go.Pie(labels = df_genres_show['genre'], values=df_genres_show['count'], name='Shows genres'),1,2)\n",
    "# fig.add_trace(px.pie(df_genres_show, values='count', names='genre',title='Shows genres'))\n",
    "fig.update_traces(textposition='outside', textinfo='percent+label')\n",
    "fig.update_layout(width=1400,height=600,showlegend=False)\n",
    "fig.show()"
   ]
  },
  {
   "cell_type": "code",
   "execution_count": 13,
   "metadata": {},
   "outputs": [],
   "source": [
    "def extract_country(df):\n",
    "    countries={}\n",
    "    df['country'] = df.country.fillna('Unknown')\n",
    "    for i in list(df['country']):\n",
    "        country_list = i.split(',')\n",
    "        if len(country_list)==1:\n",
    "            if country_list[0].strip() in countries.keys():\n",
    "                countries[country_list[0].strip()]+=1\n",
    "            else:\n",
    "                countries[country_list[0].strip()]=1\n",
    "        else:\n",
    "            for j in country_list:\n",
    "                if j.strip() in countries.keys():\n",
    "                    countries[j.strip()]+=1\n",
    "                else:\n",
    "                    countries[j.strip()]=1\n",
    "#   countries\n",
    "\n",
    "#   countries_fin={k: v for k, v in sorted(countries.items(), key=lambda item: item[1], reverse= True)}\n",
    "    countries_clean = {k:v for k, v in countries.items() if k!='' }\n",
    "    return countries_clean"
   ]
  },
  {
   "cell_type": "code",
   "execution_count": 14,
   "metadata": {},
   "outputs": [],
   "source": [
    "countries_movie = extract_country(netflix_movie)\n",
    "countries_show = extract_country(netflix_show)\n",
    "\n",
    "df_countries_movie = pd.DataFrame.from_dict(countries_movie, orient='index',columns=['count']).reset_index().rename(columns={'index':'country'}).sort_values('count',ascending=False)\n",
    "df_countries_show = pd.DataFrame.from_dict(countries_show, orient='index',columns=['count']).reset_index().rename(columns={'index':'country'}).sort_values('count',ascending=False)\n",
    "# sns.barplot(x=list(countries_movie.keys())[:10], y=list(countries_movie.values())[:10])"
   ]
  },
  {
   "cell_type": "code",
   "execution_count": 15,
   "metadata": {},
   "outputs": [],
   "source": [
    "# top 10 countires by contents\n",
    "df_countries_content = pd.concat([df_countries_movie, df_countries_show]).groupby('country').agg({'count':sum}).reset_index().sort_values('count',ascending=False)\n",
    "top10_countries_content = list(df_countries_content[df_countries_content['country']!='Unknown'].iloc[:10].country)\n"
   ]
  },
  {
   "cell_type": "code",
   "execution_count": 16,
   "metadata": {},
   "outputs": [
    {
     "output_type": "display_data",
     "data": {
      "application/vnd.plotly.v1+json": {
       "config": {
        "plotlyServerURL": "https://plot.ly"
       },
       "data": [
        {
         "name": "movie",
         "type": "bar",
         "x": [
          "United States",
          "India",
          "United Kingdom",
          "Canada",
          "France",
          "Spain",
          "Germany",
          "Japan",
          "Mexico",
          "South Korea"
         ],
         "y": [
          2431,
          915,
          467,
          286,
          265,
          158,
          157,
          103,
          101,
          55
         ]
        },
        {
         "name": "show",
         "type": "bar",
         "x": [
          "United States",
          "India",
          "United Kingdom",
          "Canada",
          "France",
          "Spain",
          "Germany",
          "Japan",
          "Mexico",
          "South Korea"
         ],
         "y": [
          866,
          75,
          256,
          126,
          84,
          57,
          42,
          184,
          53,
          157
         ]
        }
       ],
       "layout": {
        "barmode": "stack",
        "height": 400,
        "template": {
         "data": {
          "bar": [
           {
            "error_x": {
             "color": "#2a3f5f"
            },
            "error_y": {
             "color": "#2a3f5f"
            },
            "marker": {
             "line": {
              "color": "#E5ECF6",
              "width": 0.5
             }
            },
            "type": "bar"
           }
          ],
          "barpolar": [
           {
            "marker": {
             "line": {
              "color": "#E5ECF6",
              "width": 0.5
             }
            },
            "type": "barpolar"
           }
          ],
          "carpet": [
           {
            "aaxis": {
             "endlinecolor": "#2a3f5f",
             "gridcolor": "white",
             "linecolor": "white",
             "minorgridcolor": "white",
             "startlinecolor": "#2a3f5f"
            },
            "baxis": {
             "endlinecolor": "#2a3f5f",
             "gridcolor": "white",
             "linecolor": "white",
             "minorgridcolor": "white",
             "startlinecolor": "#2a3f5f"
            },
            "type": "carpet"
           }
          ],
          "choropleth": [
           {
            "colorbar": {
             "outlinewidth": 0,
             "ticks": ""
            },
            "type": "choropleth"
           }
          ],
          "contour": [
           {
            "colorbar": {
             "outlinewidth": 0,
             "ticks": ""
            },
            "colorscale": [
             [
              0,
              "#0d0887"
             ],
             [
              0.1111111111111111,
              "#46039f"
             ],
             [
              0.2222222222222222,
              "#7201a8"
             ],
             [
              0.3333333333333333,
              "#9c179e"
             ],
             [
              0.4444444444444444,
              "#bd3786"
             ],
             [
              0.5555555555555556,
              "#d8576b"
             ],
             [
              0.6666666666666666,
              "#ed7953"
             ],
             [
              0.7777777777777778,
              "#fb9f3a"
             ],
             [
              0.8888888888888888,
              "#fdca26"
             ],
             [
              1,
              "#f0f921"
             ]
            ],
            "type": "contour"
           }
          ],
          "contourcarpet": [
           {
            "colorbar": {
             "outlinewidth": 0,
             "ticks": ""
            },
            "type": "contourcarpet"
           }
          ],
          "heatmap": [
           {
            "colorbar": {
             "outlinewidth": 0,
             "ticks": ""
            },
            "colorscale": [
             [
              0,
              "#0d0887"
             ],
             [
              0.1111111111111111,
              "#46039f"
             ],
             [
              0.2222222222222222,
              "#7201a8"
             ],
             [
              0.3333333333333333,
              "#9c179e"
             ],
             [
              0.4444444444444444,
              "#bd3786"
             ],
             [
              0.5555555555555556,
              "#d8576b"
             ],
             [
              0.6666666666666666,
              "#ed7953"
             ],
             [
              0.7777777777777778,
              "#fb9f3a"
             ],
             [
              0.8888888888888888,
              "#fdca26"
             ],
             [
              1,
              "#f0f921"
             ]
            ],
            "type": "heatmap"
           }
          ],
          "heatmapgl": [
           {
            "colorbar": {
             "outlinewidth": 0,
             "ticks": ""
            },
            "colorscale": [
             [
              0,
              "#0d0887"
             ],
             [
              0.1111111111111111,
              "#46039f"
             ],
             [
              0.2222222222222222,
              "#7201a8"
             ],
             [
              0.3333333333333333,
              "#9c179e"
             ],
             [
              0.4444444444444444,
              "#bd3786"
             ],
             [
              0.5555555555555556,
              "#d8576b"
             ],
             [
              0.6666666666666666,
              "#ed7953"
             ],
             [
              0.7777777777777778,
              "#fb9f3a"
             ],
             [
              0.8888888888888888,
              "#fdca26"
             ],
             [
              1,
              "#f0f921"
             ]
            ],
            "type": "heatmapgl"
           }
          ],
          "histogram": [
           {
            "marker": {
             "colorbar": {
              "outlinewidth": 0,
              "ticks": ""
             }
            },
            "type": "histogram"
           }
          ],
          "histogram2d": [
           {
            "colorbar": {
             "outlinewidth": 0,
             "ticks": ""
            },
            "colorscale": [
             [
              0,
              "#0d0887"
             ],
             [
              0.1111111111111111,
              "#46039f"
             ],
             [
              0.2222222222222222,
              "#7201a8"
             ],
             [
              0.3333333333333333,
              "#9c179e"
             ],
             [
              0.4444444444444444,
              "#bd3786"
             ],
             [
              0.5555555555555556,
              "#d8576b"
             ],
             [
              0.6666666666666666,
              "#ed7953"
             ],
             [
              0.7777777777777778,
              "#fb9f3a"
             ],
             [
              0.8888888888888888,
              "#fdca26"
             ],
             [
              1,
              "#f0f921"
             ]
            ],
            "type": "histogram2d"
           }
          ],
          "histogram2dcontour": [
           {
            "colorbar": {
             "outlinewidth": 0,
             "ticks": ""
            },
            "colorscale": [
             [
              0,
              "#0d0887"
             ],
             [
              0.1111111111111111,
              "#46039f"
             ],
             [
              0.2222222222222222,
              "#7201a8"
             ],
             [
              0.3333333333333333,
              "#9c179e"
             ],
             [
              0.4444444444444444,
              "#bd3786"
             ],
             [
              0.5555555555555556,
              "#d8576b"
             ],
             [
              0.6666666666666666,
              "#ed7953"
             ],
             [
              0.7777777777777778,
              "#fb9f3a"
             ],
             [
              0.8888888888888888,
              "#fdca26"
             ],
             [
              1,
              "#f0f921"
             ]
            ],
            "type": "histogram2dcontour"
           }
          ],
          "mesh3d": [
           {
            "colorbar": {
             "outlinewidth": 0,
             "ticks": ""
            },
            "type": "mesh3d"
           }
          ],
          "parcoords": [
           {
            "line": {
             "colorbar": {
              "outlinewidth": 0,
              "ticks": ""
             }
            },
            "type": "parcoords"
           }
          ],
          "pie": [
           {
            "automargin": true,
            "type": "pie"
           }
          ],
          "scatter": [
           {
            "marker": {
             "colorbar": {
              "outlinewidth": 0,
              "ticks": ""
             }
            },
            "type": "scatter"
           }
          ],
          "scatter3d": [
           {
            "line": {
             "colorbar": {
              "outlinewidth": 0,
              "ticks": ""
             }
            },
            "marker": {
             "colorbar": {
              "outlinewidth": 0,
              "ticks": ""
             }
            },
            "type": "scatter3d"
           }
          ],
          "scattercarpet": [
           {
            "marker": {
             "colorbar": {
              "outlinewidth": 0,
              "ticks": ""
             }
            },
            "type": "scattercarpet"
           }
          ],
          "scattergeo": [
           {
            "marker": {
             "colorbar": {
              "outlinewidth": 0,
              "ticks": ""
             }
            },
            "type": "scattergeo"
           }
          ],
          "scattergl": [
           {
            "marker": {
             "colorbar": {
              "outlinewidth": 0,
              "ticks": ""
             }
            },
            "type": "scattergl"
           }
          ],
          "scattermapbox": [
           {
            "marker": {
             "colorbar": {
              "outlinewidth": 0,
              "ticks": ""
             }
            },
            "type": "scattermapbox"
           }
          ],
          "scatterpolar": [
           {
            "marker": {
             "colorbar": {
              "outlinewidth": 0,
              "ticks": ""
             }
            },
            "type": "scatterpolar"
           }
          ],
          "scatterpolargl": [
           {
            "marker": {
             "colorbar": {
              "outlinewidth": 0,
              "ticks": ""
             }
            },
            "type": "scatterpolargl"
           }
          ],
          "scatterternary": [
           {
            "marker": {
             "colorbar": {
              "outlinewidth": 0,
              "ticks": ""
             }
            },
            "type": "scatterternary"
           }
          ],
          "surface": [
           {
            "colorbar": {
             "outlinewidth": 0,
             "ticks": ""
            },
            "colorscale": [
             [
              0,
              "#0d0887"
             ],
             [
              0.1111111111111111,
              "#46039f"
             ],
             [
              0.2222222222222222,
              "#7201a8"
             ],
             [
              0.3333333333333333,
              "#9c179e"
             ],
             [
              0.4444444444444444,
              "#bd3786"
             ],
             [
              0.5555555555555556,
              "#d8576b"
             ],
             [
              0.6666666666666666,
              "#ed7953"
             ],
             [
              0.7777777777777778,
              "#fb9f3a"
             ],
             [
              0.8888888888888888,
              "#fdca26"
             ],
             [
              1,
              "#f0f921"
             ]
            ],
            "type": "surface"
           }
          ],
          "table": [
           {
            "cells": {
             "fill": {
              "color": "#EBF0F8"
             },
             "line": {
              "color": "white"
             }
            },
            "header": {
             "fill": {
              "color": "#C8D4E3"
             },
             "line": {
              "color": "white"
             }
            },
            "type": "table"
           }
          ]
         },
         "layout": {
          "annotationdefaults": {
           "arrowcolor": "#2a3f5f",
           "arrowhead": 0,
           "arrowwidth": 1
          },
          "coloraxis": {
           "colorbar": {
            "outlinewidth": 0,
            "ticks": ""
           }
          },
          "colorscale": {
           "diverging": [
            [
             0,
             "#8e0152"
            ],
            [
             0.1,
             "#c51b7d"
            ],
            [
             0.2,
             "#de77ae"
            ],
            [
             0.3,
             "#f1b6da"
            ],
            [
             0.4,
             "#fde0ef"
            ],
            [
             0.5,
             "#f7f7f7"
            ],
            [
             0.6,
             "#e6f5d0"
            ],
            [
             0.7,
             "#b8e186"
            ],
            [
             0.8,
             "#7fbc41"
            ],
            [
             0.9,
             "#4d9221"
            ],
            [
             1,
             "#276419"
            ]
           ],
           "sequential": [
            [
             0,
             "#0d0887"
            ],
            [
             0.1111111111111111,
             "#46039f"
            ],
            [
             0.2222222222222222,
             "#7201a8"
            ],
            [
             0.3333333333333333,
             "#9c179e"
            ],
            [
             0.4444444444444444,
             "#bd3786"
            ],
            [
             0.5555555555555556,
             "#d8576b"
            ],
            [
             0.6666666666666666,
             "#ed7953"
            ],
            [
             0.7777777777777778,
             "#fb9f3a"
            ],
            [
             0.8888888888888888,
             "#fdca26"
            ],
            [
             1,
             "#f0f921"
            ]
           ],
           "sequentialminus": [
            [
             0,
             "#0d0887"
            ],
            [
             0.1111111111111111,
             "#46039f"
            ],
            [
             0.2222222222222222,
             "#7201a8"
            ],
            [
             0.3333333333333333,
             "#9c179e"
            ],
            [
             0.4444444444444444,
             "#bd3786"
            ],
            [
             0.5555555555555556,
             "#d8576b"
            ],
            [
             0.6666666666666666,
             "#ed7953"
            ],
            [
             0.7777777777777778,
             "#fb9f3a"
            ],
            [
             0.8888888888888888,
             "#fdca26"
            ],
            [
             1,
             "#f0f921"
            ]
           ]
          },
          "colorway": [
           "#636efa",
           "#EF553B",
           "#00cc96",
           "#ab63fa",
           "#FFA15A",
           "#19d3f3",
           "#FF6692",
           "#B6E880",
           "#FF97FF",
           "#FECB52"
          ],
          "font": {
           "color": "#2a3f5f"
          },
          "geo": {
           "bgcolor": "white",
           "lakecolor": "white",
           "landcolor": "#E5ECF6",
           "showlakes": true,
           "showland": true,
           "subunitcolor": "white"
          },
          "hoverlabel": {
           "align": "left"
          },
          "hovermode": "closest",
          "mapbox": {
           "style": "light"
          },
          "paper_bgcolor": "white",
          "plot_bgcolor": "#E5ECF6",
          "polar": {
           "angularaxis": {
            "gridcolor": "white",
            "linecolor": "white",
            "ticks": ""
           },
           "bgcolor": "#E5ECF6",
           "radialaxis": {
            "gridcolor": "white",
            "linecolor": "white",
            "ticks": ""
           }
          },
          "scene": {
           "xaxis": {
            "backgroundcolor": "#E5ECF6",
            "gridcolor": "white",
            "gridwidth": 2,
            "linecolor": "white",
            "showbackground": true,
            "ticks": "",
            "zerolinecolor": "white"
           },
           "yaxis": {
            "backgroundcolor": "#E5ECF6",
            "gridcolor": "white",
            "gridwidth": 2,
            "linecolor": "white",
            "showbackground": true,
            "ticks": "",
            "zerolinecolor": "white"
           },
           "zaxis": {
            "backgroundcolor": "#E5ECF6",
            "gridcolor": "white",
            "gridwidth": 2,
            "linecolor": "white",
            "showbackground": true,
            "ticks": "",
            "zerolinecolor": "white"
           }
          },
          "shapedefaults": {
           "line": {
            "color": "#2a3f5f"
           }
          },
          "ternary": {
           "aaxis": {
            "gridcolor": "white",
            "linecolor": "white",
            "ticks": ""
           },
           "baxis": {
            "gridcolor": "white",
            "linecolor": "white",
            "ticks": ""
           },
           "bgcolor": "#E5ECF6",
           "caxis": {
            "gridcolor": "white",
            "linecolor": "white",
            "ticks": ""
           }
          },
          "title": {
           "x": 0.05
          },
          "xaxis": {
           "automargin": true,
           "gridcolor": "white",
           "linecolor": "white",
           "ticks": "",
           "title": {
            "standoff": 15
           },
           "zerolinecolor": "white",
           "zerolinewidth": 2
          },
          "yaxis": {
           "automargin": true,
           "gridcolor": "white",
           "linecolor": "white",
           "ticks": "",
           "title": {
            "standoff": 15
           },
           "zerolinecolor": "white",
           "zerolinewidth": 2
          }
         }
        },
        "width": 1200,
        "xaxis": {
         "categoryorder": "total descending"
        }
       }
      }
     },
     "metadata": {}
    },
    {
     "output_type": "display_data",
     "data": {
      "application/vnd.plotly.v1+json": {
       "config": {
        "plotlyServerURL": "https://plot.ly"
       },
       "data": [
        {
         "customdata": [
          [
           "United States"
          ]
         ],
         "hovertemplate": "country=%{customdata[0]}<br>count_movie=%{x}<br>count_show=%{y}<br>size=%{marker.size}<extra></extra>",
         "legendgroup": "United States",
         "marker": {
          "color": "#636efa",
          "size": [
           3297
          ],
          "sizemode": "area",
          "sizeref": 8.2425,
          "symbol": "circle"
         },
         "mode": "markers",
         "name": "United States",
         "orientation": "v",
         "showlegend": true,
         "type": "scatter",
         "x": [
          2431
         ],
         "xaxis": "x",
         "y": [
          866
         ],
         "yaxis": "y"
        },
        {
         "customdata": [
          [
           "India"
          ]
         ],
         "hovertemplate": "country=%{customdata[0]}<br>count_movie=%{x}<br>count_show=%{y}<br>size=%{marker.size}<extra></extra>",
         "legendgroup": "India",
         "marker": {
          "color": "#EF553B",
          "size": [
           990
          ],
          "sizemode": "area",
          "sizeref": 8.2425,
          "symbol": "circle"
         },
         "mode": "markers",
         "name": "India",
         "orientation": "v",
         "showlegend": true,
         "type": "scatter",
         "x": [
          915
         ],
         "xaxis": "x",
         "y": [
          75
         ],
         "yaxis": "y"
        },
        {
         "customdata": [
          [
           "United Kingdom"
          ]
         ],
         "hovertemplate": "country=%{customdata[0]}<br>count_movie=%{x}<br>count_show=%{y}<br>size=%{marker.size}<extra></extra>",
         "legendgroup": "United Kingdom",
         "marker": {
          "color": "#00cc96",
          "size": [
           723
          ],
          "sizemode": "area",
          "sizeref": 8.2425,
          "symbol": "circle"
         },
         "mode": "markers",
         "name": "United Kingdom",
         "orientation": "v",
         "showlegend": true,
         "type": "scatter",
         "x": [
          467
         ],
         "xaxis": "x",
         "y": [
          256
         ],
         "yaxis": "y"
        },
        {
         "customdata": [
          [
           "Canada"
          ]
         ],
         "hovertemplate": "country=%{customdata[0]}<br>count_movie=%{x}<br>count_show=%{y}<br>size=%{marker.size}<extra></extra>",
         "legendgroup": "Canada",
         "marker": {
          "color": "#ab63fa",
          "size": [
           412
          ],
          "sizemode": "area",
          "sizeref": 8.2425,
          "symbol": "circle"
         },
         "mode": "markers",
         "name": "Canada",
         "orientation": "v",
         "showlegend": true,
         "type": "scatter",
         "x": [
          286
         ],
         "xaxis": "x",
         "y": [
          126
         ],
         "yaxis": "y"
        },
        {
         "customdata": [
          [
           "France"
          ]
         ],
         "hovertemplate": "country=%{customdata[0]}<br>count_movie=%{x}<br>count_show=%{y}<br>size=%{marker.size}<extra></extra>",
         "legendgroup": "France",
         "marker": {
          "color": "#FFA15A",
          "size": [
           349
          ],
          "sizemode": "area",
          "sizeref": 8.2425,
          "symbol": "circle"
         },
         "mode": "markers",
         "name": "France",
         "orientation": "v",
         "showlegend": true,
         "type": "scatter",
         "x": [
          265
         ],
         "xaxis": "x",
         "y": [
          84
         ],
         "yaxis": "y"
        },
        {
         "customdata": [
          [
           "Spain"
          ]
         ],
         "hovertemplate": "country=%{customdata[0]}<br>count_movie=%{x}<br>count_show=%{y}<br>size=%{marker.size}<extra></extra>",
         "legendgroup": "Spain",
         "marker": {
          "color": "#19d3f3",
          "size": [
           215
          ],
          "sizemode": "area",
          "sizeref": 8.2425,
          "symbol": "circle"
         },
         "mode": "markers",
         "name": "Spain",
         "orientation": "v",
         "showlegend": true,
         "type": "scatter",
         "x": [
          158
         ],
         "xaxis": "x",
         "y": [
          57
         ],
         "yaxis": "y"
        },
        {
         "customdata": [
          [
           "Germany"
          ]
         ],
         "hovertemplate": "country=%{customdata[0]}<br>count_movie=%{x}<br>count_show=%{y}<br>size=%{marker.size}<extra></extra>",
         "legendgroup": "Germany",
         "marker": {
          "color": "#FF6692",
          "size": [
           199
          ],
          "sizemode": "area",
          "sizeref": 8.2425,
          "symbol": "circle"
         },
         "mode": "markers",
         "name": "Germany",
         "orientation": "v",
         "showlegend": true,
         "type": "scatter",
         "x": [
          157
         ],
         "xaxis": "x",
         "y": [
          42
         ],
         "yaxis": "y"
        },
        {
         "customdata": [
          [
           "Japan"
          ]
         ],
         "hovertemplate": "country=%{customdata[0]}<br>count_movie=%{x}<br>count_show=%{y}<br>size=%{marker.size}<extra></extra>",
         "legendgroup": "Japan",
         "marker": {
          "color": "#B6E880",
          "size": [
           287
          ],
          "sizemode": "area",
          "sizeref": 8.2425,
          "symbol": "circle"
         },
         "mode": "markers",
         "name": "Japan",
         "orientation": "v",
         "showlegend": true,
         "type": "scatter",
         "x": [
          103
         ],
         "xaxis": "x",
         "y": [
          184
         ],
         "yaxis": "y"
        },
        {
         "customdata": [
          [
           "Mexico"
          ]
         ],
         "hovertemplate": "country=%{customdata[0]}<br>count_movie=%{x}<br>count_show=%{y}<br>size=%{marker.size}<extra></extra>",
         "legendgroup": "Mexico",
         "marker": {
          "color": "#FF97FF",
          "size": [
           154
          ],
          "sizemode": "area",
          "sizeref": 8.2425,
          "symbol": "circle"
         },
         "mode": "markers",
         "name": "Mexico",
         "orientation": "v",
         "showlegend": true,
         "type": "scatter",
         "x": [
          101
         ],
         "xaxis": "x",
         "y": [
          53
         ],
         "yaxis": "y"
        },
        {
         "customdata": [
          [
           "South Korea"
          ]
         ],
         "hovertemplate": "country=%{customdata[0]}<br>count_movie=%{x}<br>count_show=%{y}<br>size=%{marker.size}<extra></extra>",
         "legendgroup": "South Korea",
         "marker": {
          "color": "#FECB52",
          "size": [
           212
          ],
          "sizemode": "area",
          "sizeref": 8.2425,
          "symbol": "circle"
         },
         "mode": "markers",
         "name": "South Korea",
         "orientation": "v",
         "showlegend": true,
         "type": "scatter",
         "x": [
          55
         ],
         "xaxis": "x",
         "y": [
          157
         ],
         "yaxis": "y"
        }
       ],
       "layout": {
        "legend": {
         "itemsizing": "constant",
         "title": {
          "text": "country"
         },
         "tracegroupgap": 0
        },
        "margin": {
         "t": 60
        },
        "template": {
         "data": {
          "bar": [
           {
            "error_x": {
             "color": "#2a3f5f"
            },
            "error_y": {
             "color": "#2a3f5f"
            },
            "marker": {
             "line": {
              "color": "#E5ECF6",
              "width": 0.5
             }
            },
            "type": "bar"
           }
          ],
          "barpolar": [
           {
            "marker": {
             "line": {
              "color": "#E5ECF6",
              "width": 0.5
             }
            },
            "type": "barpolar"
           }
          ],
          "carpet": [
           {
            "aaxis": {
             "endlinecolor": "#2a3f5f",
             "gridcolor": "white",
             "linecolor": "white",
             "minorgridcolor": "white",
             "startlinecolor": "#2a3f5f"
            },
            "baxis": {
             "endlinecolor": "#2a3f5f",
             "gridcolor": "white",
             "linecolor": "white",
             "minorgridcolor": "white",
             "startlinecolor": "#2a3f5f"
            },
            "type": "carpet"
           }
          ],
          "choropleth": [
           {
            "colorbar": {
             "outlinewidth": 0,
             "ticks": ""
            },
            "type": "choropleth"
           }
          ],
          "contour": [
           {
            "colorbar": {
             "outlinewidth": 0,
             "ticks": ""
            },
            "colorscale": [
             [
              0,
              "#0d0887"
             ],
             [
              0.1111111111111111,
              "#46039f"
             ],
             [
              0.2222222222222222,
              "#7201a8"
             ],
             [
              0.3333333333333333,
              "#9c179e"
             ],
             [
              0.4444444444444444,
              "#bd3786"
             ],
             [
              0.5555555555555556,
              "#d8576b"
             ],
             [
              0.6666666666666666,
              "#ed7953"
             ],
             [
              0.7777777777777778,
              "#fb9f3a"
             ],
             [
              0.8888888888888888,
              "#fdca26"
             ],
             [
              1,
              "#f0f921"
             ]
            ],
            "type": "contour"
           }
          ],
          "contourcarpet": [
           {
            "colorbar": {
             "outlinewidth": 0,
             "ticks": ""
            },
            "type": "contourcarpet"
           }
          ],
          "heatmap": [
           {
            "colorbar": {
             "outlinewidth": 0,
             "ticks": ""
            },
            "colorscale": [
             [
              0,
              "#0d0887"
             ],
             [
              0.1111111111111111,
              "#46039f"
             ],
             [
              0.2222222222222222,
              "#7201a8"
             ],
             [
              0.3333333333333333,
              "#9c179e"
             ],
             [
              0.4444444444444444,
              "#bd3786"
             ],
             [
              0.5555555555555556,
              "#d8576b"
             ],
             [
              0.6666666666666666,
              "#ed7953"
             ],
             [
              0.7777777777777778,
              "#fb9f3a"
             ],
             [
              0.8888888888888888,
              "#fdca26"
             ],
             [
              1,
              "#f0f921"
             ]
            ],
            "type": "heatmap"
           }
          ],
          "heatmapgl": [
           {
            "colorbar": {
             "outlinewidth": 0,
             "ticks": ""
            },
            "colorscale": [
             [
              0,
              "#0d0887"
             ],
             [
              0.1111111111111111,
              "#46039f"
             ],
             [
              0.2222222222222222,
              "#7201a8"
             ],
             [
              0.3333333333333333,
              "#9c179e"
             ],
             [
              0.4444444444444444,
              "#bd3786"
             ],
             [
              0.5555555555555556,
              "#d8576b"
             ],
             [
              0.6666666666666666,
              "#ed7953"
             ],
             [
              0.7777777777777778,
              "#fb9f3a"
             ],
             [
              0.8888888888888888,
              "#fdca26"
             ],
             [
              1,
              "#f0f921"
             ]
            ],
            "type": "heatmapgl"
           }
          ],
          "histogram": [
           {
            "marker": {
             "colorbar": {
              "outlinewidth": 0,
              "ticks": ""
             }
            },
            "type": "histogram"
           }
          ],
          "histogram2d": [
           {
            "colorbar": {
             "outlinewidth": 0,
             "ticks": ""
            },
            "colorscale": [
             [
              0,
              "#0d0887"
             ],
             [
              0.1111111111111111,
              "#46039f"
             ],
             [
              0.2222222222222222,
              "#7201a8"
             ],
             [
              0.3333333333333333,
              "#9c179e"
             ],
             [
              0.4444444444444444,
              "#bd3786"
             ],
             [
              0.5555555555555556,
              "#d8576b"
             ],
             [
              0.6666666666666666,
              "#ed7953"
             ],
             [
              0.7777777777777778,
              "#fb9f3a"
             ],
             [
              0.8888888888888888,
              "#fdca26"
             ],
             [
              1,
              "#f0f921"
             ]
            ],
            "type": "histogram2d"
           }
          ],
          "histogram2dcontour": [
           {
            "colorbar": {
             "outlinewidth": 0,
             "ticks": ""
            },
            "colorscale": [
             [
              0,
              "#0d0887"
             ],
             [
              0.1111111111111111,
              "#46039f"
             ],
             [
              0.2222222222222222,
              "#7201a8"
             ],
             [
              0.3333333333333333,
              "#9c179e"
             ],
             [
              0.4444444444444444,
              "#bd3786"
             ],
             [
              0.5555555555555556,
              "#d8576b"
             ],
             [
              0.6666666666666666,
              "#ed7953"
             ],
             [
              0.7777777777777778,
              "#fb9f3a"
             ],
             [
              0.8888888888888888,
              "#fdca26"
             ],
             [
              1,
              "#f0f921"
             ]
            ],
            "type": "histogram2dcontour"
           }
          ],
          "mesh3d": [
           {
            "colorbar": {
             "outlinewidth": 0,
             "ticks": ""
            },
            "type": "mesh3d"
           }
          ],
          "parcoords": [
           {
            "line": {
             "colorbar": {
              "outlinewidth": 0,
              "ticks": ""
             }
            },
            "type": "parcoords"
           }
          ],
          "pie": [
           {
            "automargin": true,
            "type": "pie"
           }
          ],
          "scatter": [
           {
            "marker": {
             "colorbar": {
              "outlinewidth": 0,
              "ticks": ""
             }
            },
            "type": "scatter"
           }
          ],
          "scatter3d": [
           {
            "line": {
             "colorbar": {
              "outlinewidth": 0,
              "ticks": ""
             }
            },
            "marker": {
             "colorbar": {
              "outlinewidth": 0,
              "ticks": ""
             }
            },
            "type": "scatter3d"
           }
          ],
          "scattercarpet": [
           {
            "marker": {
             "colorbar": {
              "outlinewidth": 0,
              "ticks": ""
             }
            },
            "type": "scattercarpet"
           }
          ],
          "scattergeo": [
           {
            "marker": {
             "colorbar": {
              "outlinewidth": 0,
              "ticks": ""
             }
            },
            "type": "scattergeo"
           }
          ],
          "scattergl": [
           {
            "marker": {
             "colorbar": {
              "outlinewidth": 0,
              "ticks": ""
             }
            },
            "type": "scattergl"
           }
          ],
          "scattermapbox": [
           {
            "marker": {
             "colorbar": {
              "outlinewidth": 0,
              "ticks": ""
             }
            },
            "type": "scattermapbox"
           }
          ],
          "scatterpolar": [
           {
            "marker": {
             "colorbar": {
              "outlinewidth": 0,
              "ticks": ""
             }
            },
            "type": "scatterpolar"
           }
          ],
          "scatterpolargl": [
           {
            "marker": {
             "colorbar": {
              "outlinewidth": 0,
              "ticks": ""
             }
            },
            "type": "scatterpolargl"
           }
          ],
          "scatterternary": [
           {
            "marker": {
             "colorbar": {
              "outlinewidth": 0,
              "ticks": ""
             }
            },
            "type": "scatterternary"
           }
          ],
          "surface": [
           {
            "colorbar": {
             "outlinewidth": 0,
             "ticks": ""
            },
            "colorscale": [
             [
              0,
              "#0d0887"
             ],
             [
              0.1111111111111111,
              "#46039f"
             ],
             [
              0.2222222222222222,
              "#7201a8"
             ],
             [
              0.3333333333333333,
              "#9c179e"
             ],
             [
              0.4444444444444444,
              "#bd3786"
             ],
             [
              0.5555555555555556,
              "#d8576b"
             ],
             [
              0.6666666666666666,
              "#ed7953"
             ],
             [
              0.7777777777777778,
              "#fb9f3a"
             ],
             [
              0.8888888888888888,
              "#fdca26"
             ],
             [
              1,
              "#f0f921"
             ]
            ],
            "type": "surface"
           }
          ],
          "table": [
           {
            "cells": {
             "fill": {
              "color": "#EBF0F8"
             },
             "line": {
              "color": "white"
             }
            },
            "header": {
             "fill": {
              "color": "#C8D4E3"
             },
             "line": {
              "color": "white"
             }
            },
            "type": "table"
           }
          ]
         },
         "layout": {
          "annotationdefaults": {
           "arrowcolor": "#2a3f5f",
           "arrowhead": 0,
           "arrowwidth": 1
          },
          "coloraxis": {
           "colorbar": {
            "outlinewidth": 0,
            "ticks": ""
           }
          },
          "colorscale": {
           "diverging": [
            [
             0,
             "#8e0152"
            ],
            [
             0.1,
             "#c51b7d"
            ],
            [
             0.2,
             "#de77ae"
            ],
            [
             0.3,
             "#f1b6da"
            ],
            [
             0.4,
             "#fde0ef"
            ],
            [
             0.5,
             "#f7f7f7"
            ],
            [
             0.6,
             "#e6f5d0"
            ],
            [
             0.7,
             "#b8e186"
            ],
            [
             0.8,
             "#7fbc41"
            ],
            [
             0.9,
             "#4d9221"
            ],
            [
             1,
             "#276419"
            ]
           ],
           "sequential": [
            [
             0,
             "#0d0887"
            ],
            [
             0.1111111111111111,
             "#46039f"
            ],
            [
             0.2222222222222222,
             "#7201a8"
            ],
            [
             0.3333333333333333,
             "#9c179e"
            ],
            [
             0.4444444444444444,
             "#bd3786"
            ],
            [
             0.5555555555555556,
             "#d8576b"
            ],
            [
             0.6666666666666666,
             "#ed7953"
            ],
            [
             0.7777777777777778,
             "#fb9f3a"
            ],
            [
             0.8888888888888888,
             "#fdca26"
            ],
            [
             1,
             "#f0f921"
            ]
           ],
           "sequentialminus": [
            [
             0,
             "#0d0887"
            ],
            [
             0.1111111111111111,
             "#46039f"
            ],
            [
             0.2222222222222222,
             "#7201a8"
            ],
            [
             0.3333333333333333,
             "#9c179e"
            ],
            [
             0.4444444444444444,
             "#bd3786"
            ],
            [
             0.5555555555555556,
             "#d8576b"
            ],
            [
             0.6666666666666666,
             "#ed7953"
            ],
            [
             0.7777777777777778,
             "#fb9f3a"
            ],
            [
             0.8888888888888888,
             "#fdca26"
            ],
            [
             1,
             "#f0f921"
            ]
           ]
          },
          "colorway": [
           "#636efa",
           "#EF553B",
           "#00cc96",
           "#ab63fa",
           "#FFA15A",
           "#19d3f3",
           "#FF6692",
           "#B6E880",
           "#FF97FF",
           "#FECB52"
          ],
          "font": {
           "color": "#2a3f5f"
          },
          "geo": {
           "bgcolor": "white",
           "lakecolor": "white",
           "landcolor": "#E5ECF6",
           "showlakes": true,
           "showland": true,
           "subunitcolor": "white"
          },
          "hoverlabel": {
           "align": "left"
          },
          "hovermode": "closest",
          "mapbox": {
           "style": "light"
          },
          "paper_bgcolor": "white",
          "plot_bgcolor": "#E5ECF6",
          "polar": {
           "angularaxis": {
            "gridcolor": "white",
            "linecolor": "white",
            "ticks": ""
           },
           "bgcolor": "#E5ECF6",
           "radialaxis": {
            "gridcolor": "white",
            "linecolor": "white",
            "ticks": ""
           }
          },
          "scene": {
           "xaxis": {
            "backgroundcolor": "#E5ECF6",
            "gridcolor": "white",
            "gridwidth": 2,
            "linecolor": "white",
            "showbackground": true,
            "ticks": "",
            "zerolinecolor": "white"
           },
           "yaxis": {
            "backgroundcolor": "#E5ECF6",
            "gridcolor": "white",
            "gridwidth": 2,
            "linecolor": "white",
            "showbackground": true,
            "ticks": "",
            "zerolinecolor": "white"
           },
           "zaxis": {
            "backgroundcolor": "#E5ECF6",
            "gridcolor": "white",
            "gridwidth": 2,
            "linecolor": "white",
            "showbackground": true,
            "ticks": "",
            "zerolinecolor": "white"
           }
          },
          "shapedefaults": {
           "line": {
            "color": "#2a3f5f"
           }
          },
          "ternary": {
           "aaxis": {
            "gridcolor": "white",
            "linecolor": "white",
            "ticks": ""
           },
           "baxis": {
            "gridcolor": "white",
            "linecolor": "white",
            "ticks": ""
           },
           "bgcolor": "#E5ECF6",
           "caxis": {
            "gridcolor": "white",
            "linecolor": "white",
            "ticks": ""
           }
          },
          "title": {
           "x": 0.05
          },
          "xaxis": {
           "automargin": true,
           "gridcolor": "white",
           "linecolor": "white",
           "ticks": "",
           "title": {
            "standoff": 15
           },
           "zerolinecolor": "white",
           "zerolinewidth": 2
          },
          "yaxis": {
           "automargin": true,
           "gridcolor": "white",
           "linecolor": "white",
           "ticks": "",
           "title": {
            "standoff": 15
           },
           "zerolinecolor": "white",
           "zerolinewidth": 2
          }
         }
        },
        "xaxis": {
         "anchor": "y",
         "domain": [
          0,
          1
         ],
         "title": {
          "text": "count_movie"
         }
        },
        "yaxis": {
         "anchor": "x",
         "domain": [
          0,
          1
         ],
         "title": {
          "text": "count_show"
         }
        }
       }
      }
     },
     "metadata": {}
    }
   ],
   "source": [
    "# shows and movies by countries (stack bar, scatter plot)\n",
    "df_countries_movie_show = df_countries_movie.merge(df_countries_show, on='country', suffixes=('_movie','_show')).fillna(0)\n",
    "df_plot = df_countries_movie_show[df_countries_movie_show['country'].isin(top10_countries_content)]\n",
    "\n",
    "fig = go.Figure()\n",
    "fig.add_trace(go.Bar(x=df_plot.country, y=df_plot['count_movie'],name='movie'))\n",
    "fig.add_trace(go.Bar(x=df_plot.country, y=df_plot['count_show'],name='show'))\n",
    "fig.update_layout(barmode='stack',width=1200,height=400,xaxis={'categoryorder':'total descending'})\n",
    "fig.show()\n",
    "\n",
    "fig1 = px.scatter(df_plot, x=\"count_movie\", y=\"count_show\", color=\"country\", size=df_plot[\"count_movie\"]+df_plot[\"count_show\"], hover_data=['country'])\n",
    "fig1.show()"
   ]
  },
  {
   "cell_type": "code",
   "execution_count": 17,
   "metadata": {
    "tags": []
   },
   "outputs": [
    {
     "output_type": "stream",
     "name": "stdout",
     "text": "(85855, 3)\n(85844, 3)\n"
    }
   ],
   "source": [
    "# imdb_ratings = pd.read_csv('IMDb movies.csv', usecols=['imdb_title_id','weighted_average_vote'])\n",
    "imdb_ratings = pd.read_csv('IMDb movies.csv', usecols=['title','genre','avg_vote'])\n",
    "print(imdb_ratings.shape)\n",
    "imdb_ratings.drop_duplicates(inplace=True)\n",
    "print(imdb_ratings.shape)"
   ]
  },
  {
   "cell_type": "code",
   "execution_count": 18,
   "metadata": {},
   "outputs": [
    {
     "output_type": "execute_result",
     "data": {
      "text/plain": "(5377, 14)"
     },
     "metadata": {},
     "execution_count": 18
    }
   ],
   "source": [
    "netflix_movie.shape"
   ]
  },
  {
   "cell_type": "code",
   "execution_count": 19,
   "metadata": {},
   "outputs": [],
   "source": [
    "netflix_movie_ratings = netflix_movie.merge(imdb_ratings,on='title').rename(columns={'avg_vote':'imdb_rating'}).sort_values('imdb_rating',ascending=False)\n",
    "#half of movies have ratings on IMDb\n",
    "# netflix_movie_ratings.head(15)"
   ]
  },
  {
   "cell_type": "code",
   "execution_count": 20,
   "metadata": {},
   "outputs": [
    {
     "output_type": "display_data",
     "data": {
      "application/vnd.plotly.v1+json": {
       "config": {
        "plotlyServerURL": "https://plot.ly"
       },
       "data": [
        {
         "branchvalues": "total",
         "customdata": [
          [
           "United States",
           "American History X",
           8.5
          ],
          [
           "India",
           "Ani... Dr. Kashinath Ghanekar",
           8.6
          ],
          [
           "India",
           "Black Friday",
           8.5
          ],
          [
           "Brazil, France, Germany",
           "City of God",
           8.6
          ],
          [
           "India",
           "Eh Janam Tumhare Lekhe",
           8.6
          ],
          [
           "India",
           "Gol Maal",
           8.6
          ],
          [
           "United States, United Kingdom",
           "Inception",
           8.8
          ],
          [
           "India",
           "Koshish",
           8.6
          ],
          [
           "India",
           "Mallesham",
           8.5
          ],
          [
           "India",
           "Merku Thodarchi Malai",
           8.5
          ],
          [
           "Chile, United States, France",
           "Much Ado About Nothing",
           8.6
          ],
          [
           "India",
           "Oththa Seruppu Size 7",
           8.6
          ],
          [
           "United States",
           "Pulp Fiction",
           8.9
          ],
          [
           "Canada, India",
           "Punjab 1984",
           8.5
          ],
          [
           "United States",
           "Schindler's List",
           8.9
          ],
          [
           "Brazil, France, Germany",
           "City of God",
           8.6
          ],
          [
           "Canada, India",
           "Punjab 1984",
           8.5
          ],
          [
           "Chile, United States, France",
           "Much Ado About Nothing",
           8.6
          ],
          [
           "India",
           "(?)",
           8.562773722627737
          ],
          [
           "United States",
           "(?)",
           8.770722433460076
          ],
          [
           "United States, United Kingdom",
           "Inception",
           8.8
          ]
         ],
         "domain": {
          "x": [
           0,
           1
          ],
          "y": [
           0,
           1
          ]
         },
         "hovertemplate": "labels=%{label}<br>imdb_rating_sum=%{value}<br>parent=%{parent}<br>id=%{id}<br>imdb_rating=%{color}<extra></extra>",
         "ids": [
          "United States/American History X",
          "India/Ani... Dr. Kashinath Ghanekar",
          "India/Black Friday",
          "Brazil, France, Germany/City of God",
          "India/Eh Janam Tumhare Lekhe",
          "India/Gol Maal",
          "United States, United Kingdom/Inception",
          "India/Koshish",
          "India/Mallesham",
          "India/Merku Thodarchi Malai",
          "Chile, United States, France/Much Ado About Nothing",
          "India/Oththa Seruppu Size 7",
          "United States/Pulp Fiction",
          "Canada, India/Punjab 1984",
          "United States/Schindler's List",
          "Brazil, France, Germany",
          "Canada, India",
          "Chile, United States, France",
          "India",
          "United States",
          "United States, United Kingdom"
         ],
         "labels": [
          "American History X",
          "Ani... Dr. Kashinath Ghanekar",
          "Black Friday",
          "City of God",
          "Eh Janam Tumhare Lekhe",
          "Gol Maal",
          "Inception",
          "Koshish",
          "Mallesham",
          "Merku Thodarchi Malai",
          "Much Ado About Nothing",
          "Oththa Seruppu Size 7",
          "Pulp Fiction",
          "Punjab 1984",
          "Schindler's List",
          "Brazil, France, Germany",
          "Canada, India",
          "Chile, United States, France",
          "India",
          "United States",
          "United States, United Kingdom"
         ],
         "marker": {
          "coloraxis": "coloraxis",
          "colors": [
           8.5,
           8.6,
           8.5,
           8.6,
           8.6,
           8.6,
           8.8,
           8.6,
           8.5,
           8.5,
           8.6,
           8.6,
           8.9,
           8.5,
           8.9,
           8.6,
           8.5,
           8.6,
           8.562773722627737,
           8.770722433460076,
           8.8
          ]
         },
         "name": "",
         "parents": [
          "United States",
          "India",
          "India",
          "Brazil, France, Germany",
          "India",
          "India",
          "United States, United Kingdom",
          "India",
          "India",
          "India",
          "Chile, United States, France",
          "India",
          "United States",
          "Canada, India",
          "United States",
          "",
          "",
          "",
          "",
          "",
          ""
         ],
         "type": "sunburst",
         "values": [
          8.5,
          8.6,
          8.5,
          8.6,
          8.6,
          8.6,
          8.8,
          8.6,
          8.5,
          8.5,
          8.6,
          8.6,
          8.9,
          8.5,
          8.9,
          8.6,
          8.5,
          8.6,
          68.5,
          26.3,
          8.8
         ]
        }
       ],
       "layout": {
        "coloraxis": {
         "colorbar": {
          "title": {
           "text": "imdb_rating"
          }
         },
         "colorscale": [
          [
           0,
           "rgb(255,255,229)"
          ],
          [
           0.125,
           "rgb(255,247,188)"
          ],
          [
           0.25,
           "rgb(254,227,145)"
          ],
          [
           0.375,
           "rgb(254,196,79)"
          ],
          [
           0.5,
           "rgb(254,153,41)"
          ],
          [
           0.625,
           "rgb(236,112,20)"
          ],
          [
           0.75,
           "rgb(204,76,2)"
          ],
          [
           0.875,
           "rgb(153,52,4)"
          ],
          [
           1,
           "rgb(102,37,6)"
          ]
         ]
        },
        "legend": {
         "tracegroupgap": 0
        },
        "margin": {
         "t": 60
        },
        "template": {
         "data": {
          "bar": [
           {
            "error_x": {
             "color": "#2a3f5f"
            },
            "error_y": {
             "color": "#2a3f5f"
            },
            "marker": {
             "line": {
              "color": "#E5ECF6",
              "width": 0.5
             }
            },
            "type": "bar"
           }
          ],
          "barpolar": [
           {
            "marker": {
             "line": {
              "color": "#E5ECF6",
              "width": 0.5
             }
            },
            "type": "barpolar"
           }
          ],
          "carpet": [
           {
            "aaxis": {
             "endlinecolor": "#2a3f5f",
             "gridcolor": "white",
             "linecolor": "white",
             "minorgridcolor": "white",
             "startlinecolor": "#2a3f5f"
            },
            "baxis": {
             "endlinecolor": "#2a3f5f",
             "gridcolor": "white",
             "linecolor": "white",
             "minorgridcolor": "white",
             "startlinecolor": "#2a3f5f"
            },
            "type": "carpet"
           }
          ],
          "choropleth": [
           {
            "colorbar": {
             "outlinewidth": 0,
             "ticks": ""
            },
            "type": "choropleth"
           }
          ],
          "contour": [
           {
            "colorbar": {
             "outlinewidth": 0,
             "ticks": ""
            },
            "colorscale": [
             [
              0,
              "#0d0887"
             ],
             [
              0.1111111111111111,
              "#46039f"
             ],
             [
              0.2222222222222222,
              "#7201a8"
             ],
             [
              0.3333333333333333,
              "#9c179e"
             ],
             [
              0.4444444444444444,
              "#bd3786"
             ],
             [
              0.5555555555555556,
              "#d8576b"
             ],
             [
              0.6666666666666666,
              "#ed7953"
             ],
             [
              0.7777777777777778,
              "#fb9f3a"
             ],
             [
              0.8888888888888888,
              "#fdca26"
             ],
             [
              1,
              "#f0f921"
             ]
            ],
            "type": "contour"
           }
          ],
          "contourcarpet": [
           {
            "colorbar": {
             "outlinewidth": 0,
             "ticks": ""
            },
            "type": "contourcarpet"
           }
          ],
          "heatmap": [
           {
            "colorbar": {
             "outlinewidth": 0,
             "ticks": ""
            },
            "colorscale": [
             [
              0,
              "#0d0887"
             ],
             [
              0.1111111111111111,
              "#46039f"
             ],
             [
              0.2222222222222222,
              "#7201a8"
             ],
             [
              0.3333333333333333,
              "#9c179e"
             ],
             [
              0.4444444444444444,
              "#bd3786"
             ],
             [
              0.5555555555555556,
              "#d8576b"
             ],
             [
              0.6666666666666666,
              "#ed7953"
             ],
             [
              0.7777777777777778,
              "#fb9f3a"
             ],
             [
              0.8888888888888888,
              "#fdca26"
             ],
             [
              1,
              "#f0f921"
             ]
            ],
            "type": "heatmap"
           }
          ],
          "heatmapgl": [
           {
            "colorbar": {
             "outlinewidth": 0,
             "ticks": ""
            },
            "colorscale": [
             [
              0,
              "#0d0887"
             ],
             [
              0.1111111111111111,
              "#46039f"
             ],
             [
              0.2222222222222222,
              "#7201a8"
             ],
             [
              0.3333333333333333,
              "#9c179e"
             ],
             [
              0.4444444444444444,
              "#bd3786"
             ],
             [
              0.5555555555555556,
              "#d8576b"
             ],
             [
              0.6666666666666666,
              "#ed7953"
             ],
             [
              0.7777777777777778,
              "#fb9f3a"
             ],
             [
              0.8888888888888888,
              "#fdca26"
             ],
             [
              1,
              "#f0f921"
             ]
            ],
            "type": "heatmapgl"
           }
          ],
          "histogram": [
           {
            "marker": {
             "colorbar": {
              "outlinewidth": 0,
              "ticks": ""
             }
            },
            "type": "histogram"
           }
          ],
          "histogram2d": [
           {
            "colorbar": {
             "outlinewidth": 0,
             "ticks": ""
            },
            "colorscale": [
             [
              0,
              "#0d0887"
             ],
             [
              0.1111111111111111,
              "#46039f"
             ],
             [
              0.2222222222222222,
              "#7201a8"
             ],
             [
              0.3333333333333333,
              "#9c179e"
             ],
             [
              0.4444444444444444,
              "#bd3786"
             ],
             [
              0.5555555555555556,
              "#d8576b"
             ],
             [
              0.6666666666666666,
              "#ed7953"
             ],
             [
              0.7777777777777778,
              "#fb9f3a"
             ],
             [
              0.8888888888888888,
              "#fdca26"
             ],
             [
              1,
              "#f0f921"
             ]
            ],
            "type": "histogram2d"
           }
          ],
          "histogram2dcontour": [
           {
            "colorbar": {
             "outlinewidth": 0,
             "ticks": ""
            },
            "colorscale": [
             [
              0,
              "#0d0887"
             ],
             [
              0.1111111111111111,
              "#46039f"
             ],
             [
              0.2222222222222222,
              "#7201a8"
             ],
             [
              0.3333333333333333,
              "#9c179e"
             ],
             [
              0.4444444444444444,
              "#bd3786"
             ],
             [
              0.5555555555555556,
              "#d8576b"
             ],
             [
              0.6666666666666666,
              "#ed7953"
             ],
             [
              0.7777777777777778,
              "#fb9f3a"
             ],
             [
              0.8888888888888888,
              "#fdca26"
             ],
             [
              1,
              "#f0f921"
             ]
            ],
            "type": "histogram2dcontour"
           }
          ],
          "mesh3d": [
           {
            "colorbar": {
             "outlinewidth": 0,
             "ticks": ""
            },
            "type": "mesh3d"
           }
          ],
          "parcoords": [
           {
            "line": {
             "colorbar": {
              "outlinewidth": 0,
              "ticks": ""
             }
            },
            "type": "parcoords"
           }
          ],
          "pie": [
           {
            "automargin": true,
            "type": "pie"
           }
          ],
          "scatter": [
           {
            "marker": {
             "colorbar": {
              "outlinewidth": 0,
              "ticks": ""
             }
            },
            "type": "scatter"
           }
          ],
          "scatter3d": [
           {
            "line": {
             "colorbar": {
              "outlinewidth": 0,
              "ticks": ""
             }
            },
            "marker": {
             "colorbar": {
              "outlinewidth": 0,
              "ticks": ""
             }
            },
            "type": "scatter3d"
           }
          ],
          "scattercarpet": [
           {
            "marker": {
             "colorbar": {
              "outlinewidth": 0,
              "ticks": ""
             }
            },
            "type": "scattercarpet"
           }
          ],
          "scattergeo": [
           {
            "marker": {
             "colorbar": {
              "outlinewidth": 0,
              "ticks": ""
             }
            },
            "type": "scattergeo"
           }
          ],
          "scattergl": [
           {
            "marker": {
             "colorbar": {
              "outlinewidth": 0,
              "ticks": ""
             }
            },
            "type": "scattergl"
           }
          ],
          "scattermapbox": [
           {
            "marker": {
             "colorbar": {
              "outlinewidth": 0,
              "ticks": ""
             }
            },
            "type": "scattermapbox"
           }
          ],
          "scatterpolar": [
           {
            "marker": {
             "colorbar": {
              "outlinewidth": 0,
              "ticks": ""
             }
            },
            "type": "scatterpolar"
           }
          ],
          "scatterpolargl": [
           {
            "marker": {
             "colorbar": {
              "outlinewidth": 0,
              "ticks": ""
             }
            },
            "type": "scatterpolargl"
           }
          ],
          "scatterternary": [
           {
            "marker": {
             "colorbar": {
              "outlinewidth": 0,
              "ticks": ""
             }
            },
            "type": "scatterternary"
           }
          ],
          "surface": [
           {
            "colorbar": {
             "outlinewidth": 0,
             "ticks": ""
            },
            "colorscale": [
             [
              0,
              "#0d0887"
             ],
             [
              0.1111111111111111,
              "#46039f"
             ],
             [
              0.2222222222222222,
              "#7201a8"
             ],
             [
              0.3333333333333333,
              "#9c179e"
             ],
             [
              0.4444444444444444,
              "#bd3786"
             ],
             [
              0.5555555555555556,
              "#d8576b"
             ],
             [
              0.6666666666666666,
              "#ed7953"
             ],
             [
              0.7777777777777778,
              "#fb9f3a"
             ],
             [
              0.8888888888888888,
              "#fdca26"
             ],
             [
              1,
              "#f0f921"
             ]
            ],
            "type": "surface"
           }
          ],
          "table": [
           {
            "cells": {
             "fill": {
              "color": "#EBF0F8"
             },
             "line": {
              "color": "white"
             }
            },
            "header": {
             "fill": {
              "color": "#C8D4E3"
             },
             "line": {
              "color": "white"
             }
            },
            "type": "table"
           }
          ]
         },
         "layout": {
          "annotationdefaults": {
           "arrowcolor": "#2a3f5f",
           "arrowhead": 0,
           "arrowwidth": 1
          },
          "coloraxis": {
           "colorbar": {
            "outlinewidth": 0,
            "ticks": ""
           }
          },
          "colorscale": {
           "diverging": [
            [
             0,
             "#8e0152"
            ],
            [
             0.1,
             "#c51b7d"
            ],
            [
             0.2,
             "#de77ae"
            ],
            [
             0.3,
             "#f1b6da"
            ],
            [
             0.4,
             "#fde0ef"
            ],
            [
             0.5,
             "#f7f7f7"
            ],
            [
             0.6,
             "#e6f5d0"
            ],
            [
             0.7,
             "#b8e186"
            ],
            [
             0.8,
             "#7fbc41"
            ],
            [
             0.9,
             "#4d9221"
            ],
            [
             1,
             "#276419"
            ]
           ],
           "sequential": [
            [
             0,
             "#0d0887"
            ],
            [
             0.1111111111111111,
             "#46039f"
            ],
            [
             0.2222222222222222,
             "#7201a8"
            ],
            [
             0.3333333333333333,
             "#9c179e"
            ],
            [
             0.4444444444444444,
             "#bd3786"
            ],
            [
             0.5555555555555556,
             "#d8576b"
            ],
            [
             0.6666666666666666,
             "#ed7953"
            ],
            [
             0.7777777777777778,
             "#fb9f3a"
            ],
            [
             0.8888888888888888,
             "#fdca26"
            ],
            [
             1,
             "#f0f921"
            ]
           ],
           "sequentialminus": [
            [
             0,
             "#0d0887"
            ],
            [
             0.1111111111111111,
             "#46039f"
            ],
            [
             0.2222222222222222,
             "#7201a8"
            ],
            [
             0.3333333333333333,
             "#9c179e"
            ],
            [
             0.4444444444444444,
             "#bd3786"
            ],
            [
             0.5555555555555556,
             "#d8576b"
            ],
            [
             0.6666666666666666,
             "#ed7953"
            ],
            [
             0.7777777777777778,
             "#fb9f3a"
            ],
            [
             0.8888888888888888,
             "#fdca26"
            ],
            [
             1,
             "#f0f921"
            ]
           ]
          },
          "colorway": [
           "#636efa",
           "#EF553B",
           "#00cc96",
           "#ab63fa",
           "#FFA15A",
           "#19d3f3",
           "#FF6692",
           "#B6E880",
           "#FF97FF",
           "#FECB52"
          ],
          "font": {
           "color": "#2a3f5f"
          },
          "geo": {
           "bgcolor": "white",
           "lakecolor": "white",
           "landcolor": "#E5ECF6",
           "showlakes": true,
           "showland": true,
           "subunitcolor": "white"
          },
          "hoverlabel": {
           "align": "left"
          },
          "hovermode": "closest",
          "mapbox": {
           "style": "light"
          },
          "paper_bgcolor": "white",
          "plot_bgcolor": "#E5ECF6",
          "polar": {
           "angularaxis": {
            "gridcolor": "white",
            "linecolor": "white",
            "ticks": ""
           },
           "bgcolor": "#E5ECF6",
           "radialaxis": {
            "gridcolor": "white",
            "linecolor": "white",
            "ticks": ""
           }
          },
          "scene": {
           "xaxis": {
            "backgroundcolor": "#E5ECF6",
            "gridcolor": "white",
            "gridwidth": 2,
            "linecolor": "white",
            "showbackground": true,
            "ticks": "",
            "zerolinecolor": "white"
           },
           "yaxis": {
            "backgroundcolor": "#E5ECF6",
            "gridcolor": "white",
            "gridwidth": 2,
            "linecolor": "white",
            "showbackground": true,
            "ticks": "",
            "zerolinecolor": "white"
           },
           "zaxis": {
            "backgroundcolor": "#E5ECF6",
            "gridcolor": "white",
            "gridwidth": 2,
            "linecolor": "white",
            "showbackground": true,
            "ticks": "",
            "zerolinecolor": "white"
           }
          },
          "shapedefaults": {
           "line": {
            "color": "#2a3f5f"
           }
          },
          "ternary": {
           "aaxis": {
            "gridcolor": "white",
            "linecolor": "white",
            "ticks": ""
           },
           "baxis": {
            "gridcolor": "white",
            "linecolor": "white",
            "ticks": ""
           },
           "bgcolor": "#E5ECF6",
           "caxis": {
            "gridcolor": "white",
            "linecolor": "white",
            "ticks": ""
           }
          },
          "title": {
           "x": 0.05
          },
          "xaxis": {
           "automargin": true,
           "gridcolor": "white",
           "linecolor": "white",
           "ticks": "",
           "title": {
            "standoff": 15
           },
           "zerolinecolor": "white",
           "zerolinewidth": 2
          },
          "yaxis": {
           "automargin": true,
           "gridcolor": "white",
           "linecolor": "white",
           "ticks": "",
           "title": {
            "standoff": 15
           },
           "zerolinecolor": "white",
           "zerolinewidth": 2
          }
         }
        }
       }
      }
     },
     "metadata": {}
    }
   ],
   "source": [
    "fig=px.sunburst(netflix_movie_ratings[0:15], path=['country','title'], values='imdb_rating', color='imdb_rating', color_continuous_scale='YlOrBr',hover_data={'country':False,'title':False})\n",
    "# fig.update_layout(hover_info='imdb_rating')\n",
    "fig.show()"
   ]
  },
  {
   "cell_type": "code",
   "execution_count": 4,
   "metadata": {},
   "outputs": [],
   "source": []
  },
  {
   "cell_type": "code",
   "execution_count": 14,
   "metadata": {},
   "outputs": [],
   "source": [
    "# movie_count = netflix_movie[netflix_movie['country'].isin(top5countries_movie)].groupby('country').size().sort_values(ascending=False).reset_index()\n",
    "# movie_count['type']='movie'\n",
    "# show_count = netflix_show[netflix_show['country'].isin(top5countries_show)].groupby('country').size().sort_values(ascending=False).reset_index()\n",
    "# show_count['type']='show'\n",
    "# movie_show_country_count = pd.concat([movie_count,show_count])\n",
    "# movie_show_country_count.columns=['country','count','type']"
   ]
  },
  {
   "cell_type": "code",
   "execution_count": 11,
   "metadata": {},
   "outputs": [],
   "source": [
    "# movie_show_country_count_pivot = pd.pivot_table(movie_show_country_count[movie_show_country_count['country']!='other'], values='count', index='type', columns='country')\n",
    "# fig = px.imshow(movie_show_country_count_pivot,\n",
    "#                 # labels=dict(x=\"Day of Week\", y=\"Time of Day\", color=\"Productivity\"),\n",
    "#                 x=movie_show_country_count_pivot.columns,\n",
    "#                 y=['movie','show']\n",
    "#                )\n",
    "# fig.update_xaxes(side=\"top\")\n",
    "# fig.show()"
   ]
  },
  {
   "cell_type": "code",
   "execution_count": 34,
   "metadata": {
    "tags": []
   },
   "outputs": [
    {
     "output_type": "stream",
     "name": "stdout",
     "text": "movie [1850, 852, 193, 118, 89, 2275]\nshow [705, 204, 157, 147, 71, 1126]\n"
    }
   ],
   "source": [
    "for k,v in zip(y_data,x_data):\n",
    "    print(k,v)"
   ]
  },
  {
   "cell_type": "code",
   "execution_count": 66,
   "metadata": {},
   "outputs": [
    {
     "output_type": "display_data",
     "data": {
      "application/vnd.plotly.v1+json": {
       "config": {
        "plotlyServerURL": "https://plot.ly"
       },
       "data": [
        {
         "hoverinfo": "text",
         "hovertext": "US",
         "marker": {
          "color": "rgba(20,10,35,0.8)"
         },
         "orientation": "h",
         "type": "bar",
         "width": 0.5,
         "x": [
          1850
         ],
         "y": [
          0
         ]
        },
        {
         "hoverinfo": "text",
         "hovertext": "US",
         "marker": {
          "color": "rgba(20,10,35,0.8)"
         },
         "orientation": "h",
         "type": "bar",
         "width": 0.5,
         "x": [
          705
         ],
         "y": [
          1
         ]
        },
        {
         "hoverinfo": "text",
         "hovertext": "ID",
         "marker": {
          "color": "rgba(38, 24, 74, 0.8)"
         },
         "orientation": "h",
         "type": "bar",
         "width": 0.5,
         "x": [
          852
         ],
         "y": [
          0
         ]
        },
        {
         "hoverinfo": "text",
         "hovertext": "UK",
         "marker": {
          "color": "rgba(38, 24, 74, 0.8)"
         },
         "orientation": "h",
         "type": "bar",
         "width": 0.5,
         "x": [
          204
         ],
         "y": [
          1
         ]
        },
        {
         "hoverinfo": "text",
         "hovertext": "UK",
         "marker": {
          "color": "rgba(71, 58, 131, 0.8)"
         },
         "orientation": "h",
         "type": "bar",
         "width": 0.5,
         "x": [
          193
         ],
         "y": [
          0
         ]
        },
        {
         "hoverinfo": "text",
         "hovertext": "JP",
         "marker": {
          "color": "rgba(71, 58, 131, 0.8)"
         },
         "orientation": "h",
         "type": "bar",
         "width": 0.5,
         "x": [
          157
         ],
         "y": [
          1
         ]
        },
        {
         "hoverinfo": "text",
         "hovertext": "CA",
         "marker": {
          "color": "rgba(122, 120, 168, 0.8)"
         },
         "orientation": "h",
         "type": "bar",
         "width": 0.5,
         "x": [
          118
         ],
         "y": [
          0
         ]
        },
        {
         "hoverinfo": "text",
         "hovertext": "SK",
         "marker": {
          "color": "rgba(122, 120, 168, 0.8)"
         },
         "orientation": "h",
         "type": "bar",
         "width": 0.5,
         "x": [
          147
         ],
         "y": [
          1
         ]
        },
        {
         "hoverinfo": "text",
         "hovertext": "Egypt",
         "marker": {
          "color": "rgba(164, 163, 204, 0.85)"
         },
         "orientation": "h",
         "type": "bar",
         "width": 0.5,
         "x": [
          89
         ],
         "y": [
          0
         ]
        },
        {
         "hoverinfo": "text",
         "hovertext": "ID",
         "marker": {
          "color": "rgba(164, 163, 204, 0.85)"
         },
         "orientation": "h",
         "type": "bar",
         "width": 0.5,
         "x": [
          71
         ],
         "y": [
          1
         ]
        },
        {
         "hoverinfo": "text",
         "hovertext": "other",
         "marker": {
          "color": "rgba(190, 192, 213, 1)"
         },
         "orientation": "h",
         "type": "bar",
         "width": 0.5,
         "x": [
          2275
         ],
         "y": [
          0
         ]
        },
        {
         "hoverinfo": "text",
         "hovertext": "other",
         "marker": {
          "color": "rgba(190, 192, 213, 1)"
         },
         "orientation": "h",
         "type": "bar",
         "width": 0.5,
         "x": [
          1126
         ],
         "y": [
          1
         ]
        }
       ],
       "layout": {
        "annotations": [
         {
          "showarrow": false,
          "text": "US: 1850",
          "x": 925,
          "xref": "x",
          "y": 0.4,
          "yref": "y"
         },
         {
          "showarrow": false,
          "text": "US: 705",
          "x": 352.5,
          "xref": "x",
          "y": 1.4,
          "yref": "y"
         }
        ],
        "barmode": "stack",
        "height": 400,
        "showlegend": false,
        "template": {
         "data": {
          "bar": [
           {
            "error_x": {
             "color": "#2a3f5f"
            },
            "error_y": {
             "color": "#2a3f5f"
            },
            "marker": {
             "line": {
              "color": "#E5ECF6",
              "width": 0.5
             }
            },
            "type": "bar"
           }
          ],
          "barpolar": [
           {
            "marker": {
             "line": {
              "color": "#E5ECF6",
              "width": 0.5
             }
            },
            "type": "barpolar"
           }
          ],
          "carpet": [
           {
            "aaxis": {
             "endlinecolor": "#2a3f5f",
             "gridcolor": "white",
             "linecolor": "white",
             "minorgridcolor": "white",
             "startlinecolor": "#2a3f5f"
            },
            "baxis": {
             "endlinecolor": "#2a3f5f",
             "gridcolor": "white",
             "linecolor": "white",
             "minorgridcolor": "white",
             "startlinecolor": "#2a3f5f"
            },
            "type": "carpet"
           }
          ],
          "choropleth": [
           {
            "colorbar": {
             "outlinewidth": 0,
             "ticks": ""
            },
            "type": "choropleth"
           }
          ],
          "contour": [
           {
            "colorbar": {
             "outlinewidth": 0,
             "ticks": ""
            },
            "colorscale": [
             [
              0,
              "#0d0887"
             ],
             [
              0.1111111111111111,
              "#46039f"
             ],
             [
              0.2222222222222222,
              "#7201a8"
             ],
             [
              0.3333333333333333,
              "#9c179e"
             ],
             [
              0.4444444444444444,
              "#bd3786"
             ],
             [
              0.5555555555555556,
              "#d8576b"
             ],
             [
              0.6666666666666666,
              "#ed7953"
             ],
             [
              0.7777777777777778,
              "#fb9f3a"
             ],
             [
              0.8888888888888888,
              "#fdca26"
             ],
             [
              1,
              "#f0f921"
             ]
            ],
            "type": "contour"
           }
          ],
          "contourcarpet": [
           {
            "colorbar": {
             "outlinewidth": 0,
             "ticks": ""
            },
            "type": "contourcarpet"
           }
          ],
          "heatmap": [
           {
            "colorbar": {
             "outlinewidth": 0,
             "ticks": ""
            },
            "colorscale": [
             [
              0,
              "#0d0887"
             ],
             [
              0.1111111111111111,
              "#46039f"
             ],
             [
              0.2222222222222222,
              "#7201a8"
             ],
             [
              0.3333333333333333,
              "#9c179e"
             ],
             [
              0.4444444444444444,
              "#bd3786"
             ],
             [
              0.5555555555555556,
              "#d8576b"
             ],
             [
              0.6666666666666666,
              "#ed7953"
             ],
             [
              0.7777777777777778,
              "#fb9f3a"
             ],
             [
              0.8888888888888888,
              "#fdca26"
             ],
             [
              1,
              "#f0f921"
             ]
            ],
            "type": "heatmap"
           }
          ],
          "heatmapgl": [
           {
            "colorbar": {
             "outlinewidth": 0,
             "ticks": ""
            },
            "colorscale": [
             [
              0,
              "#0d0887"
             ],
             [
              0.1111111111111111,
              "#46039f"
             ],
             [
              0.2222222222222222,
              "#7201a8"
             ],
             [
              0.3333333333333333,
              "#9c179e"
             ],
             [
              0.4444444444444444,
              "#bd3786"
             ],
             [
              0.5555555555555556,
              "#d8576b"
             ],
             [
              0.6666666666666666,
              "#ed7953"
             ],
             [
              0.7777777777777778,
              "#fb9f3a"
             ],
             [
              0.8888888888888888,
              "#fdca26"
             ],
             [
              1,
              "#f0f921"
             ]
            ],
            "type": "heatmapgl"
           }
          ],
          "histogram": [
           {
            "marker": {
             "colorbar": {
              "outlinewidth": 0,
              "ticks": ""
             }
            },
            "type": "histogram"
           }
          ],
          "histogram2d": [
           {
            "colorbar": {
             "outlinewidth": 0,
             "ticks": ""
            },
            "colorscale": [
             [
              0,
              "#0d0887"
             ],
             [
              0.1111111111111111,
              "#46039f"
             ],
             [
              0.2222222222222222,
              "#7201a8"
             ],
             [
              0.3333333333333333,
              "#9c179e"
             ],
             [
              0.4444444444444444,
              "#bd3786"
             ],
             [
              0.5555555555555556,
              "#d8576b"
             ],
             [
              0.6666666666666666,
              "#ed7953"
             ],
             [
              0.7777777777777778,
              "#fb9f3a"
             ],
             [
              0.8888888888888888,
              "#fdca26"
             ],
             [
              1,
              "#f0f921"
             ]
            ],
            "type": "histogram2d"
           }
          ],
          "histogram2dcontour": [
           {
            "colorbar": {
             "outlinewidth": 0,
             "ticks": ""
            },
            "colorscale": [
             [
              0,
              "#0d0887"
             ],
             [
              0.1111111111111111,
              "#46039f"
             ],
             [
              0.2222222222222222,
              "#7201a8"
             ],
             [
              0.3333333333333333,
              "#9c179e"
             ],
             [
              0.4444444444444444,
              "#bd3786"
             ],
             [
              0.5555555555555556,
              "#d8576b"
             ],
             [
              0.6666666666666666,
              "#ed7953"
             ],
             [
              0.7777777777777778,
              "#fb9f3a"
             ],
             [
              0.8888888888888888,
              "#fdca26"
             ],
             [
              1,
              "#f0f921"
             ]
            ],
            "type": "histogram2dcontour"
           }
          ],
          "mesh3d": [
           {
            "colorbar": {
             "outlinewidth": 0,
             "ticks": ""
            },
            "type": "mesh3d"
           }
          ],
          "parcoords": [
           {
            "line": {
             "colorbar": {
              "outlinewidth": 0,
              "ticks": ""
             }
            },
            "type": "parcoords"
           }
          ],
          "pie": [
           {
            "automargin": true,
            "type": "pie"
           }
          ],
          "scatter": [
           {
            "marker": {
             "colorbar": {
              "outlinewidth": 0,
              "ticks": ""
             }
            },
            "type": "scatter"
           }
          ],
          "scatter3d": [
           {
            "line": {
             "colorbar": {
              "outlinewidth": 0,
              "ticks": ""
             }
            },
            "marker": {
             "colorbar": {
              "outlinewidth": 0,
              "ticks": ""
             }
            },
            "type": "scatter3d"
           }
          ],
          "scattercarpet": [
           {
            "marker": {
             "colorbar": {
              "outlinewidth": 0,
              "ticks": ""
             }
            },
            "type": "scattercarpet"
           }
          ],
          "scattergeo": [
           {
            "marker": {
             "colorbar": {
              "outlinewidth": 0,
              "ticks": ""
             }
            },
            "type": "scattergeo"
           }
          ],
          "scattergl": [
           {
            "marker": {
             "colorbar": {
              "outlinewidth": 0,
              "ticks": ""
             }
            },
            "type": "scattergl"
           }
          ],
          "scattermapbox": [
           {
            "marker": {
             "colorbar": {
              "outlinewidth": 0,
              "ticks": ""
             }
            },
            "type": "scattermapbox"
           }
          ],
          "scatterpolar": [
           {
            "marker": {
             "colorbar": {
              "outlinewidth": 0,
              "ticks": ""
             }
            },
            "type": "scatterpolar"
           }
          ],
          "scatterpolargl": [
           {
            "marker": {
             "colorbar": {
              "outlinewidth": 0,
              "ticks": ""
             }
            },
            "type": "scatterpolargl"
           }
          ],
          "scatterternary": [
           {
            "marker": {
             "colorbar": {
              "outlinewidth": 0,
              "ticks": ""
             }
            },
            "type": "scatterternary"
           }
          ],
          "surface": [
           {
            "colorbar": {
             "outlinewidth": 0,
             "ticks": ""
            },
            "colorscale": [
             [
              0,
              "#0d0887"
             ],
             [
              0.1111111111111111,
              "#46039f"
             ],
             [
              0.2222222222222222,
              "#7201a8"
             ],
             [
              0.3333333333333333,
              "#9c179e"
             ],
             [
              0.4444444444444444,
              "#bd3786"
             ],
             [
              0.5555555555555556,
              "#d8576b"
             ],
             [
              0.6666666666666666,
              "#ed7953"
             ],
             [
              0.7777777777777778,
              "#fb9f3a"
             ],
             [
              0.8888888888888888,
              "#fdca26"
             ],
             [
              1,
              "#f0f921"
             ]
            ],
            "type": "surface"
           }
          ],
          "table": [
           {
            "cells": {
             "fill": {
              "color": "#EBF0F8"
             },
             "line": {
              "color": "white"
             }
            },
            "header": {
             "fill": {
              "color": "#C8D4E3"
             },
             "line": {
              "color": "white"
             }
            },
            "type": "table"
           }
          ]
         },
         "layout": {
          "annotationdefaults": {
           "arrowcolor": "#2a3f5f",
           "arrowhead": 0,
           "arrowwidth": 1
          },
          "coloraxis": {
           "colorbar": {
            "outlinewidth": 0,
            "ticks": ""
           }
          },
          "colorscale": {
           "diverging": [
            [
             0,
             "#8e0152"
            ],
            [
             0.1,
             "#c51b7d"
            ],
            [
             0.2,
             "#de77ae"
            ],
            [
             0.3,
             "#f1b6da"
            ],
            [
             0.4,
             "#fde0ef"
            ],
            [
             0.5,
             "#f7f7f7"
            ],
            [
             0.6,
             "#e6f5d0"
            ],
            [
             0.7,
             "#b8e186"
            ],
            [
             0.8,
             "#7fbc41"
            ],
            [
             0.9,
             "#4d9221"
            ],
            [
             1,
             "#276419"
            ]
           ],
           "sequential": [
            [
             0,
             "#0d0887"
            ],
            [
             0.1111111111111111,
             "#46039f"
            ],
            [
             0.2222222222222222,
             "#7201a8"
            ],
            [
             0.3333333333333333,
             "#9c179e"
            ],
            [
             0.4444444444444444,
             "#bd3786"
            ],
            [
             0.5555555555555556,
             "#d8576b"
            ],
            [
             0.6666666666666666,
             "#ed7953"
            ],
            [
             0.7777777777777778,
             "#fb9f3a"
            ],
            [
             0.8888888888888888,
             "#fdca26"
            ],
            [
             1,
             "#f0f921"
            ]
           ],
           "sequentialminus": [
            [
             0,
             "#0d0887"
            ],
            [
             0.1111111111111111,
             "#46039f"
            ],
            [
             0.2222222222222222,
             "#7201a8"
            ],
            [
             0.3333333333333333,
             "#9c179e"
            ],
            [
             0.4444444444444444,
             "#bd3786"
            ],
            [
             0.5555555555555556,
             "#d8576b"
            ],
            [
             0.6666666666666666,
             "#ed7953"
            ],
            [
             0.7777777777777778,
             "#fb9f3a"
            ],
            [
             0.8888888888888888,
             "#fdca26"
            ],
            [
             1,
             "#f0f921"
            ]
           ]
          },
          "colorway": [
           "#636efa",
           "#EF553B",
           "#00cc96",
           "#ab63fa",
           "#FFA15A",
           "#19d3f3",
           "#FF6692",
           "#B6E880",
           "#FF97FF",
           "#FECB52"
          ],
          "font": {
           "color": "#2a3f5f"
          },
          "geo": {
           "bgcolor": "white",
           "lakecolor": "white",
           "landcolor": "#E5ECF6",
           "showlakes": true,
           "showland": true,
           "subunitcolor": "white"
          },
          "hoverlabel": {
           "align": "left"
          },
          "hovermode": "closest",
          "mapbox": {
           "style": "light"
          },
          "paper_bgcolor": "white",
          "plot_bgcolor": "#E5ECF6",
          "polar": {
           "angularaxis": {
            "gridcolor": "white",
            "linecolor": "white",
            "ticks": ""
           },
           "bgcolor": "#E5ECF6",
           "radialaxis": {
            "gridcolor": "white",
            "linecolor": "white",
            "ticks": ""
           }
          },
          "scene": {
           "xaxis": {
            "backgroundcolor": "#E5ECF6",
            "gridcolor": "white",
            "gridwidth": 2,
            "linecolor": "white",
            "showbackground": true,
            "ticks": "",
            "zerolinecolor": "white"
           },
           "yaxis": {
            "backgroundcolor": "#E5ECF6",
            "gridcolor": "white",
            "gridwidth": 2,
            "linecolor": "white",
            "showbackground": true,
            "ticks": "",
            "zerolinecolor": "white"
           },
           "zaxis": {
            "backgroundcolor": "#E5ECF6",
            "gridcolor": "white",
            "gridwidth": 2,
            "linecolor": "white",
            "showbackground": true,
            "ticks": "",
            "zerolinecolor": "white"
           }
          },
          "shapedefaults": {
           "line": {
            "color": "#2a3f5f"
           }
          },
          "ternary": {
           "aaxis": {
            "gridcolor": "white",
            "linecolor": "white",
            "ticks": ""
           },
           "baxis": {
            "gridcolor": "white",
            "linecolor": "white",
            "ticks": ""
           },
           "bgcolor": "#E5ECF6",
           "caxis": {
            "gridcolor": "white",
            "linecolor": "white",
            "ticks": ""
           }
          },
          "title": {
           "x": 0.05
          },
          "xaxis": {
           "automargin": true,
           "gridcolor": "white",
           "linecolor": "white",
           "ticks": "",
           "title": {
            "standoff": 15
           },
           "zerolinecolor": "white",
           "zerolinewidth": 2
          },
          "yaxis": {
           "automargin": true,
           "gridcolor": "white",
           "linecolor": "white",
           "ticks": "",
           "title": {
            "standoff": 15
           },
           "zerolinecolor": "white",
           "zerolinewidth": 2
          }
         }
        },
        "width": 1200
       }
      }
     },
     "metadata": {}
    }
   ],
   "source": [
    "colors = ['rgba(20,10,35,0.8)','rgba(38, 24, 74, 0.8)', 'rgba(71, 58, 131, 0.8)',\n",
    "          'rgba(122, 120, 168, 0.8)', 'rgba(164, 163, 204, 0.85)',\n",
    "          'rgba(190, 192, 213, 1)']\n",
    "x_data = [[1850,852,193,118,89,2275],[705,204,157,147,71,1126]]\n",
    "# y_data = ['movie','show']\n",
    "y_data = [0,1]\n",
    "x_name = [['US','ID','UK','CA','Egypt','other'],['US','UK','JP','SK','ID','other']]\n",
    "\n",
    "fig = go.Figure()\n",
    "for i in range(len(x_data[0])):\n",
    "    for xd, yd in zip(x_data, y_data):\n",
    "        fig.add_trace(go.Bar(x = [xd[i]], y=[yd], \n",
    "        orientation = 'h',\n",
    "        marker = dict(color=colors[i]), width=0.5\n",
    "        ,hovertext=x_name[yd][i]\n",
    "        ,hoverinfo=\"text\"\n",
    "        )\n",
    "        )\n",
    "annotations = []\n",
    "for yd, xd in zip(y_data, x_data):\n",
    "    annotations.append(dict(xref='x',yref='y',\n",
    "                            x=xd[0]/2, y=yd+0.4,\n",
    "                            text='US: '+str(xd[0]),\n",
    "                            showarrow=False))\n",
    "\n",
    "fig.update_layout(barmode='stack', showlegend=False,width=1200,height=400,\n",
    "                annotations=annotations)\n",
    "fig.show()"
   ]
  },
  {
   "cell_type": "code",
   "execution_count": 25,
   "metadata": {},
   "outputs": [
    {
     "output_type": "display_data",
     "data": {
      "application/vnd.plotly.v1+json": {
       "config": {
        "plotlyServerURL": "https://plot.ly"
       },
       "data": [
        {
         "alignmentgroup": "True",
         "hovertemplate": "country=other<br>count=%{x}<br>type=%{y}<extra></extra>",
         "legendgroup": "other",
         "marker": {
          "color": "#636efa"
         },
         "name": "other",
         "offsetgroup": "other",
         "orientation": "h",
         "showlegend": true,
         "textposition": "auto",
         "type": "bar",
         "x": [
          2275,
          1126
         ],
         "xaxis": "x",
         "y": [
          "movie",
          "show"
         ],
         "yaxis": "y"
        },
        {
         "alignmentgroup": "True",
         "hovertemplate": "country=United States<br>count=%{x}<br>type=%{y}<extra></extra>",
         "legendgroup": "United States",
         "marker": {
          "color": "#EF553B"
         },
         "name": "United States",
         "offsetgroup": "United States",
         "orientation": "h",
         "showlegend": true,
         "textposition": "auto",
         "type": "bar",
         "x": [
          1850,
          705
         ],
         "xaxis": "x",
         "y": [
          "movie",
          "show"
         ],
         "yaxis": "y"
        },
        {
         "alignmentgroup": "True",
         "hovertemplate": "country=India<br>count=%{x}<br>type=%{y}<extra></extra>",
         "legendgroup": "India",
         "marker": {
          "color": "#00cc96"
         },
         "name": "India",
         "offsetgroup": "India",
         "orientation": "h",
         "showlegend": true,
         "textposition": "auto",
         "type": "bar",
         "x": [
          852,
          71
         ],
         "xaxis": "x",
         "y": [
          "movie",
          "show"
         ],
         "yaxis": "y"
        },
        {
         "alignmentgroup": "True",
         "hovertemplate": "country=United Kingdom<br>count=%{x}<br>type=%{y}<extra></extra>",
         "legendgroup": "United Kingdom",
         "marker": {
          "color": "#ab63fa"
         },
         "name": "United Kingdom",
         "offsetgroup": "United Kingdom",
         "orientation": "h",
         "showlegend": true,
         "textposition": "auto",
         "type": "bar",
         "x": [
          193,
          204
         ],
         "xaxis": "x",
         "y": [
          "movie",
          "show"
         ],
         "yaxis": "y"
        },
        {
         "alignmentgroup": "True",
         "hovertemplate": "country=Canada<br>count=%{x}<br>type=%{y}<extra></extra>",
         "legendgroup": "Canada",
         "marker": {
          "color": "#FFA15A"
         },
         "name": "Canada",
         "offsetgroup": "Canada",
         "orientation": "h",
         "showlegend": true,
         "textposition": "auto",
         "type": "bar",
         "x": [
          118
         ],
         "xaxis": "x",
         "y": [
          "movie"
         ],
         "yaxis": "y"
        },
        {
         "alignmentgroup": "True",
         "hovertemplate": "country=Egypt<br>count=%{x}<br>type=%{y}<extra></extra>",
         "legendgroup": "Egypt",
         "marker": {
          "color": "#19d3f3"
         },
         "name": "Egypt",
         "offsetgroup": "Egypt",
         "orientation": "h",
         "showlegend": true,
         "textposition": "auto",
         "type": "bar",
         "x": [
          89
         ],
         "xaxis": "x",
         "y": [
          "movie"
         ],
         "yaxis": "y"
        },
        {
         "alignmentgroup": "True",
         "hovertemplate": "country=Japan<br>count=%{x}<br>type=%{y}<extra></extra>",
         "legendgroup": "Japan",
         "marker": {
          "color": "#FF6692"
         },
         "name": "Japan",
         "offsetgroup": "Japan",
         "orientation": "h",
         "showlegend": true,
         "textposition": "auto",
         "type": "bar",
         "x": [
          157
         ],
         "xaxis": "x",
         "y": [
          "show"
         ],
         "yaxis": "y"
        },
        {
         "alignmentgroup": "True",
         "hovertemplate": "country=South Korea<br>count=%{x}<br>type=%{y}<extra></extra>",
         "legendgroup": "South Korea",
         "marker": {
          "color": "#B6E880"
         },
         "name": "South Korea",
         "offsetgroup": "South Korea",
         "orientation": "h",
         "showlegend": true,
         "textposition": "auto",
         "type": "bar",
         "x": [
          147
         ],
         "xaxis": "x",
         "y": [
          "show"
         ],
         "yaxis": "y"
        }
       ],
       "layout": {
        "annotations": [
         {
          "showarrow": false,
          "text": "Text annotation with arrow",
          "x": 1000,
          "y": "movie"
         }
        ],
        "barmode": "relative",
        "height": 400,
        "legend": {
         "title": {
          "text": "country"
         },
         "tracegroupgap": 0
        },
        "margin": {
         "t": 60
        },
        "showlegend": true,
        "template": {
         "data": {
          "bar": [
           {
            "error_x": {
             "color": "#2a3f5f"
            },
            "error_y": {
             "color": "#2a3f5f"
            },
            "marker": {
             "line": {
              "color": "#E5ECF6",
              "width": 0.5
             }
            },
            "type": "bar"
           }
          ],
          "barpolar": [
           {
            "marker": {
             "line": {
              "color": "#E5ECF6",
              "width": 0.5
             }
            },
            "type": "barpolar"
           }
          ],
          "carpet": [
           {
            "aaxis": {
             "endlinecolor": "#2a3f5f",
             "gridcolor": "white",
             "linecolor": "white",
             "minorgridcolor": "white",
             "startlinecolor": "#2a3f5f"
            },
            "baxis": {
             "endlinecolor": "#2a3f5f",
             "gridcolor": "white",
             "linecolor": "white",
             "minorgridcolor": "white",
             "startlinecolor": "#2a3f5f"
            },
            "type": "carpet"
           }
          ],
          "choropleth": [
           {
            "colorbar": {
             "outlinewidth": 0,
             "ticks": ""
            },
            "type": "choropleth"
           }
          ],
          "contour": [
           {
            "colorbar": {
             "outlinewidth": 0,
             "ticks": ""
            },
            "colorscale": [
             [
              0,
              "#0d0887"
             ],
             [
              0.1111111111111111,
              "#46039f"
             ],
             [
              0.2222222222222222,
              "#7201a8"
             ],
             [
              0.3333333333333333,
              "#9c179e"
             ],
             [
              0.4444444444444444,
              "#bd3786"
             ],
             [
              0.5555555555555556,
              "#d8576b"
             ],
             [
              0.6666666666666666,
              "#ed7953"
             ],
             [
              0.7777777777777778,
              "#fb9f3a"
             ],
             [
              0.8888888888888888,
              "#fdca26"
             ],
             [
              1,
              "#f0f921"
             ]
            ],
            "type": "contour"
           }
          ],
          "contourcarpet": [
           {
            "colorbar": {
             "outlinewidth": 0,
             "ticks": ""
            },
            "type": "contourcarpet"
           }
          ],
          "heatmap": [
           {
            "colorbar": {
             "outlinewidth": 0,
             "ticks": ""
            },
            "colorscale": [
             [
              0,
              "#0d0887"
             ],
             [
              0.1111111111111111,
              "#46039f"
             ],
             [
              0.2222222222222222,
              "#7201a8"
             ],
             [
              0.3333333333333333,
              "#9c179e"
             ],
             [
              0.4444444444444444,
              "#bd3786"
             ],
             [
              0.5555555555555556,
              "#d8576b"
             ],
             [
              0.6666666666666666,
              "#ed7953"
             ],
             [
              0.7777777777777778,
              "#fb9f3a"
             ],
             [
              0.8888888888888888,
              "#fdca26"
             ],
             [
              1,
              "#f0f921"
             ]
            ],
            "type": "heatmap"
           }
          ],
          "heatmapgl": [
           {
            "colorbar": {
             "outlinewidth": 0,
             "ticks": ""
            },
            "colorscale": [
             [
              0,
              "#0d0887"
             ],
             [
              0.1111111111111111,
              "#46039f"
             ],
             [
              0.2222222222222222,
              "#7201a8"
             ],
             [
              0.3333333333333333,
              "#9c179e"
             ],
             [
              0.4444444444444444,
              "#bd3786"
             ],
             [
              0.5555555555555556,
              "#d8576b"
             ],
             [
              0.6666666666666666,
              "#ed7953"
             ],
             [
              0.7777777777777778,
              "#fb9f3a"
             ],
             [
              0.8888888888888888,
              "#fdca26"
             ],
             [
              1,
              "#f0f921"
             ]
            ],
            "type": "heatmapgl"
           }
          ],
          "histogram": [
           {
            "marker": {
             "colorbar": {
              "outlinewidth": 0,
              "ticks": ""
             }
            },
            "type": "histogram"
           }
          ],
          "histogram2d": [
           {
            "colorbar": {
             "outlinewidth": 0,
             "ticks": ""
            },
            "colorscale": [
             [
              0,
              "#0d0887"
             ],
             [
              0.1111111111111111,
              "#46039f"
             ],
             [
              0.2222222222222222,
              "#7201a8"
             ],
             [
              0.3333333333333333,
              "#9c179e"
             ],
             [
              0.4444444444444444,
              "#bd3786"
             ],
             [
              0.5555555555555556,
              "#d8576b"
             ],
             [
              0.6666666666666666,
              "#ed7953"
             ],
             [
              0.7777777777777778,
              "#fb9f3a"
             ],
             [
              0.8888888888888888,
              "#fdca26"
             ],
             [
              1,
              "#f0f921"
             ]
            ],
            "type": "histogram2d"
           }
          ],
          "histogram2dcontour": [
           {
            "colorbar": {
             "outlinewidth": 0,
             "ticks": ""
            },
            "colorscale": [
             [
              0,
              "#0d0887"
             ],
             [
              0.1111111111111111,
              "#46039f"
             ],
             [
              0.2222222222222222,
              "#7201a8"
             ],
             [
              0.3333333333333333,
              "#9c179e"
             ],
             [
              0.4444444444444444,
              "#bd3786"
             ],
             [
              0.5555555555555556,
              "#d8576b"
             ],
             [
              0.6666666666666666,
              "#ed7953"
             ],
             [
              0.7777777777777778,
              "#fb9f3a"
             ],
             [
              0.8888888888888888,
              "#fdca26"
             ],
             [
              1,
              "#f0f921"
             ]
            ],
            "type": "histogram2dcontour"
           }
          ],
          "mesh3d": [
           {
            "colorbar": {
             "outlinewidth": 0,
             "ticks": ""
            },
            "type": "mesh3d"
           }
          ],
          "parcoords": [
           {
            "line": {
             "colorbar": {
              "outlinewidth": 0,
              "ticks": ""
             }
            },
            "type": "parcoords"
           }
          ],
          "pie": [
           {
            "automargin": true,
            "type": "pie"
           }
          ],
          "scatter": [
           {
            "marker": {
             "colorbar": {
              "outlinewidth": 0,
              "ticks": ""
             }
            },
            "type": "scatter"
           }
          ],
          "scatter3d": [
           {
            "line": {
             "colorbar": {
              "outlinewidth": 0,
              "ticks": ""
             }
            },
            "marker": {
             "colorbar": {
              "outlinewidth": 0,
              "ticks": ""
             }
            },
            "type": "scatter3d"
           }
          ],
          "scattercarpet": [
           {
            "marker": {
             "colorbar": {
              "outlinewidth": 0,
              "ticks": ""
             }
            },
            "type": "scattercarpet"
           }
          ],
          "scattergeo": [
           {
            "marker": {
             "colorbar": {
              "outlinewidth": 0,
              "ticks": ""
             }
            },
            "type": "scattergeo"
           }
          ],
          "scattergl": [
           {
            "marker": {
             "colorbar": {
              "outlinewidth": 0,
              "ticks": ""
             }
            },
            "type": "scattergl"
           }
          ],
          "scattermapbox": [
           {
            "marker": {
             "colorbar": {
              "outlinewidth": 0,
              "ticks": ""
             }
            },
            "type": "scattermapbox"
           }
          ],
          "scatterpolar": [
           {
            "marker": {
             "colorbar": {
              "outlinewidth": 0,
              "ticks": ""
             }
            },
            "type": "scatterpolar"
           }
          ],
          "scatterpolargl": [
           {
            "marker": {
             "colorbar": {
              "outlinewidth": 0,
              "ticks": ""
             }
            },
            "type": "scatterpolargl"
           }
          ],
          "scatterternary": [
           {
            "marker": {
             "colorbar": {
              "outlinewidth": 0,
              "ticks": ""
             }
            },
            "type": "scatterternary"
           }
          ],
          "surface": [
           {
            "colorbar": {
             "outlinewidth": 0,
             "ticks": ""
            },
            "colorscale": [
             [
              0,
              "#0d0887"
             ],
             [
              0.1111111111111111,
              "#46039f"
             ],
             [
              0.2222222222222222,
              "#7201a8"
             ],
             [
              0.3333333333333333,
              "#9c179e"
             ],
             [
              0.4444444444444444,
              "#bd3786"
             ],
             [
              0.5555555555555556,
              "#d8576b"
             ],
             [
              0.6666666666666666,
              "#ed7953"
             ],
             [
              0.7777777777777778,
              "#fb9f3a"
             ],
             [
              0.8888888888888888,
              "#fdca26"
             ],
             [
              1,
              "#f0f921"
             ]
            ],
            "type": "surface"
           }
          ],
          "table": [
           {
            "cells": {
             "fill": {
              "color": "#EBF0F8"
             },
             "line": {
              "color": "white"
             }
            },
            "header": {
             "fill": {
              "color": "#C8D4E3"
             },
             "line": {
              "color": "white"
             }
            },
            "type": "table"
           }
          ]
         },
         "layout": {
          "annotationdefaults": {
           "arrowcolor": "#2a3f5f",
           "arrowhead": 0,
           "arrowwidth": 1
          },
          "coloraxis": {
           "colorbar": {
            "outlinewidth": 0,
            "ticks": ""
           }
          },
          "colorscale": {
           "diverging": [
            [
             0,
             "#8e0152"
            ],
            [
             0.1,
             "#c51b7d"
            ],
            [
             0.2,
             "#de77ae"
            ],
            [
             0.3,
             "#f1b6da"
            ],
            [
             0.4,
             "#fde0ef"
            ],
            [
             0.5,
             "#f7f7f7"
            ],
            [
             0.6,
             "#e6f5d0"
            ],
            [
             0.7,
             "#b8e186"
            ],
            [
             0.8,
             "#7fbc41"
            ],
            [
             0.9,
             "#4d9221"
            ],
            [
             1,
             "#276419"
            ]
           ],
           "sequential": [
            [
             0,
             "#0d0887"
            ],
            [
             0.1111111111111111,
             "#46039f"
            ],
            [
             0.2222222222222222,
             "#7201a8"
            ],
            [
             0.3333333333333333,
             "#9c179e"
            ],
            [
             0.4444444444444444,
             "#bd3786"
            ],
            [
             0.5555555555555556,
             "#d8576b"
            ],
            [
             0.6666666666666666,
             "#ed7953"
            ],
            [
             0.7777777777777778,
             "#fb9f3a"
            ],
            [
             0.8888888888888888,
             "#fdca26"
            ],
            [
             1,
             "#f0f921"
            ]
           ],
           "sequentialminus": [
            [
             0,
             "#0d0887"
            ],
            [
             0.1111111111111111,
             "#46039f"
            ],
            [
             0.2222222222222222,
             "#7201a8"
            ],
            [
             0.3333333333333333,
             "#9c179e"
            ],
            [
             0.4444444444444444,
             "#bd3786"
            ],
            [
             0.5555555555555556,
             "#d8576b"
            ],
            [
             0.6666666666666666,
             "#ed7953"
            ],
            [
             0.7777777777777778,
             "#fb9f3a"
            ],
            [
             0.8888888888888888,
             "#fdca26"
            ],
            [
             1,
             "#f0f921"
            ]
           ]
          },
          "colorway": [
           "#636efa",
           "#EF553B",
           "#00cc96",
           "#ab63fa",
           "#FFA15A",
           "#19d3f3",
           "#FF6692",
           "#B6E880",
           "#FF97FF",
           "#FECB52"
          ],
          "font": {
           "color": "#2a3f5f"
          },
          "geo": {
           "bgcolor": "white",
           "lakecolor": "white",
           "landcolor": "#E5ECF6",
           "showlakes": true,
           "showland": true,
           "subunitcolor": "white"
          },
          "hoverlabel": {
           "align": "left"
          },
          "hovermode": "closest",
          "mapbox": {
           "style": "light"
          },
          "paper_bgcolor": "white",
          "plot_bgcolor": "#E5ECF6",
          "polar": {
           "angularaxis": {
            "gridcolor": "white",
            "linecolor": "white",
            "ticks": ""
           },
           "bgcolor": "#E5ECF6",
           "radialaxis": {
            "gridcolor": "white",
            "linecolor": "white",
            "ticks": ""
           }
          },
          "scene": {
           "xaxis": {
            "backgroundcolor": "#E5ECF6",
            "gridcolor": "white",
            "gridwidth": 2,
            "linecolor": "white",
            "showbackground": true,
            "ticks": "",
            "zerolinecolor": "white"
           },
           "yaxis": {
            "backgroundcolor": "#E5ECF6",
            "gridcolor": "white",
            "gridwidth": 2,
            "linecolor": "white",
            "showbackground": true,
            "ticks": "",
            "zerolinecolor": "white"
           },
           "zaxis": {
            "backgroundcolor": "#E5ECF6",
            "gridcolor": "white",
            "gridwidth": 2,
            "linecolor": "white",
            "showbackground": true,
            "ticks": "",
            "zerolinecolor": "white"
           }
          },
          "shapedefaults": {
           "line": {
            "color": "#2a3f5f"
           }
          },
          "ternary": {
           "aaxis": {
            "gridcolor": "white",
            "linecolor": "white",
            "ticks": ""
           },
           "baxis": {
            "gridcolor": "white",
            "linecolor": "white",
            "ticks": ""
           },
           "bgcolor": "#E5ECF6",
           "caxis": {
            "gridcolor": "white",
            "linecolor": "white",
            "ticks": ""
           }
          },
          "title": {
           "x": 0.05
          },
          "xaxis": {
           "automargin": true,
           "gridcolor": "white",
           "linecolor": "white",
           "ticks": "",
           "title": {
            "standoff": 15
           },
           "zerolinecolor": "white",
           "zerolinewidth": 2
          },
          "yaxis": {
           "automargin": true,
           "gridcolor": "white",
           "linecolor": "white",
           "ticks": "",
           "title": {
            "standoff": 15
           },
           "zerolinecolor": "white",
           "zerolinewidth": 2
          }
         }
        },
        "width": 800,
        "xaxis": {
         "anchor": "y",
         "domain": [
          0,
          1
         ],
         "title": {
          "text": "count"
         }
        },
        "yaxis": {
         "anchor": "x",
         "domain": [
          0,
          1
         ],
         "title": {
          "text": "type"
         }
        }
       }
      }
     },
     "metadata": {}
    }
   ],
   "source": [
    "# fig = go.Figure(data=[\n",
    "#     go.Bar(name='United States', y=['movie','show'], x=[1850,705],orientation='h'),\n",
    "#     go.Bar(name='India', y=['movie','show'], x=[852,71],orientation='h'),\n",
    "#     go.Bar(name='United Kingdom', y=['movie','show'], x=[193,204],orientation='h'),\n",
    "#     go.Bar(name='Canada', y=['movie','show'], x=[118,0],orientation='h'),\n",
    "#     go.Bar(name='Egypt', y=['movie','show'], x=[89,0],orientation='h'),\n",
    "#     go.Bar(name='Japan', y=['movie','show'], x=[0,157],orientation='h'),\n",
    "#     go.Bar(name='South Korea', y=['movie','show'], x=[0,147],orientation='h'),\n",
    "# ])\n",
    "# fig.update_layout(barmode='stack', showlegend=False,width=800,height=400)\n",
    "\n",
    "\n",
    "# fig = px.bar(movie_show_country_count, y=\"type\", x=\"count\", color=\"country\",orientation='h') setting color for each trace requires plotting those individually\n",
    "\n",
    "fig.update_layout(showlegend=True,width=800,height=400)\n",
    "# ,text='count'\n",
    "# )\n",
    "# fig.update_traces(texttemplate='%{text:.2s}', textposition='inside')\n",
    "\n",
    "fig.add_annotation(y='movie', x=1000,\n",
    "            text=\"Text annotation with arrow\",\n",
    "            showarrow=False,\n",
    "            # arrowhead=1\n",
    "            )\n",
    "fig.show()"
   ]
  },
  {
   "cell_type": "code",
   "execution_count": null,
   "metadata": {},
   "outputs": [],
   "source": [
    "# # of shows and movies by countries"
   ]
  }
 ]
}