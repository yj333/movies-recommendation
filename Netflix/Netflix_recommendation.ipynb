{
 "metadata": {
  "language_info": {
   "codemirror_mode": {
    "name": "ipython",
    "version": 3
   },
   "file_extension": ".py",
   "mimetype": "text/x-python",
   "name": "python",
   "nbconvert_exporter": "python",
   "pygments_lexer": "ipython3",
   "version": "3.6.4-final"
  },
  "orig_nbformat": 2,
  "kernelspec": {
   "name": "python3",
   "display_name": "Python 3"
  }
 },
 "nbformat": 4,
 "nbformat_minor": 2,
 "cells": [
  {
   "cell_type": "code",
   "execution_count": 1,
   "metadata": {},
   "outputs": [],
   "source": [
    "import pandas as pd\n",
    "import numpy as np"
   ]
  },
  {
   "cell_type": "code",
   "execution_count": 2,
   "metadata": {},
   "outputs": [
    {
     "output_type": "execute_result",
     "data": {
      "text/plain": "show_id         7787\ntype            7787\ntitle           7787\ndirector        5398\ncast            7069\ncountry         7280\ndate_added      7777\nrelease_year    7787\nrating          7780\nduration        7787\nlisted_in       7787\ndescription     7787\ndtype: int64"
     },
     "metadata": {},
     "execution_count": 2
    }
   ],
   "source": [
    "netflix = pd.read_csv('netflix_titles.csv')\n",
    "netflix.count()"
   ]
  },
  {
   "cell_type": "code",
   "execution_count": 3,
   "metadata": {},
   "outputs": [
    {
     "output_type": "execute_result",
     "data": {
      "text/plain": "  show_id     type  title           director  \\\n0      s1  TV Show     3%                      \n1      s2    Movie   7:19  Jorge Michel Grau   \n2      s3    Movie  23:59       Gilbert Chan   \n3      s4    Movie      9        Shane Acker   \n4      s5    Movie     21     Robert Luketic   \n\n                                                cast        country  \\\n0  João Miguel, Bianca Comparato, Michel Gomes, R...         Brazil   \n1  Demián Bichir, Héctor Bonilla, Oscar Serrano, ...         Mexico   \n2  Tedd Chan, Stella Chung, Henley Hii, Lawrence ...      Singapore   \n3  Elijah Wood, John C. Reilly, Jennifer Connelly...  United States   \n4  Jim Sturgess, Kevin Spacey, Kate Bosworth, Aar...  United States   \n\n          date_added  release_year rating   duration  \\\n0    August 14, 2020          2020  TV-MA  4 Seasons   \n1  December 23, 2016          2016  TV-MA     93 min   \n2  December 20, 2018          2011      R     78 min   \n3  November 16, 2017          2009  PG-13     80 min   \n4    January 1, 2020          2008  PG-13    123 min   \n\n                                           listed_in  \\\n0  International TV Shows, TV Dramas, TV Sci-Fi &...   \n1                       Dramas, International Movies   \n2                Horror Movies, International Movies   \n3  Action & Adventure, Independent Movies, Sci-Fi...   \n4                                             Dramas   \n\n                                         description  \n0  In a future where the elite inhabit an island ...  \n1  After a devastating earthquake hits Mexico Cit...  \n2  When an army recruit is found dead, his fellow...  \n3  In a postapocalyptic world, rag-doll robots hi...  \n4  A brilliant group of students become card-coun...  ",
      "text/html": "<div>\n<style scoped>\n    .dataframe tbody tr th:only-of-type {\n        vertical-align: middle;\n    }\n\n    .dataframe tbody tr th {\n        vertical-align: top;\n    }\n\n    .dataframe thead th {\n        text-align: right;\n    }\n</style>\n<table border=\"1\" class=\"dataframe\">\n  <thead>\n    <tr style=\"text-align: right;\">\n      <th></th>\n      <th>show_id</th>\n      <th>type</th>\n      <th>title</th>\n      <th>director</th>\n      <th>cast</th>\n      <th>country</th>\n      <th>date_added</th>\n      <th>release_year</th>\n      <th>rating</th>\n      <th>duration</th>\n      <th>listed_in</th>\n      <th>description</th>\n    </tr>\n  </thead>\n  <tbody>\n    <tr>\n      <th>0</th>\n      <td>s1</td>\n      <td>TV Show</td>\n      <td>3%</td>\n      <td></td>\n      <td>João Miguel, Bianca Comparato, Michel Gomes, R...</td>\n      <td>Brazil</td>\n      <td>August 14, 2020</td>\n      <td>2020</td>\n      <td>TV-MA</td>\n      <td>4 Seasons</td>\n      <td>International TV Shows, TV Dramas, TV Sci-Fi &amp;...</td>\n      <td>In a future where the elite inhabit an island ...</td>\n    </tr>\n    <tr>\n      <th>1</th>\n      <td>s2</td>\n      <td>Movie</td>\n      <td>7:19</td>\n      <td>Jorge Michel Grau</td>\n      <td>Demián Bichir, Héctor Bonilla, Oscar Serrano, ...</td>\n      <td>Mexico</td>\n      <td>December 23, 2016</td>\n      <td>2016</td>\n      <td>TV-MA</td>\n      <td>93 min</td>\n      <td>Dramas, International Movies</td>\n      <td>After a devastating earthquake hits Mexico Cit...</td>\n    </tr>\n    <tr>\n      <th>2</th>\n      <td>s3</td>\n      <td>Movie</td>\n      <td>23:59</td>\n      <td>Gilbert Chan</td>\n      <td>Tedd Chan, Stella Chung, Henley Hii, Lawrence ...</td>\n      <td>Singapore</td>\n      <td>December 20, 2018</td>\n      <td>2011</td>\n      <td>R</td>\n      <td>78 min</td>\n      <td>Horror Movies, International Movies</td>\n      <td>When an army recruit is found dead, his fellow...</td>\n    </tr>\n    <tr>\n      <th>3</th>\n      <td>s4</td>\n      <td>Movie</td>\n      <td>9</td>\n      <td>Shane Acker</td>\n      <td>Elijah Wood, John C. Reilly, Jennifer Connelly...</td>\n      <td>United States</td>\n      <td>November 16, 2017</td>\n      <td>2009</td>\n      <td>PG-13</td>\n      <td>80 min</td>\n      <td>Action &amp; Adventure, Independent Movies, Sci-Fi...</td>\n      <td>In a postapocalyptic world, rag-doll robots hi...</td>\n    </tr>\n    <tr>\n      <th>4</th>\n      <td>s5</td>\n      <td>Movie</td>\n      <td>21</td>\n      <td>Robert Luketic</td>\n      <td>Jim Sturgess, Kevin Spacey, Kate Bosworth, Aar...</td>\n      <td>United States</td>\n      <td>January 1, 2020</td>\n      <td>2008</td>\n      <td>PG-13</td>\n      <td>123 min</td>\n      <td>Dramas</td>\n      <td>A brilliant group of students become card-coun...</td>\n    </tr>\n  </tbody>\n</table>\n</div>"
     },
     "metadata": {},
     "execution_count": 3
    }
   ],
   "source": [
    "netflix_filledna = netflix.fillna(\"\")\n",
    "netflix_filledna.head()"
   ]
  },
  {
   "cell_type": "markdown",
   "metadata": {},
   "source": [
    "### Select features for similarity comparison"
   ]
  },
  {
   "cell_type": "code",
   "execution_count": 60,
   "metadata": {},
   "outputs": [],
   "source": [
    "model_data = netflix_filledna[['title','director','cast','country','listed_in','description']]\n",
    "features = ['director','listed_in','description']\n",
    "model_feature = netflix_filledna[features]"
   ]
  },
  {
   "cell_type": "markdown",
   "metadata": {},
   "source": [
    "### Clean data - convert texts into lowercase and fill all spaces"
   ]
  },
  {
   "cell_type": "code",
   "execution_count": 61,
   "metadata": {},
   "outputs": [],
   "source": [
    "for f in features:\n",
    "    model_feature[f] = model_feature[f].apply(lambda x: str.lower(x.replace(\" \",\"\")))"
   ]
  },
  {
   "cell_type": "markdown",
   "metadata": {},
   "source": [
    "### Create a bag of words for all rows"
   ]
  },
  {
   "cell_type": "code",
   "execution_count": 62,
   "metadata": {},
   "outputs": [],
   "source": [
    "def create_soup(x):\n",
    "    # return x['director']+' '+x['cast']+' '+x['country']+' '+x['listed_in']+' '+x['description']\n",
    "    return x['director']+' '+x['listed_in']+' '+x['description']\n",
    "\n",
    "model_feature['soup'] = model_feature.apply(create_soup, axis=1)"
   ]
  },
  {
   "cell_type": "code",
   "execution_count": 14,
   "metadata": {},
   "outputs": [],
   "source": [
    "from sklearn.feature_extraction.text import CountVectorizer\n",
    "from sklearn.metrics.pairwise import cosine_similarity"
   ]
  },
  {
   "cell_type": "code",
   "execution_count": 63,
   "metadata": {},
   "outputs": [],
   "source": [
    "count = CountVectorizer(stop_words='english')\n",
    "count_matrix = count.fit_transform(model_feature['soup'])\n"
   ]
  },
  {
   "cell_type": "code",
   "execution_count": 64,
   "metadata": {
    "tags": []
   },
   "outputs": [
    {
     "output_type": "stream",
     "name": "stdout",
     "text": "[[0 0 0 ... 0 0 0]\n [0 0 0 ... 0 0 0]\n [0 0 0 ... 0 0 0]\n ...\n [0 0 0 ... 0 0 0]\n [0 0 0 ... 0 0 0]\n [0 0 0 ... 0 0 0]]\n"
    }
   ],
   "source": [
    "# print(count.get_feature_names())\n",
    "print(count_matrix.toarray())"
   ]
  },
  {
   "cell_type": "code",
   "execution_count": 65,
   "metadata": {},
   "outputs": [],
   "source": [
    "cosine_sim = cosine_similarity(count_matrix, count_matrix)"
   ]
  },
  {
   "cell_type": "code",
   "execution_count": 66,
   "metadata": {},
   "outputs": [],
   "source": [
    "indices = pd.Series(model_data.index, index=model_data['title'])"
   ]
  },
  {
   "cell_type": "code",
   "execution_count": 67,
   "metadata": {},
   "outputs": [],
   "source": [
    "def get_recommendations(title, cosine_sim):\n",
    "    # title = title.replace(' ','').lower()\n",
    "    idx = indices[title]\n",
    "\n",
    "    # get the pairwise similarity scores between all movies and this movie\n",
    "    sim_scores = list(enumerate(cosine_sim[idx])) # returns a tuplist with each element as (index, sim scores)\n",
    "\n",
    "    # sort movies based on similarity scores\n",
    "    sim_scores = sorted(sim_scores, key=lambda x: x[1], reverse=True)\n",
    "\n",
    "    # get the scores of top 10 similar movies\n",
    "    sim_scores_top = sim_scores[1:11]\n",
    "\n",
    "    # get these movies index\n",
    "    movie_indices = [i[0] for i in sim_scores_top]\n",
    "\n",
    "    # return the top 10 most similar movies\n",
    "    return netflix.iloc[movie_indices]\n"
   ]
  },
  {
   "cell_type": "code",
   "execution_count": 68,
   "metadata": {},
   "outputs": [
    {
     "output_type": "execute_result",
     "data": {
      "text/plain": "     show_id   type    title      director  \\\n4879   s4880  Movie  Platoon  Oliver Stone   \n\n                                                   cast  \\\n4879  Tom Berenger, Willem Dafoe, Charlie Sheen, For...   \n\n                            country        date_added  release_year rating  \\\n4879  United States, United Kingdom  November 1, 2020          1986      R   \n\n     duration                                   listed_in  \\\n4879  120 min  Action & Adventure, Classic Movies, Dramas   \n\n                                            description  \n4879  A soldier grows disillusioned as he's caught b...  ",
      "text/html": "<div>\n<style scoped>\n    .dataframe tbody tr th:only-of-type {\n        vertical-align: middle;\n    }\n\n    .dataframe tbody tr th {\n        vertical-align: top;\n    }\n\n    .dataframe thead th {\n        text-align: right;\n    }\n</style>\n<table border=\"1\" class=\"dataframe\">\n  <thead>\n    <tr style=\"text-align: right;\">\n      <th></th>\n      <th>show_id</th>\n      <th>type</th>\n      <th>title</th>\n      <th>director</th>\n      <th>cast</th>\n      <th>country</th>\n      <th>date_added</th>\n      <th>release_year</th>\n      <th>rating</th>\n      <th>duration</th>\n      <th>listed_in</th>\n      <th>description</th>\n    </tr>\n  </thead>\n  <tbody>\n    <tr>\n      <th>4879</th>\n      <td>s4880</td>\n      <td>Movie</td>\n      <td>Platoon</td>\n      <td>Oliver Stone</td>\n      <td>Tom Berenger, Willem Dafoe, Charlie Sheen, For...</td>\n      <td>United States, United Kingdom</td>\n      <td>November 1, 2020</td>\n      <td>1986</td>\n      <td>R</td>\n      <td>120 min</td>\n      <td>Action &amp; Adventure, Classic Movies, Dramas</td>\n      <td>A soldier grows disillusioned as he's caught b...</td>\n    </tr>\n  </tbody>\n</table>\n</div>"
     },
     "metadata": {},
     "execution_count": 68
    }
   ],
   "source": [
    "netflix[netflix['title']=='Platoon']"
   ]
  },
  {
   "cell_type": "code",
   "execution_count": 70,
   "metadata": {},
   "outputs": [
    {
     "output_type": "execute_result",
     "data": {
      "text/plain": "     show_id   type                 title              director  \\\n153     s154  Movie      A Bridge Too Far  Richard Attenborough   \n5351   s5352  Movie               Saladin       Youssef Chahine   \n5907   s5908  Movie              Superfly          Gordon Parks   \n7667   s7668  Movie    World Trade Center          Oliver Stone   \n2274   s2275  Movie   Free State of Jones             Gary Ross   \n2969   s2970  Movie  In Search of Fellini          Taron Lexton   \n1041   s1042  Movie      Bonnie and Clyde           Arthur Penn   \n5244   s5245  Movie                 Rocky      John G. Avildsen   \n127     s128  Movie         6 Underground           Michael Bay   \n280     s281  Movie             Abdo Mota                   NaN   \n\n                                                   cast  \\\n153   Dirk Bogarde, James Caan, Michael Caine, Sean ...   \n5351  Ahmad Mazhar, Salah Zo El Faqqar, Nadia Lotfi,...   \n5907  Ron O'Neal, Carl Lee, Sheila Frazier, Julius H...   \n7667  Nicolas Cage, Michael Peña, Maggie Gyllenhaal,...   \n2274  Matthew McConaughey, Gugu Mbatha-Raw, Mahersha...   \n2969  Ksenia Solo, Mary Lynn Rajskub, Maria Bello, E...   \n1041  Warren Beatty, Faye Dunaway, Michael J. Pollar...   \n5244  Sylvester Stallone, Talia Shire, Burt Young, C...   \n127   Ryan Reynolds, Mélanie Laurent, Corey Hawkins,...   \n280                                     Mohamed Ramadan   \n\n                            country         date_added  release_year rating  \\\n153   United States, United Kingdom       July 1, 2020          1977     PG   \n5351                          Egypt      June 18, 2020          1963  TV-MA   \n5907                  United States   November 1, 2019          1972      R   \n7667                  United States  November 20, 2019          2006  PG-13   \n2274                  United States    October 1, 2020          2016      R   \n2969                  United States     March 19, 2018          2017      R   \n1041                  United States    January 1, 2021          1967      R   \n5244                  United States     August 1, 2019          1976     PG   \n127                   United States  December 13, 2019          2019      R   \n280                           Egypt     April 19, 2019          2012  TV-MA   \n\n     duration                                         listed_in  \\\n153   176 min        Action & Adventure, Classic Movies, Dramas   \n5351  194 min        Action & Adventure, Classic Movies, Dramas   \n5907   91 min        Action & Adventure, Classic Movies, Dramas   \n7667  129 min                        Action & Adventure, Dramas   \n2274  139 min                        Action & Adventure, Dramas   \n2969  103 min                        Action & Adventure, Dramas   \n1041  111 min        Action & Adventure, Classic Movies, Dramas   \n5244  120 min        Action & Adventure, Classic Movies, Dramas   \n127   129 min                        Action & Adventure, Dramas   \n280   100 min  Action & Adventure, Dramas, International Movies   \n\n                                            description  \n153   This wartime drama details a pivotal day in 19...  \n5351  The Sultan of Egypt and Syria launches a campa...  \n5907  To get away from the thug life, cocaine dealer...  \n7667  Working under treacherous conditions, an army ...  \n2274  A Mississippi farmer turns outlaw as he leads ...  \n2969  A naive and sheltered young woman embarks on a...  \n1041  Bonnie Parker and Clyde Barrow are young, in l...  \n5244  Sylvester Stallone shot to fame as Rocky Balbo...  \n127   After faking his death, a tech billionaire rec...  \n280   Following the mysterious death of his parents,...  ",
      "text/html": "<div>\n<style scoped>\n    .dataframe tbody tr th:only-of-type {\n        vertical-align: middle;\n    }\n\n    .dataframe tbody tr th {\n        vertical-align: top;\n    }\n\n    .dataframe thead th {\n        text-align: right;\n    }\n</style>\n<table border=\"1\" class=\"dataframe\">\n  <thead>\n    <tr style=\"text-align: right;\">\n      <th></th>\n      <th>show_id</th>\n      <th>type</th>\n      <th>title</th>\n      <th>director</th>\n      <th>cast</th>\n      <th>country</th>\n      <th>date_added</th>\n      <th>release_year</th>\n      <th>rating</th>\n      <th>duration</th>\n      <th>listed_in</th>\n      <th>description</th>\n    </tr>\n  </thead>\n  <tbody>\n    <tr>\n      <th>153</th>\n      <td>s154</td>\n      <td>Movie</td>\n      <td>A Bridge Too Far</td>\n      <td>Richard Attenborough</td>\n      <td>Dirk Bogarde, James Caan, Michael Caine, Sean ...</td>\n      <td>United States, United Kingdom</td>\n      <td>July 1, 2020</td>\n      <td>1977</td>\n      <td>PG</td>\n      <td>176 min</td>\n      <td>Action &amp; Adventure, Classic Movies, Dramas</td>\n      <td>This wartime drama details a pivotal day in 19...</td>\n    </tr>\n    <tr>\n      <th>5351</th>\n      <td>s5352</td>\n      <td>Movie</td>\n      <td>Saladin</td>\n      <td>Youssef Chahine</td>\n      <td>Ahmad Mazhar, Salah Zo El Faqqar, Nadia Lotfi,...</td>\n      <td>Egypt</td>\n      <td>June 18, 2020</td>\n      <td>1963</td>\n      <td>TV-MA</td>\n      <td>194 min</td>\n      <td>Action &amp; Adventure, Classic Movies, Dramas</td>\n      <td>The Sultan of Egypt and Syria launches a campa...</td>\n    </tr>\n    <tr>\n      <th>5907</th>\n      <td>s5908</td>\n      <td>Movie</td>\n      <td>Superfly</td>\n      <td>Gordon Parks</td>\n      <td>Ron O'Neal, Carl Lee, Sheila Frazier, Julius H...</td>\n      <td>United States</td>\n      <td>November 1, 2019</td>\n      <td>1972</td>\n      <td>R</td>\n      <td>91 min</td>\n      <td>Action &amp; Adventure, Classic Movies, Dramas</td>\n      <td>To get away from the thug life, cocaine dealer...</td>\n    </tr>\n    <tr>\n      <th>7667</th>\n      <td>s7668</td>\n      <td>Movie</td>\n      <td>World Trade Center</td>\n      <td>Oliver Stone</td>\n      <td>Nicolas Cage, Michael Peña, Maggie Gyllenhaal,...</td>\n      <td>United States</td>\n      <td>November 20, 2019</td>\n      <td>2006</td>\n      <td>PG-13</td>\n      <td>129 min</td>\n      <td>Action &amp; Adventure, Dramas</td>\n      <td>Working under treacherous conditions, an army ...</td>\n    </tr>\n    <tr>\n      <th>2274</th>\n      <td>s2275</td>\n      <td>Movie</td>\n      <td>Free State of Jones</td>\n      <td>Gary Ross</td>\n      <td>Matthew McConaughey, Gugu Mbatha-Raw, Mahersha...</td>\n      <td>United States</td>\n      <td>October 1, 2020</td>\n      <td>2016</td>\n      <td>R</td>\n      <td>139 min</td>\n      <td>Action &amp; Adventure, Dramas</td>\n      <td>A Mississippi farmer turns outlaw as he leads ...</td>\n    </tr>\n    <tr>\n      <th>2969</th>\n      <td>s2970</td>\n      <td>Movie</td>\n      <td>In Search of Fellini</td>\n      <td>Taron Lexton</td>\n      <td>Ksenia Solo, Mary Lynn Rajskub, Maria Bello, E...</td>\n      <td>United States</td>\n      <td>March 19, 2018</td>\n      <td>2017</td>\n      <td>R</td>\n      <td>103 min</td>\n      <td>Action &amp; Adventure, Dramas</td>\n      <td>A naive and sheltered young woman embarks on a...</td>\n    </tr>\n    <tr>\n      <th>1041</th>\n      <td>s1042</td>\n      <td>Movie</td>\n      <td>Bonnie and Clyde</td>\n      <td>Arthur Penn</td>\n      <td>Warren Beatty, Faye Dunaway, Michael J. Pollar...</td>\n      <td>United States</td>\n      <td>January 1, 2021</td>\n      <td>1967</td>\n      <td>R</td>\n      <td>111 min</td>\n      <td>Action &amp; Adventure, Classic Movies, Dramas</td>\n      <td>Bonnie Parker and Clyde Barrow are young, in l...</td>\n    </tr>\n    <tr>\n      <th>5244</th>\n      <td>s5245</td>\n      <td>Movie</td>\n      <td>Rocky</td>\n      <td>John G. Avildsen</td>\n      <td>Sylvester Stallone, Talia Shire, Burt Young, C...</td>\n      <td>United States</td>\n      <td>August 1, 2019</td>\n      <td>1976</td>\n      <td>PG</td>\n      <td>120 min</td>\n      <td>Action &amp; Adventure, Classic Movies, Dramas</td>\n      <td>Sylvester Stallone shot to fame as Rocky Balbo...</td>\n    </tr>\n    <tr>\n      <th>127</th>\n      <td>s128</td>\n      <td>Movie</td>\n      <td>6 Underground</td>\n      <td>Michael Bay</td>\n      <td>Ryan Reynolds, Mélanie Laurent, Corey Hawkins,...</td>\n      <td>United States</td>\n      <td>December 13, 2019</td>\n      <td>2019</td>\n      <td>R</td>\n      <td>129 min</td>\n      <td>Action &amp; Adventure, Dramas</td>\n      <td>After faking his death, a tech billionaire rec...</td>\n    </tr>\n    <tr>\n      <th>280</th>\n      <td>s281</td>\n      <td>Movie</td>\n      <td>Abdo Mota</td>\n      <td>NaN</td>\n      <td>Mohamed Ramadan</td>\n      <td>Egypt</td>\n      <td>April 19, 2019</td>\n      <td>2012</td>\n      <td>TV-MA</td>\n      <td>100 min</td>\n      <td>Action &amp; Adventure, Dramas, International Movies</td>\n      <td>Following the mysterious death of his parents,...</td>\n    </tr>\n  </tbody>\n</table>\n</div>"
     },
     "metadata": {},
     "execution_count": 70
    }
   ],
   "source": [
    "get_recommendations('Platoon',cosine_sim)"
   ]
  },
  {
   "cell_type": "code",
   "execution_count": 58,
   "metadata": {},
   "outputs": [
    {
     "output_type": "execute_result",
     "data": {
      "text/plain": "     show_id     type                                title           director  \\\n1787   s1788    Movie                     Django Unchained  Quentin Tarantino   \n2997   s2998    Movie                 Inglourious Basterds  Quentin Tarantino   \n3103   s3104    Movie                         Jackie Brown  Quentin Tarantino   \n3375   s3376    Movie                    Kill Bill: Vol. 1  Quentin Tarantino   \n3376   s3377    Movie                    Kill Bill: Vol. 2  Quentin Tarantino   \n5002   s5003    Movie                         Pulp Fiction  Quentin Tarantino   \n6434   s6435    Movie                    The Hateful Eight  Quentin Tarantino   \n6435   s6436  TV Show  The Hateful Eight: Extended Version  Quentin Tarantino   \n\n                                                   cast  \\\n1787  Jamie Foxx, Christoph Waltz, Leonardo DiCaprio...   \n2997  Brad Pitt, Mélanie Laurent, Christoph Waltz, E...   \n3103  Pam Grier, Samuel L. Jackson, Robert Forster, ...   \n3375  Uma Thurman, Lucy Liu, Vivica A. Fox, Daryl Ha...   \n3376  Uma Thurman, David Carradine, Michael Madsen, ...   \n5002  John Travolta, Samuel L. Jackson, Uma Thurman,...   \n6434  Samuel L. Jackson, Kurt Russell, Jennifer Jaso...   \n6435  Samuel L. Jackson, Kurt Russell, Jennifer Jaso...   \n\n                     country        date_added  release_year rating  duration  \\\n1787           United States    April 25, 2020          2012      R   165 min   \n2997  Germany, United States     July 22, 2019          2009      R   153 min   \n3103           United States    August 1, 2019          1997      R   154 min   \n3375    United States, Japan   January 1, 2020          2003      R   111 min   \n3376           United States   January 1, 2020          2004      R   137 min   \n5002           United States   January 1, 2019          1994      R   154 min   \n6434           United States  October 25, 2017          2015      R   168 min   \n6435                     NaN    April 25, 2019          2015      R  1 Season   \n\n                                listed_in  \\\n1787           Action & Adventure, Dramas   \n2997                   Action & Adventure   \n3103                    Dramas, Thrillers   \n3375                   Action & Adventure   \n3376                   Action & Adventure   \n5002  Classic Movies, Cult Movies, Dramas   \n6434        Action & Adventure, Thrillers   \n6435                             TV Shows   \n\n                                            description  \n1787  Accompanied by a German bounty hunter, a freed...  \n2997  A Jewish cinema owner in occupied Paris is for...  \n3103  When an aging flight attendant's caught smuggl...  \n3375  An assassin is shot by her ruthless employer, ...  \n3376  The Bride has three left on her rampage list: ...  \n5002  This stylized crime caper weaves together stor...  \n6434  Years after the Civil War, a bounty hunter and...  \n6435  Trapped at a stagecoach stop as a storm rages ...  ",
      "text/html": "<div>\n<style scoped>\n    .dataframe tbody tr th:only-of-type {\n        vertical-align: middle;\n    }\n\n    .dataframe tbody tr th {\n        vertical-align: top;\n    }\n\n    .dataframe thead th {\n        text-align: right;\n    }\n</style>\n<table border=\"1\" class=\"dataframe\">\n  <thead>\n    <tr style=\"text-align: right;\">\n      <th></th>\n      <th>show_id</th>\n      <th>type</th>\n      <th>title</th>\n      <th>director</th>\n      <th>cast</th>\n      <th>country</th>\n      <th>date_added</th>\n      <th>release_year</th>\n      <th>rating</th>\n      <th>duration</th>\n      <th>listed_in</th>\n      <th>description</th>\n    </tr>\n  </thead>\n  <tbody>\n    <tr>\n      <th>1787</th>\n      <td>s1788</td>\n      <td>Movie</td>\n      <td>Django Unchained</td>\n      <td>Quentin Tarantino</td>\n      <td>Jamie Foxx, Christoph Waltz, Leonardo DiCaprio...</td>\n      <td>United States</td>\n      <td>April 25, 2020</td>\n      <td>2012</td>\n      <td>R</td>\n      <td>165 min</td>\n      <td>Action &amp; Adventure, Dramas</td>\n      <td>Accompanied by a German bounty hunter, a freed...</td>\n    </tr>\n    <tr>\n      <th>2997</th>\n      <td>s2998</td>\n      <td>Movie</td>\n      <td>Inglourious Basterds</td>\n      <td>Quentin Tarantino</td>\n      <td>Brad Pitt, Mélanie Laurent, Christoph Waltz, E...</td>\n      <td>Germany, United States</td>\n      <td>July 22, 2019</td>\n      <td>2009</td>\n      <td>R</td>\n      <td>153 min</td>\n      <td>Action &amp; Adventure</td>\n      <td>A Jewish cinema owner in occupied Paris is for...</td>\n    </tr>\n    <tr>\n      <th>3103</th>\n      <td>s3104</td>\n      <td>Movie</td>\n      <td>Jackie Brown</td>\n      <td>Quentin Tarantino</td>\n      <td>Pam Grier, Samuel L. Jackson, Robert Forster, ...</td>\n      <td>United States</td>\n      <td>August 1, 2019</td>\n      <td>1997</td>\n      <td>R</td>\n      <td>154 min</td>\n      <td>Dramas, Thrillers</td>\n      <td>When an aging flight attendant's caught smuggl...</td>\n    </tr>\n    <tr>\n      <th>3375</th>\n      <td>s3376</td>\n      <td>Movie</td>\n      <td>Kill Bill: Vol. 1</td>\n      <td>Quentin Tarantino</td>\n      <td>Uma Thurman, Lucy Liu, Vivica A. Fox, Daryl Ha...</td>\n      <td>United States, Japan</td>\n      <td>January 1, 2020</td>\n      <td>2003</td>\n      <td>R</td>\n      <td>111 min</td>\n      <td>Action &amp; Adventure</td>\n      <td>An assassin is shot by her ruthless employer, ...</td>\n    </tr>\n    <tr>\n      <th>3376</th>\n      <td>s3377</td>\n      <td>Movie</td>\n      <td>Kill Bill: Vol. 2</td>\n      <td>Quentin Tarantino</td>\n      <td>Uma Thurman, David Carradine, Michael Madsen, ...</td>\n      <td>United States</td>\n      <td>January 1, 2020</td>\n      <td>2004</td>\n      <td>R</td>\n      <td>137 min</td>\n      <td>Action &amp; Adventure</td>\n      <td>The Bride has three left on her rampage list: ...</td>\n    </tr>\n    <tr>\n      <th>5002</th>\n      <td>s5003</td>\n      <td>Movie</td>\n      <td>Pulp Fiction</td>\n      <td>Quentin Tarantino</td>\n      <td>John Travolta, Samuel L. Jackson, Uma Thurman,...</td>\n      <td>United States</td>\n      <td>January 1, 2019</td>\n      <td>1994</td>\n      <td>R</td>\n      <td>154 min</td>\n      <td>Classic Movies, Cult Movies, Dramas</td>\n      <td>This stylized crime caper weaves together stor...</td>\n    </tr>\n    <tr>\n      <th>6434</th>\n      <td>s6435</td>\n      <td>Movie</td>\n      <td>The Hateful Eight</td>\n      <td>Quentin Tarantino</td>\n      <td>Samuel L. Jackson, Kurt Russell, Jennifer Jaso...</td>\n      <td>United States</td>\n      <td>October 25, 2017</td>\n      <td>2015</td>\n      <td>R</td>\n      <td>168 min</td>\n      <td>Action &amp; Adventure, Thrillers</td>\n      <td>Years after the Civil War, a bounty hunter and...</td>\n    </tr>\n    <tr>\n      <th>6435</th>\n      <td>s6436</td>\n      <td>TV Show</td>\n      <td>The Hateful Eight: Extended Version</td>\n      <td>Quentin Tarantino</td>\n      <td>Samuel L. Jackson, Kurt Russell, Jennifer Jaso...</td>\n      <td>NaN</td>\n      <td>April 25, 2019</td>\n      <td>2015</td>\n      <td>R</td>\n      <td>1 Season</td>\n      <td>TV Shows</td>\n      <td>Trapped at a stagecoach stop as a storm rages ...</td>\n    </tr>\n  </tbody>\n</table>\n</div>"
     },
     "metadata": {},
     "execution_count": 58
    }
   ],
   "source": [
    "netflix[netflix['director']=='Quentin Tarantino']"
   ]
  },
  {
   "cell_type": "code",
   "execution_count": 57,
   "metadata": {},
   "outputs": [
    {
     "output_type": "execute_result",
     "data": {
      "text/plain": "Raúl Campos, Jan Suter           18\nMarcus Raboy                     16\nJay Karas                        14\nCathy Garcia-Molina              13\nMartin Scorsese                  12\nJay Chapman                      12\nYoussef Chahine                  12\nSteven Spielberg                 10\nDavid Dhawan                      9\nJohnnie To                        8\nQuentin Tarantino                 8\nShannon Hartman                   8\nRobert Rodriguez                  8\nKunle Afolayan                    8\nHakan Algül                       8\nRyan Polito                       8\nLance Bangs                       8\nMcG                               7\nOmoni Oboli                       7\nFernando Ayllón                   7\nDon Michael Paul                  7\nYılmaz Erdoğan                    7\nS.S. Rajamouli                    7\nJustin G. Dyck                    7\nOzan Açıktan                      7\nTroy Miller                       6\nSteven Soderbergh                 6\nRon Howard                        6\nAshutosh Gowariker                6\nImtiaz Ali                        6\n                                 ..\nRichard Curtis                    1\nMatei Dima                        1\nDonick Cary                       1\nJunior Carelli, Rudge Campos      1\nHamad AlSarraf                    1\nSunkanmi Adebayo                  1\nUwe Boll                          1\nManish Tiwary                     1\nTanveer Khan                      1\nTony Stone                        1\nDing-Lin Wang                     1\nPatrick Graham                    1\nRoland Emmerich                   1\nIgor Kovalyov, Norton Virgien     1\nNopparoj Chotmunkongsit           1\nJuan Manuel Cotelo                1\nDaniel Mann                       1\nAlexx Media                       1\nJonathan Glazer                   1\nJonathan Augustin                 1\nBen Younger                       1\nGarry Marshall                    1\nMichael Bonfiglio                 1\nIan Cheney                        1\nMichael Blieden                   1\nJoshua Marston                    1\nHayao Miyazaki                    1\nAhmed Medhat                      1\nRandall Lobb                      1\nHoussam El-Din Mustafa            1\nName: director, Length: 4049, dtype: int64"
     },
     "metadata": {},
     "execution_count": 57
    }
   ],
   "source": [
    "netflix.director.value_counts()"
   ]
  },
  {
   "cell_type": "code",
   "execution_count": null,
   "metadata": {},
   "outputs": [],
   "source": []
  }
 ]
}